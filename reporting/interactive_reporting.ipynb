{
 "cells": [
  {
   "cell_type": "code",
   "execution_count": 90,
   "source": [
    "# imports\r\n",
    "from pathlib import Path\r\n",
    "import pandas as pd\r\n",
    "import plotly.express as px\r\n",
    "import plotly.io as pio\r\n",
    "pio.templates.default = \"simple_white\"\r\n",
    "\r\n",
    "# import to ignore warning output\r\n",
    "import warnings\r\n",
    "warnings.filterwarnings('ignore')"
   ],
   "outputs": [],
   "metadata": {}
  },
  {
   "cell_type": "code",
   "execution_count": 34,
   "source": [
    "# init dataframe\r\n",
    "path = Path('data.csv')\r\n",
    "df = pd.read_csv(path)\r\n",
    "df.head()"
   ],
   "outputs": [
    {
     "output_type": "execute_result",
     "data": {
      "text/plain": [
       "   Age Attrition     BusinessTravel  DailyRate              Department  \\\n",
       "0   41       Yes      Travel_Rarely       1102                   Sales   \n",
       "1   49        No  Travel_Frequently        279  Research & Development   \n",
       "2   37       Yes      Travel_Rarely       1373  Research & Development   \n",
       "3   33        No  Travel_Frequently       1392  Research & Development   \n",
       "4   27        No      Travel_Rarely        591  Research & Development   \n",
       "\n",
       "   DistanceFromHome  Education EducationField  EmployeeCount  EmployeeNumber  \\\n",
       "0                 1          2  Life Sciences              1               1   \n",
       "1                 8          1  Life Sciences              1               2   \n",
       "2                 2          2          Other              1               4   \n",
       "3                 3          4  Life Sciences              1               5   \n",
       "4                 2          1        Medical              1               7   \n",
       "\n",
       "   ...  RelationshipSatisfaction StandardHours  StockOptionLevel  \\\n",
       "0  ...                         1            80                 0   \n",
       "1  ...                         4            80                 1   \n",
       "2  ...                         2            80                 0   \n",
       "3  ...                         3            80                 0   \n",
       "4  ...                         4            80                 1   \n",
       "\n",
       "   TotalWorkingYears  TrainingTimesLastYear WorkLifeBalance  YearsAtCompany  \\\n",
       "0                  8                      0               1               6   \n",
       "1                 10                      3               3              10   \n",
       "2                  7                      3               3               0   \n",
       "3                  8                      3               3               8   \n",
       "4                  6                      3               3               2   \n",
       "\n",
       "  YearsInCurrentRole  YearsSinceLastPromotion  YearsWithCurrManager  \n",
       "0                  4                        0                     5  \n",
       "1                  7                        1                     7  \n",
       "2                  0                        0                     0  \n",
       "3                  7                        3                     0  \n",
       "4                  2                        2                     2  \n",
       "\n",
       "[5 rows x 35 columns]"
      ],
      "text/html": [
       "<div>\n",
       "<style scoped>\n",
       "    .dataframe tbody tr th:only-of-type {\n",
       "        vertical-align: middle;\n",
       "    }\n",
       "\n",
       "    .dataframe tbody tr th {\n",
       "        vertical-align: top;\n",
       "    }\n",
       "\n",
       "    .dataframe thead th {\n",
       "        text-align: right;\n",
       "    }\n",
       "</style>\n",
       "<table border=\"1\" class=\"dataframe\">\n",
       "  <thead>\n",
       "    <tr style=\"text-align: right;\">\n",
       "      <th></th>\n",
       "      <th>Age</th>\n",
       "      <th>Attrition</th>\n",
       "      <th>BusinessTravel</th>\n",
       "      <th>DailyRate</th>\n",
       "      <th>Department</th>\n",
       "      <th>DistanceFromHome</th>\n",
       "      <th>Education</th>\n",
       "      <th>EducationField</th>\n",
       "      <th>EmployeeCount</th>\n",
       "      <th>EmployeeNumber</th>\n",
       "      <th>...</th>\n",
       "      <th>RelationshipSatisfaction</th>\n",
       "      <th>StandardHours</th>\n",
       "      <th>StockOptionLevel</th>\n",
       "      <th>TotalWorkingYears</th>\n",
       "      <th>TrainingTimesLastYear</th>\n",
       "      <th>WorkLifeBalance</th>\n",
       "      <th>YearsAtCompany</th>\n",
       "      <th>YearsInCurrentRole</th>\n",
       "      <th>YearsSinceLastPromotion</th>\n",
       "      <th>YearsWithCurrManager</th>\n",
       "    </tr>\n",
       "  </thead>\n",
       "  <tbody>\n",
       "    <tr>\n",
       "      <th>0</th>\n",
       "      <td>41</td>\n",
       "      <td>Yes</td>\n",
       "      <td>Travel_Rarely</td>\n",
       "      <td>1102</td>\n",
       "      <td>Sales</td>\n",
       "      <td>1</td>\n",
       "      <td>2</td>\n",
       "      <td>Life Sciences</td>\n",
       "      <td>1</td>\n",
       "      <td>1</td>\n",
       "      <td>...</td>\n",
       "      <td>1</td>\n",
       "      <td>80</td>\n",
       "      <td>0</td>\n",
       "      <td>8</td>\n",
       "      <td>0</td>\n",
       "      <td>1</td>\n",
       "      <td>6</td>\n",
       "      <td>4</td>\n",
       "      <td>0</td>\n",
       "      <td>5</td>\n",
       "    </tr>\n",
       "    <tr>\n",
       "      <th>1</th>\n",
       "      <td>49</td>\n",
       "      <td>No</td>\n",
       "      <td>Travel_Frequently</td>\n",
       "      <td>279</td>\n",
       "      <td>Research &amp; Development</td>\n",
       "      <td>8</td>\n",
       "      <td>1</td>\n",
       "      <td>Life Sciences</td>\n",
       "      <td>1</td>\n",
       "      <td>2</td>\n",
       "      <td>...</td>\n",
       "      <td>4</td>\n",
       "      <td>80</td>\n",
       "      <td>1</td>\n",
       "      <td>10</td>\n",
       "      <td>3</td>\n",
       "      <td>3</td>\n",
       "      <td>10</td>\n",
       "      <td>7</td>\n",
       "      <td>1</td>\n",
       "      <td>7</td>\n",
       "    </tr>\n",
       "    <tr>\n",
       "      <th>2</th>\n",
       "      <td>37</td>\n",
       "      <td>Yes</td>\n",
       "      <td>Travel_Rarely</td>\n",
       "      <td>1373</td>\n",
       "      <td>Research &amp; Development</td>\n",
       "      <td>2</td>\n",
       "      <td>2</td>\n",
       "      <td>Other</td>\n",
       "      <td>1</td>\n",
       "      <td>4</td>\n",
       "      <td>...</td>\n",
       "      <td>2</td>\n",
       "      <td>80</td>\n",
       "      <td>0</td>\n",
       "      <td>7</td>\n",
       "      <td>3</td>\n",
       "      <td>3</td>\n",
       "      <td>0</td>\n",
       "      <td>0</td>\n",
       "      <td>0</td>\n",
       "      <td>0</td>\n",
       "    </tr>\n",
       "    <tr>\n",
       "      <th>3</th>\n",
       "      <td>33</td>\n",
       "      <td>No</td>\n",
       "      <td>Travel_Frequently</td>\n",
       "      <td>1392</td>\n",
       "      <td>Research &amp; Development</td>\n",
       "      <td>3</td>\n",
       "      <td>4</td>\n",
       "      <td>Life Sciences</td>\n",
       "      <td>1</td>\n",
       "      <td>5</td>\n",
       "      <td>...</td>\n",
       "      <td>3</td>\n",
       "      <td>80</td>\n",
       "      <td>0</td>\n",
       "      <td>8</td>\n",
       "      <td>3</td>\n",
       "      <td>3</td>\n",
       "      <td>8</td>\n",
       "      <td>7</td>\n",
       "      <td>3</td>\n",
       "      <td>0</td>\n",
       "    </tr>\n",
       "    <tr>\n",
       "      <th>4</th>\n",
       "      <td>27</td>\n",
       "      <td>No</td>\n",
       "      <td>Travel_Rarely</td>\n",
       "      <td>591</td>\n",
       "      <td>Research &amp; Development</td>\n",
       "      <td>2</td>\n",
       "      <td>1</td>\n",
       "      <td>Medical</td>\n",
       "      <td>1</td>\n",
       "      <td>7</td>\n",
       "      <td>...</td>\n",
       "      <td>4</td>\n",
       "      <td>80</td>\n",
       "      <td>1</td>\n",
       "      <td>6</td>\n",
       "      <td>3</td>\n",
       "      <td>3</td>\n",
       "      <td>2</td>\n",
       "      <td>2</td>\n",
       "      <td>2</td>\n",
       "      <td>2</td>\n",
       "    </tr>\n",
       "  </tbody>\n",
       "</table>\n",
       "<p>5 rows × 35 columns</p>\n",
       "</div>"
      ]
     },
     "metadata": {},
     "execution_count": 34
    }
   ],
   "metadata": {}
  },
  {
   "cell_type": "code",
   "execution_count": 35,
   "source": [
    "# Show distribution for most important columns when predicting Attrition True\r\n",
    "# The feature importance CSV is included in the reporting directory\r\n",
    "column_feature_top10 = df[['OverTime','JobRole','BusinessTravel','DistanceFromHome','MaritalStatus','NumCompaniesWorked','YearsSinceLastPromotion','Attrition']]\r\n",
    "\r\n",
    "# Loop through every column in the dataframe and plot\r\n",
    "'''\r\n",
    "for i in column_feature_top10[0:]:\r\n",
    "    fig = px.histogram(df,x=i)\r\n",
    "    fig.show()\r\n",
    "'''"
   ],
   "outputs": [
    {
     "output_type": "execute_result",
     "data": {
      "text/plain": [
       "'\\nfor i in column_feature_top10[0:]:\\n    fig = px.histogram(df,x=i)\\n    fig.show()\\n'"
      ]
     },
     "metadata": {},
     "execution_count": 35
    }
   ],
   "metadata": {}
  },
  {
   "cell_type": "code",
   "execution_count": 36,
   "source": [
    "# over time and attrition\r\n",
    "fig = px.histogram(column_feature_top10,x='OverTime',color='Attrition',barmode='group',title=\"Count of Over Time where Attrition is True\")\r\n",
    "fig.show()"
   ],
   "outputs": [
    {
     "output_type": "display_data",
     "data": {
      "application/vnd.plotly.v1+json": {
       "config": {
        "plotlyServerURL": "https://plot.ly"
       },
       "data": [
        {
         "alignmentgroup": "True",
         "bingroup": "x",
         "hovertemplate": "Attrition=Yes<br>OverTime=%{x}<br>count=%{y}<extra></extra>",
         "legendgroup": "Yes",
         "marker": {
          "color": "#1F77B4",
          "pattern": {
           "shape": ""
          }
         },
         "name": "Yes",
         "offsetgroup": "Yes",
         "orientation": "v",
         "showlegend": true,
         "type": "histogram",
         "x": [
          "Yes",
          "Yes",
          "Yes",
          "No",
          "No",
          "Yes",
          "No",
          "Yes",
          "Yes",
          "No",
          "No",
          "Yes",
          "Yes",
          "Yes",
          "No",
          "Yes",
          "Yes",
          "Yes",
          "Yes",
          "Yes",
          "Yes",
          "No",
          "Yes",
          "Yes",
          "No",
          "No",
          "No",
          "No",
          "Yes",
          "Yes",
          "Yes",
          "No",
          "No",
          "Yes",
          "No",
          "No",
          "Yes",
          "Yes",
          "No",
          "Yes",
          "No",
          "No",
          "No",
          "Yes",
          "Yes",
          "Yes",
          "Yes",
          "No",
          "No",
          "Yes",
          "Yes",
          "Yes",
          "Yes",
          "Yes",
          "No",
          "Yes",
          "No",
          "Yes",
          "No",
          "Yes",
          "No",
          "Yes",
          "No",
          "No",
          "No",
          "Yes",
          "No",
          "No",
          "Yes",
          "No",
          "Yes",
          "Yes",
          "Yes",
          "No",
          "Yes",
          "No",
          "No",
          "No",
          "No",
          "Yes",
          "Yes",
          "No",
          "Yes",
          "Yes",
          "Yes",
          "Yes",
          "Yes",
          "Yes",
          "No",
          "Yes",
          "Yes",
          "No",
          "Yes",
          "No",
          "No",
          "No",
          "Yes",
          "Yes",
          "Yes",
          "Yes",
          "Yes",
          "No",
          "No",
          "Yes",
          "Yes",
          "Yes",
          "Yes",
          "Yes",
          "No",
          "Yes",
          "No",
          "No",
          "Yes",
          "Yes",
          "Yes",
          "Yes",
          "Yes",
          "Yes",
          "No",
          "No",
          "No",
          "No",
          "No",
          "No",
          "Yes",
          "Yes",
          "No",
          "Yes",
          "No",
          "No",
          "Yes",
          "No",
          "Yes",
          "No",
          "Yes",
          "No",
          "Yes",
          "No",
          "No",
          "Yes",
          "No",
          "No",
          "Yes",
          "Yes",
          "No",
          "Yes",
          "Yes",
          "No",
          "No",
          "Yes",
          "Yes",
          "Yes",
          "No",
          "No",
          "Yes",
          "No",
          "No",
          "Yes",
          "Yes",
          "Yes",
          "No",
          "Yes",
          "Yes",
          "No",
          "Yes",
          "Yes",
          "Yes",
          "No",
          "Yes",
          "No",
          "No",
          "No",
          "No",
          "Yes",
          "No",
          "Yes",
          "No",
          "No",
          "No",
          "Yes",
          "Yes",
          "No",
          "No",
          "No",
          "No",
          "No",
          "Yes",
          "No",
          "No",
          "Yes",
          "Yes",
          "No",
          "Yes",
          "Yes",
          "Yes",
          "Yes",
          "Yes",
          "No",
          "Yes",
          "No",
          "No",
          "Yes",
          "No",
          "No",
          "No",
          "Yes",
          "No",
          "Yes",
          "No",
          "Yes",
          "Yes",
          "Yes",
          "No",
          "No",
          "Yes",
          "No",
          "No",
          "Yes",
          "Yes",
          "Yes",
          "No",
          "No",
          "Yes",
          "Yes",
          "No",
          "No",
          "Yes",
          "Yes",
          "No",
          "No",
          "Yes",
          "Yes",
          "No",
          "Yes",
          "No",
          "No",
          "Yes"
         ],
         "xaxis": "x",
         "yaxis": "y"
        },
        {
         "alignmentgroup": "True",
         "bingroup": "x",
         "hovertemplate": "Attrition=No<br>OverTime=%{x}<br>count=%{y}<extra></extra>",
         "legendgroup": "No",
         "marker": {
          "color": "#FF7F0E",
          "pattern": {
           "shape": ""
          }
         },
         "name": "No",
         "offsetgroup": "No",
         "orientation": "v",
         "showlegend": true,
         "type": "histogram",
         "x": [
          "No",
          "Yes",
          "No",
          "No",
          "Yes",
          "No",
          "No",
          "No",
          "No",
          "Yes",
          "No",
          "No",
          "No",
          "Yes",
          "Yes",
          "No",
          "Yes",
          "No",
          "No",
          "No",
          "No",
          "No",
          "No",
          "No",
          "No",
          "Yes",
          "No",
          "No",
          "No",
          "Yes",
          "No",
          "No",
          "No",
          "No",
          "No",
          "No",
          "No",
          "Yes",
          "No",
          "Yes",
          "Yes",
          "Yes",
          "Yes",
          "No",
          "Yes",
          "No",
          "No",
          "Yes",
          "No",
          "Yes",
          "No",
          "No",
          "Yes",
          "No",
          "No",
          "No",
          "No",
          "No",
          "No",
          "No",
          "No",
          "No",
          "No",
          "Yes",
          "No",
          "Yes",
          "Yes",
          "No",
          "No",
          "Yes",
          "No",
          "No",
          "No",
          "No",
          "No",
          "No",
          "Yes",
          "Yes",
          "Yes",
          "No",
          "No",
          "No",
          "No",
          "No",
          "No",
          "No",
          "No",
          "No",
          "No",
          "Yes",
          "No",
          "No",
          "No",
          "Yes",
          "No",
          "No",
          "No",
          "No",
          "No",
          "No",
          "Yes",
          "No",
          "No",
          "No",
          "No",
          "No",
          "No",
          "No",
          "No",
          "Yes",
          "No",
          "No",
          "No",
          "No",
          "Yes",
          "No",
          "Yes",
          "No",
          "No",
          "No",
          "No",
          "No",
          "No",
          "No",
          "No",
          "No",
          "Yes",
          "No",
          "No",
          "No",
          "No",
          "Yes",
          "No",
          "No",
          "No",
          "No",
          "No",
          "Yes",
          "Yes",
          "No",
          "No",
          "No",
          "No",
          "No",
          "Yes",
          "No",
          "No",
          "Yes",
          "Yes",
          "No",
          "No",
          "No",
          "Yes",
          "No",
          "No",
          "No",
          "No",
          "No",
          "No",
          "No",
          "No",
          "No",
          "No",
          "No",
          "No",
          "Yes",
          "No",
          "No",
          "No",
          "No",
          "No",
          "Yes",
          "Yes",
          "Yes",
          "Yes",
          "No",
          "No",
          "No",
          "No",
          "No",
          "No",
          "Yes",
          "No",
          "No",
          "No",
          "No",
          "Yes",
          "No",
          "No",
          "No",
          "No",
          "No",
          "No",
          "No",
          "No",
          "No",
          "No",
          "Yes",
          "Yes",
          "No",
          "No",
          "No",
          "No",
          "No",
          "No",
          "No",
          "No",
          "No",
          "No",
          "No",
          "No",
          "No",
          "Yes",
          "No",
          "No",
          "Yes",
          "No",
          "No",
          "No",
          "No",
          "No",
          "Yes",
          "No",
          "No",
          "No",
          "Yes",
          "No",
          "Yes",
          "No",
          "No",
          "No",
          "Yes",
          "No",
          "Yes",
          "No",
          "No",
          "Yes",
          "No",
          "No",
          "Yes",
          "Yes",
          "No",
          "No",
          "No",
          "Yes",
          "No",
          "No",
          "Yes",
          "No",
          "No",
          "No",
          "No",
          "No",
          "No",
          "No",
          "No",
          "No",
          "No",
          "No",
          "No",
          "Yes",
          "Yes",
          "No",
          "No",
          "Yes",
          "No",
          "Yes",
          "No",
          "Yes",
          "Yes",
          "Yes",
          "Yes",
          "No",
          "No",
          "No",
          "No",
          "No",
          "No",
          "No",
          "No",
          "Yes",
          "No",
          "No",
          "No",
          "Yes",
          "No",
          "No",
          "No",
          "No",
          "Yes",
          "Yes",
          "Yes",
          "No",
          "No",
          "Yes",
          "No",
          "No",
          "No",
          "Yes",
          "No",
          "No",
          "Yes",
          "Yes",
          "No",
          "No",
          "No",
          "No",
          "No",
          "Yes",
          "No",
          "No",
          "No",
          "No",
          "Yes",
          "No",
          "No",
          "No",
          "No",
          "No",
          "No",
          "No",
          "Yes",
          "Yes",
          "No",
          "No",
          "No",
          "No",
          "No",
          "No",
          "Yes",
          "No",
          "No",
          "No",
          "No",
          "No",
          "No",
          "Yes",
          "Yes",
          "Yes",
          "No",
          "Yes",
          "No",
          "No",
          "No",
          "No",
          "Yes",
          "No",
          "No",
          "No",
          "No",
          "No",
          "No",
          "No",
          "Yes",
          "No",
          "No",
          "No",
          "No",
          "No",
          "No",
          "No",
          "No",
          "No",
          "No",
          "No",
          "No",
          "No",
          "No",
          "Yes",
          "No",
          "No",
          "Yes",
          "No",
          "No",
          "No",
          "No",
          "No",
          "No",
          "No",
          "No",
          "Yes",
          "Yes",
          "No",
          "No",
          "No",
          "No",
          "No",
          "Yes",
          "No",
          "No",
          "No",
          "No",
          "No",
          "No",
          "No",
          "Yes",
          "No",
          "No",
          "No",
          "Yes",
          "Yes",
          "No",
          "No",
          "No",
          "No",
          "Yes",
          "No",
          "No",
          "No",
          "Yes",
          "No",
          "No",
          "Yes",
          "No",
          "Yes",
          "No",
          "No",
          "Yes",
          "No",
          "Yes",
          "No",
          "No",
          "Yes",
          "No",
          "No",
          "No",
          "Yes",
          "No",
          "No",
          "No",
          "No",
          "No",
          "Yes",
          "No",
          "No",
          "No",
          "No",
          "No",
          "No",
          "No",
          "Yes",
          "No",
          "Yes",
          "No",
          "No",
          "No",
          "No",
          "No",
          "No",
          "No",
          "Yes",
          "No",
          "No",
          "No",
          "No",
          "No",
          "No",
          "No",
          "Yes",
          "No",
          "Yes",
          "No",
          "No",
          "No",
          "No",
          "No",
          "No",
          "No",
          "Yes",
          "No",
          "No",
          "No",
          "No",
          "No",
          "Yes",
          "No",
          "No",
          "No",
          "No",
          "No",
          "No",
          "No",
          "No",
          "No",
          "No",
          "No",
          "Yes",
          "No",
          "Yes",
          "Yes",
          "No",
          "No",
          "No",
          "No",
          "No",
          "No",
          "No",
          "No",
          "No",
          "No",
          "Yes",
          "No",
          "No",
          "No",
          "Yes",
          "No",
          "No",
          "No",
          "Yes",
          "No",
          "No",
          "No",
          "No",
          "No",
          "Yes",
          "No",
          "Yes",
          "No",
          "No",
          "No",
          "No",
          "No",
          "No",
          "No",
          "Yes",
          "No",
          "No",
          "Yes",
          "Yes",
          "No",
          "No",
          "No",
          "No",
          "No",
          "Yes",
          "Yes",
          "No",
          "Yes",
          "Yes",
          "No",
          "No",
          "No",
          "No",
          "No",
          "No",
          "Yes",
          "Yes",
          "No",
          "No",
          "No",
          "No",
          "No",
          "Yes",
          "Yes",
          "No",
          "No",
          "Yes",
          "No",
          "Yes",
          "No",
          "No",
          "Yes",
          "Yes",
          "No",
          "No",
          "No",
          "No",
          "Yes",
          "Yes",
          "No",
          "Yes",
          "No",
          "No",
          "No",
          "No",
          "No",
          "No",
          "No",
          "No",
          "Yes",
          "No",
          "Yes",
          "Yes",
          "No",
          "No",
          "No",
          "No",
          "No",
          "No",
          "No",
          "No",
          "Yes",
          "No",
          "No",
          "Yes",
          "No",
          "No",
          "No",
          "No",
          "No",
          "Yes",
          "No",
          "No",
          "Yes",
          "Yes",
          "Yes",
          "No",
          "No",
          "No",
          "No",
          "No",
          "No",
          "Yes",
          "Yes",
          "No",
          "No",
          "No",
          "No",
          "No",
          "No",
          "No",
          "No",
          "No",
          "No",
          "Yes",
          "Yes",
          "No",
          "Yes",
          "Yes",
          "No",
          "Yes",
          "No",
          "No",
          "No",
          "No",
          "Yes",
          "No",
          "No",
          "Yes",
          "No",
          "No",
          "Yes",
          "No",
          "No",
          "No",
          "No",
          "No",
          "No",
          "No",
          "No",
          "No",
          "Yes",
          "No",
          "No",
          "No",
          "No",
          "No",
          "No",
          "No",
          "No",
          "No",
          "No",
          "No",
          "Yes",
          "No",
          "No",
          "No",
          "No",
          "No",
          "No",
          "Yes",
          "No",
          "No",
          "No",
          "No",
          "No",
          "No",
          "Yes",
          "No",
          "No",
          "No",
          "No",
          "No",
          "No",
          "No",
          "No",
          "No",
          "Yes",
          "No",
          "Yes",
          "Yes",
          "No",
          "No",
          "No",
          "No",
          "No",
          "No",
          "No",
          "No",
          "No",
          "No",
          "Yes",
          "No",
          "No",
          "No",
          "No",
          "No",
          "No",
          "No",
          "Yes",
          "No",
          "No",
          "No",
          "Yes",
          "No",
          "No",
          "No",
          "No",
          "No",
          "No",
          "No",
          "No",
          "Yes",
          "No",
          "No",
          "No",
          "No",
          "No",
          "No",
          "No",
          "Yes",
          "No",
          "Yes",
          "Yes",
          "No",
          "No",
          "No",
          "Yes",
          "Yes",
          "Yes",
          "Yes",
          "No",
          "No",
          "No",
          "No",
          "Yes",
          "No",
          "No",
          "No",
          "No",
          "No",
          "No",
          "No",
          "Yes",
          "No",
          "No",
          "No",
          "No",
          "Yes",
          "Yes",
          "No",
          "Yes",
          "Yes",
          "No",
          "Yes",
          "Yes",
          "No",
          "No",
          "Yes",
          "No",
          "No",
          "Yes",
          "Yes",
          "No",
          "Yes",
          "Yes",
          "No",
          "Yes",
          "No",
          "No",
          "No",
          "No",
          "Yes",
          "No",
          "No",
          "No",
          "No",
          "No",
          "Yes",
          "Yes",
          "No",
          "Yes",
          "No",
          "Yes",
          "No",
          "No",
          "No",
          "No",
          "No",
          "No",
          "Yes",
          "Yes",
          "No",
          "No",
          "No",
          "No",
          "No",
          "No",
          "No",
          "No",
          "No",
          "No",
          "No",
          "Yes",
          "No",
          "No",
          "No",
          "No",
          "No",
          "No",
          "Yes",
          "No",
          "Yes",
          "Yes",
          "No",
          "Yes",
          "No",
          "No",
          "Yes",
          "Yes",
          "Yes",
          "No",
          "No",
          "No",
          "No",
          "No",
          "No",
          "No",
          "No",
          "No",
          "Yes",
          "No",
          "Yes",
          "No",
          "No",
          "No",
          "No",
          "No",
          "No",
          "No",
          "No",
          "No",
          "No",
          "Yes",
          "No",
          "No",
          "Yes",
          "No",
          "No",
          "Yes",
          "No",
          "Yes",
          "No",
          "No",
          "No",
          "No",
          "No",
          "No",
          "No",
          "No",
          "No",
          "No",
          "No",
          "No",
          "No",
          "No",
          "No",
          "No",
          "No",
          "No",
          "No",
          "Yes",
          "No",
          "No",
          "Yes",
          "No",
          "Yes",
          "No",
          "No",
          "No",
          "No",
          "No",
          "Yes",
          "No",
          "No",
          "No",
          "No",
          "No",
          "No",
          "No",
          "Yes",
          "Yes",
          "Yes",
          "No",
          "No",
          "No",
          "No",
          "No",
          "Yes",
          "No",
          "Yes",
          "Yes",
          "No",
          "Yes",
          "No",
          "No",
          "No",
          "Yes",
          "No",
          "No",
          "No",
          "No",
          "No",
          "No",
          "No",
          "No",
          "No",
          "No",
          "No",
          "No",
          "No",
          "No",
          "No",
          "Yes",
          "Yes",
          "No",
          "No",
          "Yes",
          "No",
          "Yes",
          "No",
          "No",
          "No",
          "No",
          "No",
          "No",
          "No",
          "Yes",
          "Yes",
          "No",
          "Yes",
          "No",
          "Yes",
          "No",
          "No",
          "Yes",
          "No",
          "No",
          "No",
          "No",
          "No",
          "No",
          "No",
          "No",
          "No",
          "No",
          "No",
          "No",
          "No",
          "No",
          "Yes",
          "No",
          "Yes",
          "Yes",
          "No",
          "Yes",
          "No",
          "No",
          "No",
          "No",
          "No",
          "No",
          "No",
          "No",
          "No",
          "No",
          "No",
          "Yes",
          "No",
          "No",
          "No",
          "No",
          "No",
          "Yes",
          "No",
          "No",
          "No",
          "Yes",
          "No",
          "No",
          "No",
          "Yes",
          "No",
          "Yes",
          "No",
          "Yes",
          "No",
          "No",
          "No",
          "No",
          "No",
          "No",
          "No",
          "No",
          "No",
          "Yes",
          "Yes",
          "Yes",
          "No",
          "No",
          "No",
          "No",
          "No",
          "No",
          "No",
          "No",
          "No",
          "No",
          "Yes",
          "No",
          "No",
          "No",
          "No",
          "No",
          "Yes",
          "No",
          "No",
          "Yes",
          "No",
          "No",
          "No",
          "No",
          "No",
          "No",
          "No",
          "Yes",
          "No",
          "Yes",
          "No",
          "No",
          "No",
          "No",
          "No",
          "No",
          "Yes",
          "No",
          "No",
          "No",
          "No",
          "Yes",
          "Yes",
          "No",
          "No",
          "No",
          "No",
          "No",
          "No",
          "Yes",
          "Yes",
          "No",
          "No",
          "No",
          "No",
          "No",
          "No",
          "No",
          "No",
          "No",
          "No",
          "No",
          "No",
          "Yes",
          "No",
          "No",
          "No",
          "No",
          "No",
          "Yes",
          "No",
          "No",
          "No",
          "No",
          "Yes",
          "No",
          "Yes",
          "No",
          "No",
          "Yes",
          "No",
          "Yes",
          "No",
          "No",
          "No",
          "No",
          "No",
          "No",
          "No",
          "No",
          "No",
          "No",
          "No",
          "No",
          "No",
          "No",
          "No",
          "No",
          "No",
          "Yes",
          "No",
          "Yes",
          "No",
          "Yes",
          "Yes",
          "No",
          "No",
          "No",
          "Yes",
          "No",
          "No",
          "No",
          "No",
          "No",
          "No",
          "Yes",
          "Yes",
          "No",
          "No",
          "No",
          "No",
          "Yes",
          "No",
          "No",
          "Yes",
          "No",
          "No",
          "No",
          "Yes",
          "Yes",
          "No",
          "No",
          "Yes",
          "No",
          "No",
          "Yes",
          "No",
          "No",
          "No",
          "No",
          "No",
          "No",
          "No",
          "No",
          "Yes",
          "No",
          "No",
          "No",
          "No",
          "No",
          "Yes",
          "Yes",
          "Yes",
          "No",
          "No",
          "No",
          "Yes",
          "No",
          "No",
          "No",
          "No",
          "No",
          "No",
          "Yes",
          "No",
          "No",
          "No",
          "No",
          "No",
          "Yes",
          "No",
          "No",
          "Yes",
          "No",
          "No",
          "Yes",
          "No",
          "No",
          "No",
          "No",
          "No",
          "No",
          "Yes",
          "Yes",
          "No",
          "Yes",
          "Yes",
          "No",
          "No",
          "No",
          "No",
          "No",
          "No",
          "No",
          "No",
          "No",
          "No",
          "Yes",
          "No",
          "No",
          "No",
          "No",
          "Yes",
          "No",
          "No",
          "Yes",
          "No",
          "No",
          "No",
          "No",
          "No",
          "No",
          "Yes",
          "No",
          "No"
         ],
         "xaxis": "x",
         "yaxis": "y"
        }
       ],
       "layout": {
        "barmode": "group",
        "legend": {
         "title": {
          "text": "Attrition"
         },
         "tracegroupgap": 0
        },
        "template": {
         "data": {
          "bar": [
           {
            "error_x": {
             "color": "rgb(36,36,36)"
            },
            "error_y": {
             "color": "rgb(36,36,36)"
            },
            "marker": {
             "line": {
              "color": "white",
              "width": 0.5
             },
             "pattern": {
              "fillmode": "overlay",
              "size": 10,
              "solidity": 0.2
             }
            },
            "type": "bar"
           }
          ],
          "barpolar": [
           {
            "marker": {
             "line": {
              "color": "white",
              "width": 0.5
             },
             "pattern": {
              "fillmode": "overlay",
              "size": 10,
              "solidity": 0.2
             }
            },
            "type": "barpolar"
           }
          ],
          "carpet": [
           {
            "aaxis": {
             "endlinecolor": "rgb(36,36,36)",
             "gridcolor": "white",
             "linecolor": "white",
             "minorgridcolor": "white",
             "startlinecolor": "rgb(36,36,36)"
            },
            "baxis": {
             "endlinecolor": "rgb(36,36,36)",
             "gridcolor": "white",
             "linecolor": "white",
             "minorgridcolor": "white",
             "startlinecolor": "rgb(36,36,36)"
            },
            "type": "carpet"
           }
          ],
          "choropleth": [
           {
            "colorbar": {
             "outlinewidth": 1,
             "tickcolor": "rgb(36,36,36)",
             "ticks": "outside"
            },
            "type": "choropleth"
           }
          ],
          "contour": [
           {
            "colorbar": {
             "outlinewidth": 1,
             "tickcolor": "rgb(36,36,36)",
             "ticks": "outside"
            },
            "colorscale": [
             [
              0,
              "#440154"
             ],
             [
              0.1111111111111111,
              "#482878"
             ],
             [
              0.2222222222222222,
              "#3e4989"
             ],
             [
              0.3333333333333333,
              "#31688e"
             ],
             [
              0.4444444444444444,
              "#26828e"
             ],
             [
              0.5555555555555556,
              "#1f9e89"
             ],
             [
              0.6666666666666666,
              "#35b779"
             ],
             [
              0.7777777777777778,
              "#6ece58"
             ],
             [
              0.8888888888888888,
              "#b5de2b"
             ],
             [
              1,
              "#fde725"
             ]
            ],
            "type": "contour"
           }
          ],
          "contourcarpet": [
           {
            "colorbar": {
             "outlinewidth": 1,
             "tickcolor": "rgb(36,36,36)",
             "ticks": "outside"
            },
            "type": "contourcarpet"
           }
          ],
          "heatmap": [
           {
            "colorbar": {
             "outlinewidth": 1,
             "tickcolor": "rgb(36,36,36)",
             "ticks": "outside"
            },
            "colorscale": [
             [
              0,
              "#440154"
             ],
             [
              0.1111111111111111,
              "#482878"
             ],
             [
              0.2222222222222222,
              "#3e4989"
             ],
             [
              0.3333333333333333,
              "#31688e"
             ],
             [
              0.4444444444444444,
              "#26828e"
             ],
             [
              0.5555555555555556,
              "#1f9e89"
             ],
             [
              0.6666666666666666,
              "#35b779"
             ],
             [
              0.7777777777777778,
              "#6ece58"
             ],
             [
              0.8888888888888888,
              "#b5de2b"
             ],
             [
              1,
              "#fde725"
             ]
            ],
            "type": "heatmap"
           }
          ],
          "heatmapgl": [
           {
            "colorbar": {
             "outlinewidth": 1,
             "tickcolor": "rgb(36,36,36)",
             "ticks": "outside"
            },
            "colorscale": [
             [
              0,
              "#440154"
             ],
             [
              0.1111111111111111,
              "#482878"
             ],
             [
              0.2222222222222222,
              "#3e4989"
             ],
             [
              0.3333333333333333,
              "#31688e"
             ],
             [
              0.4444444444444444,
              "#26828e"
             ],
             [
              0.5555555555555556,
              "#1f9e89"
             ],
             [
              0.6666666666666666,
              "#35b779"
             ],
             [
              0.7777777777777778,
              "#6ece58"
             ],
             [
              0.8888888888888888,
              "#b5de2b"
             ],
             [
              1,
              "#fde725"
             ]
            ],
            "type": "heatmapgl"
           }
          ],
          "histogram": [
           {
            "marker": {
             "line": {
              "color": "white",
              "width": 0.6
             }
            },
            "type": "histogram"
           }
          ],
          "histogram2d": [
           {
            "colorbar": {
             "outlinewidth": 1,
             "tickcolor": "rgb(36,36,36)",
             "ticks": "outside"
            },
            "colorscale": [
             [
              0,
              "#440154"
             ],
             [
              0.1111111111111111,
              "#482878"
             ],
             [
              0.2222222222222222,
              "#3e4989"
             ],
             [
              0.3333333333333333,
              "#31688e"
             ],
             [
              0.4444444444444444,
              "#26828e"
             ],
             [
              0.5555555555555556,
              "#1f9e89"
             ],
             [
              0.6666666666666666,
              "#35b779"
             ],
             [
              0.7777777777777778,
              "#6ece58"
             ],
             [
              0.8888888888888888,
              "#b5de2b"
             ],
             [
              1,
              "#fde725"
             ]
            ],
            "type": "histogram2d"
           }
          ],
          "histogram2dcontour": [
           {
            "colorbar": {
             "outlinewidth": 1,
             "tickcolor": "rgb(36,36,36)",
             "ticks": "outside"
            },
            "colorscale": [
             [
              0,
              "#440154"
             ],
             [
              0.1111111111111111,
              "#482878"
             ],
             [
              0.2222222222222222,
              "#3e4989"
             ],
             [
              0.3333333333333333,
              "#31688e"
             ],
             [
              0.4444444444444444,
              "#26828e"
             ],
             [
              0.5555555555555556,
              "#1f9e89"
             ],
             [
              0.6666666666666666,
              "#35b779"
             ],
             [
              0.7777777777777778,
              "#6ece58"
             ],
             [
              0.8888888888888888,
              "#b5de2b"
             ],
             [
              1,
              "#fde725"
             ]
            ],
            "type": "histogram2dcontour"
           }
          ],
          "mesh3d": [
           {
            "colorbar": {
             "outlinewidth": 1,
             "tickcolor": "rgb(36,36,36)",
             "ticks": "outside"
            },
            "type": "mesh3d"
           }
          ],
          "parcoords": [
           {
            "line": {
             "colorbar": {
              "outlinewidth": 1,
              "tickcolor": "rgb(36,36,36)",
              "ticks": "outside"
             }
            },
            "type": "parcoords"
           }
          ],
          "pie": [
           {
            "automargin": true,
            "type": "pie"
           }
          ],
          "scatter": [
           {
            "marker": {
             "colorbar": {
              "outlinewidth": 1,
              "tickcolor": "rgb(36,36,36)",
              "ticks": "outside"
             }
            },
            "type": "scatter"
           }
          ],
          "scatter3d": [
           {
            "line": {
             "colorbar": {
              "outlinewidth": 1,
              "tickcolor": "rgb(36,36,36)",
              "ticks": "outside"
             }
            },
            "marker": {
             "colorbar": {
              "outlinewidth": 1,
              "tickcolor": "rgb(36,36,36)",
              "ticks": "outside"
             }
            },
            "type": "scatter3d"
           }
          ],
          "scattercarpet": [
           {
            "marker": {
             "colorbar": {
              "outlinewidth": 1,
              "tickcolor": "rgb(36,36,36)",
              "ticks": "outside"
             }
            },
            "type": "scattercarpet"
           }
          ],
          "scattergeo": [
           {
            "marker": {
             "colorbar": {
              "outlinewidth": 1,
              "tickcolor": "rgb(36,36,36)",
              "ticks": "outside"
             }
            },
            "type": "scattergeo"
           }
          ],
          "scattergl": [
           {
            "marker": {
             "colorbar": {
              "outlinewidth": 1,
              "tickcolor": "rgb(36,36,36)",
              "ticks": "outside"
             }
            },
            "type": "scattergl"
           }
          ],
          "scattermapbox": [
           {
            "marker": {
             "colorbar": {
              "outlinewidth": 1,
              "tickcolor": "rgb(36,36,36)",
              "ticks": "outside"
             }
            },
            "type": "scattermapbox"
           }
          ],
          "scatterpolar": [
           {
            "marker": {
             "colorbar": {
              "outlinewidth": 1,
              "tickcolor": "rgb(36,36,36)",
              "ticks": "outside"
             }
            },
            "type": "scatterpolar"
           }
          ],
          "scatterpolargl": [
           {
            "marker": {
             "colorbar": {
              "outlinewidth": 1,
              "tickcolor": "rgb(36,36,36)",
              "ticks": "outside"
             }
            },
            "type": "scatterpolargl"
           }
          ],
          "scatterternary": [
           {
            "marker": {
             "colorbar": {
              "outlinewidth": 1,
              "tickcolor": "rgb(36,36,36)",
              "ticks": "outside"
             }
            },
            "type": "scatterternary"
           }
          ],
          "surface": [
           {
            "colorbar": {
             "outlinewidth": 1,
             "tickcolor": "rgb(36,36,36)",
             "ticks": "outside"
            },
            "colorscale": [
             [
              0,
              "#440154"
             ],
             [
              0.1111111111111111,
              "#482878"
             ],
             [
              0.2222222222222222,
              "#3e4989"
             ],
             [
              0.3333333333333333,
              "#31688e"
             ],
             [
              0.4444444444444444,
              "#26828e"
             ],
             [
              0.5555555555555556,
              "#1f9e89"
             ],
             [
              0.6666666666666666,
              "#35b779"
             ],
             [
              0.7777777777777778,
              "#6ece58"
             ],
             [
              0.8888888888888888,
              "#b5de2b"
             ],
             [
              1,
              "#fde725"
             ]
            ],
            "type": "surface"
           }
          ],
          "table": [
           {
            "cells": {
             "fill": {
              "color": "rgb(237,237,237)"
             },
             "line": {
              "color": "white"
             }
            },
            "header": {
             "fill": {
              "color": "rgb(217,217,217)"
             },
             "line": {
              "color": "white"
             }
            },
            "type": "table"
           }
          ]
         },
         "layout": {
          "annotationdefaults": {
           "arrowhead": 0,
           "arrowwidth": 1
          },
          "autotypenumbers": "strict",
          "coloraxis": {
           "colorbar": {
            "outlinewidth": 1,
            "tickcolor": "rgb(36,36,36)",
            "ticks": "outside"
           }
          },
          "colorscale": {
           "diverging": [
            [
             0,
             "rgb(103,0,31)"
            ],
            [
             0.1,
             "rgb(178,24,43)"
            ],
            [
             0.2,
             "rgb(214,96,77)"
            ],
            [
             0.3,
             "rgb(244,165,130)"
            ],
            [
             0.4,
             "rgb(253,219,199)"
            ],
            [
             0.5,
             "rgb(247,247,247)"
            ],
            [
             0.6,
             "rgb(209,229,240)"
            ],
            [
             0.7,
             "rgb(146,197,222)"
            ],
            [
             0.8,
             "rgb(67,147,195)"
            ],
            [
             0.9,
             "rgb(33,102,172)"
            ],
            [
             1,
             "rgb(5,48,97)"
            ]
           ],
           "sequential": [
            [
             0,
             "#440154"
            ],
            [
             0.1111111111111111,
             "#482878"
            ],
            [
             0.2222222222222222,
             "#3e4989"
            ],
            [
             0.3333333333333333,
             "#31688e"
            ],
            [
             0.4444444444444444,
             "#26828e"
            ],
            [
             0.5555555555555556,
             "#1f9e89"
            ],
            [
             0.6666666666666666,
             "#35b779"
            ],
            [
             0.7777777777777778,
             "#6ece58"
            ],
            [
             0.8888888888888888,
             "#b5de2b"
            ],
            [
             1,
             "#fde725"
            ]
           ],
           "sequentialminus": [
            [
             0,
             "#440154"
            ],
            [
             0.1111111111111111,
             "#482878"
            ],
            [
             0.2222222222222222,
             "#3e4989"
            ],
            [
             0.3333333333333333,
             "#31688e"
            ],
            [
             0.4444444444444444,
             "#26828e"
            ],
            [
             0.5555555555555556,
             "#1f9e89"
            ],
            [
             0.6666666666666666,
             "#35b779"
            ],
            [
             0.7777777777777778,
             "#6ece58"
            ],
            [
             0.8888888888888888,
             "#b5de2b"
            ],
            [
             1,
             "#fde725"
            ]
           ]
          },
          "colorway": [
           "#1F77B4",
           "#FF7F0E",
           "#2CA02C",
           "#D62728",
           "#9467BD",
           "#8C564B",
           "#E377C2",
           "#7F7F7F",
           "#BCBD22",
           "#17BECF"
          ],
          "font": {
           "color": "rgb(36,36,36)"
          },
          "geo": {
           "bgcolor": "white",
           "lakecolor": "white",
           "landcolor": "white",
           "showlakes": true,
           "showland": true,
           "subunitcolor": "white"
          },
          "hoverlabel": {
           "align": "left"
          },
          "hovermode": "closest",
          "mapbox": {
           "style": "light"
          },
          "paper_bgcolor": "white",
          "plot_bgcolor": "white",
          "polar": {
           "angularaxis": {
            "gridcolor": "rgb(232,232,232)",
            "linecolor": "rgb(36,36,36)",
            "showgrid": false,
            "showline": true,
            "ticks": "outside"
           },
           "bgcolor": "white",
           "radialaxis": {
            "gridcolor": "rgb(232,232,232)",
            "linecolor": "rgb(36,36,36)",
            "showgrid": false,
            "showline": true,
            "ticks": "outside"
           }
          },
          "scene": {
           "xaxis": {
            "backgroundcolor": "white",
            "gridcolor": "rgb(232,232,232)",
            "gridwidth": 2,
            "linecolor": "rgb(36,36,36)",
            "showbackground": true,
            "showgrid": false,
            "showline": true,
            "ticks": "outside",
            "zeroline": false,
            "zerolinecolor": "rgb(36,36,36)"
           },
           "yaxis": {
            "backgroundcolor": "white",
            "gridcolor": "rgb(232,232,232)",
            "gridwidth": 2,
            "linecolor": "rgb(36,36,36)",
            "showbackground": true,
            "showgrid": false,
            "showline": true,
            "ticks": "outside",
            "zeroline": false,
            "zerolinecolor": "rgb(36,36,36)"
           },
           "zaxis": {
            "backgroundcolor": "white",
            "gridcolor": "rgb(232,232,232)",
            "gridwidth": 2,
            "linecolor": "rgb(36,36,36)",
            "showbackground": true,
            "showgrid": false,
            "showline": true,
            "ticks": "outside",
            "zeroline": false,
            "zerolinecolor": "rgb(36,36,36)"
           }
          },
          "shapedefaults": {
           "fillcolor": "black",
           "line": {
            "width": 0
           },
           "opacity": 0.3
          },
          "ternary": {
           "aaxis": {
            "gridcolor": "rgb(232,232,232)",
            "linecolor": "rgb(36,36,36)",
            "showgrid": false,
            "showline": true,
            "ticks": "outside"
           },
           "baxis": {
            "gridcolor": "rgb(232,232,232)",
            "linecolor": "rgb(36,36,36)",
            "showgrid": false,
            "showline": true,
            "ticks": "outside"
           },
           "bgcolor": "white",
           "caxis": {
            "gridcolor": "rgb(232,232,232)",
            "linecolor": "rgb(36,36,36)",
            "showgrid": false,
            "showline": true,
            "ticks": "outside"
           }
          },
          "title": {
           "x": 0.05
          },
          "xaxis": {
           "automargin": true,
           "gridcolor": "rgb(232,232,232)",
           "linecolor": "rgb(36,36,36)",
           "showgrid": false,
           "showline": true,
           "ticks": "outside",
           "title": {
            "standoff": 15
           },
           "zeroline": false,
           "zerolinecolor": "rgb(36,36,36)"
          },
          "yaxis": {
           "automargin": true,
           "gridcolor": "rgb(232,232,232)",
           "linecolor": "rgb(36,36,36)",
           "showgrid": false,
           "showline": true,
           "ticks": "outside",
           "title": {
            "standoff": 15
           },
           "zeroline": false,
           "zerolinecolor": "rgb(36,36,36)"
          }
         }
        },
        "title": {
         "text": "Count of Over Time where Attrition is True"
        },
        "xaxis": {
         "anchor": "y",
         "domain": [
          0,
          1
         ],
         "title": {
          "text": "OverTime"
         }
        },
        "yaxis": {
         "anchor": "x",
         "domain": [
          0,
          1
         ],
         "title": {
          "text": "count"
         }
        }
       }
      }
     },
     "metadata": {}
    }
   ],
   "metadata": {}
  },
  {
   "cell_type": "code",
   "execution_count": 39,
   "source": [
    "# business travel and attrition\r\n",
    "fig = px.histogram(column_feature_top10, x='BusinessTravel', color='Attrition', barmode='group', title='Level of Business Travel where Attrition is True')\r\n",
    "fig.show()"
   ],
   "outputs": [
    {
     "output_type": "display_data",
     "data": {
      "application/vnd.plotly.v1+json": {
       "config": {
        "plotlyServerURL": "https://plot.ly"
       },
       "data": [
        {
         "alignmentgroup": "True",
         "bingroup": "x",
         "hovertemplate": "Attrition=Yes<br>BusinessTravel=%{x}<br>count=%{y}<extra></extra>",
         "legendgroup": "Yes",
         "marker": {
          "color": "#1F77B4",
          "pattern": {
           "shape": ""
          }
         },
         "name": "Yes",
         "offsetgroup": "Yes",
         "orientation": "v",
         "showlegend": true,
         "type": "histogram",
         "x": [
          "Travel_Rarely",
          "Travel_Rarely",
          "Travel_Rarely",
          "Travel_Rarely",
          "Travel_Rarely",
          "Travel_Frequently",
          "Travel_Rarely",
          "Travel_Rarely",
          "Travel_Rarely",
          "Travel_Rarely",
          "Travel_Rarely",
          "Travel_Rarely",
          "Travel_Rarely",
          "Travel_Rarely",
          "Travel_Rarely",
          "Travel_Rarely",
          "Travel_Frequently",
          "Travel_Rarely",
          "Travel_Frequently",
          "Travel_Rarely",
          "Travel_Rarely",
          "Travel_Rarely",
          "Travel_Rarely",
          "Travel_Rarely",
          "Travel_Frequently",
          "Travel_Rarely",
          "Travel_Frequently",
          "Travel_Rarely",
          "Travel_Rarely",
          "Travel_Rarely",
          "Travel_Rarely",
          "Travel_Rarely",
          "Travel_Rarely",
          "Travel_Rarely",
          "Travel_Frequently",
          "Travel_Rarely",
          "Travel_Rarely",
          "Travel_Rarely",
          "Travel_Rarely",
          "Travel_Rarely",
          "Travel_Frequently",
          "Travel_Frequently",
          "Travel_Rarely",
          "Non-Travel",
          "Travel_Frequently",
          "Travel_Rarely",
          "Travel_Rarely",
          "Travel_Rarely",
          "Travel_Rarely",
          "Travel_Rarely",
          "Travel_Rarely",
          "Travel_Rarely",
          "Travel_Frequently",
          "Travel_Rarely",
          "Travel_Frequently",
          "Travel_Rarely",
          "Travel_Rarely",
          "Non-Travel",
          "Travel_Frequently",
          "Travel_Frequently",
          "Travel_Rarely",
          "Travel_Rarely",
          "Travel_Frequently",
          "Travel_Rarely",
          "Travel_Rarely",
          "Travel_Rarely",
          "Travel_Rarely",
          "Travel_Frequently",
          "Travel_Frequently",
          "Travel_Frequently",
          "Travel_Frequently",
          "Travel_Frequently",
          "Travel_Rarely",
          "Non-Travel",
          "Travel_Frequently",
          "Travel_Frequently",
          "Travel_Rarely",
          "Travel_Rarely",
          "Travel_Frequently",
          "Travel_Rarely",
          "Travel_Frequently",
          "Travel_Rarely",
          "Travel_Frequently",
          "Travel_Rarely",
          "Travel_Frequently",
          "Travel_Rarely",
          "Travel_Frequently",
          "Travel_Rarely",
          "Travel_Rarely",
          "Travel_Rarely",
          "Travel_Rarely",
          "Travel_Rarely",
          "Travel_Rarely",
          "Travel_Rarely",
          "Travel_Rarely",
          "Travel_Rarely",
          "Travel_Frequently",
          "Travel_Frequently",
          "Travel_Rarely",
          "Travel_Rarely",
          "Travel_Frequently",
          "Travel_Rarely",
          "Travel_Rarely",
          "Travel_Rarely",
          "Travel_Rarely",
          "Travel_Rarely",
          "Travel_Rarely",
          "Travel_Rarely",
          "Travel_Rarely",
          "Travel_Rarely",
          "Travel_Rarely",
          "Travel_Rarely",
          "Non-Travel",
          "Non-Travel",
          "Travel_Rarely",
          "Travel_Rarely",
          "Travel_Rarely",
          "Travel_Rarely",
          "Travel_Frequently",
          "Travel_Rarely",
          "Non-Travel",
          "Travel_Rarely",
          "Travel_Rarely",
          "Travel_Rarely",
          "Travel_Frequently",
          "Travel_Frequently",
          "Travel_Rarely",
          "Travel_Rarely",
          "Non-Travel",
          "Travel_Rarely",
          "Travel_Rarely",
          "Travel_Frequently",
          "Travel_Rarely",
          "Travel_Rarely",
          "Travel_Rarely",
          "Travel_Frequently",
          "Travel_Frequently",
          "Travel_Frequently",
          "Non-Travel",
          "Travel_Rarely",
          "Travel_Frequently",
          "Travel_Rarely",
          "Travel_Frequently",
          "Travel_Rarely",
          "Travel_Rarely",
          "Travel_Rarely",
          "Travel_Frequently",
          "Non-Travel",
          "Travel_Rarely",
          "Non-Travel",
          "Travel_Frequently",
          "Travel_Rarely",
          "Travel_Frequently",
          "Travel_Rarely",
          "Travel_Rarely",
          "Travel_Rarely",
          "Travel_Rarely",
          "Travel_Rarely",
          "Travel_Rarely",
          "Travel_Frequently",
          "Travel_Rarely",
          "Travel_Rarely",
          "Travel_Rarely",
          "Travel_Frequently",
          "Travel_Frequently",
          "Travel_Rarely",
          "Travel_Rarely",
          "Travel_Frequently",
          "Travel_Frequently",
          "Travel_Frequently",
          "Travel_Rarely",
          "Travel_Rarely",
          "Travel_Rarely",
          "Non-Travel",
          "Travel_Frequently",
          "Travel_Frequently",
          "Travel_Rarely",
          "Travel_Frequently",
          "Travel_Frequently",
          "Travel_Rarely",
          "Travel_Frequently",
          "Travel_Frequently",
          "Travel_Rarely",
          "Travel_Rarely",
          "Travel_Frequently",
          "Travel_Rarely",
          "Travel_Rarely",
          "Travel_Rarely",
          "Travel_Rarely",
          "Travel_Rarely",
          "Travel_Frequently",
          "Travel_Rarely",
          "Travel_Rarely",
          "Travel_Rarely",
          "Travel_Frequently",
          "Travel_Rarely",
          "Travel_Frequently",
          "Travel_Rarely",
          "Travel_Rarely",
          "Travel_Rarely",
          "Travel_Frequently",
          "Travel_Rarely",
          "Travel_Rarely",
          "Travel_Frequently",
          "Travel_Rarely",
          "Travel_Rarely",
          "Travel_Rarely",
          "Travel_Frequently",
          "Travel_Rarely",
          "Travel_Rarely",
          "Travel_Frequently",
          "Travel_Rarely",
          "Travel_Frequently",
          "Travel_Rarely",
          "Travel_Rarely",
          "Travel_Rarely",
          "Travel_Rarely",
          "Travel_Rarely",
          "Travel_Rarely",
          "Travel_Frequently",
          "Travel_Rarely",
          "Travel_Rarely",
          "Travel_Rarely",
          "Non-Travel",
          "Travel_Rarely",
          "Travel_Frequently",
          "Travel_Rarely",
          "Travel_Frequently",
          "Travel_Frequently",
          "Travel_Rarely",
          "Travel_Frequently",
          "Travel_Rarely",
          "Travel_Frequently",
          "Travel_Rarely",
          "Travel_Rarely",
          "Travel_Frequently",
          "Travel_Rarely"
         ],
         "xaxis": "x",
         "yaxis": "y"
        },
        {
         "alignmentgroup": "True",
         "bingroup": "x",
         "hovertemplate": "Attrition=No<br>BusinessTravel=%{x}<br>count=%{y}<extra></extra>",
         "legendgroup": "No",
         "marker": {
          "color": "#FF7F0E",
          "pattern": {
           "shape": ""
          }
         },
         "name": "No",
         "offsetgroup": "No",
         "orientation": "v",
         "showlegend": true,
         "type": "histogram",
         "x": [
          "Travel_Frequently",
          "Travel_Frequently",
          "Travel_Rarely",
          "Travel_Frequently",
          "Travel_Rarely",
          "Travel_Rarely",
          "Travel_Frequently",
          "Travel_Rarely",
          "Travel_Rarely",
          "Travel_Rarely",
          "Travel_Rarely",
          "Travel_Rarely",
          "Travel_Rarely",
          "Travel_Rarely",
          "Non-Travel",
          "Travel_Rarely",
          "Travel_Rarely",
          "Non-Travel",
          "Travel_Rarely",
          "Travel_Rarely",
          "Travel_Rarely",
          "Travel_Rarely",
          "Travel_Rarely",
          "Travel_Rarely",
          "Travel_Rarely",
          "Travel_Rarely",
          "Travel_Rarely",
          "Travel_Rarely",
          "Travel_Rarely",
          "Travel_Rarely",
          "Travel_Frequently",
          "Travel_Rarely",
          "Travel_Rarely",
          "Travel_Frequently",
          "Travel_Frequently",
          "Non-Travel",
          "Travel_Rarely",
          "Travel_Frequently",
          "Travel_Rarely",
          "Travel_Rarely",
          "Non-Travel",
          "Travel_Rarely",
          "Travel_Frequently",
          "Travel_Frequently",
          "Travel_Rarely",
          "Travel_Rarely",
          "Travel_Rarely",
          "Travel_Rarely",
          "Travel_Frequently",
          "Travel_Rarely",
          "Travel_Rarely",
          "Travel_Rarely",
          "Travel_Rarely",
          "Travel_Frequently",
          "Travel_Rarely",
          "Travel_Frequently",
          "Travel_Frequently",
          "Travel_Rarely",
          "Travel_Rarely",
          "Travel_Rarely",
          "Travel_Rarely",
          "Travel_Rarely",
          "Travel_Rarely",
          "Travel_Rarely",
          "Travel_Rarely",
          "Travel_Rarely",
          "Travel_Rarely",
          "Travel_Rarely",
          "Travel_Rarely",
          "Non-Travel",
          "Travel_Rarely",
          "Travel_Rarely",
          "Travel_Rarely",
          "Travel_Rarely",
          "Travel_Rarely",
          "Travel_Frequently",
          "Travel_Rarely",
          "Travel_Rarely",
          "Travel_Frequently",
          "Travel_Rarely",
          "Travel_Rarely",
          "Travel_Rarely",
          "Non-Travel",
          "Travel_Rarely",
          "Non-Travel",
          "Travel_Rarely",
          "Travel_Rarely",
          "Non-Travel",
          "Non-Travel",
          "Travel_Frequently",
          "Travel_Rarely",
          "Travel_Rarely",
          "Travel_Frequently",
          "Non-Travel",
          "Travel_Rarely",
          "Travel_Rarely",
          "Travel_Rarely",
          "Travel_Rarely",
          "Travel_Frequently",
          "Travel_Rarely",
          "Travel_Frequently",
          "Travel_Frequently",
          "Non-Travel",
          "Travel_Rarely",
          "Travel_Rarely",
          "Travel_Rarely",
          "Travel_Rarely",
          "Travel_Frequently",
          "Travel_Frequently",
          "Travel_Rarely",
          "Travel_Rarely",
          "Travel_Rarely",
          "Travel_Rarely",
          "Travel_Rarely",
          "Travel_Rarely",
          "Travel_Rarely",
          "Travel_Rarely",
          "Travel_Rarely",
          "Travel_Frequently",
          "Travel_Rarely",
          "Travel_Rarely",
          "Travel_Frequently",
          "Travel_Rarely",
          "Travel_Rarely",
          "Travel_Frequently",
          "Travel_Rarely",
          "Travel_Rarely",
          "Travel_Rarely",
          "Travel_Frequently",
          "Non-Travel",
          "Travel_Rarely",
          "Travel_Rarely",
          "Travel_Rarely",
          "Travel_Frequently",
          "Travel_Rarely",
          "Non-Travel",
          "Travel_Rarely",
          "Travel_Rarely",
          "Non-Travel",
          "Travel_Rarely",
          "Travel_Rarely",
          "Travel_Rarely",
          "Travel_Rarely",
          "Travel_Rarely",
          "Travel_Rarely",
          "Travel_Frequently",
          "Non-Travel",
          "Travel_Rarely",
          "Travel_Rarely",
          "Travel_Rarely",
          "Travel_Rarely",
          "Travel_Rarely",
          "Travel_Rarely",
          "Travel_Rarely",
          "Travel_Rarely",
          "Travel_Rarely",
          "Travel_Rarely",
          "Travel_Rarely",
          "Travel_Rarely",
          "Travel_Frequently",
          "Travel_Rarely",
          "Travel_Rarely",
          "Travel_Rarely",
          "Non-Travel",
          "Non-Travel",
          "Travel_Rarely",
          "Travel_Frequently",
          "Non-Travel",
          "Travel_Rarely",
          "Travel_Rarely",
          "Travel_Frequently",
          "Non-Travel",
          "Travel_Frequently",
          "Travel_Rarely",
          "Travel_Rarely",
          "Travel_Frequently",
          "Non-Travel",
          "Travel_Rarely",
          "Non-Travel",
          "Travel_Frequently",
          "Travel_Rarely",
          "Travel_Rarely",
          "Non-Travel",
          "Travel_Rarely",
          "Travel_Rarely",
          "Travel_Rarely",
          "Travel_Frequently",
          "Travel_Rarely",
          "Non-Travel",
          "Travel_Rarely",
          "Travel_Frequently",
          "Travel_Frequently",
          "Travel_Frequently",
          "Travel_Rarely",
          "Travel_Rarely",
          "Travel_Rarely",
          "Travel_Rarely",
          "Travel_Rarely",
          "Non-Travel",
          "Travel_Rarely",
          "Travel_Rarely",
          "Non-Travel",
          "Travel_Rarely",
          "Travel_Rarely",
          "Travel_Rarely",
          "Travel_Frequently",
          "Travel_Rarely",
          "Travel_Rarely",
          "Travel_Rarely",
          "Travel_Frequently",
          "Travel_Frequently",
          "Travel_Rarely",
          "Travel_Rarely",
          "Travel_Rarely",
          "Travel_Rarely",
          "Travel_Rarely",
          "Travel_Rarely",
          "Travel_Rarely",
          "Travel_Frequently",
          "Non-Travel",
          "Travel_Rarely",
          "Travel_Rarely",
          "Travel_Rarely",
          "Travel_Rarely",
          "Non-Travel",
          "Travel_Rarely",
          "Travel_Rarely",
          "Travel_Rarely",
          "Travel_Rarely",
          "Travel_Rarely",
          "Travel_Rarely",
          "Non-Travel",
          "Travel_Rarely",
          "Travel_Rarely",
          "Travel_Frequently",
          "Travel_Rarely",
          "Travel_Rarely",
          "Travel_Rarely",
          "Travel_Frequently",
          "Travel_Rarely",
          "Travel_Frequently",
          "Travel_Rarely",
          "Travel_Rarely",
          "Travel_Rarely",
          "Travel_Frequently",
          "Travel_Rarely",
          "Travel_Frequently",
          "Travel_Frequently",
          "Travel_Frequently",
          "Travel_Rarely",
          "Travel_Frequently",
          "Travel_Rarely",
          "Travel_Rarely",
          "Travel_Rarely",
          "Travel_Rarely",
          "Travel_Rarely",
          "Travel_Rarely",
          "Non-Travel",
          "Travel_Rarely",
          "Travel_Rarely",
          "Non-Travel",
          "Travel_Rarely",
          "Travel_Rarely",
          "Travel_Frequently",
          "Travel_Rarely",
          "Travel_Frequently",
          "Travel_Rarely",
          "Travel_Frequently",
          "Travel_Rarely",
          "Travel_Rarely",
          "Travel_Rarely",
          "Travel_Rarely",
          "Travel_Rarely",
          "Travel_Rarely",
          "Travel_Rarely",
          "Travel_Frequently",
          "Travel_Frequently",
          "Travel_Frequently",
          "Travel_Rarely",
          "Travel_Frequently",
          "Non-Travel",
          "Travel_Frequently",
          "Travel_Rarely",
          "Travel_Rarely",
          "Travel_Rarely",
          "Travel_Rarely",
          "Travel_Rarely",
          "Travel_Rarely",
          "Travel_Rarely",
          "Travel_Rarely",
          "Travel_Rarely",
          "Travel_Rarely",
          "Travel_Rarely",
          "Travel_Rarely",
          "Travel_Rarely",
          "Travel_Frequently",
          "Travel_Rarely",
          "Non-Travel",
          "Travel_Rarely",
          "Travel_Rarely",
          "Travel_Rarely",
          "Travel_Rarely",
          "Non-Travel",
          "Travel_Rarely",
          "Travel_Rarely",
          "Non-Travel",
          "Travel_Frequently",
          "Travel_Rarely",
          "Travel_Rarely",
          "Non-Travel",
          "Travel_Rarely",
          "Non-Travel",
          "Travel_Rarely",
          "Travel_Rarely",
          "Travel_Rarely",
          "Travel_Rarely",
          "Travel_Rarely",
          "Travel_Rarely",
          "Travel_Rarely",
          "Travel_Rarely",
          "Travel_Rarely",
          "Travel_Rarely",
          "Travel_Rarely",
          "Travel_Rarely",
          "Travel_Rarely",
          "Travel_Rarely",
          "Travel_Rarely",
          "Travel_Rarely",
          "Travel_Rarely",
          "Travel_Rarely",
          "Travel_Rarely",
          "Travel_Rarely",
          "Travel_Rarely",
          "Non-Travel",
          "Travel_Rarely",
          "Travel_Frequently",
          "Travel_Rarely",
          "Travel_Rarely",
          "Non-Travel",
          "Travel_Rarely",
          "Travel_Frequently",
          "Travel_Frequently",
          "Travel_Rarely",
          "Travel_Rarely",
          "Travel_Rarely",
          "Travel_Rarely",
          "Travel_Rarely",
          "Travel_Rarely",
          "Travel_Frequently",
          "Travel_Rarely",
          "Travel_Rarely",
          "Travel_Rarely",
          "Travel_Frequently",
          "Travel_Frequently",
          "Travel_Rarely",
          "Travel_Rarely",
          "Non-Travel",
          "Travel_Rarely",
          "Non-Travel",
          "Travel_Rarely",
          "Travel_Rarely",
          "Non-Travel",
          "Travel_Frequently",
          "Travel_Rarely",
          "Travel_Rarely",
          "Travel_Rarely",
          "Travel_Rarely",
          "Travel_Rarely",
          "Travel_Rarely",
          "Travel_Rarely",
          "Travel_Rarely",
          "Travel_Rarely",
          "Travel_Frequently",
          "Non-Travel",
          "Travel_Rarely",
          "Travel_Rarely",
          "Non-Travel",
          "Travel_Rarely",
          "Travel_Rarely",
          "Travel_Frequently",
          "Travel_Rarely",
          "Travel_Rarely",
          "Travel_Rarely",
          "Travel_Rarely",
          "Travel_Rarely",
          "Travel_Rarely",
          "Non-Travel",
          "Non-Travel",
          "Travel_Rarely",
          "Travel_Rarely",
          "Travel_Rarely",
          "Travel_Rarely",
          "Travel_Frequently",
          "Travel_Rarely",
          "Non-Travel",
          "Travel_Rarely",
          "Travel_Frequently",
          "Travel_Rarely",
          "Travel_Rarely",
          "Travel_Rarely",
          "Travel_Rarely",
          "Travel_Rarely",
          "Travel_Rarely",
          "Travel_Frequently",
          "Travel_Rarely",
          "Travel_Rarely",
          "Travel_Rarely",
          "Travel_Rarely",
          "Travel_Rarely",
          "Travel_Rarely",
          "Travel_Rarely",
          "Travel_Rarely",
          "Travel_Rarely",
          "Travel_Rarely",
          "Travel_Frequently",
          "Travel_Rarely",
          "Travel_Rarely",
          "Travel_Rarely",
          "Travel_Rarely",
          "Travel_Rarely",
          "Travel_Rarely",
          "Travel_Rarely",
          "Travel_Rarely",
          "Travel_Frequently",
          "Travel_Rarely",
          "Travel_Rarely",
          "Travel_Rarely",
          "Travel_Rarely",
          "Travel_Rarely",
          "Travel_Rarely",
          "Travel_Frequently",
          "Travel_Rarely",
          "Travel_Rarely",
          "Travel_Rarely",
          "Non-Travel",
          "Travel_Rarely",
          "Travel_Rarely",
          "Travel_Rarely",
          "Travel_Frequently",
          "Travel_Rarely",
          "Travel_Frequently",
          "Travel_Rarely",
          "Travel_Rarely",
          "Travel_Rarely",
          "Travel_Rarely",
          "Travel_Rarely",
          "Travel_Rarely",
          "Travel_Rarely",
          "Travel_Rarely",
          "Travel_Rarely",
          "Travel_Frequently",
          "Travel_Rarely",
          "Travel_Rarely",
          "Travel_Rarely",
          "Travel_Frequently",
          "Travel_Rarely",
          "Travel_Rarely",
          "Non-Travel",
          "Travel_Rarely",
          "Non-Travel",
          "Travel_Frequently",
          "Travel_Rarely",
          "Travel_Rarely",
          "Travel_Frequently",
          "Travel_Rarely",
          "Travel_Rarely",
          "Travel_Rarely",
          "Travel_Rarely",
          "Travel_Rarely",
          "Travel_Rarely",
          "Travel_Rarely",
          "Travel_Rarely",
          "Non-Travel",
          "Travel_Frequently",
          "Travel_Rarely",
          "Travel_Rarely",
          "Travel_Rarely",
          "Travel_Rarely",
          "Travel_Rarely",
          "Travel_Rarely",
          "Travel_Rarely",
          "Non-Travel",
          "Non-Travel",
          "Travel_Frequently",
          "Travel_Rarely",
          "Travel_Rarely",
          "Travel_Rarely",
          "Travel_Frequently",
          "Travel_Rarely",
          "Travel_Frequently",
          "Travel_Rarely",
          "Travel_Rarely",
          "Travel_Rarely",
          "Travel_Frequently",
          "Travel_Rarely",
          "Travel_Frequently",
          "Non-Travel",
          "Travel_Rarely",
          "Travel_Rarely",
          "Travel_Rarely",
          "Travel_Rarely",
          "Travel_Rarely",
          "Travel_Rarely",
          "Travel_Rarely",
          "Travel_Rarely",
          "Travel_Rarely",
          "Travel_Rarely",
          "Travel_Frequently",
          "Travel_Rarely",
          "Travel_Rarely",
          "Travel_Rarely",
          "Travel_Frequently",
          "Travel_Frequently",
          "Travel_Rarely",
          "Travel_Rarely",
          "Travel_Rarely",
          "Travel_Rarely",
          "Travel_Rarely",
          "Non-Travel",
          "Travel_Rarely",
          "Travel_Rarely",
          "Travel_Rarely",
          "Travel_Rarely",
          "Travel_Rarely",
          "Travel_Rarely",
          "Travel_Rarely",
          "Travel_Frequently",
          "Travel_Rarely",
          "Travel_Rarely",
          "Travel_Rarely",
          "Travel_Frequently",
          "Travel_Rarely",
          "Travel_Rarely",
          "Travel_Rarely",
          "Travel_Rarely",
          "Travel_Frequently",
          "Travel_Rarely",
          "Travel_Rarely",
          "Travel_Rarely",
          "Non-Travel",
          "Travel_Rarely",
          "Travel_Rarely",
          "Non-Travel",
          "Travel_Frequently",
          "Travel_Rarely",
          "Travel_Rarely",
          "Travel_Rarely",
          "Travel_Rarely",
          "Travel_Rarely",
          "Travel_Frequently",
          "Travel_Rarely",
          "Travel_Frequently",
          "Travel_Rarely",
          "Non-Travel",
          "Non-Travel",
          "Travel_Rarely",
          "Travel_Rarely",
          "Travel_Rarely",
          "Travel_Rarely",
          "Travel_Rarely",
          "Travel_Rarely",
          "Travel_Rarely",
          "Travel_Rarely",
          "Travel_Rarely",
          "Travel_Rarely",
          "Travel_Rarely",
          "Travel_Rarely",
          "Travel_Rarely",
          "Travel_Rarely",
          "Travel_Rarely",
          "Travel_Rarely",
          "Travel_Rarely",
          "Travel_Rarely",
          "Non-Travel",
          "Travel_Rarely",
          "Travel_Rarely",
          "Non-Travel",
          "Travel_Rarely",
          "Travel_Frequently",
          "Travel_Rarely",
          "Travel_Rarely",
          "Travel_Rarely",
          "Travel_Frequently",
          "Travel_Rarely",
          "Travel_Rarely",
          "Non-Travel",
          "Travel_Frequently",
          "Travel_Rarely",
          "Travel_Rarely",
          "Travel_Rarely",
          "Travel_Rarely",
          "Non-Travel",
          "Travel_Rarely",
          "Travel_Rarely",
          "Travel_Frequently",
          "Non-Travel",
          "Non-Travel",
          "Travel_Rarely",
          "Travel_Rarely",
          "Travel_Rarely",
          "Travel_Frequently",
          "Travel_Frequently",
          "Travel_Rarely",
          "Non-Travel",
          "Travel_Rarely",
          "Travel_Rarely",
          "Travel_Frequently",
          "Travel_Rarely",
          "Travel_Rarely",
          "Travel_Frequently",
          "Non-Travel",
          "Travel_Rarely",
          "Travel_Rarely",
          "Travel_Rarely",
          "Travel_Rarely",
          "Travel_Rarely",
          "Travel_Rarely",
          "Travel_Rarely",
          "Travel_Rarely",
          "Travel_Rarely",
          "Travel_Rarely",
          "Travel_Rarely",
          "Travel_Rarely",
          "Travel_Rarely",
          "Travel_Rarely",
          "Travel_Frequently",
          "Non-Travel",
          "Travel_Rarely",
          "Travel_Rarely",
          "Non-Travel",
          "Travel_Frequently",
          "Non-Travel",
          "Travel_Rarely",
          "Non-Travel",
          "Travel_Rarely",
          "Travel_Rarely",
          "Travel_Rarely",
          "Travel_Frequently",
          "Travel_Rarely",
          "Travel_Rarely",
          "Travel_Frequently",
          "Travel_Rarely",
          "Travel_Rarely",
          "Travel_Rarely",
          "Travel_Frequently",
          "Travel_Rarely",
          "Travel_Rarely",
          "Travel_Frequently",
          "Travel_Rarely",
          "Non-Travel",
          "Travel_Rarely",
          "Travel_Rarely",
          "Travel_Rarely",
          "Travel_Rarely",
          "Travel_Rarely",
          "Travel_Rarely",
          "Travel_Rarely",
          "Non-Travel",
          "Travel_Frequently",
          "Travel_Rarely",
          "Travel_Rarely",
          "Travel_Rarely",
          "Travel_Frequently",
          "Travel_Rarely",
          "Travel_Rarely",
          "Travel_Frequently",
          "Non-Travel",
          "Non-Travel",
          "Non-Travel",
          "Travel_Rarely",
          "Travel_Rarely",
          "Travel_Rarely",
          "Travel_Rarely",
          "Travel_Rarely",
          "Travel_Rarely",
          "Travel_Frequently",
          "Travel_Rarely",
          "Travel_Rarely",
          "Non-Travel",
          "Non-Travel",
          "Travel_Frequently",
          "Travel_Rarely",
          "Travel_Frequently",
          "Travel_Rarely",
          "Travel_Frequently",
          "Travel_Frequently",
          "Travel_Rarely",
          "Travel_Rarely",
          "Travel_Rarely",
          "Travel_Frequently",
          "Travel_Rarely",
          "Travel_Rarely",
          "Travel_Rarely",
          "Travel_Rarely",
          "Travel_Rarely",
          "Travel_Frequently",
          "Travel_Rarely",
          "Travel_Rarely",
          "Travel_Rarely",
          "Travel_Rarely",
          "Travel_Rarely",
          "Travel_Frequently",
          "Travel_Rarely",
          "Travel_Frequently",
          "Travel_Frequently",
          "Non-Travel",
          "Travel_Rarely",
          "Travel_Rarely",
          "Travel_Rarely",
          "Travel_Rarely",
          "Travel_Rarely",
          "Travel_Rarely",
          "Travel_Rarely",
          "Travel_Rarely",
          "Travel_Rarely",
          "Non-Travel",
          "Travel_Rarely",
          "Travel_Rarely",
          "Travel_Frequently",
          "Travel_Frequently",
          "Travel_Rarely",
          "Travel_Rarely",
          "Travel_Rarely",
          "Travel_Frequently",
          "Travel_Rarely",
          "Travel_Rarely",
          "Travel_Rarely",
          "Travel_Rarely",
          "Travel_Rarely",
          "Non-Travel",
          "Travel_Rarely",
          "Travel_Frequently",
          "Travel_Frequently",
          "Travel_Rarely",
          "Travel_Rarely",
          "Travel_Rarely",
          "Travel_Rarely",
          "Travel_Rarely",
          "Travel_Frequently",
          "Non-Travel",
          "Travel_Rarely",
          "Travel_Frequently",
          "Travel_Rarely",
          "Travel_Rarely",
          "Travel_Rarely",
          "Travel_Rarely",
          "Travel_Rarely",
          "Travel_Rarely",
          "Travel_Rarely",
          "Travel_Rarely",
          "Travel_Frequently",
          "Travel_Rarely",
          "Travel_Rarely",
          "Travel_Rarely",
          "Travel_Rarely",
          "Travel_Rarely",
          "Travel_Rarely",
          "Travel_Rarely",
          "Travel_Rarely",
          "Travel_Rarely",
          "Travel_Rarely",
          "Travel_Rarely",
          "Non-Travel",
          "Travel_Rarely",
          "Travel_Rarely",
          "Travel_Frequently",
          "Travel_Rarely",
          "Travel_Frequently",
          "Travel_Frequently",
          "Travel_Rarely",
          "Travel_Frequently",
          "Travel_Rarely",
          "Travel_Rarely",
          "Travel_Rarely",
          "Travel_Rarely",
          "Travel_Frequently",
          "Travel_Frequently",
          "Non-Travel",
          "Travel_Rarely",
          "Travel_Rarely",
          "Travel_Rarely",
          "Travel_Frequently",
          "Travel_Rarely",
          "Travel_Rarely",
          "Travel_Rarely",
          "Travel_Rarely",
          "Travel_Rarely",
          "Non-Travel",
          "Travel_Rarely",
          "Travel_Rarely",
          "Travel_Rarely",
          "Non-Travel",
          "Non-Travel",
          "Non-Travel",
          "Travel_Rarely",
          "Travel_Rarely",
          "Non-Travel",
          "Travel_Rarely",
          "Travel_Rarely",
          "Travel_Frequently",
          "Travel_Frequently",
          "Travel_Rarely",
          "Travel_Rarely",
          "Travel_Rarely",
          "Travel_Rarely",
          "Travel_Rarely",
          "Travel_Frequently",
          "Travel_Rarely",
          "Travel_Rarely",
          "Travel_Rarely",
          "Non-Travel",
          "Travel_Rarely",
          "Travel_Frequently",
          "Travel_Rarely",
          "Non-Travel",
          "Travel_Rarely",
          "Travel_Rarely",
          "Travel_Frequently",
          "Travel_Rarely",
          "Travel_Rarely",
          "Travel_Rarely",
          "Travel_Frequently",
          "Travel_Frequently",
          "Travel_Rarely",
          "Travel_Frequently",
          "Travel_Rarely",
          "Non-Travel",
          "Travel_Rarely",
          "Travel_Frequently",
          "Travel_Rarely",
          "Travel_Rarely",
          "Travel_Rarely",
          "Travel_Rarely",
          "Travel_Rarely",
          "Travel_Rarely",
          "Travel_Frequently",
          "Travel_Rarely",
          "Travel_Rarely",
          "Travel_Rarely",
          "Travel_Rarely",
          "Travel_Rarely",
          "Travel_Rarely",
          "Travel_Rarely",
          "Travel_Rarely",
          "Travel_Rarely",
          "Travel_Frequently",
          "Travel_Rarely",
          "Travel_Rarely",
          "Travel_Rarely",
          "Travel_Rarely",
          "Non-Travel",
          "Travel_Rarely",
          "Travel_Rarely",
          "Travel_Rarely",
          "Travel_Rarely",
          "Travel_Rarely",
          "Travel_Rarely",
          "Non-Travel",
          "Travel_Rarely",
          "Travel_Rarely",
          "Travel_Rarely",
          "Travel_Rarely",
          "Travel_Rarely",
          "Non-Travel",
          "Travel_Rarely",
          "Non-Travel",
          "Travel_Rarely",
          "Travel_Rarely",
          "Travel_Rarely",
          "Travel_Rarely",
          "Travel_Frequently",
          "Travel_Rarely",
          "Travel_Rarely",
          "Travel_Frequently",
          "Travel_Frequently",
          "Non-Travel",
          "Travel_Rarely",
          "Travel_Rarely",
          "Travel_Frequently",
          "Travel_Rarely",
          "Non-Travel",
          "Travel_Frequently",
          "Travel_Rarely",
          "Travel_Rarely",
          "Travel_Rarely",
          "Travel_Rarely",
          "Travel_Rarely",
          "Travel_Rarely",
          "Travel_Frequently",
          "Travel_Rarely",
          "Travel_Frequently",
          "Travel_Rarely",
          "Travel_Rarely",
          "Travel_Rarely",
          "Travel_Frequently",
          "Travel_Rarely",
          "Travel_Rarely",
          "Travel_Rarely",
          "Travel_Rarely",
          "Travel_Rarely",
          "Travel_Rarely",
          "Travel_Frequently",
          "Travel_Rarely",
          "Travel_Rarely",
          "Travel_Rarely",
          "Travel_Rarely",
          "Travel_Rarely",
          "Travel_Rarely",
          "Travel_Frequently",
          "Travel_Rarely",
          "Travel_Rarely",
          "Travel_Rarely",
          "Travel_Rarely",
          "Non-Travel",
          "Travel_Rarely",
          "Travel_Rarely",
          "Travel_Rarely",
          "Travel_Rarely",
          "Travel_Rarely",
          "Travel_Rarely",
          "Travel_Rarely",
          "Travel_Frequently",
          "Travel_Rarely",
          "Travel_Rarely",
          "Non-Travel",
          "Travel_Rarely",
          "Travel_Rarely",
          "Travel_Rarely",
          "Travel_Rarely",
          "Travel_Rarely",
          "Travel_Rarely",
          "Travel_Rarely",
          "Travel_Rarely",
          "Travel_Rarely",
          "Travel_Rarely",
          "Travel_Rarely",
          "Travel_Frequently",
          "Travel_Rarely",
          "Travel_Rarely",
          "Travel_Frequently",
          "Travel_Rarely",
          "Travel_Rarely",
          "Travel_Frequently",
          "Travel_Rarely",
          "Travel_Rarely",
          "Travel_Rarely",
          "Travel_Rarely",
          "Non-Travel",
          "Travel_Frequently",
          "Travel_Rarely",
          "Travel_Rarely",
          "Travel_Rarely",
          "Travel_Rarely",
          "Non-Travel",
          "Travel_Frequently",
          "Travel_Rarely",
          "Travel_Frequently",
          "Travel_Rarely",
          "Travel_Rarely",
          "Travel_Rarely",
          "Travel_Rarely",
          "Travel_Rarely",
          "Travel_Rarely",
          "Travel_Rarely",
          "Travel_Rarely",
          "Travel_Rarely",
          "Non-Travel",
          "Travel_Rarely",
          "Travel_Frequently",
          "Travel_Rarely",
          "Travel_Rarely",
          "Travel_Rarely",
          "Travel_Rarely",
          "Travel_Frequently",
          "Travel_Frequently",
          "Travel_Frequently",
          "Travel_Rarely",
          "Travel_Frequently",
          "Travel_Rarely",
          "Travel_Rarely",
          "Travel_Frequently",
          "Travel_Rarely",
          "Travel_Rarely",
          "Travel_Rarely",
          "Travel_Rarely",
          "Travel_Rarely",
          "Travel_Rarely",
          "Travel_Rarely",
          "Non-Travel",
          "Travel_Rarely",
          "Travel_Rarely",
          "Travel_Rarely",
          "Travel_Frequently",
          "Travel_Rarely",
          "Travel_Rarely",
          "Travel_Rarely",
          "Travel_Rarely",
          "Travel_Rarely",
          "Travel_Frequently",
          "Travel_Rarely",
          "Travel_Rarely",
          "Travel_Rarely",
          "Travel_Rarely",
          "Non-Travel",
          "Travel_Rarely",
          "Travel_Rarely",
          "Travel_Rarely",
          "Travel_Rarely",
          "Non-Travel",
          "Travel_Rarely",
          "Travel_Rarely",
          "Travel_Rarely",
          "Travel_Rarely",
          "Travel_Frequently",
          "Travel_Rarely",
          "Travel_Rarely",
          "Travel_Frequently",
          "Travel_Rarely",
          "Travel_Rarely",
          "Travel_Rarely",
          "Travel_Rarely",
          "Travel_Rarely",
          "Non-Travel",
          "Travel_Rarely",
          "Travel_Rarely",
          "Travel_Frequently",
          "Travel_Rarely",
          "Non-Travel",
          "Travel_Rarely",
          "Travel_Rarely",
          "Travel_Rarely",
          "Travel_Rarely",
          "Travel_Rarely",
          "Non-Travel",
          "Travel_Rarely",
          "Travel_Rarely",
          "Travel_Frequently",
          "Non-Travel",
          "Travel_Rarely",
          "Travel_Rarely",
          "Travel_Rarely",
          "Travel_Frequently",
          "Travel_Frequently",
          "Travel_Rarely",
          "Travel_Rarely",
          "Travel_Frequently",
          "Travel_Rarely",
          "Travel_Rarely",
          "Non-Travel",
          "Travel_Rarely",
          "Travel_Frequently",
          "Travel_Rarely",
          "Travel_Rarely",
          "Non-Travel",
          "Travel_Rarely",
          "Travel_Rarely",
          "Travel_Rarely",
          "Non-Travel",
          "Travel_Rarely",
          "Non-Travel",
          "Non-Travel",
          "Travel_Rarely",
          "Travel_Rarely",
          "Travel_Rarely",
          "Travel_Rarely",
          "Travel_Rarely",
          "Travel_Rarely",
          "Travel_Rarely",
          "Travel_Rarely",
          "Travel_Rarely",
          "Travel_Rarely",
          "Travel_Rarely",
          "Travel_Rarely",
          "Non-Travel",
          "Travel_Rarely",
          "Travel_Rarely",
          "Non-Travel",
          "Non-Travel",
          "Travel_Frequently",
          "Non-Travel",
          "Travel_Rarely",
          "Travel_Rarely",
          "Travel_Rarely",
          "Travel_Rarely",
          "Travel_Rarely",
          "Non-Travel",
          "Travel_Rarely",
          "Travel_Rarely",
          "Travel_Rarely",
          "Travel_Rarely",
          "Travel_Frequently",
          "Travel_Rarely",
          "Travel_Rarely",
          "Travel_Rarely",
          "Travel_Frequently",
          "Non-Travel",
          "Non-Travel",
          "Travel_Rarely",
          "Travel_Frequently",
          "Travel_Frequently",
          "Travel_Frequently",
          "Travel_Frequently",
          "Non-Travel",
          "Travel_Rarely",
          "Travel_Rarely",
          "Non-Travel",
          "Travel_Rarely",
          "Travel_Rarely",
          "Travel_Rarely",
          "Travel_Rarely",
          "Travel_Rarely",
          "Travel_Rarely",
          "Travel_Rarely",
          "Travel_Frequently",
          "Travel_Rarely",
          "Travel_Rarely",
          "Travel_Rarely",
          "Travel_Rarely",
          "Travel_Rarely",
          "Travel_Rarely",
          "Travel_Rarely",
          "Travel_Rarely",
          "Travel_Rarely",
          "Travel_Rarely",
          "Travel_Frequently",
          "Travel_Rarely",
          "Travel_Rarely",
          "Travel_Rarely",
          "Travel_Frequently",
          "Travel_Rarely",
          "Travel_Rarely",
          "Travel_Rarely",
          "Travel_Rarely",
          "Travel_Rarely",
          "Travel_Rarely",
          "Travel_Rarely",
          "Travel_Frequently",
          "Travel_Frequently",
          "Travel_Rarely",
          "Travel_Frequently",
          "Non-Travel",
          "Travel_Rarely",
          "Travel_Frequently",
          "Non-Travel",
          "Travel_Rarely",
          "Travel_Rarely",
          "Travel_Frequently",
          "Travel_Rarely",
          "Travel_Rarely",
          "Travel_Frequently",
          "Travel_Rarely",
          "Travel_Rarely",
          "Non-Travel",
          "Non-Travel",
          "Non-Travel",
          "Travel_Rarely",
          "Travel_Rarely",
          "Travel_Rarely",
          "Travel_Rarely",
          "Non-Travel",
          "Travel_Frequently",
          "Travel_Rarely",
          "Travel_Rarely",
          "Travel_Rarely",
          "Travel_Rarely",
          "Travel_Rarely",
          "Travel_Frequently",
          "Travel_Rarely",
          "Travel_Frequently",
          "Travel_Rarely",
          "Travel_Rarely",
          "Travel_Rarely",
          "Non-Travel",
          "Non-Travel",
          "Travel_Rarely",
          "Travel_Rarely",
          "Travel_Rarely",
          "Travel_Frequently",
          "Travel_Rarely",
          "Travel_Rarely",
          "Travel_Rarely",
          "Travel_Rarely",
          "Travel_Rarely",
          "Non-Travel",
          "Travel_Rarely",
          "Travel_Rarely",
          "Travel_Frequently",
          "Travel_Rarely",
          "Travel_Rarely",
          "Non-Travel",
          "Travel_Rarely",
          "Travel_Rarely",
          "Travel_Rarely",
          "Travel_Rarely",
          "Travel_Rarely",
          "Travel_Rarely",
          "Travel_Rarely",
          "Travel_Rarely",
          "Travel_Rarely",
          "Travel_Rarely",
          "Travel_Rarely",
          "Travel_Rarely",
          "Non-Travel",
          "Travel_Rarely",
          "Travel_Rarely",
          "Non-Travel",
          "Travel_Rarely",
          "Travel_Frequently",
          "Non-Travel",
          "Travel_Rarely",
          "Travel_Rarely",
          "Travel_Rarely",
          "Non-Travel",
          "Travel_Rarely",
          "Travel_Rarely",
          "Travel_Rarely",
          "Travel_Rarely",
          "Travel_Rarely",
          "Travel_Rarely",
          "Travel_Rarely",
          "Travel_Frequently",
          "Travel_Rarely",
          "Travel_Rarely",
          "Travel_Rarely",
          "Travel_Rarely",
          "Travel_Rarely",
          "Non-Travel",
          "Travel_Rarely",
          "Travel_Frequently",
          "Travel_Rarely",
          "Travel_Rarely",
          "Travel_Frequently",
          "Travel_Rarely"
         ],
         "xaxis": "x",
         "yaxis": "y"
        }
       ],
       "layout": {
        "barmode": "group",
        "legend": {
         "title": {
          "text": "Attrition"
         },
         "tracegroupgap": 0
        },
        "template": {
         "data": {
          "bar": [
           {
            "error_x": {
             "color": "rgb(36,36,36)"
            },
            "error_y": {
             "color": "rgb(36,36,36)"
            },
            "marker": {
             "line": {
              "color": "white",
              "width": 0.5
             },
             "pattern": {
              "fillmode": "overlay",
              "size": 10,
              "solidity": 0.2
             }
            },
            "type": "bar"
           }
          ],
          "barpolar": [
           {
            "marker": {
             "line": {
              "color": "white",
              "width": 0.5
             },
             "pattern": {
              "fillmode": "overlay",
              "size": 10,
              "solidity": 0.2
             }
            },
            "type": "barpolar"
           }
          ],
          "carpet": [
           {
            "aaxis": {
             "endlinecolor": "rgb(36,36,36)",
             "gridcolor": "white",
             "linecolor": "white",
             "minorgridcolor": "white",
             "startlinecolor": "rgb(36,36,36)"
            },
            "baxis": {
             "endlinecolor": "rgb(36,36,36)",
             "gridcolor": "white",
             "linecolor": "white",
             "minorgridcolor": "white",
             "startlinecolor": "rgb(36,36,36)"
            },
            "type": "carpet"
           }
          ],
          "choropleth": [
           {
            "colorbar": {
             "outlinewidth": 1,
             "tickcolor": "rgb(36,36,36)",
             "ticks": "outside"
            },
            "type": "choropleth"
           }
          ],
          "contour": [
           {
            "colorbar": {
             "outlinewidth": 1,
             "tickcolor": "rgb(36,36,36)",
             "ticks": "outside"
            },
            "colorscale": [
             [
              0,
              "#440154"
             ],
             [
              0.1111111111111111,
              "#482878"
             ],
             [
              0.2222222222222222,
              "#3e4989"
             ],
             [
              0.3333333333333333,
              "#31688e"
             ],
             [
              0.4444444444444444,
              "#26828e"
             ],
             [
              0.5555555555555556,
              "#1f9e89"
             ],
             [
              0.6666666666666666,
              "#35b779"
             ],
             [
              0.7777777777777778,
              "#6ece58"
             ],
             [
              0.8888888888888888,
              "#b5de2b"
             ],
             [
              1,
              "#fde725"
             ]
            ],
            "type": "contour"
           }
          ],
          "contourcarpet": [
           {
            "colorbar": {
             "outlinewidth": 1,
             "tickcolor": "rgb(36,36,36)",
             "ticks": "outside"
            },
            "type": "contourcarpet"
           }
          ],
          "heatmap": [
           {
            "colorbar": {
             "outlinewidth": 1,
             "tickcolor": "rgb(36,36,36)",
             "ticks": "outside"
            },
            "colorscale": [
             [
              0,
              "#440154"
             ],
             [
              0.1111111111111111,
              "#482878"
             ],
             [
              0.2222222222222222,
              "#3e4989"
             ],
             [
              0.3333333333333333,
              "#31688e"
             ],
             [
              0.4444444444444444,
              "#26828e"
             ],
             [
              0.5555555555555556,
              "#1f9e89"
             ],
             [
              0.6666666666666666,
              "#35b779"
             ],
             [
              0.7777777777777778,
              "#6ece58"
             ],
             [
              0.8888888888888888,
              "#b5de2b"
             ],
             [
              1,
              "#fde725"
             ]
            ],
            "type": "heatmap"
           }
          ],
          "heatmapgl": [
           {
            "colorbar": {
             "outlinewidth": 1,
             "tickcolor": "rgb(36,36,36)",
             "ticks": "outside"
            },
            "colorscale": [
             [
              0,
              "#440154"
             ],
             [
              0.1111111111111111,
              "#482878"
             ],
             [
              0.2222222222222222,
              "#3e4989"
             ],
             [
              0.3333333333333333,
              "#31688e"
             ],
             [
              0.4444444444444444,
              "#26828e"
             ],
             [
              0.5555555555555556,
              "#1f9e89"
             ],
             [
              0.6666666666666666,
              "#35b779"
             ],
             [
              0.7777777777777778,
              "#6ece58"
             ],
             [
              0.8888888888888888,
              "#b5de2b"
             ],
             [
              1,
              "#fde725"
             ]
            ],
            "type": "heatmapgl"
           }
          ],
          "histogram": [
           {
            "marker": {
             "line": {
              "color": "white",
              "width": 0.6
             }
            },
            "type": "histogram"
           }
          ],
          "histogram2d": [
           {
            "colorbar": {
             "outlinewidth": 1,
             "tickcolor": "rgb(36,36,36)",
             "ticks": "outside"
            },
            "colorscale": [
             [
              0,
              "#440154"
             ],
             [
              0.1111111111111111,
              "#482878"
             ],
             [
              0.2222222222222222,
              "#3e4989"
             ],
             [
              0.3333333333333333,
              "#31688e"
             ],
             [
              0.4444444444444444,
              "#26828e"
             ],
             [
              0.5555555555555556,
              "#1f9e89"
             ],
             [
              0.6666666666666666,
              "#35b779"
             ],
             [
              0.7777777777777778,
              "#6ece58"
             ],
             [
              0.8888888888888888,
              "#b5de2b"
             ],
             [
              1,
              "#fde725"
             ]
            ],
            "type": "histogram2d"
           }
          ],
          "histogram2dcontour": [
           {
            "colorbar": {
             "outlinewidth": 1,
             "tickcolor": "rgb(36,36,36)",
             "ticks": "outside"
            },
            "colorscale": [
             [
              0,
              "#440154"
             ],
             [
              0.1111111111111111,
              "#482878"
             ],
             [
              0.2222222222222222,
              "#3e4989"
             ],
             [
              0.3333333333333333,
              "#31688e"
             ],
             [
              0.4444444444444444,
              "#26828e"
             ],
             [
              0.5555555555555556,
              "#1f9e89"
             ],
             [
              0.6666666666666666,
              "#35b779"
             ],
             [
              0.7777777777777778,
              "#6ece58"
             ],
             [
              0.8888888888888888,
              "#b5de2b"
             ],
             [
              1,
              "#fde725"
             ]
            ],
            "type": "histogram2dcontour"
           }
          ],
          "mesh3d": [
           {
            "colorbar": {
             "outlinewidth": 1,
             "tickcolor": "rgb(36,36,36)",
             "ticks": "outside"
            },
            "type": "mesh3d"
           }
          ],
          "parcoords": [
           {
            "line": {
             "colorbar": {
              "outlinewidth": 1,
              "tickcolor": "rgb(36,36,36)",
              "ticks": "outside"
             }
            },
            "type": "parcoords"
           }
          ],
          "pie": [
           {
            "automargin": true,
            "type": "pie"
           }
          ],
          "scatter": [
           {
            "marker": {
             "colorbar": {
              "outlinewidth": 1,
              "tickcolor": "rgb(36,36,36)",
              "ticks": "outside"
             }
            },
            "type": "scatter"
           }
          ],
          "scatter3d": [
           {
            "line": {
             "colorbar": {
              "outlinewidth": 1,
              "tickcolor": "rgb(36,36,36)",
              "ticks": "outside"
             }
            },
            "marker": {
             "colorbar": {
              "outlinewidth": 1,
              "tickcolor": "rgb(36,36,36)",
              "ticks": "outside"
             }
            },
            "type": "scatter3d"
           }
          ],
          "scattercarpet": [
           {
            "marker": {
             "colorbar": {
              "outlinewidth": 1,
              "tickcolor": "rgb(36,36,36)",
              "ticks": "outside"
             }
            },
            "type": "scattercarpet"
           }
          ],
          "scattergeo": [
           {
            "marker": {
             "colorbar": {
              "outlinewidth": 1,
              "tickcolor": "rgb(36,36,36)",
              "ticks": "outside"
             }
            },
            "type": "scattergeo"
           }
          ],
          "scattergl": [
           {
            "marker": {
             "colorbar": {
              "outlinewidth": 1,
              "tickcolor": "rgb(36,36,36)",
              "ticks": "outside"
             }
            },
            "type": "scattergl"
           }
          ],
          "scattermapbox": [
           {
            "marker": {
             "colorbar": {
              "outlinewidth": 1,
              "tickcolor": "rgb(36,36,36)",
              "ticks": "outside"
             }
            },
            "type": "scattermapbox"
           }
          ],
          "scatterpolar": [
           {
            "marker": {
             "colorbar": {
              "outlinewidth": 1,
              "tickcolor": "rgb(36,36,36)",
              "ticks": "outside"
             }
            },
            "type": "scatterpolar"
           }
          ],
          "scatterpolargl": [
           {
            "marker": {
             "colorbar": {
              "outlinewidth": 1,
              "tickcolor": "rgb(36,36,36)",
              "ticks": "outside"
             }
            },
            "type": "scatterpolargl"
           }
          ],
          "scatterternary": [
           {
            "marker": {
             "colorbar": {
              "outlinewidth": 1,
              "tickcolor": "rgb(36,36,36)",
              "ticks": "outside"
             }
            },
            "type": "scatterternary"
           }
          ],
          "surface": [
           {
            "colorbar": {
             "outlinewidth": 1,
             "tickcolor": "rgb(36,36,36)",
             "ticks": "outside"
            },
            "colorscale": [
             [
              0,
              "#440154"
             ],
             [
              0.1111111111111111,
              "#482878"
             ],
             [
              0.2222222222222222,
              "#3e4989"
             ],
             [
              0.3333333333333333,
              "#31688e"
             ],
             [
              0.4444444444444444,
              "#26828e"
             ],
             [
              0.5555555555555556,
              "#1f9e89"
             ],
             [
              0.6666666666666666,
              "#35b779"
             ],
             [
              0.7777777777777778,
              "#6ece58"
             ],
             [
              0.8888888888888888,
              "#b5de2b"
             ],
             [
              1,
              "#fde725"
             ]
            ],
            "type": "surface"
           }
          ],
          "table": [
           {
            "cells": {
             "fill": {
              "color": "rgb(237,237,237)"
             },
             "line": {
              "color": "white"
             }
            },
            "header": {
             "fill": {
              "color": "rgb(217,217,217)"
             },
             "line": {
              "color": "white"
             }
            },
            "type": "table"
           }
          ]
         },
         "layout": {
          "annotationdefaults": {
           "arrowhead": 0,
           "arrowwidth": 1
          },
          "autotypenumbers": "strict",
          "coloraxis": {
           "colorbar": {
            "outlinewidth": 1,
            "tickcolor": "rgb(36,36,36)",
            "ticks": "outside"
           }
          },
          "colorscale": {
           "diverging": [
            [
             0,
             "rgb(103,0,31)"
            ],
            [
             0.1,
             "rgb(178,24,43)"
            ],
            [
             0.2,
             "rgb(214,96,77)"
            ],
            [
             0.3,
             "rgb(244,165,130)"
            ],
            [
             0.4,
             "rgb(253,219,199)"
            ],
            [
             0.5,
             "rgb(247,247,247)"
            ],
            [
             0.6,
             "rgb(209,229,240)"
            ],
            [
             0.7,
             "rgb(146,197,222)"
            ],
            [
             0.8,
             "rgb(67,147,195)"
            ],
            [
             0.9,
             "rgb(33,102,172)"
            ],
            [
             1,
             "rgb(5,48,97)"
            ]
           ],
           "sequential": [
            [
             0,
             "#440154"
            ],
            [
             0.1111111111111111,
             "#482878"
            ],
            [
             0.2222222222222222,
             "#3e4989"
            ],
            [
             0.3333333333333333,
             "#31688e"
            ],
            [
             0.4444444444444444,
             "#26828e"
            ],
            [
             0.5555555555555556,
             "#1f9e89"
            ],
            [
             0.6666666666666666,
             "#35b779"
            ],
            [
             0.7777777777777778,
             "#6ece58"
            ],
            [
             0.8888888888888888,
             "#b5de2b"
            ],
            [
             1,
             "#fde725"
            ]
           ],
           "sequentialminus": [
            [
             0,
             "#440154"
            ],
            [
             0.1111111111111111,
             "#482878"
            ],
            [
             0.2222222222222222,
             "#3e4989"
            ],
            [
             0.3333333333333333,
             "#31688e"
            ],
            [
             0.4444444444444444,
             "#26828e"
            ],
            [
             0.5555555555555556,
             "#1f9e89"
            ],
            [
             0.6666666666666666,
             "#35b779"
            ],
            [
             0.7777777777777778,
             "#6ece58"
            ],
            [
             0.8888888888888888,
             "#b5de2b"
            ],
            [
             1,
             "#fde725"
            ]
           ]
          },
          "colorway": [
           "#1F77B4",
           "#FF7F0E",
           "#2CA02C",
           "#D62728",
           "#9467BD",
           "#8C564B",
           "#E377C2",
           "#7F7F7F",
           "#BCBD22",
           "#17BECF"
          ],
          "font": {
           "color": "rgb(36,36,36)"
          },
          "geo": {
           "bgcolor": "white",
           "lakecolor": "white",
           "landcolor": "white",
           "showlakes": true,
           "showland": true,
           "subunitcolor": "white"
          },
          "hoverlabel": {
           "align": "left"
          },
          "hovermode": "closest",
          "mapbox": {
           "style": "light"
          },
          "paper_bgcolor": "white",
          "plot_bgcolor": "white",
          "polar": {
           "angularaxis": {
            "gridcolor": "rgb(232,232,232)",
            "linecolor": "rgb(36,36,36)",
            "showgrid": false,
            "showline": true,
            "ticks": "outside"
           },
           "bgcolor": "white",
           "radialaxis": {
            "gridcolor": "rgb(232,232,232)",
            "linecolor": "rgb(36,36,36)",
            "showgrid": false,
            "showline": true,
            "ticks": "outside"
           }
          },
          "scene": {
           "xaxis": {
            "backgroundcolor": "white",
            "gridcolor": "rgb(232,232,232)",
            "gridwidth": 2,
            "linecolor": "rgb(36,36,36)",
            "showbackground": true,
            "showgrid": false,
            "showline": true,
            "ticks": "outside",
            "zeroline": false,
            "zerolinecolor": "rgb(36,36,36)"
           },
           "yaxis": {
            "backgroundcolor": "white",
            "gridcolor": "rgb(232,232,232)",
            "gridwidth": 2,
            "linecolor": "rgb(36,36,36)",
            "showbackground": true,
            "showgrid": false,
            "showline": true,
            "ticks": "outside",
            "zeroline": false,
            "zerolinecolor": "rgb(36,36,36)"
           },
           "zaxis": {
            "backgroundcolor": "white",
            "gridcolor": "rgb(232,232,232)",
            "gridwidth": 2,
            "linecolor": "rgb(36,36,36)",
            "showbackground": true,
            "showgrid": false,
            "showline": true,
            "ticks": "outside",
            "zeroline": false,
            "zerolinecolor": "rgb(36,36,36)"
           }
          },
          "shapedefaults": {
           "fillcolor": "black",
           "line": {
            "width": 0
           },
           "opacity": 0.3
          },
          "ternary": {
           "aaxis": {
            "gridcolor": "rgb(232,232,232)",
            "linecolor": "rgb(36,36,36)",
            "showgrid": false,
            "showline": true,
            "ticks": "outside"
           },
           "baxis": {
            "gridcolor": "rgb(232,232,232)",
            "linecolor": "rgb(36,36,36)",
            "showgrid": false,
            "showline": true,
            "ticks": "outside"
           },
           "bgcolor": "white",
           "caxis": {
            "gridcolor": "rgb(232,232,232)",
            "linecolor": "rgb(36,36,36)",
            "showgrid": false,
            "showline": true,
            "ticks": "outside"
           }
          },
          "title": {
           "x": 0.05
          },
          "xaxis": {
           "automargin": true,
           "gridcolor": "rgb(232,232,232)",
           "linecolor": "rgb(36,36,36)",
           "showgrid": false,
           "showline": true,
           "ticks": "outside",
           "title": {
            "standoff": 15
           },
           "zeroline": false,
           "zerolinecolor": "rgb(36,36,36)"
          },
          "yaxis": {
           "automargin": true,
           "gridcolor": "rgb(232,232,232)",
           "linecolor": "rgb(36,36,36)",
           "showgrid": false,
           "showline": true,
           "ticks": "outside",
           "title": {
            "standoff": 15
           },
           "zeroline": false,
           "zerolinecolor": "rgb(36,36,36)"
          }
         }
        },
        "title": {
         "text": "Level of Business Travel where Attrition is True"
        },
        "xaxis": {
         "anchor": "y",
         "domain": [
          0,
          1
         ],
         "title": {
          "text": "BusinessTravel"
         }
        },
        "yaxis": {
         "anchor": "x",
         "domain": [
          0,
          1
         ],
         "title": {
          "text": "count"
         }
        }
       }
      }
     },
     "metadata": {}
    }
   ],
   "metadata": {}
  },
  {
   "cell_type": "code",
   "execution_count": 41,
   "source": [
    "# Job Role and attrition\r\n",
    "fig = px.histogram(column_feature_top10, x='JobRole', color='Attrition', barmode='group', title='Headcount by Department Split by Attrition Status')\r\n",
    "fig.show()"
   ],
   "outputs": [
    {
     "output_type": "display_data",
     "data": {
      "application/vnd.plotly.v1+json": {
       "config": {
        "plotlyServerURL": "https://plot.ly"
       },
       "data": [
        {
         "alignmentgroup": "True",
         "bingroup": "x",
         "hovertemplate": "Attrition=Yes<br>JobRole=%{x}<br>count=%{y}<extra></extra>",
         "legendgroup": "Yes",
         "marker": {
          "color": "#1F77B4",
          "pattern": {
           "shape": ""
          }
         },
         "name": "Yes",
         "offsetgroup": "Yes",
         "orientation": "v",
         "showlegend": true,
         "type": "histogram",
         "x": [
          "Sales Executive",
          "Laboratory Technician",
          "Laboratory Technician",
          "Sales Representative",
          "Research Scientist",
          "Research Scientist",
          "Sales Representative",
          "Research Scientist",
          "Sales Representative",
          "Laboratory Technician",
          "Research Director",
          "Laboratory Technician",
          "Laboratory Technician",
          "Research Scientist",
          "Sales Executive",
          "Human Resources",
          "Laboratory Technician",
          "Sales Executive",
          "Laboratory Technician",
          "Research Scientist",
          "Sales Executive",
          "Healthcare Representative",
          "Sales Representative",
          "Sales Executive",
          "Manufacturing Director",
          "Laboratory Technician",
          "Sales Representative",
          "Laboratory Technician",
          "Sales Representative",
          "Manufacturing Director",
          "Healthcare Representative",
          "Sales Executive",
          "Sales Executive",
          "Research Scientist",
          "Sales Executive",
          "Research Scientist",
          "Research Scientist",
          "Laboratory Technician",
          "Laboratory Technician",
          "Laboratory Technician",
          "Manufacturing Director",
          "Laboratory Technician",
          "Laboratory Technician",
          "Manager",
          "Laboratory Technician",
          "Laboratory Technician",
          "Sales Executive",
          "Laboratory Technician",
          "Research Scientist",
          "Research Scientist",
          "Sales Executive",
          "Laboratory Technician",
          "Sales Representative",
          "Sales Representative",
          "Sales Executive",
          "Sales Executive",
          "Sales Representative",
          "Sales Executive",
          "Research Scientist",
          "Research Scientist",
          "Laboratory Technician",
          "Sales Representative",
          "Sales Representative",
          "Research Scientist",
          "Human Resources",
          "Manager",
          "Laboratory Technician",
          "Healthcare Representative",
          "Human Resources",
          "Laboratory Technician",
          "Human Resources",
          "Sales Representative",
          "Laboratory Technician",
          "Sales Executive",
          "Laboratory Technician",
          "Sales Representative",
          "Sales Executive",
          "Sales Representative",
          "Sales Executive",
          "Research Scientist",
          "Research Scientist",
          "Sales Executive",
          "Sales Executive",
          "Research Scientist",
          "Research Scientist",
          "Research Scientist",
          "Sales Executive",
          "Manager",
          "Sales Executive",
          "Laboratory Technician",
          "Laboratory Technician",
          "Sales Executive",
          "Research Director",
          "Research Scientist",
          "Sales Executive",
          "Sales Executive",
          "Research Scientist",
          "Research Scientist",
          "Sales Representative",
          "Laboratory Technician",
          "Laboratory Technician",
          "Sales Representative",
          "Research Scientist",
          "Manufacturing Director",
          "Laboratory Technician",
          "Laboratory Technician",
          "Sales Representative",
          "Sales Representative",
          "Laboratory Technician",
          "Sales Executive",
          "Sales Executive",
          "Research Scientist",
          "Sales Executive",
          "Research Scientist",
          "Research Scientist",
          "Research Scientist",
          "Laboratory Technician",
          "Research Scientist",
          "Laboratory Technician",
          "Healthcare Representative",
          "Sales Executive",
          "Manager",
          "Laboratory Technician",
          "Laboratory Technician",
          "Research Scientist",
          "Sales Representative",
          "Laboratory Technician",
          "Research Scientist",
          "Healthcare Representative",
          "Human Resources",
          "Sales Executive",
          "Research Scientist",
          "Laboratory Technician",
          "Laboratory Technician",
          "Research Scientist",
          "Laboratory Technician",
          "Sales Executive",
          "Healthcare Representative",
          "Laboratory Technician",
          "Sales Executive",
          "Laboratory Technician",
          "Sales Executive",
          "Sales Executive",
          "Laboratory Technician",
          "Sales Executive",
          "Research Scientist",
          "Research Scientist",
          "Research Scientist",
          "Laboratory Technician",
          "Research Scientist",
          "Sales Representative",
          "Manager",
          "Laboratory Technician",
          "Healthcare Representative",
          "Laboratory Technician",
          "Laboratory Technician",
          "Research Scientist",
          "Sales Executive",
          "Sales Executive",
          "Sales Representative",
          "Laboratory Technician",
          "Manufacturing Director",
          "Sales Executive",
          "Sales Representative",
          "Sales Executive",
          "Manufacturing Director",
          "Research Scientist",
          "Laboratory Technician",
          "Healthcare Representative",
          "Sales Representative",
          "Research Scientist",
          "Sales Representative",
          "Sales Executive",
          "Laboratory Technician",
          "Manufacturing Director",
          "Laboratory Technician",
          "Human Resources",
          "Sales Representative",
          "Sales Executive",
          "Sales Executive",
          "Laboratory Technician",
          "Laboratory Technician",
          "Research Scientist",
          "Laboratory Technician",
          "Research Scientist",
          "Sales Executive",
          "Laboratory Technician",
          "Manufacturing Director",
          "Manufacturing Director",
          "Laboratory Technician",
          "Sales Representative",
          "Sales Executive",
          "Sales Executive",
          "Laboratory Technician",
          "Sales Executive",
          "Laboratory Technician",
          "Sales Representative",
          "Laboratory Technician",
          "Sales Representative",
          "Human Resources",
          "Sales Executive",
          "Sales Executive",
          "Sales Executive",
          "Human Resources",
          "Sales Representative",
          "Sales Executive",
          "Sales Executive",
          "Research Scientist",
          "Sales Representative",
          "Laboratory Technician",
          "Research Scientist",
          "Sales Executive",
          "Laboratory Technician",
          "Manufacturing Director",
          "Human Resources",
          "Healthcare Representative",
          "Human Resources",
          "Human Resources",
          "Sales Executive",
          "Research Scientist",
          "Sales Executive",
          "Sales Representative",
          "Research Scientist",
          "Research Scientist",
          "Laboratory Technician",
          "Sales Representative",
          "Sales Executive",
          "Research Scientist",
          "Human Resources",
          "Laboratory Technician",
          "Sales Executive",
          "Sales Executive",
          "Sales Representative",
          "Research Scientist",
          "Laboratory Technician",
          "Sales Executive",
          "Sales Executive"
         ],
         "xaxis": "x",
         "yaxis": "y"
        },
        {
         "alignmentgroup": "True",
         "bingroup": "x",
         "hovertemplate": "Attrition=No<br>JobRole=%{x}<br>count=%{y}<extra></extra>",
         "legendgroup": "No",
         "marker": {
          "color": "#FF7F0E",
          "pattern": {
           "shape": ""
          }
         },
         "name": "No",
         "offsetgroup": "No",
         "orientation": "v",
         "showlegend": true,
         "type": "histogram",
         "x": [
          "Research Scientist",
          "Research Scientist",
          "Laboratory Technician",
          "Laboratory Technician",
          "Laboratory Technician",
          "Laboratory Technician",
          "Manufacturing Director",
          "Healthcare Representative",
          "Laboratory Technician",
          "Laboratory Technician",
          "Research Scientist",
          "Laboratory Technician",
          "Manufacturing Director",
          "Research Scientist",
          "Laboratory Technician",
          "Manager",
          "Research Scientist",
          "Manufacturing Director",
          "Research Director",
          "Research Scientist",
          "Manager",
          "Sales Executive",
          "Healthcare Representative",
          "Manager",
          "Laboratory Technician",
          "Healthcare Representative",
          "Laboratory Technician",
          "Research Scientist",
          "Sales Representative",
          "Research Scientist",
          "Sales Executive",
          "Laboratory Technician",
          "Laboratory Technician",
          "Sales Executive",
          "Laboratory Technician",
          "Sales Executive",
          "Research Scientist",
          "Sales Executive",
          "Laboratory Technician",
          "Sales Executive",
          "Healthcare Representative",
          "Sales Executive",
          "Research Director",
          "Sales Executive",
          "Laboratory Technician",
          "Laboratory Technician",
          "Manufacturing Director",
          "Manufacturing Director",
          "Laboratory Technician",
          "Research Director",
          "Sales Executive",
          "Healthcare Representative",
          "Manager",
          "Manufacturing Director",
          "Research Scientist",
          "Research Scientist",
          "Sales Executive",
          "Research Scientist",
          "Research Scientist",
          "Research Scientist",
          "Laboratory Technician",
          "Manufacturing Director",
          "Sales Executive",
          "Research Director",
          "Research Director",
          "Human Resources",
          "Laboratory Technician",
          "Research Scientist",
          "Sales Executive",
          "Research Scientist",
          "Manufacturing Director",
          "Manufacturing Director",
          "Sales Representative",
          "Laboratory Technician",
          "Healthcare Representative",
          "Healthcare Representative",
          "Sales Executive",
          "Sales Executive",
          "Healthcare Representative",
          "Sales Executive",
          "Research Director",
          "Sales Executive",
          "Sales Executive",
          "Sales Executive",
          "Laboratory Technician",
          "Research Scientist",
          "Research Scientist",
          "Healthcare Representative",
          "Manager",
          "Research Director",
          "Research Scientist",
          "Laboratory Technician",
          "Healthcare Representative",
          "Manager",
          "Laboratory Technician",
          "Research Scientist",
          "Sales Executive",
          "Manager",
          "Sales Executive",
          "Laboratory Technician",
          "Manager",
          "Research Scientist",
          "Sales Executive",
          "Research Director",
          "Research Scientist",
          "Laboratory Technician",
          "Manufacturing Director",
          "Research Scientist",
          "Sales Executive",
          "Sales Executive",
          "Human Resources",
          "Manufacturing Director",
          "Sales Executive",
          "Sales Executive",
          "Human Resources",
          "Research Scientist",
          "Research Scientist",
          "Research Scientist",
          "Sales Executive",
          "Research Scientist",
          "Laboratory Technician",
          "Manager",
          "Laboratory Technician",
          "Laboratory Technician",
          "Research Scientist",
          "Sales Executive",
          "Sales Representative",
          "Laboratory Technician",
          "Sales Executive",
          "Manufacturing Director",
          "Manufacturing Director",
          "Research Scientist",
          "Sales Executive",
          "Sales Representative",
          "Research Scientist",
          "Research Scientist",
          "Research Scientist",
          "Healthcare Representative",
          "Research Scientist",
          "Manager",
          "Research Scientist",
          "Sales Executive",
          "Sales Executive",
          "Research Scientist",
          "Research Scientist",
          "Laboratory Technician",
          "Laboratory Technician",
          "Sales Executive",
          "Research Scientist",
          "Research Scientist",
          "Sales Executive",
          "Laboratory Technician",
          "Research Scientist",
          "Research Scientist",
          "Laboratory Technician",
          "Manufacturing Director",
          "Research Scientist",
          "Manager",
          "Research Director",
          "Manufacturing Director",
          "Healthcare Representative",
          "Manager",
          "Research Scientist",
          "Research Scientist",
          "Manager",
          "Research Scientist",
          "Laboratory Technician",
          "Manufacturing Director",
          "Manufacturing Director",
          "Manufacturing Director",
          "Manufacturing Director",
          "Manufacturing Director",
          "Research Scientist",
          "Laboratory Technician",
          "Research Scientist",
          "Laboratory Technician",
          "Healthcare Representative",
          "Healthcare Representative",
          "Manufacturing Director",
          "Sales Executive",
          "Research Director",
          "Manager",
          "Sales Executive",
          "Sales Executive",
          "Laboratory Technician",
          "Research Scientist",
          "Research Director",
          "Sales Executive",
          "Manufacturing Director",
          "Research Scientist",
          "Sales Representative",
          "Sales Executive",
          "Sales Executive",
          "Laboratory Technician",
          "Manager",
          "Human Resources",
          "Manager",
          "Manager",
          "Manager",
          "Sales Representative",
          "Laboratory Technician",
          "Sales Executive",
          "Research Scientist",
          "Research Scientist",
          "Manager",
          "Research Director",
          "Research Scientist",
          "Manufacturing Director",
          "Research Scientist",
          "Manufacturing Director",
          "Healthcare Representative",
          "Research Scientist",
          "Research Scientist",
          "Sales Executive",
          "Manufacturing Director",
          "Laboratory Technician",
          "Research Director",
          "Research Scientist",
          "Laboratory Technician",
          "Sales Executive",
          "Laboratory Technician",
          "Manager",
          "Sales Executive",
          "Healthcare Representative",
          "Healthcare Representative",
          "Healthcare Representative",
          "Laboratory Technician",
          "Manager",
          "Research Scientist",
          "Sales Executive",
          "Research Scientist",
          "Research Director",
          "Manager",
          "Sales Executive",
          "Manufacturing Director",
          "Research Director",
          "Research Director",
          "Sales Executive",
          "Sales Executive",
          "Laboratory Technician",
          "Healthcare Representative",
          "Research Scientist",
          "Healthcare Representative",
          "Research Scientist",
          "Research Director",
          "Research Scientist",
          "Sales Representative",
          "Research Scientist",
          "Sales Executive",
          "Sales Executive",
          "Laboratory Technician",
          "Manufacturing Director",
          "Manager",
          "Sales Representative",
          "Healthcare Representative",
          "Sales Executive",
          "Healthcare Representative",
          "Laboratory Technician",
          "Sales Executive",
          "Research Director",
          "Healthcare Representative",
          "Research Scientist",
          "Human Resources",
          "Laboratory Technician",
          "Research Scientist",
          "Manager",
          "Manager",
          "Laboratory Technician",
          "Healthcare Representative",
          "Research Scientist",
          "Sales Executive",
          "Sales Executive",
          "Sales Executive",
          "Research Scientist",
          "Research Scientist",
          "Manufacturing Director",
          "Manager",
          "Sales Executive",
          "Research Director",
          "Laboratory Technician",
          "Sales Executive",
          "Research Scientist",
          "Healthcare Representative",
          "Research Scientist",
          "Sales Executive",
          "Laboratory Technician",
          "Sales Executive",
          "Sales Executive",
          "Manufacturing Director",
          "Research Director",
          "Manufacturing Director",
          "Sales Executive",
          "Manufacturing Director",
          "Research Scientist",
          "Manufacturing Director",
          "Sales Representative",
          "Research Director",
          "Sales Executive",
          "Human Resources",
          "Laboratory Technician",
          "Manager",
          "Research Scientist",
          "Sales Executive",
          "Sales Executive",
          "Healthcare Representative",
          "Sales Executive",
          "Sales Executive",
          "Healthcare Representative",
          "Laboratory Technician",
          "Sales Representative",
          "Laboratory Technician",
          "Manufacturing Director",
          "Healthcare Representative",
          "Research Scientist",
          "Research Scientist",
          "Healthcare Representative",
          "Laboratory Technician",
          "Sales Executive",
          "Healthcare Representative",
          "Sales Executive",
          "Research Scientist",
          "Manager",
          "Sales Executive",
          "Sales Representative",
          "Research Scientist",
          "Sales Executive",
          "Laboratory Technician",
          "Sales Executive",
          "Laboratory Technician",
          "Manufacturing Director",
          "Research Director",
          "Laboratory Technician",
          "Research Director",
          "Sales Executive",
          "Manufacturing Director",
          "Laboratory Technician",
          "Healthcare Representative",
          "Sales Executive",
          "Research Scientist",
          "Laboratory Technician",
          "Manager",
          "Sales Executive",
          "Sales Executive",
          "Sales Executive",
          "Laboratory Technician",
          "Manufacturing Director",
          "Research Scientist",
          "Manager",
          "Research Scientist",
          "Manufacturing Director",
          "Manager",
          "Manufacturing Director",
          "Healthcare Representative",
          "Laboratory Technician",
          "Manager",
          "Research Scientist",
          "Laboratory Technician",
          "Research Director",
          "Sales Executive",
          "Manager",
          "Manager",
          "Laboratory Technician",
          "Sales Executive",
          "Manufacturing Director",
          "Research Director",
          "Laboratory Technician",
          "Laboratory Technician",
          "Research Scientist",
          "Sales Executive",
          "Manufacturing Director",
          "Sales Representative",
          "Healthcare Representative",
          "Laboratory Technician",
          "Sales Executive",
          "Sales Executive",
          "Manager",
          "Sales Executive",
          "Sales Executive",
          "Manufacturing Director",
          "Laboratory Technician",
          "Sales Executive",
          "Manufacturing Director",
          "Sales Executive",
          "Manufacturing Director",
          "Research Director",
          "Manager",
          "Sales Executive",
          "Healthcare Representative",
          "Sales Executive",
          "Sales Executive",
          "Sales Executive",
          "Manufacturing Director",
          "Healthcare Representative",
          "Manager",
          "Sales Executive",
          "Research Scientist",
          "Sales Representative",
          "Healthcare Representative",
          "Manufacturing Director",
          "Research Director",
          "Research Scientist",
          "Sales Executive",
          "Laboratory Technician",
          "Manager",
          "Sales Representative",
          "Research Scientist",
          "Laboratory Technician",
          "Sales Executive",
          "Research Scientist",
          "Sales Executive",
          "Research Scientist",
          "Healthcare Representative",
          "Research Director",
          "Research Scientist",
          "Laboratory Technician",
          "Manager",
          "Human Resources",
          "Sales Representative",
          "Sales Representative",
          "Manager",
          "Research Scientist",
          "Sales Executive",
          "Research Scientist",
          "Research Scientist",
          "Sales Executive",
          "Research Scientist",
          "Laboratory Technician",
          "Manufacturing Director",
          "Sales Executive",
          "Research Scientist",
          "Healthcare Representative",
          "Human Resources",
          "Manufacturing Director",
          "Research Scientist",
          "Laboratory Technician",
          "Research Scientist",
          "Sales Executive",
          "Sales Executive",
          "Research Scientist",
          "Sales Executive",
          "Sales Executive",
          "Research Scientist",
          "Laboratory Technician",
          "Healthcare Representative",
          "Healthcare Representative",
          "Sales Executive",
          "Healthcare Representative",
          "Manufacturing Director",
          "Research Director",
          "Sales Executive",
          "Sales Executive",
          "Research Director",
          "Manager",
          "Sales Executive",
          "Manufacturing Director",
          "Manager",
          "Sales Representative",
          "Research Director",
          "Manufacturing Director",
          "Laboratory Technician",
          "Sales Executive",
          "Sales Executive",
          "Sales Representative",
          "Sales Executive",
          "Healthcare Representative",
          "Laboratory Technician",
          "Human Resources",
          "Healthcare Representative",
          "Research Scientist",
          "Healthcare Representative",
          "Sales Representative",
          "Laboratory Technician",
          "Healthcare Representative",
          "Laboratory Technician",
          "Research Scientist",
          "Manufacturing Director",
          "Manager",
          "Sales Executive",
          "Sales Representative",
          "Research Scientist",
          "Sales Executive",
          "Sales Executive",
          "Research Scientist",
          "Laboratory Technician",
          "Healthcare Representative",
          "Research Scientist",
          "Manufacturing Director",
          "Sales Executive",
          "Research Scientist",
          "Manufacturing Director",
          "Research Scientist",
          "Sales Representative",
          "Laboratory Technician",
          "Healthcare Representative",
          "Sales Executive",
          "Manager",
          "Laboratory Technician",
          "Laboratory Technician",
          "Research Director",
          "Research Director",
          "Manager",
          "Manufacturing Director",
          "Research Scientist",
          "Research Scientist",
          "Manufacturing Director",
          "Human Resources",
          "Manufacturing Director",
          "Laboratory Technician",
          "Manufacturing Director",
          "Research Scientist",
          "Manufacturing Director",
          "Healthcare Representative",
          "Research Scientist",
          "Research Director",
          "Research Director",
          "Manufacturing Director",
          "Sales Executive",
          "Human Resources",
          "Research Scientist",
          "Manager",
          "Healthcare Representative",
          "Research Scientist",
          "Sales Executive",
          "Research Scientist",
          "Sales Executive",
          "Sales Executive",
          "Research Scientist",
          "Sales Executive",
          "Sales Executive",
          "Research Scientist",
          "Manufacturing Director",
          "Sales Executive",
          "Human Resources",
          "Manufacturing Director",
          "Laboratory Technician",
          "Research Scientist",
          "Human Resources",
          "Sales Executive",
          "Manufacturing Director",
          "Laboratory Technician",
          "Sales Executive",
          "Research Scientist",
          "Laboratory Technician",
          "Sales Executive",
          "Sales Representative",
          "Laboratory Technician",
          "Research Scientist",
          "Sales Executive",
          "Manufacturing Director",
          "Sales Representative",
          "Research Director",
          "Healthcare Representative",
          "Sales Executive",
          "Sales Executive",
          "Manager",
          "Human Resources",
          "Human Resources",
          "Laboratory Technician",
          "Research Scientist",
          "Sales Executive",
          "Manufacturing Director",
          "Healthcare Representative",
          "Sales Representative",
          "Research Scientist",
          "Research Scientist",
          "Laboratory Technician",
          "Sales Executive",
          "Research Scientist",
          "Healthcare Representative",
          "Sales Representative",
          "Healthcare Representative",
          "Laboratory Technician",
          "Research Scientist",
          "Sales Executive",
          "Research Scientist",
          "Research Director",
          "Laboratory Technician",
          "Sales Executive",
          "Sales Executive",
          "Laboratory Technician",
          "Laboratory Technician",
          "Healthcare Representative",
          "Research Scientist",
          "Manufacturing Director",
          "Healthcare Representative",
          "Laboratory Technician",
          "Sales Representative",
          "Sales Executive",
          "Manager",
          "Manager",
          "Sales Executive",
          "Sales Executive",
          "Sales Executive",
          "Sales Executive",
          "Manufacturing Director",
          "Sales Executive",
          "Manager",
          "Research Scientist",
          "Laboratory Technician",
          "Research Director",
          "Healthcare Representative",
          "Research Director",
          "Laboratory Technician",
          "Laboratory Technician",
          "Sales Executive",
          "Manufacturing Director",
          "Research Scientist",
          "Manufacturing Director",
          "Manufacturing Director",
          "Manufacturing Director",
          "Research Scientist",
          "Manufacturing Director",
          "Healthcare Representative",
          "Research Director",
          "Manufacturing Director",
          "Laboratory Technician",
          "Healthcare Representative",
          "Healthcare Representative",
          "Manufacturing Director",
          "Manufacturing Director",
          "Manufacturing Director",
          "Laboratory Technician",
          "Manager",
          "Laboratory Technician",
          "Manufacturing Director",
          "Healthcare Representative",
          "Research Director",
          "Sales Executive",
          "Sales Executive",
          "Sales Executive",
          "Manufacturing Director",
          "Sales Representative",
          "Manager",
          "Laboratory Technician",
          "Sales Executive",
          "Manager",
          "Human Resources",
          "Sales Executive",
          "Sales Representative",
          "Sales Representative",
          "Research Scientist",
          "Research Director",
          "Healthcare Representative",
          "Sales Executive",
          "Research Scientist",
          "Research Director",
          "Sales Executive",
          "Research Scientist",
          "Manufacturing Director",
          "Manager",
          "Sales Executive",
          "Research Scientist",
          "Laboratory Technician",
          "Manufacturing Director",
          "Research Scientist",
          "Healthcare Representative",
          "Healthcare Representative",
          "Laboratory Technician",
          "Manufacturing Director",
          "Research Scientist",
          "Healthcare Representative",
          "Laboratory Technician",
          "Healthcare Representative",
          "Sales Executive",
          "Manager",
          "Sales Executive",
          "Research Scientist",
          "Manager",
          "Sales Executive",
          "Healthcare Representative",
          "Sales Executive",
          "Research Scientist",
          "Manufacturing Director",
          "Manager",
          "Sales Executive",
          "Manufacturing Director",
          "Research Director",
          "Research Scientist",
          "Laboratory Technician",
          "Manufacturing Director",
          "Sales Representative",
          "Research Scientist",
          "Sales Executive",
          "Sales Executive",
          "Manufacturing Director",
          "Research Scientist",
          "Laboratory Technician",
          "Manufacturing Director",
          "Human Resources",
          "Research Scientist",
          "Laboratory Technician",
          "Healthcare Representative",
          "Research Scientist",
          "Sales Executive",
          "Human Resources",
          "Research Director",
          "Sales Executive",
          "Laboratory Technician",
          "Laboratory Technician",
          "Laboratory Technician",
          "Sales Executive",
          "Research Scientist",
          "Manufacturing Director",
          "Healthcare Representative",
          "Laboratory Technician",
          "Sales Representative",
          "Manager",
          "Laboratory Technician",
          "Research Scientist",
          "Research Scientist",
          "Manufacturing Director",
          "Laboratory Technician",
          "Manager",
          "Research Scientist",
          "Manager",
          "Research Scientist",
          "Human Resources",
          "Sales Executive",
          "Sales Executive",
          "Manager",
          "Laboratory Technician",
          "Research Director",
          "Sales Executive",
          "Sales Executive",
          "Laboratory Technician",
          "Laboratory Technician",
          "Research Scientist",
          "Sales Representative",
          "Manufacturing Director",
          "Human Resources",
          "Sales Executive",
          "Laboratory Technician",
          "Research Scientist",
          "Manufacturing Director",
          "Research Scientist",
          "Sales Executive",
          "Sales Executive",
          "Research Scientist",
          "Research Director",
          "Sales Executive",
          "Research Scientist",
          "Manufacturing Director",
          "Research Scientist",
          "Research Scientist",
          "Research Director",
          "Healthcare Representative",
          "Healthcare Representative",
          "Sales Executive",
          "Research Director",
          "Manager",
          "Research Scientist",
          "Laboratory Technician",
          "Research Scientist",
          "Healthcare Representative",
          "Research Director",
          "Research Director",
          "Research Scientist",
          "Manager",
          "Sales Executive",
          "Research Scientist",
          "Research Scientist",
          "Research Scientist",
          "Healthcare Representative",
          "Manager",
          "Sales Executive",
          "Manager",
          "Manufacturing Director",
          "Laboratory Technician",
          "Laboratory Technician",
          "Manager",
          "Human Resources",
          "Research Scientist",
          "Research Scientist",
          "Sales Executive",
          "Manufacturing Director",
          "Laboratory Technician",
          "Laboratory Technician",
          "Manufacturing Director",
          "Research Scientist",
          "Research Scientist",
          "Sales Executive",
          "Manager",
          "Manager",
          "Research Scientist",
          "Laboratory Technician",
          "Healthcare Representative",
          "Human Resources",
          "Laboratory Technician",
          "Research Director",
          "Manager",
          "Manufacturing Director",
          "Sales Executive",
          "Sales Executive",
          "Manager",
          "Manager",
          "Manager",
          "Research Scientist",
          "Healthcare Representative",
          "Research Scientist",
          "Sales Executive",
          "Research Scientist",
          "Manager",
          "Sales Executive",
          "Sales Executive",
          "Laboratory Technician",
          "Laboratory Technician",
          "Sales Executive",
          "Manufacturing Director",
          "Sales Representative",
          "Manufacturing Director",
          "Laboratory Technician",
          "Laboratory Technician",
          "Sales Executive",
          "Manufacturing Director",
          "Research Scientist",
          "Healthcare Representative",
          "Laboratory Technician",
          "Research Scientist",
          "Healthcare Representative",
          "Sales Executive",
          "Sales Executive",
          "Sales Executive",
          "Research Scientist",
          "Research Scientist",
          "Sales Executive",
          "Sales Executive",
          "Healthcare Representative",
          "Sales Executive",
          "Manufacturing Director",
          "Research Scientist",
          "Sales Executive",
          "Research Scientist",
          "Manager",
          "Laboratory Technician",
          "Laboratory Technician",
          "Manufacturing Director",
          "Laboratory Technician",
          "Laboratory Technician",
          "Human Resources",
          "Research Director",
          "Research Director",
          "Research Director",
          "Sales Executive",
          "Sales Executive",
          "Research Director",
          "Research Scientist",
          "Laboratory Technician",
          "Laboratory Technician",
          "Sales Executive",
          "Research Scientist",
          "Laboratory Technician",
          "Research Scientist",
          "Research Director",
          "Sales Executive",
          "Sales Executive",
          "Laboratory Technician",
          "Research Scientist",
          "Laboratory Technician",
          "Sales Executive",
          "Healthcare Representative",
          "Human Resources",
          "Manufacturing Director",
          "Sales Executive",
          "Research Director",
          "Sales Executive",
          "Laboratory Technician",
          "Research Director",
          "Healthcare Representative",
          "Research Scientist",
          "Research Scientist",
          "Sales Executive",
          "Sales Executive",
          "Sales Executive",
          "Laboratory Technician",
          "Sales Executive",
          "Research Scientist",
          "Research Scientist",
          "Healthcare Representative",
          "Research Director",
          "Sales Representative",
          "Sales Representative",
          "Manufacturing Director",
          "Sales Executive",
          "Human Resources",
          "Healthcare Representative",
          "Laboratory Technician",
          "Sales Executive",
          "Research Scientist",
          "Sales Executive",
          "Laboratory Technician",
          "Laboratory Technician",
          "Manufacturing Director",
          "Healthcare Representative",
          "Manager",
          "Manager",
          "Research Director",
          "Manufacturing Director",
          "Manager",
          "Healthcare Representative",
          "Laboratory Technician",
          "Sales Executive",
          "Research Director",
          "Sales Representative",
          "Laboratory Technician",
          "Research Scientist",
          "Healthcare Representative",
          "Manufacturing Director",
          "Research Scientist",
          "Healthcare Representative",
          "Sales Executive",
          "Laboratory Technician",
          "Manager",
          "Laboratory Technician",
          "Healthcare Representative",
          "Healthcare Representative",
          "Sales Representative",
          "Research Scientist",
          "Sales Representative",
          "Sales Executive",
          "Research Scientist",
          "Sales Executive",
          "Human Resources",
          "Laboratory Technician",
          "Sales Executive",
          "Research Scientist",
          "Research Scientist",
          "Research Scientist",
          "Manager",
          "Research Scientist",
          "Research Scientist",
          "Sales Executive",
          "Sales Executive",
          "Sales Executive",
          "Laboratory Technician",
          "Healthcare Representative",
          "Sales Executive",
          "Healthcare Representative",
          "Manager",
          "Research Scientist",
          "Laboratory Technician",
          "Manager",
          "Laboratory Technician",
          "Healthcare Representative",
          "Sales Executive",
          "Laboratory Technician",
          "Laboratory Technician",
          "Manager",
          "Research Scientist",
          "Healthcare Representative",
          "Research Scientist",
          "Research Director",
          "Research Scientist",
          "Laboratory Technician",
          "Sales Executive",
          "Sales Executive",
          "Manufacturing Director",
          "Manufacturing Director",
          "Laboratory Technician",
          "Manufacturing Director",
          "Laboratory Technician",
          "Research Scientist",
          "Manufacturing Director",
          "Research Scientist",
          "Manager",
          "Laboratory Technician",
          "Manufacturing Director",
          "Healthcare Representative",
          "Manufacturing Director",
          "Manufacturing Director",
          "Manufacturing Director",
          "Manufacturing Director",
          "Research Scientist",
          "Manufacturing Director",
          "Human Resources",
          "Manager",
          "Research Scientist",
          "Research Scientist",
          "Research Scientist",
          "Sales Executive",
          "Healthcare Representative",
          "Manufacturing Director",
          "Manufacturing Director",
          "Research Director",
          "Research Director",
          "Sales Representative",
          "Research Scientist",
          "Laboratory Technician",
          "Healthcare Representative",
          "Manufacturing Director",
          "Healthcare Representative",
          "Manager",
          "Research Director",
          "Research Scientist",
          "Sales Executive",
          "Sales Executive",
          "Research Scientist",
          "Sales Executive",
          "Laboratory Technician",
          "Laboratory Technician",
          "Manager",
          "Manager",
          "Sales Executive",
          "Sales Representative",
          "Sales Executive",
          "Healthcare Representative",
          "Human Resources",
          "Laboratory Technician",
          "Healthcare Representative",
          "Laboratory Technician",
          "Research Scientist",
          "Laboratory Technician",
          "Healthcare Representative",
          "Laboratory Technician",
          "Sales Executive",
          "Research Scientist",
          "Healthcare Representative",
          "Research Scientist",
          "Sales Executive",
          "Research Scientist",
          "Sales Executive",
          "Laboratory Technician",
          "Sales Representative",
          "Healthcare Representative",
          "Laboratory Technician",
          "Research Director",
          "Research Scientist",
          "Laboratory Technician",
          "Human Resources",
          "Manufacturing Director",
          "Laboratory Technician",
          "Healthcare Representative",
          "Manufacturing Director",
          "Research Scientist",
          "Sales Executive",
          "Sales Executive",
          "Laboratory Technician",
          "Manufacturing Director",
          "Laboratory Technician",
          "Sales Executive",
          "Manager",
          "Human Resources",
          "Research Scientist",
          "Human Resources",
          "Sales Executive",
          "Research Scientist",
          "Healthcare Representative",
          "Sales Executive",
          "Research Scientist",
          "Sales Executive",
          "Sales Executive",
          "Laboratory Technician",
          "Research Scientist",
          "Healthcare Representative",
          "Research Scientist",
          "Healthcare Representative",
          "Laboratory Technician",
          "Research Director",
          "Research Scientist",
          "Laboratory Technician",
          "Sales Executive",
          "Manufacturing Director",
          "Human Resources",
          "Sales Executive",
          "Laboratory Technician",
          "Sales Executive",
          "Manager",
          "Sales Executive",
          "Research Director",
          "Healthcare Representative",
          "Human Resources",
          "Research Scientist",
          "Research Scientist",
          "Research Director",
          "Sales Executive",
          "Laboratory Technician",
          "Healthcare Representative",
          "Manufacturing Director",
          "Human Resources",
          "Sales Executive",
          "Research Scientist",
          "Healthcare Representative",
          "Sales Executive",
          "Manufacturing Director",
          "Healthcare Representative",
          "Sales Executive",
          "Manager",
          "Laboratory Technician",
          "Manufacturing Director",
          "Healthcare Representative",
          "Research Scientist",
          "Sales Executive",
          "Research Scientist",
          "Sales Representative",
          "Sales Executive",
          "Research Director",
          "Research Scientist",
          "Sales Executive",
          "Research Scientist",
          "Sales Executive",
          "Laboratory Technician",
          "Laboratory Technician",
          "Sales Executive",
          "Research Scientist",
          "Laboratory Technician",
          "Manufacturing Director",
          "Human Resources",
          "Healthcare Representative",
          "Laboratory Technician",
          "Sales Executive",
          "Sales Representative",
          "Human Resources",
          "Manager",
          "Research Director",
          "Research Scientist",
          "Research Scientist",
          "Research Scientist",
          "Sales Representative",
          "Sales Executive",
          "Laboratory Technician",
          "Sales Executive",
          "Laboratory Technician",
          "Research Scientist",
          "Manufacturing Director",
          "Manufacturing Director",
          "Human Resources",
          "Manager",
          "Research Scientist",
          "Sales Executive",
          "Manager",
          "Healthcare Representative",
          "Sales Executive",
          "Sales Executive",
          "Research Director",
          "Sales Executive",
          "Sales Executive",
          "Laboratory Technician",
          "Laboratory Technician",
          "Healthcare Representative",
          "Sales Executive",
          "Sales Executive",
          "Sales Executive",
          "Research Scientist",
          "Research Scientist",
          "Research Scientist",
          "Sales Executive",
          "Manufacturing Director",
          "Research Scientist",
          "Manager",
          "Research Scientist",
          "Research Director",
          "Sales Executive",
          "Sales Executive",
          "Research Scientist",
          "Research Scientist",
          "Laboratory Technician",
          "Sales Executive",
          "Sales Executive",
          "Laboratory Technician",
          "Healthcare Representative",
          "Healthcare Representative",
          "Research Scientist",
          "Sales Representative",
          "Sales Executive",
          "Sales Executive",
          "Manufacturing Director",
          "Research Scientist",
          "Healthcare Representative",
          "Healthcare Representative",
          "Human Resources",
          "Manager",
          "Laboratory Technician",
          "Sales Executive",
          "Research Scientist",
          "Research Director",
          "Manufacturing Director",
          "Healthcare Representative",
          "Laboratory Technician",
          "Laboratory Technician",
          "Sales Executive",
          "Human Resources",
          "Laboratory Technician",
          "Laboratory Technician",
          "Healthcare Representative",
          "Laboratory Technician",
          "Sales Executive",
          "Sales Representative",
          "Manufacturing Director",
          "Research Scientist",
          "Research Scientist",
          "Research Director",
          "Laboratory Technician",
          "Research Scientist",
          "Research Scientist",
          "Healthcare Representative",
          "Laboratory Technician",
          "Laboratory Technician",
          "Sales Representative",
          "Research Scientist",
          "Research Director",
          "Sales Executive",
          "Research Director",
          "Sales Executive",
          "Sales Representative",
          "Research Scientist",
          "Sales Representative",
          "Manager",
          "Sales Executive",
          "Manufacturing Director",
          "Healthcare Representative",
          "Manager",
          "Manufacturing Director",
          "Sales Executive",
          "Sales Executive",
          "Sales Executive",
          "Research Scientist",
          "Human Resources",
          "Sales Executive",
          "Sales Executive",
          "Sales Executive",
          "Research Scientist",
          "Healthcare Representative",
          "Research Scientist",
          "Research Scientist",
          "Laboratory Technician",
          "Research Scientist",
          "Sales Executive",
          "Manufacturing Director",
          "Sales Representative",
          "Laboratory Technician",
          "Healthcare Representative",
          "Manufacturing Director",
          "Sales Executive",
          "Laboratory Technician"
         ],
         "xaxis": "x",
         "yaxis": "y"
        }
       ],
       "layout": {
        "barmode": "group",
        "legend": {
         "title": {
          "text": "Attrition"
         },
         "tracegroupgap": 0
        },
        "template": {
         "data": {
          "bar": [
           {
            "error_x": {
             "color": "rgb(36,36,36)"
            },
            "error_y": {
             "color": "rgb(36,36,36)"
            },
            "marker": {
             "line": {
              "color": "white",
              "width": 0.5
             },
             "pattern": {
              "fillmode": "overlay",
              "size": 10,
              "solidity": 0.2
             }
            },
            "type": "bar"
           }
          ],
          "barpolar": [
           {
            "marker": {
             "line": {
              "color": "white",
              "width": 0.5
             },
             "pattern": {
              "fillmode": "overlay",
              "size": 10,
              "solidity": 0.2
             }
            },
            "type": "barpolar"
           }
          ],
          "carpet": [
           {
            "aaxis": {
             "endlinecolor": "rgb(36,36,36)",
             "gridcolor": "white",
             "linecolor": "white",
             "minorgridcolor": "white",
             "startlinecolor": "rgb(36,36,36)"
            },
            "baxis": {
             "endlinecolor": "rgb(36,36,36)",
             "gridcolor": "white",
             "linecolor": "white",
             "minorgridcolor": "white",
             "startlinecolor": "rgb(36,36,36)"
            },
            "type": "carpet"
           }
          ],
          "choropleth": [
           {
            "colorbar": {
             "outlinewidth": 1,
             "tickcolor": "rgb(36,36,36)",
             "ticks": "outside"
            },
            "type": "choropleth"
           }
          ],
          "contour": [
           {
            "colorbar": {
             "outlinewidth": 1,
             "tickcolor": "rgb(36,36,36)",
             "ticks": "outside"
            },
            "colorscale": [
             [
              0,
              "#440154"
             ],
             [
              0.1111111111111111,
              "#482878"
             ],
             [
              0.2222222222222222,
              "#3e4989"
             ],
             [
              0.3333333333333333,
              "#31688e"
             ],
             [
              0.4444444444444444,
              "#26828e"
             ],
             [
              0.5555555555555556,
              "#1f9e89"
             ],
             [
              0.6666666666666666,
              "#35b779"
             ],
             [
              0.7777777777777778,
              "#6ece58"
             ],
             [
              0.8888888888888888,
              "#b5de2b"
             ],
             [
              1,
              "#fde725"
             ]
            ],
            "type": "contour"
           }
          ],
          "contourcarpet": [
           {
            "colorbar": {
             "outlinewidth": 1,
             "tickcolor": "rgb(36,36,36)",
             "ticks": "outside"
            },
            "type": "contourcarpet"
           }
          ],
          "heatmap": [
           {
            "colorbar": {
             "outlinewidth": 1,
             "tickcolor": "rgb(36,36,36)",
             "ticks": "outside"
            },
            "colorscale": [
             [
              0,
              "#440154"
             ],
             [
              0.1111111111111111,
              "#482878"
             ],
             [
              0.2222222222222222,
              "#3e4989"
             ],
             [
              0.3333333333333333,
              "#31688e"
             ],
             [
              0.4444444444444444,
              "#26828e"
             ],
             [
              0.5555555555555556,
              "#1f9e89"
             ],
             [
              0.6666666666666666,
              "#35b779"
             ],
             [
              0.7777777777777778,
              "#6ece58"
             ],
             [
              0.8888888888888888,
              "#b5de2b"
             ],
             [
              1,
              "#fde725"
             ]
            ],
            "type": "heatmap"
           }
          ],
          "heatmapgl": [
           {
            "colorbar": {
             "outlinewidth": 1,
             "tickcolor": "rgb(36,36,36)",
             "ticks": "outside"
            },
            "colorscale": [
             [
              0,
              "#440154"
             ],
             [
              0.1111111111111111,
              "#482878"
             ],
             [
              0.2222222222222222,
              "#3e4989"
             ],
             [
              0.3333333333333333,
              "#31688e"
             ],
             [
              0.4444444444444444,
              "#26828e"
             ],
             [
              0.5555555555555556,
              "#1f9e89"
             ],
             [
              0.6666666666666666,
              "#35b779"
             ],
             [
              0.7777777777777778,
              "#6ece58"
             ],
             [
              0.8888888888888888,
              "#b5de2b"
             ],
             [
              1,
              "#fde725"
             ]
            ],
            "type": "heatmapgl"
           }
          ],
          "histogram": [
           {
            "marker": {
             "line": {
              "color": "white",
              "width": 0.6
             }
            },
            "type": "histogram"
           }
          ],
          "histogram2d": [
           {
            "colorbar": {
             "outlinewidth": 1,
             "tickcolor": "rgb(36,36,36)",
             "ticks": "outside"
            },
            "colorscale": [
             [
              0,
              "#440154"
             ],
             [
              0.1111111111111111,
              "#482878"
             ],
             [
              0.2222222222222222,
              "#3e4989"
             ],
             [
              0.3333333333333333,
              "#31688e"
             ],
             [
              0.4444444444444444,
              "#26828e"
             ],
             [
              0.5555555555555556,
              "#1f9e89"
             ],
             [
              0.6666666666666666,
              "#35b779"
             ],
             [
              0.7777777777777778,
              "#6ece58"
             ],
             [
              0.8888888888888888,
              "#b5de2b"
             ],
             [
              1,
              "#fde725"
             ]
            ],
            "type": "histogram2d"
           }
          ],
          "histogram2dcontour": [
           {
            "colorbar": {
             "outlinewidth": 1,
             "tickcolor": "rgb(36,36,36)",
             "ticks": "outside"
            },
            "colorscale": [
             [
              0,
              "#440154"
             ],
             [
              0.1111111111111111,
              "#482878"
             ],
             [
              0.2222222222222222,
              "#3e4989"
             ],
             [
              0.3333333333333333,
              "#31688e"
             ],
             [
              0.4444444444444444,
              "#26828e"
             ],
             [
              0.5555555555555556,
              "#1f9e89"
             ],
             [
              0.6666666666666666,
              "#35b779"
             ],
             [
              0.7777777777777778,
              "#6ece58"
             ],
             [
              0.8888888888888888,
              "#b5de2b"
             ],
             [
              1,
              "#fde725"
             ]
            ],
            "type": "histogram2dcontour"
           }
          ],
          "mesh3d": [
           {
            "colorbar": {
             "outlinewidth": 1,
             "tickcolor": "rgb(36,36,36)",
             "ticks": "outside"
            },
            "type": "mesh3d"
           }
          ],
          "parcoords": [
           {
            "line": {
             "colorbar": {
              "outlinewidth": 1,
              "tickcolor": "rgb(36,36,36)",
              "ticks": "outside"
             }
            },
            "type": "parcoords"
           }
          ],
          "pie": [
           {
            "automargin": true,
            "type": "pie"
           }
          ],
          "scatter": [
           {
            "marker": {
             "colorbar": {
              "outlinewidth": 1,
              "tickcolor": "rgb(36,36,36)",
              "ticks": "outside"
             }
            },
            "type": "scatter"
           }
          ],
          "scatter3d": [
           {
            "line": {
             "colorbar": {
              "outlinewidth": 1,
              "tickcolor": "rgb(36,36,36)",
              "ticks": "outside"
             }
            },
            "marker": {
             "colorbar": {
              "outlinewidth": 1,
              "tickcolor": "rgb(36,36,36)",
              "ticks": "outside"
             }
            },
            "type": "scatter3d"
           }
          ],
          "scattercarpet": [
           {
            "marker": {
             "colorbar": {
              "outlinewidth": 1,
              "tickcolor": "rgb(36,36,36)",
              "ticks": "outside"
             }
            },
            "type": "scattercarpet"
           }
          ],
          "scattergeo": [
           {
            "marker": {
             "colorbar": {
              "outlinewidth": 1,
              "tickcolor": "rgb(36,36,36)",
              "ticks": "outside"
             }
            },
            "type": "scattergeo"
           }
          ],
          "scattergl": [
           {
            "marker": {
             "colorbar": {
              "outlinewidth": 1,
              "tickcolor": "rgb(36,36,36)",
              "ticks": "outside"
             }
            },
            "type": "scattergl"
           }
          ],
          "scattermapbox": [
           {
            "marker": {
             "colorbar": {
              "outlinewidth": 1,
              "tickcolor": "rgb(36,36,36)",
              "ticks": "outside"
             }
            },
            "type": "scattermapbox"
           }
          ],
          "scatterpolar": [
           {
            "marker": {
             "colorbar": {
              "outlinewidth": 1,
              "tickcolor": "rgb(36,36,36)",
              "ticks": "outside"
             }
            },
            "type": "scatterpolar"
           }
          ],
          "scatterpolargl": [
           {
            "marker": {
             "colorbar": {
              "outlinewidth": 1,
              "tickcolor": "rgb(36,36,36)",
              "ticks": "outside"
             }
            },
            "type": "scatterpolargl"
           }
          ],
          "scatterternary": [
           {
            "marker": {
             "colorbar": {
              "outlinewidth": 1,
              "tickcolor": "rgb(36,36,36)",
              "ticks": "outside"
             }
            },
            "type": "scatterternary"
           }
          ],
          "surface": [
           {
            "colorbar": {
             "outlinewidth": 1,
             "tickcolor": "rgb(36,36,36)",
             "ticks": "outside"
            },
            "colorscale": [
             [
              0,
              "#440154"
             ],
             [
              0.1111111111111111,
              "#482878"
             ],
             [
              0.2222222222222222,
              "#3e4989"
             ],
             [
              0.3333333333333333,
              "#31688e"
             ],
             [
              0.4444444444444444,
              "#26828e"
             ],
             [
              0.5555555555555556,
              "#1f9e89"
             ],
             [
              0.6666666666666666,
              "#35b779"
             ],
             [
              0.7777777777777778,
              "#6ece58"
             ],
             [
              0.8888888888888888,
              "#b5de2b"
             ],
             [
              1,
              "#fde725"
             ]
            ],
            "type": "surface"
           }
          ],
          "table": [
           {
            "cells": {
             "fill": {
              "color": "rgb(237,237,237)"
             },
             "line": {
              "color": "white"
             }
            },
            "header": {
             "fill": {
              "color": "rgb(217,217,217)"
             },
             "line": {
              "color": "white"
             }
            },
            "type": "table"
           }
          ]
         },
         "layout": {
          "annotationdefaults": {
           "arrowhead": 0,
           "arrowwidth": 1
          },
          "autotypenumbers": "strict",
          "coloraxis": {
           "colorbar": {
            "outlinewidth": 1,
            "tickcolor": "rgb(36,36,36)",
            "ticks": "outside"
           }
          },
          "colorscale": {
           "diverging": [
            [
             0,
             "rgb(103,0,31)"
            ],
            [
             0.1,
             "rgb(178,24,43)"
            ],
            [
             0.2,
             "rgb(214,96,77)"
            ],
            [
             0.3,
             "rgb(244,165,130)"
            ],
            [
             0.4,
             "rgb(253,219,199)"
            ],
            [
             0.5,
             "rgb(247,247,247)"
            ],
            [
             0.6,
             "rgb(209,229,240)"
            ],
            [
             0.7,
             "rgb(146,197,222)"
            ],
            [
             0.8,
             "rgb(67,147,195)"
            ],
            [
             0.9,
             "rgb(33,102,172)"
            ],
            [
             1,
             "rgb(5,48,97)"
            ]
           ],
           "sequential": [
            [
             0,
             "#440154"
            ],
            [
             0.1111111111111111,
             "#482878"
            ],
            [
             0.2222222222222222,
             "#3e4989"
            ],
            [
             0.3333333333333333,
             "#31688e"
            ],
            [
             0.4444444444444444,
             "#26828e"
            ],
            [
             0.5555555555555556,
             "#1f9e89"
            ],
            [
             0.6666666666666666,
             "#35b779"
            ],
            [
             0.7777777777777778,
             "#6ece58"
            ],
            [
             0.8888888888888888,
             "#b5de2b"
            ],
            [
             1,
             "#fde725"
            ]
           ],
           "sequentialminus": [
            [
             0,
             "#440154"
            ],
            [
             0.1111111111111111,
             "#482878"
            ],
            [
             0.2222222222222222,
             "#3e4989"
            ],
            [
             0.3333333333333333,
             "#31688e"
            ],
            [
             0.4444444444444444,
             "#26828e"
            ],
            [
             0.5555555555555556,
             "#1f9e89"
            ],
            [
             0.6666666666666666,
             "#35b779"
            ],
            [
             0.7777777777777778,
             "#6ece58"
            ],
            [
             0.8888888888888888,
             "#b5de2b"
            ],
            [
             1,
             "#fde725"
            ]
           ]
          },
          "colorway": [
           "#1F77B4",
           "#FF7F0E",
           "#2CA02C",
           "#D62728",
           "#9467BD",
           "#8C564B",
           "#E377C2",
           "#7F7F7F",
           "#BCBD22",
           "#17BECF"
          ],
          "font": {
           "color": "rgb(36,36,36)"
          },
          "geo": {
           "bgcolor": "white",
           "lakecolor": "white",
           "landcolor": "white",
           "showlakes": true,
           "showland": true,
           "subunitcolor": "white"
          },
          "hoverlabel": {
           "align": "left"
          },
          "hovermode": "closest",
          "mapbox": {
           "style": "light"
          },
          "paper_bgcolor": "white",
          "plot_bgcolor": "white",
          "polar": {
           "angularaxis": {
            "gridcolor": "rgb(232,232,232)",
            "linecolor": "rgb(36,36,36)",
            "showgrid": false,
            "showline": true,
            "ticks": "outside"
           },
           "bgcolor": "white",
           "radialaxis": {
            "gridcolor": "rgb(232,232,232)",
            "linecolor": "rgb(36,36,36)",
            "showgrid": false,
            "showline": true,
            "ticks": "outside"
           }
          },
          "scene": {
           "xaxis": {
            "backgroundcolor": "white",
            "gridcolor": "rgb(232,232,232)",
            "gridwidth": 2,
            "linecolor": "rgb(36,36,36)",
            "showbackground": true,
            "showgrid": false,
            "showline": true,
            "ticks": "outside",
            "zeroline": false,
            "zerolinecolor": "rgb(36,36,36)"
           },
           "yaxis": {
            "backgroundcolor": "white",
            "gridcolor": "rgb(232,232,232)",
            "gridwidth": 2,
            "linecolor": "rgb(36,36,36)",
            "showbackground": true,
            "showgrid": false,
            "showline": true,
            "ticks": "outside",
            "zeroline": false,
            "zerolinecolor": "rgb(36,36,36)"
           },
           "zaxis": {
            "backgroundcolor": "white",
            "gridcolor": "rgb(232,232,232)",
            "gridwidth": 2,
            "linecolor": "rgb(36,36,36)",
            "showbackground": true,
            "showgrid": false,
            "showline": true,
            "ticks": "outside",
            "zeroline": false,
            "zerolinecolor": "rgb(36,36,36)"
           }
          },
          "shapedefaults": {
           "fillcolor": "black",
           "line": {
            "width": 0
           },
           "opacity": 0.3
          },
          "ternary": {
           "aaxis": {
            "gridcolor": "rgb(232,232,232)",
            "linecolor": "rgb(36,36,36)",
            "showgrid": false,
            "showline": true,
            "ticks": "outside"
           },
           "baxis": {
            "gridcolor": "rgb(232,232,232)",
            "linecolor": "rgb(36,36,36)",
            "showgrid": false,
            "showline": true,
            "ticks": "outside"
           },
           "bgcolor": "white",
           "caxis": {
            "gridcolor": "rgb(232,232,232)",
            "linecolor": "rgb(36,36,36)",
            "showgrid": false,
            "showline": true,
            "ticks": "outside"
           }
          },
          "title": {
           "x": 0.05
          },
          "xaxis": {
           "automargin": true,
           "gridcolor": "rgb(232,232,232)",
           "linecolor": "rgb(36,36,36)",
           "showgrid": false,
           "showline": true,
           "ticks": "outside",
           "title": {
            "standoff": 15
           },
           "zeroline": false,
           "zerolinecolor": "rgb(36,36,36)"
          },
          "yaxis": {
           "automargin": true,
           "gridcolor": "rgb(232,232,232)",
           "linecolor": "rgb(36,36,36)",
           "showgrid": false,
           "showline": true,
           "ticks": "outside",
           "title": {
            "standoff": 15
           },
           "zeroline": false,
           "zerolinecolor": "rgb(36,36,36)"
          }
         }
        },
        "title": {
         "text": "Headcount by Department Split by Attrition Status"
        },
        "xaxis": {
         "anchor": "y",
         "domain": [
          0,
          1
         ],
         "title": {
          "text": "JobRole"
         }
        },
        "yaxis": {
         "anchor": "x",
         "domain": [
          0,
          1
         ],
         "title": {
          "text": "count"
         }
        }
       }
      }
     },
     "metadata": {}
    }
   ],
   "metadata": {}
  },
  {
   "cell_type": "code",
   "execution_count": 37,
   "source": [
    "# Show distribution for most important columns when predicting Attrition False\r\n",
    "# The feature importance CSV is included in the reporting directory\r\n",
    "column_feature_bottom10 = df[['JobLevel','WorkLifeBalance','JobInvolvement','EnvironmentSatisfaction','StockOptionLevel','JobRole']]\r\n",
    "# Loop through every column in the dataframe and plot\r\n",
    "\"\"\"for i in column_feature_bottom10[0:]:\r\n",
    "    fig = px.histogram(df,x=i)\r\n",
    "    fig.show()\"\"\""
   ],
   "outputs": [
    {
     "output_type": "execute_result",
     "data": {
      "text/plain": [
       "'for i in column_feature_bottom10[0:]:\\n    fig = px.histogram(df,x=i)\\n    fig.show()'"
      ]
     },
     "metadata": {},
     "execution_count": 37
    }
   ],
   "metadata": {}
  },
  {
   "cell_type": "code",
   "execution_count": 56,
   "source": [
    "fig = px.histogram(df,x=\"EnvironmentSatisfaction\",color=\"Attrition\",barmode='group',title=\"Environment Satisfaction by Attrition Status\")\r\n",
    "fig.show()"
   ],
   "outputs": [
    {
     "output_type": "display_data",
     "data": {
      "application/vnd.plotly.v1+json": {
       "config": {
        "plotlyServerURL": "https://plot.ly"
       },
       "data": [
        {
         "alignmentgroup": "True",
         "bingroup": "x",
         "hovertemplate": "Attrition=Yes<br>EnvironmentSatisfaction=%{x}<br>count=%{y}<extra></extra>",
         "legendgroup": "Yes",
         "marker": {
          "color": "#1F77B4",
          "pattern": {
           "shape": ""
          }
         },
         "name": "Yes",
         "offsetgroup": "Yes",
         "orientation": "v",
         "showlegend": true,
         "type": "histogram",
         "x": [
          2,
          4,
          3,
          3,
          2,
          2,
          4,
          2,
          1,
          1,
          2,
          1,
          3,
          4,
          3,
          3,
          4,
          3,
          1,
          2,
          2,
          4,
          4,
          2,
          1,
          1,
          3,
          2,
          2,
          2,
          2,
          2,
          4,
          4,
          3,
          3,
          3,
          3,
          1,
          4,
          1,
          3,
          1,
          1,
          4,
          1,
          4,
          3,
          3,
          1,
          4,
          2,
          1,
          4,
          1,
          3,
          3,
          1,
          3,
          3,
          1,
          1,
          4,
          3,
          1,
          2,
          1,
          1,
          2,
          3,
          2,
          2,
          3,
          4,
          1,
          2,
          2,
          3,
          1,
          4,
          1,
          1,
          2,
          1,
          3,
          4,
          2,
          4,
          4,
          3,
          2,
          1,
          4,
          3,
          3,
          3,
          3,
          4,
          2,
          1,
          4,
          3,
          4,
          2,
          2,
          4,
          3,
          4,
          1,
          3,
          1,
          4,
          2,
          3,
          4,
          1,
          3,
          4,
          2,
          1,
          2,
          1,
          3,
          1,
          1,
          4,
          3,
          1,
          2,
          2,
          4,
          1,
          4,
          1,
          1,
          1,
          4,
          1,
          3,
          1,
          3,
          4,
          3,
          3,
          1,
          3,
          3,
          1,
          4,
          1,
          3,
          1,
          1,
          1,
          2,
          4,
          3,
          4,
          2,
          4,
          1,
          3,
          1,
          3,
          4,
          4,
          4,
          1,
          3,
          2,
          1,
          1,
          1,
          1,
          3,
          2,
          1,
          1,
          1,
          1,
          2,
          3,
          1,
          4,
          4,
          2,
          1,
          3,
          3,
          3,
          2,
          4,
          1,
          1,
          4,
          4,
          4,
          4,
          3,
          4,
          3,
          2,
          1,
          3,
          2,
          1,
          1,
          3,
          2,
          3,
          3,
          3,
          4,
          4,
          4,
          4,
          4,
          1,
          3,
          4,
          3,
          2,
          4,
          4,
          1,
          3,
          4,
          1,
          1,
          3,
          1,
          1,
          4,
          1,
          4,
          2,
          4
         ],
         "xaxis": "x",
         "yaxis": "y"
        },
        {
         "alignmentgroup": "True",
         "bingroup": "x",
         "hovertemplate": "Attrition=No<br>EnvironmentSatisfaction=%{x}<br>count=%{y}<extra></extra>",
         "legendgroup": "No",
         "marker": {
          "color": "#FF7F0E",
          "pattern": {
           "shape": ""
          }
         },
         "name": "No",
         "offsetgroup": "No",
         "orientation": "v",
         "showlegend": true,
         "type": "histogram",
         "x": [
          3,
          4,
          1,
          4,
          3,
          4,
          4,
          3,
          1,
          4,
          1,
          2,
          2,
          1,
          4,
          1,
          4,
          1,
          1,
          3,
          3,
          3,
          1,
          2,
          3,
          4,
          4,
          4,
          4,
          2,
          3,
          3,
          4,
          4,
          3,
          2,
          2,
          1,
          4,
          2,
          3,
          3,
          1,
          2,
          3,
          4,
          1,
          1,
          4,
          2,
          1,
          3,
          4,
          2,
          2,
          2,
          1,
          3,
          3,
          2,
          2,
          3,
          3,
          4,
          1,
          2,
          4,
          2,
          1,
          2,
          1,
          4,
          3,
          4,
          3,
          3,
          3,
          3,
          3,
          2,
          1,
          1,
          2,
          4,
          2,
          4,
          1,
          3,
          3,
          1,
          4,
          2,
          1,
          4,
          2,
          3,
          3,
          3,
          2,
          1,
          3,
          1,
          3,
          1,
          3,
          3,
          3,
          2,
          3,
          3,
          3,
          2,
          4,
          1,
          3,
          3,
          4,
          1,
          4,
          4,
          2,
          4,
          3,
          2,
          2,
          3,
          2,
          2,
          2,
          4,
          2,
          2,
          3,
          3,
          3,
          4,
          3,
          3,
          3,
          3,
          1,
          2,
          1,
          3,
          3,
          4,
          3,
          3,
          3,
          3,
          2,
          3,
          3,
          4,
          3,
          4,
          4,
          4,
          3,
          4,
          4,
          3,
          4,
          4,
          1,
          2,
          2,
          3,
          4,
          4,
          3,
          4,
          4,
          3,
          4,
          2,
          4,
          4,
          3,
          4,
          2,
          4,
          4,
          4,
          4,
          3,
          2,
          1,
          3,
          3,
          1,
          2,
          3,
          3,
          3,
          2,
          4,
          4,
          1,
          3,
          3,
          3,
          3,
          1,
          3,
          2,
          3,
          4,
          3,
          1,
          3,
          3,
          4,
          4,
          1,
          4,
          1,
          3,
          2,
          4,
          4,
          3,
          1,
          2,
          2,
          3,
          4,
          4,
          4,
          3,
          4,
          1,
          2,
          1,
          3,
          1,
          3,
          2,
          2,
          2,
          1,
          4,
          4,
          4,
          3,
          3,
          4,
          2,
          3,
          3,
          3,
          4,
          4,
          4,
          2,
          2,
          3,
          2,
          4,
          1,
          4,
          3,
          1,
          1,
          3,
          4,
          3,
          3,
          3,
          3,
          3,
          4,
          4,
          1,
          4,
          3,
          3,
          2,
          4,
          3,
          3,
          4,
          3,
          4,
          2,
          2,
          4,
          2,
          4,
          3,
          3,
          4,
          3,
          3,
          4,
          2,
          1,
          4,
          3,
          3,
          1,
          3,
          4,
          3,
          1,
          4,
          1,
          4,
          4,
          1,
          3,
          3,
          4,
          3,
          4,
          3,
          4,
          2,
          2,
          3,
          4,
          3,
          4,
          3,
          1,
          2,
          4,
          4,
          2,
          3,
          1,
          2,
          1,
          3,
          2,
          4,
          3,
          2,
          2,
          4,
          2,
          3,
          2,
          2,
          3,
          4,
          1,
          4,
          1,
          3,
          1,
          3,
          4,
          4,
          3,
          1,
          3,
          2,
          3,
          1,
          2,
          3,
          3,
          1,
          1,
          4,
          3,
          4,
          3,
          3,
          4,
          4,
          2,
          2,
          2,
          1,
          4,
          2,
          2,
          3,
          2,
          4,
          4,
          4,
          1,
          3,
          3,
          1,
          1,
          1,
          4,
          2,
          1,
          2,
          1,
          4,
          4,
          3,
          2,
          4,
          2,
          1,
          4,
          1,
          2,
          2,
          1,
          1,
          1,
          4,
          4,
          3,
          2,
          3,
          4,
          4,
          1,
          3,
          3,
          4,
          1,
          3,
          1,
          3,
          4,
          2,
          3,
          3,
          2,
          2,
          3,
          3,
          2,
          1,
          3,
          1,
          4,
          4,
          2,
          2,
          4,
          4,
          4,
          4,
          4,
          4,
          2,
          3,
          3,
          4,
          4,
          3,
          2,
          1,
          4,
          4,
          4,
          1,
          3,
          1,
          4,
          3,
          3,
          4,
          2,
          2,
          3,
          3,
          4,
          4,
          4,
          4,
          4,
          1,
          4,
          2,
          3,
          3,
          2,
          1,
          4,
          1,
          4,
          1,
          2,
          2,
          4,
          3,
          4,
          1,
          3,
          1,
          4,
          3,
          3,
          2,
          3,
          4,
          3,
          3,
          3,
          3,
          3,
          4,
          4,
          3,
          3,
          1,
          3,
          2,
          2,
          1,
          3,
          2,
          3,
          3,
          2,
          3,
          4,
          1,
          4,
          1,
          1,
          3,
          2,
          2,
          2,
          1,
          4,
          3,
          3,
          4,
          2,
          4,
          1,
          2,
          1,
          3,
          4,
          4,
          3,
          3,
          1,
          2,
          2,
          3,
          4,
          1,
          4,
          3,
          4,
          4,
          3,
          1,
          1,
          4,
          4,
          1,
          2,
          1,
          1,
          3,
          4,
          3,
          2,
          2,
          3,
          3,
          3,
          2,
          4,
          1,
          4,
          4,
          2,
          4,
          3,
          1,
          3,
          4,
          3,
          4,
          4,
          3,
          2,
          3,
          3,
          3,
          4,
          3,
          3,
          3,
          4,
          1,
          3,
          1,
          4,
          2,
          4,
          4,
          3,
          1,
          3,
          4,
          4,
          4,
          3,
          4,
          4,
          3,
          2,
          3,
          3,
          2,
          4,
          2,
          1,
          3,
          4,
          4,
          1,
          2,
          4,
          1,
          3,
          3,
          2,
          2,
          4,
          4,
          4,
          2,
          4,
          4,
          2,
          2,
          2,
          3,
          3,
          4,
          3,
          2,
          4,
          3,
          1,
          4,
          3,
          1,
          4,
          3,
          3,
          4,
          1,
          3,
          2,
          3,
          1,
          1,
          4,
          3,
          4,
          1,
          1,
          4,
          4,
          4,
          3,
          1,
          2,
          2,
          3,
          3,
          4,
          1,
          4,
          3,
          3,
          4,
          3,
          1,
          3,
          1,
          4,
          4,
          4,
          4,
          2,
          2,
          3,
          3,
          2,
          3,
          4,
          2,
          3,
          2,
          2,
          4,
          4,
          1,
          3,
          3,
          3,
          4,
          4,
          3,
          4,
          2,
          3,
          1,
          4,
          1,
          4,
          2,
          3,
          4,
          2,
          3,
          2,
          4,
          4,
          4,
          3,
          2,
          3,
          3,
          4,
          3,
          4,
          4,
          2,
          3,
          4,
          3,
          1,
          2,
          3,
          4,
          1,
          3,
          1,
          4,
          1,
          1,
          4,
          3,
          3,
          3,
          3,
          1,
          3,
          4,
          1,
          3,
          4,
          4,
          3,
          2,
          4,
          2,
          4,
          3,
          4,
          4,
          3,
          4,
          4,
          3,
          4,
          3,
          3,
          3,
          2,
          4,
          3,
          4,
          2,
          3,
          4,
          4,
          3,
          2,
          3,
          1,
          1,
          4,
          4,
          3,
          4,
          2,
          1,
          4,
          3,
          3,
          4,
          4,
          3,
          4,
          3,
          3,
          3,
          3,
          2,
          3,
          4,
          2,
          1,
          4,
          3,
          4,
          4,
          4,
          4,
          4,
          1,
          2,
          2,
          4,
          3,
          3,
          1,
          2,
          4,
          3,
          2,
          3,
          3,
          1,
          4,
          1,
          4,
          1,
          3,
          3,
          1,
          3,
          1,
          3,
          2,
          4,
          4,
          2,
          1,
          4,
          1,
          4,
          2,
          1,
          3,
          1,
          3,
          1,
          1,
          4,
          4,
          4,
          2,
          3,
          1,
          2,
          4,
          2,
          3,
          4,
          4,
          3,
          4,
          1,
          3,
          4,
          4,
          4,
          4,
          1,
          1,
          3,
          2,
          3,
          2,
          4,
          4,
          2,
          3,
          3,
          4,
          1,
          3,
          1,
          3,
          3,
          4,
          3,
          4,
          3,
          2,
          4,
          2,
          3,
          4,
          1,
          4,
          3,
          2,
          3,
          1,
          3,
          4,
          4,
          4,
          1,
          2,
          3,
          3,
          4,
          1,
          2,
          4,
          3,
          3,
          3,
          1,
          3,
          4,
          3,
          4,
          3,
          1,
          3,
          2,
          1,
          3,
          2,
          2,
          2,
          1,
          4,
          1,
          3,
          4,
          1,
          4,
          2,
          4,
          4,
          4,
          3,
          4,
          2,
          2,
          2,
          2,
          2,
          3,
          1,
          4,
          3,
          3,
          3,
          2,
          4,
          2,
          2,
          3,
          4,
          3,
          1,
          3,
          3,
          1,
          4,
          4,
          2,
          3,
          1,
          3,
          1,
          2,
          4,
          3,
          2,
          4,
          4,
          1,
          4,
          3,
          4,
          1,
          3,
          4,
          4,
          2,
          3,
          4,
          1,
          4,
          4,
          1,
          4,
          4,
          2,
          3,
          4,
          4,
          3,
          1,
          3,
          4,
          2,
          4,
          1,
          2,
          3,
          2,
          3,
          2,
          3,
          1,
          4,
          3,
          4,
          4,
          3,
          3,
          4,
          4,
          1,
          2,
          3,
          2,
          2,
          3,
          4,
          2,
          3,
          3,
          3,
          4,
          4,
          4,
          2,
          3,
          4,
          1,
          1,
          3,
          4,
          3,
          4,
          4,
          4,
          3,
          4,
          3,
          2,
          2,
          2,
          3,
          4,
          3,
          4,
          1,
          2,
          4,
          4,
          1,
          1,
          2,
          3,
          4,
          3,
          4,
          3,
          3,
          2,
          3,
          2,
          2,
          1,
          3,
          1,
          2,
          3,
          1,
          3,
          2,
          2,
          2,
          3,
          2,
          4,
          1,
          3,
          2,
          3,
          1,
          2,
          3,
          4,
          1,
          4,
          4,
          4,
          3,
          2,
          4,
          3,
          4,
          4,
          1,
          2,
          4,
          1,
          4,
          4,
          4,
          2,
          2,
          2,
          2,
          3,
          4,
          4,
          4,
          2,
          2,
          1,
          2,
          1,
          4,
          2,
          3,
          3,
          3,
          3,
          4,
          1,
          3,
          2,
          2,
          3,
          1,
          2,
          3,
          3,
          4,
          1,
          4,
          4,
          2,
          2,
          2,
          2,
          3,
          3,
          1,
          1,
          4,
          3,
          1,
          3,
          4,
          1,
          3,
          4,
          4,
          1,
          4,
          1,
          4,
          3,
          4,
          2,
          4,
          3,
          3,
          2,
          4,
          4,
          2,
          3,
          4,
          4,
          1,
          2,
          4,
          1,
          1,
          4,
          4,
          3,
          4,
          4,
          2,
          2,
          3,
          1,
          2,
          1,
          2,
          3,
          3,
          1,
          1,
          2,
          3,
          4,
          1,
          4,
          3,
          1,
          1,
          4,
          4,
          3,
          4,
          3,
          1,
          2,
          4,
          3,
          3,
          3,
          3,
          4,
          4,
          2,
          2,
          4,
          3,
          4,
          2,
          4,
          2
         ],
         "xaxis": "x",
         "yaxis": "y"
        }
       ],
       "layout": {
        "barmode": "group",
        "legend": {
         "title": {
          "text": "Attrition"
         },
         "tracegroupgap": 0
        },
        "template": {
         "data": {
          "bar": [
           {
            "error_x": {
             "color": "rgb(36,36,36)"
            },
            "error_y": {
             "color": "rgb(36,36,36)"
            },
            "marker": {
             "line": {
              "color": "white",
              "width": 0.5
             },
             "pattern": {
              "fillmode": "overlay",
              "size": 10,
              "solidity": 0.2
             }
            },
            "type": "bar"
           }
          ],
          "barpolar": [
           {
            "marker": {
             "line": {
              "color": "white",
              "width": 0.5
             },
             "pattern": {
              "fillmode": "overlay",
              "size": 10,
              "solidity": 0.2
             }
            },
            "type": "barpolar"
           }
          ],
          "carpet": [
           {
            "aaxis": {
             "endlinecolor": "rgb(36,36,36)",
             "gridcolor": "white",
             "linecolor": "white",
             "minorgridcolor": "white",
             "startlinecolor": "rgb(36,36,36)"
            },
            "baxis": {
             "endlinecolor": "rgb(36,36,36)",
             "gridcolor": "white",
             "linecolor": "white",
             "minorgridcolor": "white",
             "startlinecolor": "rgb(36,36,36)"
            },
            "type": "carpet"
           }
          ],
          "choropleth": [
           {
            "colorbar": {
             "outlinewidth": 1,
             "tickcolor": "rgb(36,36,36)",
             "ticks": "outside"
            },
            "type": "choropleth"
           }
          ],
          "contour": [
           {
            "colorbar": {
             "outlinewidth": 1,
             "tickcolor": "rgb(36,36,36)",
             "ticks": "outside"
            },
            "colorscale": [
             [
              0,
              "#440154"
             ],
             [
              0.1111111111111111,
              "#482878"
             ],
             [
              0.2222222222222222,
              "#3e4989"
             ],
             [
              0.3333333333333333,
              "#31688e"
             ],
             [
              0.4444444444444444,
              "#26828e"
             ],
             [
              0.5555555555555556,
              "#1f9e89"
             ],
             [
              0.6666666666666666,
              "#35b779"
             ],
             [
              0.7777777777777778,
              "#6ece58"
             ],
             [
              0.8888888888888888,
              "#b5de2b"
             ],
             [
              1,
              "#fde725"
             ]
            ],
            "type": "contour"
           }
          ],
          "contourcarpet": [
           {
            "colorbar": {
             "outlinewidth": 1,
             "tickcolor": "rgb(36,36,36)",
             "ticks": "outside"
            },
            "type": "contourcarpet"
           }
          ],
          "heatmap": [
           {
            "colorbar": {
             "outlinewidth": 1,
             "tickcolor": "rgb(36,36,36)",
             "ticks": "outside"
            },
            "colorscale": [
             [
              0,
              "#440154"
             ],
             [
              0.1111111111111111,
              "#482878"
             ],
             [
              0.2222222222222222,
              "#3e4989"
             ],
             [
              0.3333333333333333,
              "#31688e"
             ],
             [
              0.4444444444444444,
              "#26828e"
             ],
             [
              0.5555555555555556,
              "#1f9e89"
             ],
             [
              0.6666666666666666,
              "#35b779"
             ],
             [
              0.7777777777777778,
              "#6ece58"
             ],
             [
              0.8888888888888888,
              "#b5de2b"
             ],
             [
              1,
              "#fde725"
             ]
            ],
            "type": "heatmap"
           }
          ],
          "heatmapgl": [
           {
            "colorbar": {
             "outlinewidth": 1,
             "tickcolor": "rgb(36,36,36)",
             "ticks": "outside"
            },
            "colorscale": [
             [
              0,
              "#440154"
             ],
             [
              0.1111111111111111,
              "#482878"
             ],
             [
              0.2222222222222222,
              "#3e4989"
             ],
             [
              0.3333333333333333,
              "#31688e"
             ],
             [
              0.4444444444444444,
              "#26828e"
             ],
             [
              0.5555555555555556,
              "#1f9e89"
             ],
             [
              0.6666666666666666,
              "#35b779"
             ],
             [
              0.7777777777777778,
              "#6ece58"
             ],
             [
              0.8888888888888888,
              "#b5de2b"
             ],
             [
              1,
              "#fde725"
             ]
            ],
            "type": "heatmapgl"
           }
          ],
          "histogram": [
           {
            "marker": {
             "line": {
              "color": "white",
              "width": 0.6
             }
            },
            "type": "histogram"
           }
          ],
          "histogram2d": [
           {
            "colorbar": {
             "outlinewidth": 1,
             "tickcolor": "rgb(36,36,36)",
             "ticks": "outside"
            },
            "colorscale": [
             [
              0,
              "#440154"
             ],
             [
              0.1111111111111111,
              "#482878"
             ],
             [
              0.2222222222222222,
              "#3e4989"
             ],
             [
              0.3333333333333333,
              "#31688e"
             ],
             [
              0.4444444444444444,
              "#26828e"
             ],
             [
              0.5555555555555556,
              "#1f9e89"
             ],
             [
              0.6666666666666666,
              "#35b779"
             ],
             [
              0.7777777777777778,
              "#6ece58"
             ],
             [
              0.8888888888888888,
              "#b5de2b"
             ],
             [
              1,
              "#fde725"
             ]
            ],
            "type": "histogram2d"
           }
          ],
          "histogram2dcontour": [
           {
            "colorbar": {
             "outlinewidth": 1,
             "tickcolor": "rgb(36,36,36)",
             "ticks": "outside"
            },
            "colorscale": [
             [
              0,
              "#440154"
             ],
             [
              0.1111111111111111,
              "#482878"
             ],
             [
              0.2222222222222222,
              "#3e4989"
             ],
             [
              0.3333333333333333,
              "#31688e"
             ],
             [
              0.4444444444444444,
              "#26828e"
             ],
             [
              0.5555555555555556,
              "#1f9e89"
             ],
             [
              0.6666666666666666,
              "#35b779"
             ],
             [
              0.7777777777777778,
              "#6ece58"
             ],
             [
              0.8888888888888888,
              "#b5de2b"
             ],
             [
              1,
              "#fde725"
             ]
            ],
            "type": "histogram2dcontour"
           }
          ],
          "mesh3d": [
           {
            "colorbar": {
             "outlinewidth": 1,
             "tickcolor": "rgb(36,36,36)",
             "ticks": "outside"
            },
            "type": "mesh3d"
           }
          ],
          "parcoords": [
           {
            "line": {
             "colorbar": {
              "outlinewidth": 1,
              "tickcolor": "rgb(36,36,36)",
              "ticks": "outside"
             }
            },
            "type": "parcoords"
           }
          ],
          "pie": [
           {
            "automargin": true,
            "type": "pie"
           }
          ],
          "scatter": [
           {
            "marker": {
             "colorbar": {
              "outlinewidth": 1,
              "tickcolor": "rgb(36,36,36)",
              "ticks": "outside"
             }
            },
            "type": "scatter"
           }
          ],
          "scatter3d": [
           {
            "line": {
             "colorbar": {
              "outlinewidth": 1,
              "tickcolor": "rgb(36,36,36)",
              "ticks": "outside"
             }
            },
            "marker": {
             "colorbar": {
              "outlinewidth": 1,
              "tickcolor": "rgb(36,36,36)",
              "ticks": "outside"
             }
            },
            "type": "scatter3d"
           }
          ],
          "scattercarpet": [
           {
            "marker": {
             "colorbar": {
              "outlinewidth": 1,
              "tickcolor": "rgb(36,36,36)",
              "ticks": "outside"
             }
            },
            "type": "scattercarpet"
           }
          ],
          "scattergeo": [
           {
            "marker": {
             "colorbar": {
              "outlinewidth": 1,
              "tickcolor": "rgb(36,36,36)",
              "ticks": "outside"
             }
            },
            "type": "scattergeo"
           }
          ],
          "scattergl": [
           {
            "marker": {
             "colorbar": {
              "outlinewidth": 1,
              "tickcolor": "rgb(36,36,36)",
              "ticks": "outside"
             }
            },
            "type": "scattergl"
           }
          ],
          "scattermapbox": [
           {
            "marker": {
             "colorbar": {
              "outlinewidth": 1,
              "tickcolor": "rgb(36,36,36)",
              "ticks": "outside"
             }
            },
            "type": "scattermapbox"
           }
          ],
          "scatterpolar": [
           {
            "marker": {
             "colorbar": {
              "outlinewidth": 1,
              "tickcolor": "rgb(36,36,36)",
              "ticks": "outside"
             }
            },
            "type": "scatterpolar"
           }
          ],
          "scatterpolargl": [
           {
            "marker": {
             "colorbar": {
              "outlinewidth": 1,
              "tickcolor": "rgb(36,36,36)",
              "ticks": "outside"
             }
            },
            "type": "scatterpolargl"
           }
          ],
          "scatterternary": [
           {
            "marker": {
             "colorbar": {
              "outlinewidth": 1,
              "tickcolor": "rgb(36,36,36)",
              "ticks": "outside"
             }
            },
            "type": "scatterternary"
           }
          ],
          "surface": [
           {
            "colorbar": {
             "outlinewidth": 1,
             "tickcolor": "rgb(36,36,36)",
             "ticks": "outside"
            },
            "colorscale": [
             [
              0,
              "#440154"
             ],
             [
              0.1111111111111111,
              "#482878"
             ],
             [
              0.2222222222222222,
              "#3e4989"
             ],
             [
              0.3333333333333333,
              "#31688e"
             ],
             [
              0.4444444444444444,
              "#26828e"
             ],
             [
              0.5555555555555556,
              "#1f9e89"
             ],
             [
              0.6666666666666666,
              "#35b779"
             ],
             [
              0.7777777777777778,
              "#6ece58"
             ],
             [
              0.8888888888888888,
              "#b5de2b"
             ],
             [
              1,
              "#fde725"
             ]
            ],
            "type": "surface"
           }
          ],
          "table": [
           {
            "cells": {
             "fill": {
              "color": "rgb(237,237,237)"
             },
             "line": {
              "color": "white"
             }
            },
            "header": {
             "fill": {
              "color": "rgb(217,217,217)"
             },
             "line": {
              "color": "white"
             }
            },
            "type": "table"
           }
          ]
         },
         "layout": {
          "annotationdefaults": {
           "arrowhead": 0,
           "arrowwidth": 1
          },
          "autotypenumbers": "strict",
          "coloraxis": {
           "colorbar": {
            "outlinewidth": 1,
            "tickcolor": "rgb(36,36,36)",
            "ticks": "outside"
           }
          },
          "colorscale": {
           "diverging": [
            [
             0,
             "rgb(103,0,31)"
            ],
            [
             0.1,
             "rgb(178,24,43)"
            ],
            [
             0.2,
             "rgb(214,96,77)"
            ],
            [
             0.3,
             "rgb(244,165,130)"
            ],
            [
             0.4,
             "rgb(253,219,199)"
            ],
            [
             0.5,
             "rgb(247,247,247)"
            ],
            [
             0.6,
             "rgb(209,229,240)"
            ],
            [
             0.7,
             "rgb(146,197,222)"
            ],
            [
             0.8,
             "rgb(67,147,195)"
            ],
            [
             0.9,
             "rgb(33,102,172)"
            ],
            [
             1,
             "rgb(5,48,97)"
            ]
           ],
           "sequential": [
            [
             0,
             "#440154"
            ],
            [
             0.1111111111111111,
             "#482878"
            ],
            [
             0.2222222222222222,
             "#3e4989"
            ],
            [
             0.3333333333333333,
             "#31688e"
            ],
            [
             0.4444444444444444,
             "#26828e"
            ],
            [
             0.5555555555555556,
             "#1f9e89"
            ],
            [
             0.6666666666666666,
             "#35b779"
            ],
            [
             0.7777777777777778,
             "#6ece58"
            ],
            [
             0.8888888888888888,
             "#b5de2b"
            ],
            [
             1,
             "#fde725"
            ]
           ],
           "sequentialminus": [
            [
             0,
             "#440154"
            ],
            [
             0.1111111111111111,
             "#482878"
            ],
            [
             0.2222222222222222,
             "#3e4989"
            ],
            [
             0.3333333333333333,
             "#31688e"
            ],
            [
             0.4444444444444444,
             "#26828e"
            ],
            [
             0.5555555555555556,
             "#1f9e89"
            ],
            [
             0.6666666666666666,
             "#35b779"
            ],
            [
             0.7777777777777778,
             "#6ece58"
            ],
            [
             0.8888888888888888,
             "#b5de2b"
            ],
            [
             1,
             "#fde725"
            ]
           ]
          },
          "colorway": [
           "#1F77B4",
           "#FF7F0E",
           "#2CA02C",
           "#D62728",
           "#9467BD",
           "#8C564B",
           "#E377C2",
           "#7F7F7F",
           "#BCBD22",
           "#17BECF"
          ],
          "font": {
           "color": "rgb(36,36,36)"
          },
          "geo": {
           "bgcolor": "white",
           "lakecolor": "white",
           "landcolor": "white",
           "showlakes": true,
           "showland": true,
           "subunitcolor": "white"
          },
          "hoverlabel": {
           "align": "left"
          },
          "hovermode": "closest",
          "mapbox": {
           "style": "light"
          },
          "paper_bgcolor": "white",
          "plot_bgcolor": "white",
          "polar": {
           "angularaxis": {
            "gridcolor": "rgb(232,232,232)",
            "linecolor": "rgb(36,36,36)",
            "showgrid": false,
            "showline": true,
            "ticks": "outside"
           },
           "bgcolor": "white",
           "radialaxis": {
            "gridcolor": "rgb(232,232,232)",
            "linecolor": "rgb(36,36,36)",
            "showgrid": false,
            "showline": true,
            "ticks": "outside"
           }
          },
          "scene": {
           "xaxis": {
            "backgroundcolor": "white",
            "gridcolor": "rgb(232,232,232)",
            "gridwidth": 2,
            "linecolor": "rgb(36,36,36)",
            "showbackground": true,
            "showgrid": false,
            "showline": true,
            "ticks": "outside",
            "zeroline": false,
            "zerolinecolor": "rgb(36,36,36)"
           },
           "yaxis": {
            "backgroundcolor": "white",
            "gridcolor": "rgb(232,232,232)",
            "gridwidth": 2,
            "linecolor": "rgb(36,36,36)",
            "showbackground": true,
            "showgrid": false,
            "showline": true,
            "ticks": "outside",
            "zeroline": false,
            "zerolinecolor": "rgb(36,36,36)"
           },
           "zaxis": {
            "backgroundcolor": "white",
            "gridcolor": "rgb(232,232,232)",
            "gridwidth": 2,
            "linecolor": "rgb(36,36,36)",
            "showbackground": true,
            "showgrid": false,
            "showline": true,
            "ticks": "outside",
            "zeroline": false,
            "zerolinecolor": "rgb(36,36,36)"
           }
          },
          "shapedefaults": {
           "fillcolor": "black",
           "line": {
            "width": 0
           },
           "opacity": 0.3
          },
          "ternary": {
           "aaxis": {
            "gridcolor": "rgb(232,232,232)",
            "linecolor": "rgb(36,36,36)",
            "showgrid": false,
            "showline": true,
            "ticks": "outside"
           },
           "baxis": {
            "gridcolor": "rgb(232,232,232)",
            "linecolor": "rgb(36,36,36)",
            "showgrid": false,
            "showline": true,
            "ticks": "outside"
           },
           "bgcolor": "white",
           "caxis": {
            "gridcolor": "rgb(232,232,232)",
            "linecolor": "rgb(36,36,36)",
            "showgrid": false,
            "showline": true,
            "ticks": "outside"
           }
          },
          "title": {
           "x": 0.05
          },
          "xaxis": {
           "automargin": true,
           "gridcolor": "rgb(232,232,232)",
           "linecolor": "rgb(36,36,36)",
           "showgrid": false,
           "showline": true,
           "ticks": "outside",
           "title": {
            "standoff": 15
           },
           "zeroline": false,
           "zerolinecolor": "rgb(36,36,36)"
          },
          "yaxis": {
           "automargin": true,
           "gridcolor": "rgb(232,232,232)",
           "linecolor": "rgb(36,36,36)",
           "showgrid": false,
           "showline": true,
           "ticks": "outside",
           "title": {
            "standoff": 15
           },
           "zeroline": false,
           "zerolinecolor": "rgb(36,36,36)"
          }
         }
        },
        "title": {
         "text": "Environment Satisfaction by Attrition Status"
        },
        "xaxis": {
         "anchor": "y",
         "domain": [
          0,
          1
         ],
         "title": {
          "text": "EnvironmentSatisfaction"
         }
        },
        "yaxis": {
         "anchor": "x",
         "domain": [
          0,
          1
         ],
         "title": {
          "text": "count"
         }
        }
       }
      }
     },
     "metadata": {}
    }
   ],
   "metadata": {}
  },
  {
   "cell_type": "code",
   "execution_count": 48,
   "source": [
    "fig = px.bar(df.query(\"Gender=='Female'\"),x='DailyRate',y='Attrition',color='Department',orientation='h',title=\"Female Employee's Daily Rate by Attrition Status\")\r\n",
    "fig.show()"
   ],
   "outputs": [
    {
     "output_type": "display_data",
     "data": {
      "application/vnd.plotly.v1+json": {
       "config": {
        "plotlyServerURL": "https://plot.ly"
       },
       "data": [
        {
         "alignmentgroup": "True",
         "hovertemplate": "Department=Sales<br>DailyRate=%{x}<br>Attrition=%{y}<extra></extra>",
         "legendgroup": "Sales",
         "marker": {
          "color": "#1F77B4",
          "pattern": {
           "shape": ""
          }
         },
         "name": "Sales",
         "offsetgroup": "Sales",
         "orientation": "h",
         "showlegend": true,
         "textposition": "auto",
         "type": "bar",
         "x": [
          1102,
          1219,
          705,
          890,
          1141,
          1488,
          1443,
          1435,
          1225,
          1334,
          1353,
          1467,
          809,
          542,
          1329,
          967,
          303,
          1339,
          702,
          602,
          1268,
          526,
          1356,
          121,
          1242,
          896,
          334,
          1052,
          1147,
          1413,
          944,
          854,
          1034,
          1401,
          488,
          322,
          444,
          555,
          812,
          588,
          1162,
          570,
          1130,
          144,
          530,
          641,
          756,
          845,
          350,
          156,
          1178,
          1371,
          759,
          1381,
          891,
          906,
          1082,
          1448,
          296,
          1398,
          1398,
          1499,
          1125,
          163,
          1117,
          195,
          1276,
          204,
          238,
          306,
          1176,
          243,
          1410,
          693,
          217,
          883,
          719,
          384,
          1111,
          118,
          1184,
          760,
          1318,
          661,
          341,
          1231,
          249,
          500,
          1454,
          462,
          1188,
          1404,
          1219,
          152,
          1479,
          955,
          266,
          1448,
          145,
          1038,
          1234,
          124,
          1333,
          1082,
          769,
          309,
          970,
          1050,
          603,
          1400,
          408,
          1372,
          862,
          1402,
          1146,
          107,
          1212,
          326,
          1449,
          168,
          131,
          531,
          587,
          1060,
          1018,
          1009,
          507,
          607,
          1291,
          703,
          662,
          205,
          1174,
          667,
          855,
          329,
          1476,
          383,
          115,
          790,
          830,
          571,
          228,
          1402,
          492,
          437,
          884,
          118,
          544,
          1141,
          1112,
          1225,
          530,
          708,
          530,
          428,
          1283,
          1313,
          211,
          511,
          196,
          796,
          1125,
          723,
          589,
          1319,
          728,
          1254,
          1172,
          1266,
          511,
          337,
          1079,
          735,
          1251,
          1475,
          1443,
          605,
          1224,
          444,
          801,
          1382,
          557,
          704,
          345,
          1120,
          374,
          722,
          1167
         ],
         "xaxis": "x",
         "y": [
          "Yes",
          "No",
          "No",
          "No",
          "No",
          "No",
          "No",
          "No",
          "No",
          "No",
          "No",
          "No",
          "No",
          "Yes",
          "No",
          "No",
          "No",
          "No",
          "No",
          "Yes",
          "No",
          "No",
          "Yes",
          "Yes",
          "No",
          "No",
          "Yes",
          "No",
          "No",
          "No",
          "No",
          "No",
          "No",
          "No",
          "No",
          "No",
          "No",
          "No",
          "No",
          "No",
          "Yes",
          "No",
          "No",
          "No",
          "No",
          "No",
          "Yes",
          "No",
          "Yes",
          "Yes",
          "No",
          "No",
          "No",
          "No",
          "No",
          "No",
          "No",
          "Yes",
          "Yes",
          "No",
          "No",
          "No",
          "No",
          "No",
          "No",
          "No",
          "No",
          "No",
          "No",
          "Yes",
          "No",
          "No",
          "No",
          "Yes",
          "No",
          "No",
          "Yes",
          "No",
          "No",
          "Yes",
          "Yes",
          "No",
          "No",
          "No",
          "Yes",
          "No",
          "No",
          "Yes",
          "No",
          "No",
          "No",
          "No",
          "No",
          "No",
          "Yes",
          "No",
          "Yes",
          "No",
          "No",
          "No",
          "No",
          "No",
          "No",
          "No",
          "Yes",
          "No",
          "No",
          "No",
          "Yes",
          "No",
          "Yes",
          "Yes",
          "No",
          "No",
          "No",
          "No",
          "No",
          "No",
          "Yes",
          "No",
          "No",
          "No",
          "No",
          "Yes",
          "No",
          "No",
          "No",
          "No",
          "No",
          "Yes",
          "Yes",
          "No",
          "No",
          "Yes",
          "No",
          "No",
          "No",
          "No",
          "Yes",
          "Yes",
          "No",
          "No",
          "No",
          "No",
          "No",
          "No",
          "No",
          "No",
          "Yes",
          "No",
          "No",
          "No",
          "No",
          "Yes",
          "No",
          "Yes",
          "No",
          "No",
          "Yes",
          "No",
          "No",
          "No",
          "No",
          "No",
          "No",
          "No",
          "No",
          "Yes",
          "No",
          "No",
          "No",
          "No",
          "No",
          "No",
          "No",
          "Yes",
          "No",
          "No",
          "No",
          "No",
          "No",
          "No",
          "No",
          "No",
          "No",
          "No",
          "No",
          "No",
          "No"
         ],
         "yaxis": "y"
        },
        {
         "alignmentgroup": "True",
         "hovertemplate": "Department=Research & Development<br>DailyRate=%{x}<br>Attrition=%{y}<extra></extra>",
         "legendgroup": "Research & Development",
         "marker": {
          "color": "#FF7F0E",
          "pattern": {
           "shape": ""
          }
         },
         "name": "Research & Development",
         "offsetgroup": "Research & Development",
         "orientation": "h",
         "showlegend": true,
         "textposition": "auto",
         "type": "bar",
         "x": [
          1392,
          1324,
          153,
          1389,
          673,
          419,
          1282,
          1125,
          477,
          1273,
          852,
          1240,
          721,
          1360,
          515,
          1142,
          653,
          989,
          1223,
          836,
          132,
          746,
          573,
          1217,
          871,
          665,
          1115,
          534,
          1456,
          1031,
          1354,
          922,
          441,
          841,
          147,
          470,
          957,
          1033,
          364,
          438,
          201,
          1181,
          1395,
          1145,
          1452,
          713,
          1380,
          140,
          629,
          1084,
          931,
          989,
          313,
          894,
          138,
          926,
          635,
          1005,
          147,
          1323,
          465,
          1431,
          832,
          1017,
          505,
          916,
          685,
          269,
          728,
          1315,
          1479,
          1372,
          1117,
          636,
          1105,
          849,
          553,
          185,
          1091,
          1220,
          1018,
          1275,
          798,
          559,
          928,
          1001,
          1232,
          810,
          1062,
          1171,
          921,
          1144,
          329,
          1311,
          253,
          1107,
          201,
          555,
          480,
          1473,
          1063,
          1490,
          532,
          317,
          422,
          1485,
          1368,
          1349,
          408,
          1116,
          983,
          548,
          302,
          443,
          922,
          509,
          799,
          1034,
          1495,
          446,
          1287,
          798,
          959,
          622,
          362,
          1236,
          646,
          160,
          991,
          1442,
          408,
          827,
          608,
          1018,
          654,
          427,
          168,
          970,
          804,
          975,
          1225,
          167,
          575,
          657,
          182,
          376,
          571,
          240,
          121,
          791,
          1325,
          805,
          202,
          676,
          1258,
          932,
          859,
          946,
          252,
          702,
          887,
          1343,
          638,
          890,
          607,
          130,
          1418,
          1265,
          102,
          422,
          1086,
          177,
          1427,
          617,
          1085,
          995,
          618,
          1272,
          1137,
          527,
          1333,
          1184,
          616,
          498,
          1069,
          906,
          461,
          974,
          827,
          1134,
          138,
          1206,
          853,
          1441,
          583,
          153,
          1097,
          109,
          549,
          466,
          1055,
          715,
          1141,
          247,
          885,
          945,
          1109,
          124,
          921,
          1240,
          796,
          1334,
          1003,
          509,
          330,
          857,
          827,
          1107,
          950,
          1082,
          984,
          490,
          367,
          593,
          1485,
          902,
          718,
          1401,
          1457,
          977,
          1223,
          942,
          1421,
          984,
          116,
          1316,
          363,
          458,
          966,
          1117,
          504,
          1010,
          1062,
          694,
          1320,
          265,
          251,
          135,
          603,
          429,
          621,
          968,
          879,
          806,
          266,
          364,
          412,
          1138,
          325,
          1476,
          1322,
          634,
          282,
          601,
          1405,
          1124,
          817,
          999,
          1202,
          404,
          1200,
          322,
          930,
          135,
          258,
          1462,
          337,
          971,
          1055,
          182,
          202,
          1255,
          359,
          401,
          592,
          1445,
          748,
          1099,
          271,
          410,
          1050,
          1089,
          1029,
          561,
          441,
          824,
          104,
          607,
          1108,
          474,
          670,
          457,
          634,
          1313,
          1015,
          559,
          722,
          580,
          884,
          208,
          711,
          1329,
          397,
          1470,
          448,
          567,
          486,
          711,
          301,
          813,
          1130,
          465,
          894,
          584,
          464,
          148,
          1495,
          678,
          921,
          1082,
          1005,
          369,
          160,
          163,
          1312,
          1054,
          594,
          590,
          661,
          1153,
          1294,
          942,
          616,
          1092,
          261,
          1194,
          1001,
          750,
          431,
          1217,
          1431,
          430,
          1297,
          207,
          823,
          1131,
          219,
          556,
          482,
          117,
          471,
          1394,
          238,
          1146,
          155,
          1276,
          697,
          157,
          692,
          1162,
          501,
          267,
          201,
          161,
          688,
          582,
          1194,
          287,
          468
         ],
         "xaxis": "x",
         "y": [
          "No",
          "No",
          "No",
          "No",
          "No",
          "No",
          "No",
          "Yes",
          "No",
          "No",
          "No",
          "No",
          "No",
          "Yes",
          "No",
          "No",
          "No",
          "No",
          "No",
          "No",
          "No",
          "No",
          "No",
          "No",
          "Yes",
          "No",
          "No",
          "No",
          "No",
          "No",
          "No",
          "No",
          "Yes",
          "No",
          "Yes",
          "No",
          "No",
          "Yes",
          "No",
          "No",
          "No",
          "No",
          "No",
          "No",
          "No",
          "No",
          "No",
          "No",
          "No",
          "No",
          "No",
          "No",
          "No",
          "No",
          "No",
          "No",
          "No",
          "Yes",
          "No",
          "No",
          "Yes",
          "No",
          "No",
          "No",
          "No",
          "No",
          "No",
          "No",
          "No",
          "No",
          "No",
          "No",
          "No",
          "No",
          "No",
          "No",
          "No",
          "No",
          "No",
          "No",
          "No",
          "No",
          "No",
          "No",
          "No",
          "No",
          "No",
          "No",
          "No",
          "No",
          "No",
          "No",
          "No",
          "No",
          "No",
          "No",
          "No",
          "No",
          "No",
          "No",
          "No",
          "No",
          "No",
          "No",
          "No",
          "No",
          "No",
          "No",
          "Yes",
          "No",
          "No",
          "No",
          "No",
          "No",
          "No",
          "No",
          "No",
          "No",
          "No",
          "No",
          "Yes",
          "No",
          "No",
          "No",
          "No",
          "No",
          "No",
          "No",
          "No",
          "No",
          "No",
          "No",
          "No",
          "No",
          "Yes",
          "No",
          "No",
          "No",
          "No",
          "No",
          "No",
          "No",
          "No",
          "No",
          "No",
          "No",
          "No",
          "No",
          "No",
          "No",
          "No",
          "Yes",
          "No",
          "No",
          "No",
          "No",
          "No",
          "No",
          "No",
          "No",
          "Yes",
          "No",
          "No",
          "No",
          "No",
          "Yes",
          "No",
          "No",
          "No",
          "No",
          "No",
          "No",
          "Yes",
          "Yes",
          "Yes",
          "No",
          "No",
          "No",
          "No",
          "No",
          "No",
          "No",
          "No",
          "No",
          "No",
          "Yes",
          "No",
          "No",
          "No",
          "No",
          "Yes",
          "No",
          "No",
          "No",
          "No",
          "No",
          "Yes",
          "Yes",
          "No",
          "No",
          "No",
          "No",
          "Yes",
          "No",
          "Yes",
          "No",
          "No",
          "No",
          "No",
          "No",
          "No",
          "Yes",
          "No",
          "No",
          "No",
          "No",
          "Yes",
          "No",
          "No",
          "No",
          "No",
          "No",
          "No",
          "No",
          "Yes",
          "No",
          "No",
          "No",
          "No",
          "No",
          "No",
          "No",
          "No",
          "Yes",
          "No",
          "No",
          "No",
          "No",
          "No",
          "No",
          "Yes",
          "No",
          "No",
          "No",
          "No",
          "No",
          "Yes",
          "No",
          "No",
          "No",
          "Yes",
          "No",
          "No",
          "Yes",
          "No",
          "No",
          "No",
          "No",
          "No",
          "No",
          "No",
          "No",
          "No",
          "Yes",
          "No",
          "No",
          "No",
          "No",
          "No",
          "No",
          "No",
          "No",
          "No",
          "Yes",
          "No",
          "No",
          "Yes",
          "No",
          "No",
          "No",
          "Yes",
          "No",
          "No",
          "No",
          "Yes",
          "Yes",
          "No",
          "No",
          "No",
          "No",
          "No",
          "No",
          "No",
          "Yes",
          "No",
          "No",
          "Yes",
          "Yes",
          "No",
          "No",
          "No",
          "No",
          "No",
          "No",
          "No",
          "No",
          "No",
          "No",
          "No",
          "No",
          "No",
          "No",
          "No",
          "No",
          "No",
          "No",
          "No",
          "No",
          "No",
          "No",
          "No",
          "No",
          "No",
          "No",
          "No",
          "No",
          "No",
          "No",
          "No",
          "No",
          "No",
          "No",
          "No",
          "No",
          "No",
          "No",
          "No",
          "No",
          "No",
          "No",
          "Yes",
          "No",
          "No",
          "No",
          "Yes",
          "No",
          "No",
          "No",
          "No",
          "No",
          "No",
          "No",
          "No",
          "No",
          "No",
          "No",
          "No",
          "No",
          "No",
          "No",
          "No",
          "No",
          "Yes",
          "No",
          "No",
          "No",
          "No",
          "No",
          "No",
          "No",
          "No",
          "No",
          "No",
          "No",
          "No",
          "No",
          "No",
          "No",
          "No"
         ],
         "yaxis": "y"
        },
        {
         "alignmentgroup": "True",
         "hovertemplate": "Department=Human Resources<br>DailyRate=%{x}<br>Attrition=%{y}<extra></extra>",
         "legendgroup": "Human Resources",
         "marker": {
          "color": "#2CA02C",
          "pattern": {
           "shape": ""
          }
         },
         "name": "Human Resources",
         "offsetgroup": "Human Resources",
         "orientation": "h",
         "showlegend": true,
         "textposition": "auto",
         "type": "bar",
         "x": [
          1420,
          142,
          1355,
          988,
          426,
          1112,
          141,
          1383,
          991,
          1147,
          1398,
          1107,
          1176,
          528,
          176,
          600,
          920,
          1337,
          309,
          1146
         ],
         "xaxis": "x",
         "y": [
          "No",
          "No",
          "No",
          "Yes",
          "Yes",
          "No",
          "No",
          "No",
          "No",
          "No",
          "No",
          "Yes",
          "No",
          "No",
          "No",
          "Yes",
          "Yes",
          "Yes",
          "No",
          "No"
         ],
         "yaxis": "y"
        }
       ],
       "layout": {
        "barmode": "relative",
        "legend": {
         "title": {
          "text": "Department"
         },
         "tracegroupgap": 0
        },
        "template": {
         "data": {
          "bar": [
           {
            "error_x": {
             "color": "rgb(36,36,36)"
            },
            "error_y": {
             "color": "rgb(36,36,36)"
            },
            "marker": {
             "line": {
              "color": "white",
              "width": 0.5
             },
             "pattern": {
              "fillmode": "overlay",
              "size": 10,
              "solidity": 0.2
             }
            },
            "type": "bar"
           }
          ],
          "barpolar": [
           {
            "marker": {
             "line": {
              "color": "white",
              "width": 0.5
             },
             "pattern": {
              "fillmode": "overlay",
              "size": 10,
              "solidity": 0.2
             }
            },
            "type": "barpolar"
           }
          ],
          "carpet": [
           {
            "aaxis": {
             "endlinecolor": "rgb(36,36,36)",
             "gridcolor": "white",
             "linecolor": "white",
             "minorgridcolor": "white",
             "startlinecolor": "rgb(36,36,36)"
            },
            "baxis": {
             "endlinecolor": "rgb(36,36,36)",
             "gridcolor": "white",
             "linecolor": "white",
             "minorgridcolor": "white",
             "startlinecolor": "rgb(36,36,36)"
            },
            "type": "carpet"
           }
          ],
          "choropleth": [
           {
            "colorbar": {
             "outlinewidth": 1,
             "tickcolor": "rgb(36,36,36)",
             "ticks": "outside"
            },
            "type": "choropleth"
           }
          ],
          "contour": [
           {
            "colorbar": {
             "outlinewidth": 1,
             "tickcolor": "rgb(36,36,36)",
             "ticks": "outside"
            },
            "colorscale": [
             [
              0,
              "#440154"
             ],
             [
              0.1111111111111111,
              "#482878"
             ],
             [
              0.2222222222222222,
              "#3e4989"
             ],
             [
              0.3333333333333333,
              "#31688e"
             ],
             [
              0.4444444444444444,
              "#26828e"
             ],
             [
              0.5555555555555556,
              "#1f9e89"
             ],
             [
              0.6666666666666666,
              "#35b779"
             ],
             [
              0.7777777777777778,
              "#6ece58"
             ],
             [
              0.8888888888888888,
              "#b5de2b"
             ],
             [
              1,
              "#fde725"
             ]
            ],
            "type": "contour"
           }
          ],
          "contourcarpet": [
           {
            "colorbar": {
             "outlinewidth": 1,
             "tickcolor": "rgb(36,36,36)",
             "ticks": "outside"
            },
            "type": "contourcarpet"
           }
          ],
          "heatmap": [
           {
            "colorbar": {
             "outlinewidth": 1,
             "tickcolor": "rgb(36,36,36)",
             "ticks": "outside"
            },
            "colorscale": [
             [
              0,
              "#440154"
             ],
             [
              0.1111111111111111,
              "#482878"
             ],
             [
              0.2222222222222222,
              "#3e4989"
             ],
             [
              0.3333333333333333,
              "#31688e"
             ],
             [
              0.4444444444444444,
              "#26828e"
             ],
             [
              0.5555555555555556,
              "#1f9e89"
             ],
             [
              0.6666666666666666,
              "#35b779"
             ],
             [
              0.7777777777777778,
              "#6ece58"
             ],
             [
              0.8888888888888888,
              "#b5de2b"
             ],
             [
              1,
              "#fde725"
             ]
            ],
            "type": "heatmap"
           }
          ],
          "heatmapgl": [
           {
            "colorbar": {
             "outlinewidth": 1,
             "tickcolor": "rgb(36,36,36)",
             "ticks": "outside"
            },
            "colorscale": [
             [
              0,
              "#440154"
             ],
             [
              0.1111111111111111,
              "#482878"
             ],
             [
              0.2222222222222222,
              "#3e4989"
             ],
             [
              0.3333333333333333,
              "#31688e"
             ],
             [
              0.4444444444444444,
              "#26828e"
             ],
             [
              0.5555555555555556,
              "#1f9e89"
             ],
             [
              0.6666666666666666,
              "#35b779"
             ],
             [
              0.7777777777777778,
              "#6ece58"
             ],
             [
              0.8888888888888888,
              "#b5de2b"
             ],
             [
              1,
              "#fde725"
             ]
            ],
            "type": "heatmapgl"
           }
          ],
          "histogram": [
           {
            "marker": {
             "line": {
              "color": "white",
              "width": 0.6
             }
            },
            "type": "histogram"
           }
          ],
          "histogram2d": [
           {
            "colorbar": {
             "outlinewidth": 1,
             "tickcolor": "rgb(36,36,36)",
             "ticks": "outside"
            },
            "colorscale": [
             [
              0,
              "#440154"
             ],
             [
              0.1111111111111111,
              "#482878"
             ],
             [
              0.2222222222222222,
              "#3e4989"
             ],
             [
              0.3333333333333333,
              "#31688e"
             ],
             [
              0.4444444444444444,
              "#26828e"
             ],
             [
              0.5555555555555556,
              "#1f9e89"
             ],
             [
              0.6666666666666666,
              "#35b779"
             ],
             [
              0.7777777777777778,
              "#6ece58"
             ],
             [
              0.8888888888888888,
              "#b5de2b"
             ],
             [
              1,
              "#fde725"
             ]
            ],
            "type": "histogram2d"
           }
          ],
          "histogram2dcontour": [
           {
            "colorbar": {
             "outlinewidth": 1,
             "tickcolor": "rgb(36,36,36)",
             "ticks": "outside"
            },
            "colorscale": [
             [
              0,
              "#440154"
             ],
             [
              0.1111111111111111,
              "#482878"
             ],
             [
              0.2222222222222222,
              "#3e4989"
             ],
             [
              0.3333333333333333,
              "#31688e"
             ],
             [
              0.4444444444444444,
              "#26828e"
             ],
             [
              0.5555555555555556,
              "#1f9e89"
             ],
             [
              0.6666666666666666,
              "#35b779"
             ],
             [
              0.7777777777777778,
              "#6ece58"
             ],
             [
              0.8888888888888888,
              "#b5de2b"
             ],
             [
              1,
              "#fde725"
             ]
            ],
            "type": "histogram2dcontour"
           }
          ],
          "mesh3d": [
           {
            "colorbar": {
             "outlinewidth": 1,
             "tickcolor": "rgb(36,36,36)",
             "ticks": "outside"
            },
            "type": "mesh3d"
           }
          ],
          "parcoords": [
           {
            "line": {
             "colorbar": {
              "outlinewidth": 1,
              "tickcolor": "rgb(36,36,36)",
              "ticks": "outside"
             }
            },
            "type": "parcoords"
           }
          ],
          "pie": [
           {
            "automargin": true,
            "type": "pie"
           }
          ],
          "scatter": [
           {
            "marker": {
             "colorbar": {
              "outlinewidth": 1,
              "tickcolor": "rgb(36,36,36)",
              "ticks": "outside"
             }
            },
            "type": "scatter"
           }
          ],
          "scatter3d": [
           {
            "line": {
             "colorbar": {
              "outlinewidth": 1,
              "tickcolor": "rgb(36,36,36)",
              "ticks": "outside"
             }
            },
            "marker": {
             "colorbar": {
              "outlinewidth": 1,
              "tickcolor": "rgb(36,36,36)",
              "ticks": "outside"
             }
            },
            "type": "scatter3d"
           }
          ],
          "scattercarpet": [
           {
            "marker": {
             "colorbar": {
              "outlinewidth": 1,
              "tickcolor": "rgb(36,36,36)",
              "ticks": "outside"
             }
            },
            "type": "scattercarpet"
           }
          ],
          "scattergeo": [
           {
            "marker": {
             "colorbar": {
              "outlinewidth": 1,
              "tickcolor": "rgb(36,36,36)",
              "ticks": "outside"
             }
            },
            "type": "scattergeo"
           }
          ],
          "scattergl": [
           {
            "marker": {
             "colorbar": {
              "outlinewidth": 1,
              "tickcolor": "rgb(36,36,36)",
              "ticks": "outside"
             }
            },
            "type": "scattergl"
           }
          ],
          "scattermapbox": [
           {
            "marker": {
             "colorbar": {
              "outlinewidth": 1,
              "tickcolor": "rgb(36,36,36)",
              "ticks": "outside"
             }
            },
            "type": "scattermapbox"
           }
          ],
          "scatterpolar": [
           {
            "marker": {
             "colorbar": {
              "outlinewidth": 1,
              "tickcolor": "rgb(36,36,36)",
              "ticks": "outside"
             }
            },
            "type": "scatterpolar"
           }
          ],
          "scatterpolargl": [
           {
            "marker": {
             "colorbar": {
              "outlinewidth": 1,
              "tickcolor": "rgb(36,36,36)",
              "ticks": "outside"
             }
            },
            "type": "scatterpolargl"
           }
          ],
          "scatterternary": [
           {
            "marker": {
             "colorbar": {
              "outlinewidth": 1,
              "tickcolor": "rgb(36,36,36)",
              "ticks": "outside"
             }
            },
            "type": "scatterternary"
           }
          ],
          "surface": [
           {
            "colorbar": {
             "outlinewidth": 1,
             "tickcolor": "rgb(36,36,36)",
             "ticks": "outside"
            },
            "colorscale": [
             [
              0,
              "#440154"
             ],
             [
              0.1111111111111111,
              "#482878"
             ],
             [
              0.2222222222222222,
              "#3e4989"
             ],
             [
              0.3333333333333333,
              "#31688e"
             ],
             [
              0.4444444444444444,
              "#26828e"
             ],
             [
              0.5555555555555556,
              "#1f9e89"
             ],
             [
              0.6666666666666666,
              "#35b779"
             ],
             [
              0.7777777777777778,
              "#6ece58"
             ],
             [
              0.8888888888888888,
              "#b5de2b"
             ],
             [
              1,
              "#fde725"
             ]
            ],
            "type": "surface"
           }
          ],
          "table": [
           {
            "cells": {
             "fill": {
              "color": "rgb(237,237,237)"
             },
             "line": {
              "color": "white"
             }
            },
            "header": {
             "fill": {
              "color": "rgb(217,217,217)"
             },
             "line": {
              "color": "white"
             }
            },
            "type": "table"
           }
          ]
         },
         "layout": {
          "annotationdefaults": {
           "arrowhead": 0,
           "arrowwidth": 1
          },
          "autotypenumbers": "strict",
          "coloraxis": {
           "colorbar": {
            "outlinewidth": 1,
            "tickcolor": "rgb(36,36,36)",
            "ticks": "outside"
           }
          },
          "colorscale": {
           "diverging": [
            [
             0,
             "rgb(103,0,31)"
            ],
            [
             0.1,
             "rgb(178,24,43)"
            ],
            [
             0.2,
             "rgb(214,96,77)"
            ],
            [
             0.3,
             "rgb(244,165,130)"
            ],
            [
             0.4,
             "rgb(253,219,199)"
            ],
            [
             0.5,
             "rgb(247,247,247)"
            ],
            [
             0.6,
             "rgb(209,229,240)"
            ],
            [
             0.7,
             "rgb(146,197,222)"
            ],
            [
             0.8,
             "rgb(67,147,195)"
            ],
            [
             0.9,
             "rgb(33,102,172)"
            ],
            [
             1,
             "rgb(5,48,97)"
            ]
           ],
           "sequential": [
            [
             0,
             "#440154"
            ],
            [
             0.1111111111111111,
             "#482878"
            ],
            [
             0.2222222222222222,
             "#3e4989"
            ],
            [
             0.3333333333333333,
             "#31688e"
            ],
            [
             0.4444444444444444,
             "#26828e"
            ],
            [
             0.5555555555555556,
             "#1f9e89"
            ],
            [
             0.6666666666666666,
             "#35b779"
            ],
            [
             0.7777777777777778,
             "#6ece58"
            ],
            [
             0.8888888888888888,
             "#b5de2b"
            ],
            [
             1,
             "#fde725"
            ]
           ],
           "sequentialminus": [
            [
             0,
             "#440154"
            ],
            [
             0.1111111111111111,
             "#482878"
            ],
            [
             0.2222222222222222,
             "#3e4989"
            ],
            [
             0.3333333333333333,
             "#31688e"
            ],
            [
             0.4444444444444444,
             "#26828e"
            ],
            [
             0.5555555555555556,
             "#1f9e89"
            ],
            [
             0.6666666666666666,
             "#35b779"
            ],
            [
             0.7777777777777778,
             "#6ece58"
            ],
            [
             0.8888888888888888,
             "#b5de2b"
            ],
            [
             1,
             "#fde725"
            ]
           ]
          },
          "colorway": [
           "#1F77B4",
           "#FF7F0E",
           "#2CA02C",
           "#D62728",
           "#9467BD",
           "#8C564B",
           "#E377C2",
           "#7F7F7F",
           "#BCBD22",
           "#17BECF"
          ],
          "font": {
           "color": "rgb(36,36,36)"
          },
          "geo": {
           "bgcolor": "white",
           "lakecolor": "white",
           "landcolor": "white",
           "showlakes": true,
           "showland": true,
           "subunitcolor": "white"
          },
          "hoverlabel": {
           "align": "left"
          },
          "hovermode": "closest",
          "mapbox": {
           "style": "light"
          },
          "paper_bgcolor": "white",
          "plot_bgcolor": "white",
          "polar": {
           "angularaxis": {
            "gridcolor": "rgb(232,232,232)",
            "linecolor": "rgb(36,36,36)",
            "showgrid": false,
            "showline": true,
            "ticks": "outside"
           },
           "bgcolor": "white",
           "radialaxis": {
            "gridcolor": "rgb(232,232,232)",
            "linecolor": "rgb(36,36,36)",
            "showgrid": false,
            "showline": true,
            "ticks": "outside"
           }
          },
          "scene": {
           "xaxis": {
            "backgroundcolor": "white",
            "gridcolor": "rgb(232,232,232)",
            "gridwidth": 2,
            "linecolor": "rgb(36,36,36)",
            "showbackground": true,
            "showgrid": false,
            "showline": true,
            "ticks": "outside",
            "zeroline": false,
            "zerolinecolor": "rgb(36,36,36)"
           },
           "yaxis": {
            "backgroundcolor": "white",
            "gridcolor": "rgb(232,232,232)",
            "gridwidth": 2,
            "linecolor": "rgb(36,36,36)",
            "showbackground": true,
            "showgrid": false,
            "showline": true,
            "ticks": "outside",
            "zeroline": false,
            "zerolinecolor": "rgb(36,36,36)"
           },
           "zaxis": {
            "backgroundcolor": "white",
            "gridcolor": "rgb(232,232,232)",
            "gridwidth": 2,
            "linecolor": "rgb(36,36,36)",
            "showbackground": true,
            "showgrid": false,
            "showline": true,
            "ticks": "outside",
            "zeroline": false,
            "zerolinecolor": "rgb(36,36,36)"
           }
          },
          "shapedefaults": {
           "fillcolor": "black",
           "line": {
            "width": 0
           },
           "opacity": 0.3
          },
          "ternary": {
           "aaxis": {
            "gridcolor": "rgb(232,232,232)",
            "linecolor": "rgb(36,36,36)",
            "showgrid": false,
            "showline": true,
            "ticks": "outside"
           },
           "baxis": {
            "gridcolor": "rgb(232,232,232)",
            "linecolor": "rgb(36,36,36)",
            "showgrid": false,
            "showline": true,
            "ticks": "outside"
           },
           "bgcolor": "white",
           "caxis": {
            "gridcolor": "rgb(232,232,232)",
            "linecolor": "rgb(36,36,36)",
            "showgrid": false,
            "showline": true,
            "ticks": "outside"
           }
          },
          "title": {
           "x": 0.05
          },
          "xaxis": {
           "automargin": true,
           "gridcolor": "rgb(232,232,232)",
           "linecolor": "rgb(36,36,36)",
           "showgrid": false,
           "showline": true,
           "ticks": "outside",
           "title": {
            "standoff": 15
           },
           "zeroline": false,
           "zerolinecolor": "rgb(36,36,36)"
          },
          "yaxis": {
           "automargin": true,
           "gridcolor": "rgb(232,232,232)",
           "linecolor": "rgb(36,36,36)",
           "showgrid": false,
           "showline": true,
           "ticks": "outside",
           "title": {
            "standoff": 15
           },
           "zeroline": false,
           "zerolinecolor": "rgb(36,36,36)"
          }
         }
        },
        "title": {
         "text": "Female Employee's Daily Rate by Attrition Status"
        },
        "xaxis": {
         "anchor": "y",
         "domain": [
          0,
          1
         ],
         "title": {
          "text": "DailyRate"
         }
        },
        "yaxis": {
         "anchor": "x",
         "domain": [
          0,
          1
         ],
         "title": {
          "text": "Attrition"
         }
        }
       }
      }
     },
     "metadata": {}
    }
   ],
   "metadata": {}
  },
  {
   "cell_type": "code",
   "execution_count": 58,
   "source": [
    "fig = px.bar(df.query(\"Gender=='Male'\"),x='DailyRate',y='Attrition',color='Department',orientation='h',title=\"Male Employee's Daily Rate by Attrition Status\")\r\n",
    "fig.show()"
   ],
   "outputs": [
    {
     "output_type": "display_data",
     "data": {
      "application/vnd.plotly.v1+json": {
       "config": {
        "plotlyServerURL": "https://plot.ly"
       },
       "data": [
        {
         "alignmentgroup": "True",
         "hovertemplate": "Department=Research & Development<br>DailyRate=%{x}<br>Attrition=%{y}<extra></extra>",
         "legendgroup": "Research & Development",
         "marker": {
          "color": "#1F77B4",
          "pattern": {
           "shape": ""
          }
         },
         "name": "Research & Development",
         "offsetgroup": "Research & Development",
         "orientation": "h",
         "showlegend": true,
         "textposition": "auto",
         "type": "bar",
         "x": [
          279,
          1373,
          591,
          1005,
          1358,
          216,
          1299,
          809,
          670,
          1346,
          103,
          334,
          1123,
          371,
          391,
          699,
          924,
          1459,
          125,
          813,
          464,
          1357,
          408,
          1229,
          626,
          1434,
          1097,
          655,
          1115,
          427,
          1195,
          1339,
          664,
          318,
          1328,
          1082,
          548,
          193,
          397,
          852,
          1214,
          1153,
          1400,
          432,
          288,
          530,
          638,
          489,
          827,
          1040,
          1280,
          658,
          1127,
          1312,
          684,
          594,
          216,
          1150,
          1316,
          1427,
          857,
          933,
          194,
          1496,
          1169,
          1256,
          691,
          440,
          334,
          1450,
          465,
          120,
          1157,
          1480,
          111,
          134,
          303,
          328,
          692,
          1069,
          699,
          556,
          1344,
          1195,
          290,
          1261,
          1084,
          472,
          1002,
          878,
          905,
          1180,
          1136,
          1151,
          644,
          829,
          1469,
          992,
          1396,
          663,
          979,
          142,
          896,
          532,
          813,
          515,
          1411,
          1300,
          252,
          1327,
          470,
          1199,
          504,
          665,
          1416,
          833,
          307,
          1311,
          128,
          529,
          1463,
          675,
          1385,
          1403,
          452,
          666,
          1158,
          996,
          797,
          1070,
          147,
          496,
          920,
          688,
          1449,
          506,
          889,
          230,
          566,
          1302,
          1476,
          1132,
          390,
          691,
          1249,
          192,
          117,
          723,
          1157,
          672,
          1482,
          549,
          318,
          738,
          1192,
          343,
          1296,
          1309,
          483,
          1319,
          1332,
          593,
          1046,
          408,
          1283,
          755,
          1469,
          1261,
          575,
          464,
          1305,
          982,
          821,
          313,
          329,
          1218,
          1300,
          688,
          319,
          192,
          1490,
          1400,
          986,
          1099,
          1009,
          144,
          1303,
          1274,
          1277,
          587,
          1276,
          534,
          1474,
          1368,
          319,
          232,
          471,
          956,
          1245,
          691,
          823,
          254,
          538,
          782,
          1001,
          1315,
          604,
          1397,
          482,
          1017,
          1296,
          913,
          1115,
          1362,
          1076,
          727,
          885,
          806,
          1225,
          1207,
          970,
          294,
          381,
          933,
          650,
          832,
          346,
          430,
          268,
          527,
          310,
          725,
          715,
          921,
          570,
          1243,
          1092,
          691,
          213,
          1252,
          286,
          890,
          720,
          933,
          471,
          589,
          269,
          950,
          443,
          625,
          180,
          1012,
          1230,
          986,
          1271,
          300,
          1269,
          1222,
          672,
          881,
          374,
          661,
          781,
          1425,
          1122,
          546,
          1198,
          1469,
          188,
          263,
          938,
          129,
          1469,
          805,
          1053,
          289,
          1379,
          335,
          1126,
          840,
          248,
          939,
          1391,
          566,
          622,
          287,
          1066,
          217,
          277,
          1355,
          802,
          804,
          135,
          660,
          342,
          1186,
          1464,
          430,
          444,
          1323,
          1366,
          192,
          1176,
          1492,
          1277,
          1091,
          654,
          895,
          618,
          1219,
          1330,
          1017,
          469,
          1009,
          697,
          1262,
          994,
          203,
          1308,
          439,
          217,
          1451,
          1003,
          188,
          718,
          773,
          247,
          167,
          874,
          199,
          982,
          477,
          1384,
          819,
          669,
          636,
          645,
          805,
          1097,
          1256,
          111,
          906,
          1179,
          1450,
          917,
          853,
          200,
          150,
          117,
          1465,
          1103,
          685,
          1332,
          920,
          1098,
          469,
          969,
          1167,
          1329,
          715,
          373,
          583,
          177,
          1429,
          791,
          1199,
          735,
          193,
          640,
          848,
          1089,
          360,
          524,
          935,
          495,
          458,
          943,
          523,
          482,
          882,
          329,
          855,
          1369,
          285,
          693,
          330,
          1439,
          1485,
          683,
          200,
          949,
          652,
          1475,
          1136,
          560,
          1377,
          172,
          465,
          1413,
          1283,
          663,
          1038,
          523,
          1448,
          218,
          981,
          447,
          1495,
          896,
          1467,
          990,
          405,
          1490,
          829,
          381,
          1193,
          1229,
          289,
          1423,
          1083,
          516,
          495,
          224,
          136,
          507,
          676,
          333,
          1210,
          674,
          575,
          950,
          288,
          589,
          350,
          1142,
          538,
          598,
          992,
          903,
          1200,
          479,
          1351,
          1370,
          995,
          977,
          1302,
          1059,
          750,
          653,
          990,
          1349,
          329,
          1234,
          241,
          426,
          1387,
          1302,
          819,
          546,
          170,
          671,
          365,
          591,
          1329,
          772,
          492,
          311,
          1040,
          1291,
          1189,
          977,
          809,
          1351,
          1320,
          1395,
          1259,
          786,
          1441,
          1157,
          370,
          267,
          146,
          581,
          1238,
          390,
          585,
          741,
          506,
          717,
          1370,
          793,
          792,
          461,
          181,
          305,
          953,
          833,
          807,
          855,
          478,
          775,
          548,
          734,
          1383,
          429,
          867,
          1181,
          1253,
          1128,
          1180,
          234,
          370,
          343,
          447,
          185,
          1216,
          574,
          355,
          706,
          726,
          1142,
          1224,
          459,
          835,
          836,
          391,
          311,
          592,
          783,
          1137,
          170,
          967,
          1162,
          1396,
          1096,
          1297,
          1354,
          735,
          1169,
          867,
          1206,
          1064,
          1103,
          976,
          1351,
          157,
          136,
          1125,
          1404,
          1373,
          1303,
          574,
          335,
          771,
          571,
          911,
          977,
          1180,
          1313,
          508,
          557,
          642,
          1490,
          581,
          1395,
          543,
          116,
          1037,
          105,
          667,
          1092,
          300,
          310,
          529,
          1322,
          1199,
          1378,
          325,
          884,
          613,
          155,
          628
         ],
         "xaxis": "x",
         "y": [
          "No",
          "Yes",
          "No",
          "No",
          "No",
          "No",
          "No",
          "No",
          "No",
          "No",
          "Yes",
          "No",
          "No",
          "No",
          "No",
          "Yes",
          "No",
          "No",
          "No",
          "Yes",
          "No",
          "Yes",
          "No",
          "No",
          "Yes",
          "Yes",
          "No",
          "No",
          "No",
          "No",
          "No",
          "No",
          "No",
          "Yes",
          "No",
          "No",
          "No",
          "No",
          "No",
          "No",
          "No",
          "No",
          "No",
          "No",
          "No",
          "No",
          "No",
          "No",
          "No",
          "No",
          "No",
          "Yes",
          "No",
          "No",
          "No",
          "No",
          "No",
          "Yes",
          "No",
          "No",
          "No",
          "No",
          "No",
          "No",
          "No",
          "No",
          "No",
          "No",
          "No",
          "No",
          "No",
          "No",
          "No",
          "No",
          "No",
          "No",
          "Yes",
          "No",
          "No",
          "No",
          "No",
          "Yes",
          "No",
          "No",
          "No",
          "No",
          "No",
          "No",
          "No",
          "No",
          "No",
          "Yes",
          "No",
          "No",
          "No",
          "No",
          "No",
          "Yes",
          "No",
          "No",
          "No",
          "No",
          "Yes",
          "No",
          "Yes",
          "Yes",
          "No",
          "No",
          "No",
          "No",
          "No",
          "No",
          "Yes",
          "No",
          "No",
          "No",
          "Yes",
          "No",
          "No",
          "Yes",
          "No",
          "No",
          "No",
          "No",
          "No",
          "Yes",
          "No",
          "No",
          "No",
          "No",
          "No",
          "No",
          "Yes",
          "No",
          "Yes",
          "No",
          "No",
          "Yes",
          "No",
          "No",
          "No",
          "No",
          "No",
          "No",
          "No",
          "No",
          "No",
          "Yes",
          "Yes",
          "No",
          "No",
          "No",
          "Yes",
          "No",
          "No",
          "No",
          "No",
          "No",
          "No",
          "No",
          "No",
          "No",
          "No",
          "No",
          "No",
          "No",
          "No",
          "No",
          "Yes",
          "Yes",
          "No",
          "No",
          "No",
          "No",
          "No",
          "No",
          "No",
          "Yes",
          "No",
          "No",
          "No",
          "No",
          "No",
          "No",
          "No",
          "No",
          "No",
          "No",
          "Yes",
          "Yes",
          "No",
          "Yes",
          "No",
          "Yes",
          "No",
          "No",
          "Yes",
          "No",
          "No",
          "No",
          "No",
          "No",
          "No",
          "No",
          "No",
          "No",
          "No",
          "No",
          "No",
          "No",
          "No",
          "No",
          "No",
          "Yes",
          "Yes",
          "No",
          "No",
          "No",
          "No",
          "No",
          "No",
          "No",
          "No",
          "Yes",
          "No",
          "No",
          "No",
          "No",
          "No",
          "Yes",
          "No",
          "Yes",
          "No",
          "No",
          "No",
          "Yes",
          "No",
          "No",
          "No",
          "No",
          "Yes",
          "Yes",
          "No",
          "No",
          "No",
          "No",
          "No",
          "No",
          "No",
          "No",
          "No",
          "No",
          "No",
          "No",
          "No",
          "No",
          "No",
          "No",
          "No",
          "No",
          "Yes",
          "No",
          "Yes",
          "No",
          "Yes",
          "No",
          "No",
          "No",
          "No",
          "No",
          "No",
          "Yes",
          "No",
          "No",
          "No",
          "Yes",
          "No",
          "Yes",
          "No",
          "No",
          "No",
          "No",
          "No",
          "No",
          "Yes",
          "No",
          "No",
          "No",
          "No",
          "No",
          "No",
          "No",
          "No",
          "Yes",
          "Yes",
          "No",
          "No",
          "No",
          "No",
          "Yes",
          "Yes",
          "No",
          "No",
          "No",
          "No",
          "No",
          "No",
          "No",
          "No",
          "Yes",
          "Yes",
          "Yes",
          "No",
          "Yes",
          "No",
          "No",
          "No",
          "Yes",
          "No",
          "No",
          "No",
          "No",
          "No",
          "No",
          "No",
          "No",
          "Yes",
          "No",
          "Yes",
          "No",
          "No",
          "No",
          "No",
          "No",
          "No",
          "No",
          "No",
          "No",
          "Yes",
          "Yes",
          "No",
          "Yes",
          "No",
          "No",
          "No",
          "No",
          "No",
          "No",
          "No",
          "No",
          "No",
          "No",
          "No",
          "No",
          "No",
          "No",
          "No",
          "No",
          "No",
          "No",
          "No",
          "No",
          "No",
          "No",
          "No",
          "No",
          "No",
          "No",
          "No",
          "No",
          "Yes",
          "Yes",
          "No",
          "Yes",
          "No",
          "No",
          "No",
          "No",
          "No",
          "No",
          "No",
          "No",
          "No",
          "No",
          "No",
          "Yes",
          "No",
          "No",
          "No",
          "No",
          "No",
          "No",
          "Yes",
          "No",
          "No",
          "No",
          "No",
          "No",
          "No",
          "No",
          "No",
          "No",
          "Yes",
          "No",
          "No",
          "No",
          "No",
          "No",
          "No",
          "No",
          "No",
          "No",
          "No",
          "No",
          "Yes",
          "No",
          "No",
          "Yes",
          "No",
          "No",
          "No",
          "No",
          "Yes",
          "No",
          "No",
          "Yes",
          "No",
          "No",
          "No",
          "No",
          "No",
          "No",
          "No",
          "No",
          "No",
          "No",
          "No",
          "No",
          "Yes",
          "No",
          "No",
          "No",
          "No",
          "No",
          "No",
          "No",
          "No",
          "No",
          "No",
          "No",
          "No",
          "Yes",
          "No",
          "No",
          "No",
          "No",
          "No",
          "No",
          "No",
          "No",
          "No",
          "No",
          "No",
          "Yes",
          "No",
          "No",
          "No",
          "No",
          "No",
          "No",
          "No",
          "No",
          "No",
          "Yes",
          "No",
          "Yes",
          "No",
          "No",
          "No",
          "No",
          "No",
          "No",
          "No",
          "No",
          "No",
          "No",
          "No",
          "No",
          "No",
          "No",
          "No",
          "No",
          "No",
          "No",
          "No",
          "No",
          "No",
          "Yes",
          "No",
          "No",
          "No",
          "No",
          "No",
          "No",
          "Yes",
          "No",
          "No",
          "No",
          "No",
          "No",
          "Yes",
          "Yes",
          "No",
          "No",
          "No",
          "No",
          "No",
          "No",
          "No",
          "No",
          "No",
          "No",
          "Yes",
          "No",
          "No",
          "Yes",
          "No",
          "No",
          "No",
          "No",
          "No",
          "Yes",
          "Yes",
          "No",
          "No",
          "No",
          "No",
          "No",
          "No",
          "No",
          "No",
          "No",
          "No",
          "No",
          "No",
          "No",
          "No",
          "No",
          "Yes",
          "No",
          "No",
          "No",
          "No",
          "No",
          "No",
          "No",
          "No",
          "No",
          "No",
          "No",
          "No",
          "No",
          "No",
          "No",
          "No",
          "No",
          "No",
          "No",
          "No",
          "No",
          "Yes",
          "No",
          "Yes",
          "No",
          "No",
          "No",
          "No",
          "No",
          "No",
          "No",
          "No",
          "No"
         ],
         "yaxis": "y"
        },
        {
         "alignmentgroup": "True",
         "hovertemplate": "Department=Sales<br>DailyRate=%{x}<br>Attrition=%{y}<extra></extra>",
         "legendgroup": "Sales",
         "marker": {
          "color": "#FF7F0E",
          "pattern": {
           "shape": ""
          }
         },
         "name": "Sales",
         "offsetgroup": "Sales",
         "orientation": "h",
         "showlegend": true,
         "textposition": "auto",
         "type": "bar",
         "x": [
          1218,
          691,
          895,
          869,
          994,
          1065,
          1211,
          853,
          776,
          111,
          541,
          669,
          632,
          1093,
          120,
          682,
          240,
          1189,
          394,
          750,
          249,
          528,
          802,
          959,
          689,
          662,
          1436,
          630,
          1045,
          119,
          319,
          771,
          976,
          1247,
          1327,
          1210,
          228,
          635,
          442,
          950,
          1232,
          334,
          218,
          906,
          1377,
          691,
          508,
          210,
          1124,
          1309,
          746,
          933,
          541,
          895,
          143,
          575,
          304,
          1362,
          202,
          164,
          645,
          210,
          413,
          635,
          267,
          619,
          828,
          561,
          688,
          1306,
          1094,
          775,
          258,
          142,
          1474,
          535,
          703,
          622,
          448,
          1365,
          525,
          558,
          1420,
          1343,
          1216,
          810,
          817,
          929,
          562,
          703,
          580,
          1179,
          316,
          501,
          1396,
          775,
          1090,
          621,
          954,
          304,
          1434,
          1146,
          829,
          436,
          586,
          928,
          117,
          930,
          342,
          141,
          583,
          379,
          395,
          868,
          1252,
          821,
          154,
          867,
          658,
          1283,
          419,
          530,
          625,
          1376,
          231,
          882,
          903,
          1229,
          722,
          265,
          1035,
          265,
          216,
          1089,
          1144,
          300,
          415,
          1204,
          959,
          770,
          406,
          130,
          793,
          1182,
          174,
          481,
          647,
          852,
          1329,
          1184,
          1361,
          654,
          696,
          1356,
          1099,
          536,
          599,
          237,
          604,
          299,
          1030,
          256,
          793,
          267,
          736,
          1498,
          541,
          1111,
          499,
          1372,
          383,
          601,
          326,
          377,
          1221,
          866,
          430,
          1326,
          1358,
          1496,
          660,
          1246,
          467,
          971,
          1440,
          1342,
          1157,
          1242,
          740,
          1288,
          685,
          1245,
          1462,
          264,
          563,
          336,
          715,
          737,
          763,
          469,
          880,
          991,
          392,
          1206,
          727,
          1278,
          427,
          1179,
          918,
          1093,
          543,
          1277,
          1456,
          964,
          371,
          611,
          1003,
          979,
          1079,
          1375,
          337,
          589,
          303,
          849,
          766,
          810,
          350,
          572,
          1422,
          1318,
          414,
          945,
          1480,
          335,
          217,
          783,
          746,
          419,
          682,
          937,
          1239,
          1404,
          954,
          754,
          1168,
          119,
          1321,
          1154,
          234,
          585,
          501,
          638,
          301,
          930,
          878,
          410,
          1023
         ],
         "xaxis": "x",
         "y": [
          "Yes",
          "No",
          "Yes",
          "Yes",
          "No",
          "No",
          "No",
          "No",
          "No",
          "No",
          "No",
          "Yes",
          "No",
          "No",
          "No",
          "No",
          "Yes",
          "No",
          "No",
          "No",
          "Yes",
          "Yes",
          "No",
          "No",
          "No",
          "No",
          "No",
          "No",
          "Yes",
          "No",
          "No",
          "No",
          "No",
          "No",
          "No",
          "No",
          "No",
          "No",
          "No",
          "Yes",
          "No",
          "No",
          "No",
          "No",
          "No",
          "No",
          "No",
          "No",
          "No",
          "No",
          "No",
          "No",
          "No",
          "No",
          "Yes",
          "Yes",
          "No",
          "Yes",
          "No",
          "No",
          "No",
          "No",
          "No",
          "No",
          "No",
          "No",
          "No",
          "No",
          "No",
          "Yes",
          "No",
          "No",
          "No",
          "No",
          "Yes",
          "No",
          "No",
          "No",
          "Yes",
          "Yes",
          "No",
          "No",
          "Yes",
          "No",
          "No",
          "No",
          "No",
          "No",
          "Yes",
          "No",
          "No",
          "No",
          "No",
          "No",
          "No",
          "No",
          "No",
          "No",
          "No",
          "No",
          "No",
          "Yes",
          "No",
          "Yes",
          "No",
          "No",
          "No",
          "No",
          "No",
          "No",
          "No",
          "No",
          "No",
          "No",
          "No",
          "No",
          "No",
          "Yes",
          "No",
          "No",
          "Yes",
          "Yes",
          "Yes",
          "No",
          "No",
          "No",
          "No",
          "No",
          "No",
          "No",
          "No",
          "Yes",
          "No",
          "No",
          "No",
          "No",
          "No",
          "Yes",
          "Yes",
          "No",
          "No",
          "No",
          "No",
          "No",
          "No",
          "Yes",
          "No",
          "No",
          "No",
          "No",
          "No",
          "No",
          "No",
          "No",
          "No",
          "No",
          "Yes",
          "No",
          "No",
          "Yes",
          "Yes",
          "No",
          "No",
          "Yes",
          "No",
          "No",
          "No",
          "No",
          "No",
          "No",
          "Yes",
          "No",
          "No",
          "Yes",
          "No",
          "No",
          "No",
          "No",
          "No",
          "Yes",
          "No",
          "No",
          "No",
          "No",
          "No",
          "No",
          "No",
          "No",
          "Yes",
          "No",
          "No",
          "No",
          "No",
          "No",
          "No",
          "No",
          "No",
          "Yes",
          "Yes",
          "No",
          "Yes",
          "No",
          "No",
          "No",
          "No",
          "No",
          "Yes",
          "No",
          "No",
          "Yes",
          "No",
          "No",
          "Yes",
          "Yes",
          "No",
          "No",
          "No",
          "No",
          "Yes",
          "No",
          "Yes",
          "No",
          "Yes",
          "No",
          "No",
          "No",
          "No",
          "No",
          "No",
          "No",
          "Yes",
          "Yes",
          "No",
          "No",
          "No",
          "No",
          "Yes",
          "No",
          "No",
          "No",
          "No",
          "No",
          "No",
          "Yes",
          "Yes",
          "No",
          "No",
          "No",
          "No",
          "No",
          "No",
          "Yes",
          "No",
          "No",
          "Yes",
          "Yes",
          "No"
         ],
         "yaxis": "y"
        },
        {
         "alignmentgroup": "True",
         "hovertemplate": "Department=Human Resources<br>DailyRate=%{x}<br>Attrition=%{y}<extra></extra>",
         "legendgroup": "Human Resources",
         "marker": {
          "color": "#2CA02C",
          "pattern": {
           "shape": ""
          }
         },
         "name": "Human Resources",
         "offsetgroup": "Human Resources",
         "orientation": "h",
         "showlegend": true,
         "textposition": "auto",
         "type": "bar",
         "x": [
          945,
          807,
          1240,
          818,
          106,
          544,
          489,
          1246,
          397,
          427,
          314,
          1041,
          829,
          1169,
          1278,
          1075,
          788,
          1376,
          433,
          528,
          147,
          179,
          648,
          206,
          770,
          332,
          330,
          898,
          888,
          602,
          240,
          552,
          897,
          244,
          1239,
          1336,
          359,
          350,
          280,
          352,
          1213,
          1444,
          189
         ],
         "xaxis": "x",
         "y": [
          "No",
          "Yes",
          "No",
          "No",
          "No",
          "No",
          "Yes",
          "No",
          "No",
          "No",
          "No",
          "No",
          "No",
          "No",
          "No",
          "No",
          "No",
          "Yes",
          "No",
          "No",
          "No",
          "No",
          "No",
          "No",
          "No",
          "No",
          "No",
          "No",
          "No",
          "No",
          "Yes",
          "No",
          "No",
          "No",
          "No",
          "No",
          "Yes",
          "Yes",
          "No",
          "No",
          "No",
          "No",
          "No"
         ],
         "yaxis": "y"
        }
       ],
       "layout": {
        "barmode": "relative",
        "legend": {
         "title": {
          "text": "Department"
         },
         "tracegroupgap": 0
        },
        "template": {
         "data": {
          "bar": [
           {
            "error_x": {
             "color": "rgb(36,36,36)"
            },
            "error_y": {
             "color": "rgb(36,36,36)"
            },
            "marker": {
             "line": {
              "color": "white",
              "width": 0.5
             },
             "pattern": {
              "fillmode": "overlay",
              "size": 10,
              "solidity": 0.2
             }
            },
            "type": "bar"
           }
          ],
          "barpolar": [
           {
            "marker": {
             "line": {
              "color": "white",
              "width": 0.5
             },
             "pattern": {
              "fillmode": "overlay",
              "size": 10,
              "solidity": 0.2
             }
            },
            "type": "barpolar"
           }
          ],
          "carpet": [
           {
            "aaxis": {
             "endlinecolor": "rgb(36,36,36)",
             "gridcolor": "white",
             "linecolor": "white",
             "minorgridcolor": "white",
             "startlinecolor": "rgb(36,36,36)"
            },
            "baxis": {
             "endlinecolor": "rgb(36,36,36)",
             "gridcolor": "white",
             "linecolor": "white",
             "minorgridcolor": "white",
             "startlinecolor": "rgb(36,36,36)"
            },
            "type": "carpet"
           }
          ],
          "choropleth": [
           {
            "colorbar": {
             "outlinewidth": 1,
             "tickcolor": "rgb(36,36,36)",
             "ticks": "outside"
            },
            "type": "choropleth"
           }
          ],
          "contour": [
           {
            "colorbar": {
             "outlinewidth": 1,
             "tickcolor": "rgb(36,36,36)",
             "ticks": "outside"
            },
            "colorscale": [
             [
              0,
              "#440154"
             ],
             [
              0.1111111111111111,
              "#482878"
             ],
             [
              0.2222222222222222,
              "#3e4989"
             ],
             [
              0.3333333333333333,
              "#31688e"
             ],
             [
              0.4444444444444444,
              "#26828e"
             ],
             [
              0.5555555555555556,
              "#1f9e89"
             ],
             [
              0.6666666666666666,
              "#35b779"
             ],
             [
              0.7777777777777778,
              "#6ece58"
             ],
             [
              0.8888888888888888,
              "#b5de2b"
             ],
             [
              1,
              "#fde725"
             ]
            ],
            "type": "contour"
           }
          ],
          "contourcarpet": [
           {
            "colorbar": {
             "outlinewidth": 1,
             "tickcolor": "rgb(36,36,36)",
             "ticks": "outside"
            },
            "type": "contourcarpet"
           }
          ],
          "heatmap": [
           {
            "colorbar": {
             "outlinewidth": 1,
             "tickcolor": "rgb(36,36,36)",
             "ticks": "outside"
            },
            "colorscale": [
             [
              0,
              "#440154"
             ],
             [
              0.1111111111111111,
              "#482878"
             ],
             [
              0.2222222222222222,
              "#3e4989"
             ],
             [
              0.3333333333333333,
              "#31688e"
             ],
             [
              0.4444444444444444,
              "#26828e"
             ],
             [
              0.5555555555555556,
              "#1f9e89"
             ],
             [
              0.6666666666666666,
              "#35b779"
             ],
             [
              0.7777777777777778,
              "#6ece58"
             ],
             [
              0.8888888888888888,
              "#b5de2b"
             ],
             [
              1,
              "#fde725"
             ]
            ],
            "type": "heatmap"
           }
          ],
          "heatmapgl": [
           {
            "colorbar": {
             "outlinewidth": 1,
             "tickcolor": "rgb(36,36,36)",
             "ticks": "outside"
            },
            "colorscale": [
             [
              0,
              "#440154"
             ],
             [
              0.1111111111111111,
              "#482878"
             ],
             [
              0.2222222222222222,
              "#3e4989"
             ],
             [
              0.3333333333333333,
              "#31688e"
             ],
             [
              0.4444444444444444,
              "#26828e"
             ],
             [
              0.5555555555555556,
              "#1f9e89"
             ],
             [
              0.6666666666666666,
              "#35b779"
             ],
             [
              0.7777777777777778,
              "#6ece58"
             ],
             [
              0.8888888888888888,
              "#b5de2b"
             ],
             [
              1,
              "#fde725"
             ]
            ],
            "type": "heatmapgl"
           }
          ],
          "histogram": [
           {
            "marker": {
             "line": {
              "color": "white",
              "width": 0.6
             }
            },
            "type": "histogram"
           }
          ],
          "histogram2d": [
           {
            "colorbar": {
             "outlinewidth": 1,
             "tickcolor": "rgb(36,36,36)",
             "ticks": "outside"
            },
            "colorscale": [
             [
              0,
              "#440154"
             ],
             [
              0.1111111111111111,
              "#482878"
             ],
             [
              0.2222222222222222,
              "#3e4989"
             ],
             [
              0.3333333333333333,
              "#31688e"
             ],
             [
              0.4444444444444444,
              "#26828e"
             ],
             [
              0.5555555555555556,
              "#1f9e89"
             ],
             [
              0.6666666666666666,
              "#35b779"
             ],
             [
              0.7777777777777778,
              "#6ece58"
             ],
             [
              0.8888888888888888,
              "#b5de2b"
             ],
             [
              1,
              "#fde725"
             ]
            ],
            "type": "histogram2d"
           }
          ],
          "histogram2dcontour": [
           {
            "colorbar": {
             "outlinewidth": 1,
             "tickcolor": "rgb(36,36,36)",
             "ticks": "outside"
            },
            "colorscale": [
             [
              0,
              "#440154"
             ],
             [
              0.1111111111111111,
              "#482878"
             ],
             [
              0.2222222222222222,
              "#3e4989"
             ],
             [
              0.3333333333333333,
              "#31688e"
             ],
             [
              0.4444444444444444,
              "#26828e"
             ],
             [
              0.5555555555555556,
              "#1f9e89"
             ],
             [
              0.6666666666666666,
              "#35b779"
             ],
             [
              0.7777777777777778,
              "#6ece58"
             ],
             [
              0.8888888888888888,
              "#b5de2b"
             ],
             [
              1,
              "#fde725"
             ]
            ],
            "type": "histogram2dcontour"
           }
          ],
          "mesh3d": [
           {
            "colorbar": {
             "outlinewidth": 1,
             "tickcolor": "rgb(36,36,36)",
             "ticks": "outside"
            },
            "type": "mesh3d"
           }
          ],
          "parcoords": [
           {
            "line": {
             "colorbar": {
              "outlinewidth": 1,
              "tickcolor": "rgb(36,36,36)",
              "ticks": "outside"
             }
            },
            "type": "parcoords"
           }
          ],
          "pie": [
           {
            "automargin": true,
            "type": "pie"
           }
          ],
          "scatter": [
           {
            "marker": {
             "colorbar": {
              "outlinewidth": 1,
              "tickcolor": "rgb(36,36,36)",
              "ticks": "outside"
             }
            },
            "type": "scatter"
           }
          ],
          "scatter3d": [
           {
            "line": {
             "colorbar": {
              "outlinewidth": 1,
              "tickcolor": "rgb(36,36,36)",
              "ticks": "outside"
             }
            },
            "marker": {
             "colorbar": {
              "outlinewidth": 1,
              "tickcolor": "rgb(36,36,36)",
              "ticks": "outside"
             }
            },
            "type": "scatter3d"
           }
          ],
          "scattercarpet": [
           {
            "marker": {
             "colorbar": {
              "outlinewidth": 1,
              "tickcolor": "rgb(36,36,36)",
              "ticks": "outside"
             }
            },
            "type": "scattercarpet"
           }
          ],
          "scattergeo": [
           {
            "marker": {
             "colorbar": {
              "outlinewidth": 1,
              "tickcolor": "rgb(36,36,36)",
              "ticks": "outside"
             }
            },
            "type": "scattergeo"
           }
          ],
          "scattergl": [
           {
            "marker": {
             "colorbar": {
              "outlinewidth": 1,
              "tickcolor": "rgb(36,36,36)",
              "ticks": "outside"
             }
            },
            "type": "scattergl"
           }
          ],
          "scattermapbox": [
           {
            "marker": {
             "colorbar": {
              "outlinewidth": 1,
              "tickcolor": "rgb(36,36,36)",
              "ticks": "outside"
             }
            },
            "type": "scattermapbox"
           }
          ],
          "scatterpolar": [
           {
            "marker": {
             "colorbar": {
              "outlinewidth": 1,
              "tickcolor": "rgb(36,36,36)",
              "ticks": "outside"
             }
            },
            "type": "scatterpolar"
           }
          ],
          "scatterpolargl": [
           {
            "marker": {
             "colorbar": {
              "outlinewidth": 1,
              "tickcolor": "rgb(36,36,36)",
              "ticks": "outside"
             }
            },
            "type": "scatterpolargl"
           }
          ],
          "scatterternary": [
           {
            "marker": {
             "colorbar": {
              "outlinewidth": 1,
              "tickcolor": "rgb(36,36,36)",
              "ticks": "outside"
             }
            },
            "type": "scatterternary"
           }
          ],
          "surface": [
           {
            "colorbar": {
             "outlinewidth": 1,
             "tickcolor": "rgb(36,36,36)",
             "ticks": "outside"
            },
            "colorscale": [
             [
              0,
              "#440154"
             ],
             [
              0.1111111111111111,
              "#482878"
             ],
             [
              0.2222222222222222,
              "#3e4989"
             ],
             [
              0.3333333333333333,
              "#31688e"
             ],
             [
              0.4444444444444444,
              "#26828e"
             ],
             [
              0.5555555555555556,
              "#1f9e89"
             ],
             [
              0.6666666666666666,
              "#35b779"
             ],
             [
              0.7777777777777778,
              "#6ece58"
             ],
             [
              0.8888888888888888,
              "#b5de2b"
             ],
             [
              1,
              "#fde725"
             ]
            ],
            "type": "surface"
           }
          ],
          "table": [
           {
            "cells": {
             "fill": {
              "color": "rgb(237,237,237)"
             },
             "line": {
              "color": "white"
             }
            },
            "header": {
             "fill": {
              "color": "rgb(217,217,217)"
             },
             "line": {
              "color": "white"
             }
            },
            "type": "table"
           }
          ]
         },
         "layout": {
          "annotationdefaults": {
           "arrowhead": 0,
           "arrowwidth": 1
          },
          "autotypenumbers": "strict",
          "coloraxis": {
           "colorbar": {
            "outlinewidth": 1,
            "tickcolor": "rgb(36,36,36)",
            "ticks": "outside"
           }
          },
          "colorscale": {
           "diverging": [
            [
             0,
             "rgb(103,0,31)"
            ],
            [
             0.1,
             "rgb(178,24,43)"
            ],
            [
             0.2,
             "rgb(214,96,77)"
            ],
            [
             0.3,
             "rgb(244,165,130)"
            ],
            [
             0.4,
             "rgb(253,219,199)"
            ],
            [
             0.5,
             "rgb(247,247,247)"
            ],
            [
             0.6,
             "rgb(209,229,240)"
            ],
            [
             0.7,
             "rgb(146,197,222)"
            ],
            [
             0.8,
             "rgb(67,147,195)"
            ],
            [
             0.9,
             "rgb(33,102,172)"
            ],
            [
             1,
             "rgb(5,48,97)"
            ]
           ],
           "sequential": [
            [
             0,
             "#440154"
            ],
            [
             0.1111111111111111,
             "#482878"
            ],
            [
             0.2222222222222222,
             "#3e4989"
            ],
            [
             0.3333333333333333,
             "#31688e"
            ],
            [
             0.4444444444444444,
             "#26828e"
            ],
            [
             0.5555555555555556,
             "#1f9e89"
            ],
            [
             0.6666666666666666,
             "#35b779"
            ],
            [
             0.7777777777777778,
             "#6ece58"
            ],
            [
             0.8888888888888888,
             "#b5de2b"
            ],
            [
             1,
             "#fde725"
            ]
           ],
           "sequentialminus": [
            [
             0,
             "#440154"
            ],
            [
             0.1111111111111111,
             "#482878"
            ],
            [
             0.2222222222222222,
             "#3e4989"
            ],
            [
             0.3333333333333333,
             "#31688e"
            ],
            [
             0.4444444444444444,
             "#26828e"
            ],
            [
             0.5555555555555556,
             "#1f9e89"
            ],
            [
             0.6666666666666666,
             "#35b779"
            ],
            [
             0.7777777777777778,
             "#6ece58"
            ],
            [
             0.8888888888888888,
             "#b5de2b"
            ],
            [
             1,
             "#fde725"
            ]
           ]
          },
          "colorway": [
           "#1F77B4",
           "#FF7F0E",
           "#2CA02C",
           "#D62728",
           "#9467BD",
           "#8C564B",
           "#E377C2",
           "#7F7F7F",
           "#BCBD22",
           "#17BECF"
          ],
          "font": {
           "color": "rgb(36,36,36)"
          },
          "geo": {
           "bgcolor": "white",
           "lakecolor": "white",
           "landcolor": "white",
           "showlakes": true,
           "showland": true,
           "subunitcolor": "white"
          },
          "hoverlabel": {
           "align": "left"
          },
          "hovermode": "closest",
          "mapbox": {
           "style": "light"
          },
          "paper_bgcolor": "white",
          "plot_bgcolor": "white",
          "polar": {
           "angularaxis": {
            "gridcolor": "rgb(232,232,232)",
            "linecolor": "rgb(36,36,36)",
            "showgrid": false,
            "showline": true,
            "ticks": "outside"
           },
           "bgcolor": "white",
           "radialaxis": {
            "gridcolor": "rgb(232,232,232)",
            "linecolor": "rgb(36,36,36)",
            "showgrid": false,
            "showline": true,
            "ticks": "outside"
           }
          },
          "scene": {
           "xaxis": {
            "backgroundcolor": "white",
            "gridcolor": "rgb(232,232,232)",
            "gridwidth": 2,
            "linecolor": "rgb(36,36,36)",
            "showbackground": true,
            "showgrid": false,
            "showline": true,
            "ticks": "outside",
            "zeroline": false,
            "zerolinecolor": "rgb(36,36,36)"
           },
           "yaxis": {
            "backgroundcolor": "white",
            "gridcolor": "rgb(232,232,232)",
            "gridwidth": 2,
            "linecolor": "rgb(36,36,36)",
            "showbackground": true,
            "showgrid": false,
            "showline": true,
            "ticks": "outside",
            "zeroline": false,
            "zerolinecolor": "rgb(36,36,36)"
           },
           "zaxis": {
            "backgroundcolor": "white",
            "gridcolor": "rgb(232,232,232)",
            "gridwidth": 2,
            "linecolor": "rgb(36,36,36)",
            "showbackground": true,
            "showgrid": false,
            "showline": true,
            "ticks": "outside",
            "zeroline": false,
            "zerolinecolor": "rgb(36,36,36)"
           }
          },
          "shapedefaults": {
           "fillcolor": "black",
           "line": {
            "width": 0
           },
           "opacity": 0.3
          },
          "ternary": {
           "aaxis": {
            "gridcolor": "rgb(232,232,232)",
            "linecolor": "rgb(36,36,36)",
            "showgrid": false,
            "showline": true,
            "ticks": "outside"
           },
           "baxis": {
            "gridcolor": "rgb(232,232,232)",
            "linecolor": "rgb(36,36,36)",
            "showgrid": false,
            "showline": true,
            "ticks": "outside"
           },
           "bgcolor": "white",
           "caxis": {
            "gridcolor": "rgb(232,232,232)",
            "linecolor": "rgb(36,36,36)",
            "showgrid": false,
            "showline": true,
            "ticks": "outside"
           }
          },
          "title": {
           "x": 0.05
          },
          "xaxis": {
           "automargin": true,
           "gridcolor": "rgb(232,232,232)",
           "linecolor": "rgb(36,36,36)",
           "showgrid": false,
           "showline": true,
           "ticks": "outside",
           "title": {
            "standoff": 15
           },
           "zeroline": false,
           "zerolinecolor": "rgb(36,36,36)"
          },
          "yaxis": {
           "automargin": true,
           "gridcolor": "rgb(232,232,232)",
           "linecolor": "rgb(36,36,36)",
           "showgrid": false,
           "showline": true,
           "ticks": "outside",
           "title": {
            "standoff": 15
           },
           "zeroline": false,
           "zerolinecolor": "rgb(36,36,36)"
          }
         }
        },
        "title": {
         "text": "Male Employee's Daily Rate by Attrition Status"
        },
        "xaxis": {
         "anchor": "y",
         "domain": [
          0,
          1
         ],
         "title": {
          "text": "DailyRate"
         }
        },
        "yaxis": {
         "anchor": "x",
         "domain": [
          0,
          1
         ],
         "title": {
          "text": "Attrition"
         }
        }
       }
      }
     },
     "metadata": {}
    }
   ],
   "metadata": {}
  },
  {
   "cell_type": "code",
   "execution_count": 94,
   "source": [
    "# avg profit across department \r\n",
    "# monthly rate - monthly income = firm's monthly profit\r\n",
    "avg_profit = df[['Department','JobRole','MonthlyIncome','MonthlyRate','Attrition','Gender']]\r\n",
    "avg_profit['MonthlyProfit'] = avg_profit.apply(lambda x: x['MonthlyRate'] - x['MonthlyIncome'],axis=1)\r\n",
    "avg_profit['ProfitPCT'] = avg_profit.apply(lambda x: (x['MonthlyProfit'] / sum(avg_profit['MonthlyProfit']))*100, axis=1)\r\n",
    "# plot the data\r\n",
    "fig=px.histogram(avg_profit,x=avg_profit['ProfitPCT'],color='Department',title='Distribution of Profit as Percent by Department')\r\n",
    "fig.show()"
   ],
   "outputs": [
    {
     "output_type": "display_data",
     "data": {
      "application/vnd.plotly.v1+json": {
       "config": {
        "plotlyServerURL": "https://plot.ly"
       },
       "data": [
        {
         "alignmentgroup": "True",
         "bingroup": "x",
         "hovertemplate": "Department=Sales<br>ProfitPCT=%{x}<br>count=%{y}<extra></extra>",
         "legendgroup": "Sales",
         "marker": {
          "color": "#1F77B4",
          "pattern": {
           "shape": ""
          }
         },
         "name": "Sales",
         "offsetgroup": "Sales",
         "orientation": "v",
         "showlegend": true,
         "type": "histogram",
         "x": [
          0.117464116437024,
          0.057434256546473106,
          0.031173370363941043,
          0.12497220396251078,
          0.03375155355134718,
          0.01087888784145358,
          0.009816258284482134,
          0.06683243107083532,
          -0.01901410100712023,
          -0.05009166050936713,
          0.04760928818365514,
          0.12780297942165603,
          -0.012586063195276559,
          0.150501443564833,
          0.01708917369490146,
          -0.046015343848197963,
          0.1671899536562862,
          0.16291330519339292,
          0.068400245171285,
          0.06267772370464368,
          0.03463998154160199,
          0.025973453597449618,
          0.12674034986468458,
          0.16802612117652602,
          0.10905018076461073,
          0.04043218363492996,
          0.09177809542465683,
          0.18478431189466588,
          0.061649934461015556,
          0.11509497512967784,
          0.022080048581332928,
          0.0812998711866515,
          0.12687971111805788,
          0.21901491975448378,
          -0.022323930774736208,
          0.176196174655536,
          0.11329198891416069,
          0.07567316058170431,
          0.14106842872712744,
          0.15803566132532726,
          0.036094564623685856,
          0.11968518641266104,
          0.05740812631146561,
          -0.02005931040742001,
          0.07911364152435778,
          -0.011897967006745868,
          0.03696557245726901,
          0.16256490205995966,
          0.011436332854946798,
          -0.07243301144077499,
          0.16190293610643644,
          0.1470783827788512,
          0.1342397273118355,
          0.025564079915665536,
          0.009433014837705546,
          0.1417216846023148,
          0.06946287472825645,
          0.09642927725599086,
          -0.008379095359069931,
          -0.0022123598973012083,
          -0.011488593324961787,
          0.0026739940491002792,
          0.040075070423160865,
          -0.07246785175411832,
          0.01708917369490146,
          0.14858522633095006,
          0.06623143566566295,
          0.03310700775449564,
          0.12571256062105646,
          -0.016505598446400746,
          -0.02575570163905383,
          0.14217460867577805,
          0.11833512427060716,
          0.17093528734069377,
          0.13680049034257,
          0.009755287736131312,
          0.022837825396550267,
          0.011662794891678417,
          -0.025433428740628063,
          -0.001036499321963952,
          0.07424470773462795,
          0.046267936119937084,
          0.10017461094039841,
          0.16894067940178834,
          0.006654499848575288,
          -0.003518871647675938,
          0.10922438233132738,
          -0.003179178592578508,
          0.13725341441603323,
          0.05065781560119617,
          -0.005983823816716261,
          -0.02437950926199245,
          0.03133886185232184,
          0.19837203409856308,
          0.10695105188567534,
          0.09993943882533098,
          0.011610534421663429,
          0.12943176407045653,
          0.06076150647076075,
          0.07510700548987527,
          -0.02136582215779474,
          0.0020991288789353984,
          0.054864783437402795,
          0.0017681459021738003,
          -0.0023517211506745126,
          0.1977710386933907,
          0.13498008397038122,
          0.08645623756146376,
          -0.005678971074962157,
          0.014415179645801182,
          0.13028535174736802,
          -0.032985066657794,
          0.1466602990187313,
          0.05401990583882714,
          0.06622272558732711,
          0.043933635125934234,
          0.11306552687742907,
          0.0973264153245815,
          0.16348817036355778,
          0.08624719568140381,
          -0.043715883167538445,
          -0.04809705257046171,
          0.06954126543327893,
          -0.06463749133020578,
          0.02170551521289217,
          0.134265857546843,
          0.046494398156668705,
          0.13593819258732268,
          -0.06063956537405911,
          0.06271256401798701,
          0.12143591215816318,
          0.015364578184406816,
          0.09905101083507616,
          0.11962421586431023,
          0.053836994193774676,
          0.003841144546101704,
          -0.0003396930550974296,
          0.016017834059594182,
          0.12702778244976703,
          -0.09554084926573604,
          0.13789796021288478,
          0.16729447459631616,
          0.027262545191152683,
          0.010068850556221249,
          0.2114807019939895,
          0.10832724426273672,
          0.0634006602065177,
          0.006610949456896131,
          -0.05741683638980144,
          0.002900456085831899,
          0.1158875922582385,
          0.1828855148174546,
          0.11607921398162678,
          -0.007612608465516757,
          0.011706345283357575,
          -0.01806470246851459,
          0.09430401814204797,
          0.032776024777734045,
          0.09125549072450694,
          0.10474740206670996,
          0.17601326301048353,
          0.14203524742240473,
          0.14507506476160995,
          0.05979468777548345,
          0.11581791163155185,
          0.056781000671285733,
          0.053201158475258976,
          -0.03087722770052277,
          0.17394897444489146,
          0.0009842388519489627,
          0.14701741223050036,
          0.13648692752248004,
          -0.05898465049025112,
          0.14482247248987082,
          0.05013521090104628,
          0.03433512879984789,
          0.10810949230434094,
          0.05785234030659302,
          -0.01970219719565092,
          0.17129240055246284,
          0.1545603400693305,
          0.05927208307533355,
          0.18450558938791928,
          -0.015625880534481763,
          0.14248817149586798,
          -0.009415594681033883,
          -0.09331106921176317,
          0.15485648273274874,
          -0.029422644618438906,
          0.042217749693775425,
          0.08519327620276819,
          0.0738440441311797,
          0.15873246759219378,
          0.08857278659707082,
          0.1210526687113866,
          0.02061675542091323,
          0.08015885092465756,
          0.18049024327510094,
          0.09540148801236274,
          0.15895021955058958,
          0.11537369763642442,
          -0.024632101533731566,
          0.1684877553283251,
          0.17427124734331723,
          0.08573330105958973,
          0.013761923770613815,
          0.08194441698350302,
          0.15219990884032014,
          0.14271463353259958,
          0.09534922754234774,
          0.059698876913789306,
          0.06816507305621754,
          -0.041869346560342156,
          0.037566567862441384,
          0.13976191697675272,
          0.013744503613942152,
          -0.007961011598950017,
          0.023630442525110935,
          0.12397054495389015,
          -0.008805889197525675,
          -0.04633761674662373,
          0.03376897370801884,
          0.18180546510381151,
          0.026522188532607006,
          0.03839402530434538,
          -0.0917432551113135,
          -0.016374947271363276,
          0.14671255948874629,
          0.05226918009332501,
          -0.01378805400562131,
          0.16177228493139897,
          0.16631894582270304,
          -0.10666361930059291,
          0.022236829991377896,
          -0.007542927838830105,
          0.13946577431333446,
          0.14101616825711244,
          0.1945134693957897,
          0.12038199267952755,
          -0.01998091970239753,
          -0.04816673319714835,
          0.1296233857938448,
          0.006541268830209478,
          0.15267896314879087,
          0.10907631099961823,
          0.07925300277773108,
          0.10780463956258683,
          -0.027619658402921778,
          -0.016279136409669128,
          0.11556531935981273,
          0.16714640326460703,
          0.11786478004047224,
          -0.010809207214766928,
          0.08850310597038417,
          0.001001659008620626,
          0.03332475971289143,
          -0.09851969605659042,
          -0.0252766473305831,
          -0.03372542331633968,
          0.03608585454535003,
          0.10556614943027813,
          0.06139734218927645,
          0.07906138105434278,
          0.18389588390441108,
          0.10504354473012824,
          0.0031878886709143395,
          0.020660305812592386,
          0.049412274399172264,
          0.041277061233505614,
          0.13651305775748754,
          0.029422644618438906,
          0.09858937668327708,
          -0.08241476121363793,
          0.11608792405996263,
          0.06029116224062584,
          -0.1422442893024647,
          -0.07702322272375821,
          0.013073827582083124,
          -0.005670260996626326,
          0.08825922377698088,
          0.047766069593700104,
          0.07090874773200448,
          0.11399750525936306,
          -0.007987141833957512,
          0.13869057734144544,
          0.052408541346698305,
          0.0016897551971513166,
          0.10946826452473066,
          0.15179924523687188,
          -0.020712566282607377,
          0.03477934279497529,
          0.13344711018327485,
          -0.038481126087703696,
          0.07923558262105942,
          0.16265200284331796,
          0.16991620817540148,
          -0.022236829991377896,
          0.04179966593365551,
          0.08096017813155407,
          0.14301077619601787,
          0.0543944392072679,
          0.011593114264991764,
          0.1000352496870251,
          0.12886560897862748,
          0.06952384527660727,
          0.06834798470127,
          0.09391206461693555,
          0.09623765553260256,
          0.12315179759032199,
          -0.02096515855434649,
          0.051302361398047704,
          0.16818290258657098,
          0.13088634715254038,
          0.1139539548676839,
          0.09696059203447657,
          -0.02057320502923407,
          0.039317293607943525,
          0.11181998567540516,
          0.10208211809594551,
          0.028011611928034197,
          0.12009456009444512,
          0.044160097162665855,
          0.13184445576948184,
          0.17079592608732044,
          0.060352132788976665,
          -0.04551886938305557,
          0.045335957738003106,
          0.02295976649325191,
          0.12082620667465498,
          0.20707340235605878,
          0.12505059466753327,
          0.06318290824812191,
          0.036556198775484924,
          -0.03824595397263624,
          0.07446245969302374,
          0.03005848033695461,
          0.02117420043440645,
          0.10609746420876386,
          0.12744586620988693,
          -0.031173370363941043,
          0.0016374947271363275,
          0.05768684881821221,
          -0.12552093889766816,
          0.17225921924774015,
          0.141712974523979,
          0.1467735300370971,
          0.09776191924137309,
          0.1450924849182816,
          0.15280961432382834,
          0.09117710001948445,
          0.05080588693290531,
          -0.007238075097076,
          -0.013796764083957143,
          0.14905557056108495,
          0.044543340609442435,
          0.03927374321626437,
          0.15986477777585187,
          0.09373786305021892,
          0.07913106168102944,
          -0.016096224764616664,
          0.19883366825036217,
          -0.015486519281108458,
          0.05773039920989137,
          0.0255815000723372,
          0.09779675955471641,
          -0.012559932960269065,
          -0.04156449381858805,
          0.02198423771963878,
          0.04713894395352024,
          -0.05025715199774792,
          -0.1348668529520154,
          0.10972085679646977,
          0.10338862984632025,
          -0.03529323741678935,
          0.04834093476386499,
          0.03208792858920335,
          0.013308999697150575,
          0.09442595923874961,
          0.07239817112743167,
          0.16831355376160845,
          0.016444627898049926,
          0.06910576151648735,
          0.04016217120651918,
          0.0668846915408503,
          0.1495955954179065,
          0.13118248981595865,
          0.1394570642349986,
          0.1335167908099615,
          0.05475155241903699,
          -0.01184570653673088,
          -0.010112400947900405,
          0.03868145788942782,
          0.12639194673125131,
          0.11820447309556967,
          0.18663084850186218,
          0.14179136522900146,
          -0.04778348975037177,
          0.030293652452022056,
          0.058331394615063745,
          0.007281625488755158,
          0.1301111501806514,
          0.003370800315966802,
          0.12830816396513425,
          0.17853047564953883,
          0.09855453636993376,
          0.19552383848274618,
          0.11786478004047224,
          0.0730949773942982,
          0.042879715647298616,
          0.10818788300936341,
          0.08318995818552694,
          -0.015233927009369343,
          0.11756863737705397,
          0.1301982509640097,
          -0.053253418945273974,
          -0.019048941320463555,
          0.09070675578934954,
          -0.02715802425112271,
          0.12443217910568921,
          0.07503732486318862,
          0.07300787661093988,
          0.00865781786581654,
          0.1346403909152838,
          -0.04010991073650419,
          0.10240439099437129,
          -0.012359601158544939,
          0.027837410361317566,
          0.028969720544975666,
          0.13722728418102575,
          0.1185441661506671,
          0.07644835755359333,
          0.14202653734406892,
          0.2011940994793725,
          0.21919783139953625,
          0.04399460567428505,
          0.019737037508994245,
          0.04381169402923259,
          0.0286474476465499,
          0.005565740056596347,
          0.06556075963380392,
          0.06721567451761191,
          0.16098837788117415,
          0.049926169020986316,
          -0.027898380909668386,
          0.16036996231933012,
          0.068400245171285
         ],
         "xaxis": "x",
         "yaxis": "y"
        },
        {
         "alignmentgroup": "True",
         "bingroup": "x",
         "hovertemplate": "Department=Research & Development<br>ProfitPCT=%{x}<br>count=%{y}<extra></extra>",
         "legendgroup": "Research & Development",
         "marker": {
          "color": "#FF7F0E",
          "pattern": {
           "shape": ""
          }
         },
         "name": "Research & Development",
         "offsetgroup": "Research & Development",
         "orientation": "v",
         "showlegend": true,
         "type": "histogram",
         "x": [
          0.17225921924774015,
          0.0026652839707644476,
          0.17637908630058846,
          0.11465947121288625,
          0.07661384904197413,
          0.06353131138155517,
          0.09269265364991913,
          -0.0064367478901795,
          0.09877228832832954,
          0.12240273085344047,
          0.07393985499287384,
          0.10677685031895871,
          0.053105347613564835,
          0.09510534534894446,
          0.0018726668422037788,
          0.10238697083769964,
          0.03822853381596458,
          0.0031530483575710135,
          0.03676524065554489,
          0.0809950184448974,
          0.15720820388342327,
          0.12317792782532949,
          -0.07280754480921575,
          0.006637079691903626,
          -0.0710219787503703,
          0.0363558669737608,
          0.11023475141828383,
          0.1211658997297524,
          0.006332226950149521,
          0.16791289015816022,
          0.08407838617578174,
          0.07803359181071466,
          0.151328901006737,
          0.0719887974456476,
          0.05896723033357945,
          -0.028438405766489944,
          0.06275611440966616,
          0.0228465354748861,
          0.12118331988642407,
          0.06739858616266438,
          -0.013779343927285479,
          0.014702612230883622,
          0.10441641908994836,
          0.031469513027359314,
          -0.028778098821587373,
          0.04106801935344566,
          0.02656573892428616,
          -0.017759849726760486,
          -0.016496888368064913,
          0.043323929642426026,
          0.14072873567203,
          0.07893943995764115,
          0.03200082780584504,
          0.160169630517606,
          0.019623806490628434,
          0.1417478148373223,
          0.0098075482061463,
          0.16517792556070912,
          0.141608453583949,
          0.015869762727885046,
          0.10098464822563073,
          0.09469597166716039,
          0.20398132454683857,
          0.09048029375261792,
          0.11681086056183664,
          0.12575611101273562,
          0.14502280429159498,
          0.10171629480584059,
          0.005330567941528895,
          -0.06559559994714724,
          0.09103773876611114,
          0.20034051180246099,
          0.10645457742053295,
          0.1468257905071121,
          0.06683243107083532,
          0.09308460717503154,
          -0.07331272935269398,
          0.20911156068664336,
          0.18216257831558058,
          0.15949895448574697,
          0.1464425470603355,
          0.09130775119452192,
          0.0914122721345519,
          -0.05239983126836248,
          -0.002386561464017839,
          0.17156241298087363,
          -0.003945665486131683,
          -0.11388427424099724,
          0.18231935972562557,
          -0.059637906365438476,
          0.14612027416190973,
          -0.008866859745876497,
          0.09886809919002369,
          -0.018482786228634505,
          0.12629613586955718,
          0.05246951189504913,
          0.054873493515738635,
          -0.01755080784670053,
          0.18533304682982327,
          0.06280837487968115,
          0.07353048131108977,
          -0.037392366295724754,
          0.041137699980132315,
          0.1273326351915211,
          0.025250517095575603,
          0.07449730000636706,
          0.19130816056820368,
          0.06838282501461333,
          0.07427083796963545,
          0.08421774742915505,
          0.034369969113191214,
          0.03448320013155702,
          0.12161882380321565,
          0.1982413829235256,
          -0.025024055058843985,
          0.018796349048724438,
          0.08180505573012972,
          0.08976606732907974,
          0.11300455632907826,
          0.06915802198650234,
          0.08433097844752087,
          0.06981127786168971,
          0.07089132757533281,
          0.035110325771736894,
          0.02660928931596532,
          0.0296142663418272,
          -0.002308170758995355,
          0.18987970772112733,
          0.016697220169789043,
          -0.10917212186131238,
          -0.046886351681781124,
          0.03943052462630933,
          -0.05698133247300987,
          -0.12473703184744332,
          0.08276316434707118,
          0.08345126053560188,
          0.027340935896175173,
          0.031965987492501714,
          0.16908875073349747,
          0.1006972156405483,
          0.0973264153245815,
          0.006149315305097059,
          -0.018082122625186256,
          0.04686893152510946,
          0.14797552084744184,
          0.01878763897038861,
          0.12004229962443012,
          0.04077187669002739,
          0.0876582283718085,
          0.04834093476386499,
          0.0815785936933981,
          0.025886352814091303,
          0.10844918535943837,
          0.028272914278109143,
          0.05138075210307019,
          0.15415967646588222,
          0.035110325771736894,
          0.09255329239654582,
          -0.018543756776985325,
          0.000313562820089935,
          0.05469058187068617,
          0.10950310483807398,
          0.0007664868935531745,
          -0.12454541012405503,
          0.17170177423424693,
          0.1637668928703044,
          0.050875567559591967,
          0.11484238285793871,
          0.14637286643364886,
          0.18402653507944855,
          -0.028150973181407503,
          -0.0013239319070463924,
          0.10334507945464108,
          0.154429688894293,
          0.1287088275685825,
          -0.011462463089954293,
          0.1090937311562899,
          -0.03935213392128685,
          0.17710202280246248,
          0.1434637002694811,
          0.022707174221512794,
          0.047156364110191896,
          -0.11747282651535984,
          0.178626286511233,
          0.07118747023875108,
          0.20266610271812802,
          0.15295768565553747,
          0.09973039694527101,
          0.07687515139204908,
          0.12528576678260073,
          -0.052216919623310015,
          0.14842844492090507,
          -0.0009319783819339736,
          -0.013770633848949648,
          0.0047295725363565196,
          0.063592281929906,
          -0.016775610874811525,
          0.06187639649774718,
          0.17742429570088825,
          -0.028995850779983158,
          0.029892988848573807,
          0.09195229699137344,
          0.15661591855658671,
          0.11990293837105682,
          0.1459722028302006,
          0.11457237042952793,
          0.10283989491116287,
          0.01026047227960954,
          0.060352132788976665,
          0.18987970772112733,
          0.07913106168102944,
          0.20741309541115618,
          0.02991040900524547,
          0.09440853908207794,
          -0.00729033556709099,
          0.011575694108320102,
          0.010913728154796905,
          0.12756780730658857,
          0.09926005271513612,
          0.045780171733130516,
          0.1315047627143844,
          0.04400331575262088,
          0.10004395976536094,
          -0.10202114754759471,
          0.07159684392053517,
          0.03349896127960806,
          0.11154126316865855,
          0.16078804607945002,
          0.047922851003745076,
          0.1852894964381441,
          0.053645372470386386,
          0.04434300880771832,
          0.016279136409669128,
          -0.016766900796475692,
          0.008448775985756583,
          0.10466030128335164,
          -0.006297386636806195,
          0.048610947192275766,
          0.022994606806595236,
          0.0316872649857551,
          0.14659061839204462,
          0.03633844681708914,
          0.16174615469639148,
          0.08857278659707082,
          0.11486851309294621,
          0.03551969945352097,
          -0.0007926171285606692,
          0.013814184240628805,
          0.09604603380921427,
          0.08968767662405726,
          -0.032993776736129826,
          0.17665780880733506,
          0.12377892323050185,
          0.09394690493027887,
          -0.06742471639767186,
          0.0426271233755595,
          0.13907382078822203,
          0.11195934692877847,
          0.12250725179347044,
          0.009589796247750514,
          0.08122148048162901,
          0.057477806938152264,
          0.030311072608693722,
          0.19332889874211662,
          0.009946909459519607,
          0.2079966706596569,
          0.15603234330808602,
          0.14742678591228445,
          -0.0870223926532928,
          0.08699626241828531,
          -0.09491372362555617,
          -0.0013065117503747294,
          0.11305681679909325,
          -0.019989629780733358,
          0.1691235910468408,
          0.12172334474324562,
          -0.09567150044077352,
          0.07819037322075964,
          0.04672957027173615,
          0.101385311829079,
          0.06097925842915654,
          -0.0543944392072679,
          0.07295561614092488,
          0.16289588503672126,
          -0.13685275081258497,
          0.1873015245337212,
          -0.0011932807320089195,
          0.09061965500599123,
          0.0012716714370314033,
          0.12748941660156607,
          0.0835383613189602,
          0.1372185741026899,
          -0.06734632569264938,
          0.04021443167653417,
          0.020198671660793314,
          -0.1356420499239044,
          0.13060762464579379,
          0.17113561914241787,
          0.049194522440776475,
          0.032627953446024906,
          0.0958892523991693,
          0.028717128273236553,
          0.05803525195164548,
          0.11396266494601974,
          0.06242513143290457,
          0.04559726008807805,
          0.06207672829947131,
          0.12296017586693368,
          -0.003971795721139177,
          0.160117370047591,
          0.05569224087930679,
          -0.04092865810007235,
          0.18180546510381151,
          0.14247075133919632,
          -0.013439650872188048,
          0.14380339332457853,
          0.10756946744751938,
          0.08060306491978497,
          -0.1513550312417445,
          0.16466403093889506,
          0.06073537623575325,
          0.0982671037848513,
          0.16698962185456206,
          0.08991413866078887,
          0.0246146813770599,
          0.07770260883395307,
          0.014188717609069562,
          -0.12155785325486482,
          0.10401575548650013,
          0.12148817262817815,
          0.022602653281482817,
          -0.08845084550036918,
          0.08163085416341309,
          0.10249149177772961,
          0.17916631136805455,
          0.04328037925074687,
          0.13152218287105608,
          0.001498133473763023,
          0.11080961658844872,
          -0.020817087222637354,
          0.04430816849437499,
          0.11435461847113214,
          0.22637493594826144,
          -0.0016026544137930012,
          0.13604271352735264,
          0.04986519847263551,
          0.1414429620955682,
          0.0919087465996943,
          0.0006619659535231962,
          0.0786781376075662,
          0.14306303666603287,
          0.10241310107270711,
          -0.012220239905171636,
          0.07154458345052019,
          -0.011323101836580987,
          -0.03470095208995281,
          0.014423889724137011,
          0.07509829541153944,
          0.0656391503388264,
          -0.013970965650673772,
          0.15335834925898573,
          0.010608875413042802,
          0.01606138445127334,
          0.08115179985494236,
          0.17931438269976369,
          0.14447406935643758,
          0.07376565342615722,
          -0.0028917460074960677,
          0.13794151060456392,
          0.15167730414017025,
          -0.008135213165666648,
          0.021958107484631284,
          0.14045001316528338,
          0.011671504970014249,
          0.19450475931745387,
          0.008048112382308332,
          0.18477560181633007,
          0.08946121458732563,
          0.14968269620126484,
          0.14914267134444328,
          0.17511612494189288,
          0.027428036679533484,
          0.17892242917465126,
          0.049534215495873904,
          -0.019205722730508523,
          0.01606138445127334,
          0.2077963388579328,
          0.1626345826866463,
          -0.09370302273687559,
          0.03806304232758378,
          0.12458896051573418,
          -0.03283699532608486,
          0.1579398504636331,
          0.18359974124099282,
          0.05674616035794241,
          0.09402529563530135,
          -0.017515967533357206,
          0.10445125940329168,
          0.11290003538904828,
          0.0600037296555434,
          0.11634051633170174,
          0.033786393864690505,
          0.06421069749175003,
          -0.017454996985006382,
          0.05010908066603878,
          -0.10416382681820925,
          -0.034544170679907844,
          0.07532475744827107,
          0.1614151717196299,
          0.12947531446213567,
          -0.006410617655172005,
          0.15859310633882048,
          0.13320322798987155,
          -0.012089588730134163,
          0.14795810069077017,
          0.045309827502995614,
          0.1251725357642349,
          0.019388634375560983,
          0.05707714333470401,
          0.1112451205052403,
          0.127080042919782,
          0.05952467534707267,
          0.06074408631408908,
          0.06633595660569293,
          0.16109289882120412,
          0.10900663037293158,
          -0.015451678967765134,
          0.05165947460981679,
          0.1412774706071874,
          -0.11654084813342586,
          0.1325761023496917,
          0.03067689589879865,
          0.04310617768403024,
          0.09584570200749015,
          0.16591828221925478,
          0.05380215388043135,
          -0.015373288262742648,
          0.050962668342950275,
          0.13018954088567386,
          0.06495105415029571,
          0.016540438759744074,
          0.1349191134220304,
          0.04257486290554451,
          0.004703442301349025,
          -0.011296971601573492,
          0.13200994725786266,
          0.13129572083432445,
          0.028603897254870742,
          0.1621381082215039,
          0.023604312290103444,
          0.014301948627435371,
          -0.013953545494002111,
          0.08508004518440238,
          0.08740563610006939,
          0.10028784195876422,
          0.18679633999024298,
          0.05948112495539351,
          0.04652923847001203,
          0.1630178261334229,
          -0.0284819561581691,
          0.20684694031932715,
          0.014737452544226948,
          0.06968933676498806,
          0.07904396089767113,
          0.12010327017278094,
          0.0760825342634884,
          -0.09392948477360721,
          0.12780297942165603,
          -0.1366088686191817,
          0.08078597656483744,
          0.09063707516266288,
          0.0819357069051672,
          -0.08546328863117895,
          0.08224926972525713,
          0.11639277680171671,
          0.17193694634931436,
          0.055143505944149414,
          0.06207672829947131,
          0.10837079465441588,
          0.027907090988004223,
          -0.029727497360193006,
          0.05562256025262015,
          0.1365304779141592,
          0.2029709554598821,
          -0.018622147482007807,
          0.03858564702773367,
          0.07733678554384815,
          0.09795354096476137,
          0.15998671887255353,
          -0.049490665104194746,
          0.0037540437627433887,
          0.04898548056071651,
          0.15490874320276374,
          0.07057776475524288,
          0.08366030241566183,
          0.05754748756483892,
          0.0027088343624436053,
          0.04813189288380503,
          -0.050492324112815366,
          0.061928656967762175,
          0.026339276887554542,
          0.11587888217990266,
          0.001532973787106349,
          -0.05560514009594848,
          0.08484487306933493,
          0.20257900193476971,
          0.015834922414541718,
          0.08023724162968005,
          0.059324343545348546,
          0.004938614416416477,
          0.13798506099624308,
          0.1429672258043387,
          0.06855702658132996,
          0.031643714594075945,
          0.06259062292128537,
          -0.007499377447150945,
          0.1348929831870229,
          0.1374885865311007,
          0.1412774706071874,
          0.010870177763117748,
          0.0421306489104171,
          0.03700912284894817,
          0.1227685541435454,
          -0.012011198025111679,
          0.17659683825898426,
          0.12638323665291548,
          0.007961011598950017,
          0.14803649139579267,
          0.00592285326836544,
          -0.028447115844825774,
          0.039752797524735095,
          0.169837817470379,
          -0.006367067263492847,
          0.04247905204385037,
          0.2129962556244242,
          0.0033446700809593075,
          0.006227706010119544,
          0.012002487946775846,
          -0.018134383095201243,
          0.20256158177809802,
          0.01731563573163308,
          0.1346491009936196,
          0.14554540899174484,
          0.10278763444114787,
          0.12759393754159606,
          0.04604147408320546,
          0.1100344196165597,
          0.1688448685400942,
          0.10148983276910897,
          0.037322685669038104,
          0.03155661381071763,
          0.0996432961619127,
          0.0471302338751844,
          0.0024649521690403224,
          0.1226553231251796,
          0.024492740280358256,
          0.17803400118439644,
          0.07839941510081959,
          0.1461638245535889,
          0.08112566961993486,
          0.17779011899099317,
          0.21044420267202554,
          -0.011915387163417532,
          0.20216962825298562,
          0.04024056191154166,
          0.13607755384069598,
          0.03037204315704454,
          0.08531521729946982,
          0.06872251806971076,
          0.000296142663418272,
          0.2157050899868678,
          0.011932807320089195,
          0.01732434580996891,
          0.1584014846154322,
          -0.07286851535756657,
          0.08059435484144914,
          -0.07170136486056515,
          0.010121111026236237,
          0.035920363056969225,
          0.06809539242953089,
          0.027898380909668386,
          0.08757112758845019,
          0.03996183940479506,
          -0.023168808373311867,
          -0.052408541346698305,
          0.030746576525485295,
          0.05043135356446456,
          0.08788469040854012,
          0.10575777115366643,
          -0.007342596037105979,
          0.1565288177732284,
          0.03735752598238143,
          0.016009123981258352,
          0.04960389612256056,
          0.08933056341228816,
          0.09046287359594626,
          -0.009711737344452154,
          -0.05737328599812228,
          0.04846287586056663,
          0.12247241148012714,
          0.006018664130059587,
          -0.02106967949437647,
          -0.08302446669714612,
          -0.11062670494339626,
          0.16599667292427728,
          0.15875859782720128,
          0.1365566081491667,
          0.06182413602773219,
          0.10465159120501583,
          0.19757070689166656,
          0.08265864340704121,
          0.15756531709519236,
          0.040832847238378205,
          -0.014920364189279408,
          0.021897136936280464,
          0.028360015061467462,
          -0.026888011822711933,
          0.053105347613564835,
          0.09019286116753548,
          0.012359601158544939,
          0.07110036945539278,
          0.1214707524715065,
          0.023099127746625214,
          0.1457544508718048,
          -0.04377685371588927,
          0.0018378265288604527,
          0.20646369687255056,
          0.15645042706820592,
          0.15895892962892538,
          0.16552632869414236,
          -0.01173247551836507,
          0.0846445412676108,
          0.04827125413717833,
          0.12203690756333554,
          0.07680547076536241,
          0.10719493407907862,
          0.07596059316678676,
          -0.10621940530546549,
          0.043445870739127666,
          -0.026182495477509577,
          0.15498713390778623,
          -0.013579012125561354,
          0.04708668348350525,
          0.01755080784670053,
          0.03810659271926294,
          0.09413852665366716,
          0.0983977549598888,
          0.15411612607420308,
          0.04775735951536428,
          0.04209580859707378,
          0.12073910589129665,
          0.06542139838043061,
          0.10506096488679989,
          0.11443300917615463,
          -0.004564081047975721,
          0.1295885454805015,
          0.07391372475786635,
          0.019040231242127722,
          -0.06507299524699735,
          -0.03062463542878366,
          0.1386818672631096,
          0.2028315942065088,
          0.0012716714370314033,
          0.12553835905433983,
          0.1348058824036646,
          0.09217004894976924,
          0.014641641682532801,
          0.17419285663829476,
          0.16049190341603176,
          0.1339348745700814,
          -0.10169887464916894,
          0.023996265815215863,
          -0.020189961582457484,
          -0.06597884339392383,
          0.15057983426985547,
          0.18292035513079793,
          0.04860223711393993,
          0.1462770555719547,
          0.059097881508616924,
          0.19136042103821868,
          0.07340854021438813,
          0.0830418868538178,
          0.003605972431034253,
          0.02991040900524547,
          0.16657153809444214,
          0.11789091027547974,
          0.012934466328709818,
          0.07849522596251374,
          0.15119824983169952,
          0.046511818313340364,
          0.0994778046735319,
          0.04190418687368549,
          0.02757610801124262,
          0.12963209587218064,
          0.04964744651423972,
          0.15449936952097965,
          0.11135835152360611,
          0.05119784045801773,
          -0.018979260693776902,
          0.09129904111618609,
          -0.044229777789352505,
          0.12042554307120672,
          0.08283284497375784,
          0.10546162849024816,
          0.03792368107421048,
          0.02433595887031329,
          0.09552342910906438,
          0.15922894205733618,
          0.012960596563717314,
          -0.029405224461767243,
          0.13640853681745757,
          0.08560264988455227,
          0.0733736999010448,
          0.04534466781633894,
          0.05004811011768797,
          0.006741600631933604,
          0.10965117616978312,
          0.19632516568964267,
          0.17257278206783008,
          0.00062712564017987,
          0.08744047641341272,
          0.1673293149096595,
          -0.010922438233132737,
          -0.02113936012106312,
          0.17273827355621088,
          0.02136582215779474,
          0.07392243483620219,
          0.154534209834323,
          0.06741600631933603,
          0.04156449381858805,
          0.11751637690703899,
          0.08488842346101408,
          0.1735483108414432,
          0.16793902039316772,
          0.2137888727529849,
          0.038751138516114475,
          0.02437079918365662,
          0.18366942186767946,
          0.12336083947038196,
          0.16626668535268807,
          0.06553462939879642,
          0.07901783066266363,
          0.10007880007870426,
          -0.016714640326460705,
          0.1361385243890468,
          0.09365947234519643,
          0.1232388983736803,
          0.05878431868852699,
          0.19110782876647958,
          0.08944379443065398,
          0.008527166690779067,
          0.04375072348088177,
          0.0428187450989478,
          0.06514267587368401,
          0.08225797980359296,
          0.1347536219336496,
          -0.13500621420538872,
          0.027933221223011714,
          0.15397676482082975,
          0.06757278772938101,
          0.10692492165066785,
          0.16454208984219343,
          -0.013430940793852217,
          0.1064719975772046,
          0.1838174931993886,
          0.1357291507072627,
          0.19939111326385534,
          0.06299999660306944,
          0.13383035363005144,
          0.07056905467690705,
          0.18051637351010844,
          -0.01656656899475157,
          -0.003327249924287644,
          0.05611903471776254,
          0.052408541346698305,
          0.10454707026498584,
          -0.08361675202398268,
          0.11722023424362073,
          0.1652563162657316,
          0.03237536117428579,
          0.010216921887930382,
          0.12876979811693332,
          -0.0020294482522487463,
          0.020886767849324007,
          -0.11249066170726421,
          0.07588220246176428,
          0.12106137878972242,
          0.07784197008732638,
          -0.02015512126911416,
          0.09613313459257258,
          0.16955038488529656,
          0.010965988624811894,
          -0.12262048281183625,
          0.04470012201948741,
          0.1746196504767505,
          0.194705091119178,
          0.18627373529009308,
          0.06101409874249986,
          0.018047282311842928,
          0.14456117013979589,
          0.1991994915404671,
          -0.030894647857194434,
          0.20432972768027183,
          0.08148278283170396,
          0.1759435823837969,
          0.06903608088980069,
          0.08347739077060937,
          0.10111529940066823,
          0.15163375374849108,
          0.060369552945648323,
          0.07873910815591703,
          0.11510368520801365,
          0.19543673769938785,
          -0.06404520600336923,
          0.03407382644977294,
          0.0036146825093700844,
          0.12130526098312569,
          0.12739360573987196,
          -0.012847365545351505,
          -0.0024823723257119856,
          0.03601617391866337,
          -0.01508585567766021,
          0.00826586434070412,
          0.08332931943890023,
          0.012472832176910748,
          0.02192326717128796,
          0.18690957100860878,
          0.023578182055095948,
          0.14603317337855143,
          0.02311654790329688,
          0.11754250714204649,
          0.06879219869639741,
          0.033394440339578085,
          0.13026793159069636,
          0.16312234707345288,
          0.1145375301161846,
          0.053880544585453834,
          0.006680630083582783,
          0.027340935896175173,
          0.1587934381405446,
          0.08137826189167398,
          0.1103915328283288,
          0.11846577544564463,
          0.08595105301798553,
          -0.04450850029609911,
          0.1535412609040382,
          0.07621318543852589,
          0.025546659758993874,
          0.03037204315704454,
          -0.04834093476386499,
          0.19360762124886322,
          0.0013761923770613815,
          0.16270426331333296,
          0.0075080875254867774,
          0.006785151023612761,
          0.19632516568964267,
          0.07542927838830105,
          -0.06034342271064084,
          0.01668851009145321,
          0.022184569521362905,
          0.060892157645798216,
          0.0778506801656622,
          0.054873493515738635,
          0.07701451264542238,
          0.07950559504947019,
          0.050840727246248635,
          0.05665034949624827,
          0.1098427978931714,
          0.15196473672525268,
          0.027793859969638412,
          0.02809000263305668,
          0.028795518978259035,
          0.09939070389017358,
          0.12855204615853755,
          0.08410451641078924,
          0.027410616522861822,
          -0.052974696438527355,
          0.10725590462742945,
          0.16610119386430724,
          0.010791787058095264,
          0.04627664619827291,
          0.2057320502923407,
          0.12566030015104146,
          0.15087597693327373,
          0.08103856883657655,
          0.17942761371812949,
          0.15662462863492255,
          0.018883449832082757,
          0.10430318807158256,
          -0.12836042443514925,
          0.03772334927248635,
          0.10585358201536056,
          0.06684114114917115,
          0.013012857033732304,
          0.10498257418177742,
          0.039700537054720104,
          0.07936623379609689,
          0.03350767135794389,
          0.1807254153901684,
          -0.02910908179834897,
          0.06239900119789707,
          0.1392044719632595,
          0.11223806943552508,
          0.08293736591378782,
          -0.04723475481521438,
          -0.00019162172338829363,
          0.008100372852323321,
          0.05598838354272507,
          0.14928203259781658,
          0.007420986742128463,
          0.08601202356633635,
          0.006689340161918615,
          0.14294980564766704,
          0.003997925956146672,
          0.17051720358057385,
          0.10548775872525565,
          0.0815524634583906,
          0.1429062552559879,
          0.09127291088117859,
          0.13788925013454892,
          0.18080380609519087,
          0.08277187442540702,
          0.0960286136525426,
          0.17878306792127796,
          0.0028656157724885733,
          0.02892617015329651,
          0.038768558672786134,
          0.16053545380771092,
          0.078068432124058,
          0.0503355427027704,
          0.16226875939654137,
          0.04593695314317548,
          0.15305349651723163,
          0.12410990620726346,
          0.1184570653673088,
          0.1461115640835739,
          0.11394524478934806,
          0.01440646956746535,
          0.010730816509744443,
          -0.08562007004122393,
          0.01504230528598105,
          0.09568892059744517,
          -0.03596391344864838,
          0.03537162812181184,
          0.17359186123312237,
          0.18584694145163733,
          -0.013657402830583837,
          0.01155827395164844,
          -0.06907092120314402,
          0.0770754831937732,
          -0.0007316465802098484,
          0.16466403093889506,
          0.09187390628635096,
          0.05204271805659339,
          0.17118787961243287,
          0.04097220849175151,
          -0.05355827168702808,
          0.08465325134594663,
          0.09986975819864433,
          -0.00843135582908492,
          0.05072749622788283
         ],
         "xaxis": "x",
         "yaxis": "y"
        },
        {
         "alignmentgroup": "True",
         "bingroup": "x",
         "hovertemplate": "Department=Human Resources<br>ProfitPCT=%{x}<br>count=%{y}<extra></extra>",
         "legendgroup": "Human Resources",
         "marker": {
          "color": "#2CA02C",
          "pattern": {
           "shape": ""
          }
         },
         "name": "Human Resources",
         "offsetgroup": "Human Resources",
         "orientation": "v",
         "showlegend": true,
         "type": "histogram",
         "x": [
          0.04706926332683358,
          0.18791994009556523,
          0.026809621117689444,
          -0.0301107408069696,
          0.05203400797825755,
          0.06650144809407373,
          0.20372873227509947,
          0.0993994139685094,
          0.18570758019826403,
          0.13825507342465385,
          0.01378805400562131,
          0.17478514196513129,
          -0.08885150910381742,
          0.18211902792390144,
          -0.03480547302998279,
          -0.08953960529234811,
          0.0032488592192651605,
          0.10781334964092266,
          0.2036764718050845,
          -0.013012857033732304,
          0.16574408065253818,
          0.05481252296738781,
          0.022524262576460334,
          0.17745042593589574,
          0.05348859106034142,
          -0.07103939890704195,
          0.02752384754122763,
          0.02425756816529081,
          0.04206096828373045,
          0.057364575919786456,
          0.1510588885783262,
          0.17014267021213308,
          -0.13670467948087586,
          0.031025299032231907,
          -0.0015939443354571698,
          0.015512649516115954,
          0.1959767625562094,
          0.0028743258508244045,
          0.11640148688005256,
          0.008222313949024963,
          0.07609995442016007,
          -0.12575611101273562,
          0.04145997287855808,
          0.008466196142428247,
          0.08736208570839023,
          0.12511156521588407,
          -0.027532557619563466,
          -0.00041808376011991344,
          0.0657785115921997,
          0.013012857033732304,
          0.07630899630022002,
          0.03951762540966765,
          0.04129448139017728,
          0.1614761422679807,
          0.007159684392053516,
          0.06783409007945594,
          0.11000828938155222,
          0.0029352963991752254,
          0.14538862758169988,
          0.019449604923911804,
          0.05378473372375969,
          0.15214764837030514,
          0.06798216141116507
         ],
         "xaxis": "x",
         "yaxis": "y"
        }
       ],
       "layout": {
        "barmode": "relative",
        "legend": {
         "title": {
          "text": "Department"
         },
         "tracegroupgap": 0
        },
        "template": {
         "data": {
          "bar": [
           {
            "error_x": {
             "color": "rgb(36,36,36)"
            },
            "error_y": {
             "color": "rgb(36,36,36)"
            },
            "marker": {
             "line": {
              "color": "white",
              "width": 0.5
             },
             "pattern": {
              "fillmode": "overlay",
              "size": 10,
              "solidity": 0.2
             }
            },
            "type": "bar"
           }
          ],
          "barpolar": [
           {
            "marker": {
             "line": {
              "color": "white",
              "width": 0.5
             },
             "pattern": {
              "fillmode": "overlay",
              "size": 10,
              "solidity": 0.2
             }
            },
            "type": "barpolar"
           }
          ],
          "carpet": [
           {
            "aaxis": {
             "endlinecolor": "rgb(36,36,36)",
             "gridcolor": "white",
             "linecolor": "white",
             "minorgridcolor": "white",
             "startlinecolor": "rgb(36,36,36)"
            },
            "baxis": {
             "endlinecolor": "rgb(36,36,36)",
             "gridcolor": "white",
             "linecolor": "white",
             "minorgridcolor": "white",
             "startlinecolor": "rgb(36,36,36)"
            },
            "type": "carpet"
           }
          ],
          "choropleth": [
           {
            "colorbar": {
             "outlinewidth": 1,
             "tickcolor": "rgb(36,36,36)",
             "ticks": "outside"
            },
            "type": "choropleth"
           }
          ],
          "contour": [
           {
            "colorbar": {
             "outlinewidth": 1,
             "tickcolor": "rgb(36,36,36)",
             "ticks": "outside"
            },
            "colorscale": [
             [
              0,
              "#440154"
             ],
             [
              0.1111111111111111,
              "#482878"
             ],
             [
              0.2222222222222222,
              "#3e4989"
             ],
             [
              0.3333333333333333,
              "#31688e"
             ],
             [
              0.4444444444444444,
              "#26828e"
             ],
             [
              0.5555555555555556,
              "#1f9e89"
             ],
             [
              0.6666666666666666,
              "#35b779"
             ],
             [
              0.7777777777777778,
              "#6ece58"
             ],
             [
              0.8888888888888888,
              "#b5de2b"
             ],
             [
              1,
              "#fde725"
             ]
            ],
            "type": "contour"
           }
          ],
          "contourcarpet": [
           {
            "colorbar": {
             "outlinewidth": 1,
             "tickcolor": "rgb(36,36,36)",
             "ticks": "outside"
            },
            "type": "contourcarpet"
           }
          ],
          "heatmap": [
           {
            "colorbar": {
             "outlinewidth": 1,
             "tickcolor": "rgb(36,36,36)",
             "ticks": "outside"
            },
            "colorscale": [
             [
              0,
              "#440154"
             ],
             [
              0.1111111111111111,
              "#482878"
             ],
             [
              0.2222222222222222,
              "#3e4989"
             ],
             [
              0.3333333333333333,
              "#31688e"
             ],
             [
              0.4444444444444444,
              "#26828e"
             ],
             [
              0.5555555555555556,
              "#1f9e89"
             ],
             [
              0.6666666666666666,
              "#35b779"
             ],
             [
              0.7777777777777778,
              "#6ece58"
             ],
             [
              0.8888888888888888,
              "#b5de2b"
             ],
             [
              1,
              "#fde725"
             ]
            ],
            "type": "heatmap"
           }
          ],
          "heatmapgl": [
           {
            "colorbar": {
             "outlinewidth": 1,
             "tickcolor": "rgb(36,36,36)",
             "ticks": "outside"
            },
            "colorscale": [
             [
              0,
              "#440154"
             ],
             [
              0.1111111111111111,
              "#482878"
             ],
             [
              0.2222222222222222,
              "#3e4989"
             ],
             [
              0.3333333333333333,
              "#31688e"
             ],
             [
              0.4444444444444444,
              "#26828e"
             ],
             [
              0.5555555555555556,
              "#1f9e89"
             ],
             [
              0.6666666666666666,
              "#35b779"
             ],
             [
              0.7777777777777778,
              "#6ece58"
             ],
             [
              0.8888888888888888,
              "#b5de2b"
             ],
             [
              1,
              "#fde725"
             ]
            ],
            "type": "heatmapgl"
           }
          ],
          "histogram": [
           {
            "marker": {
             "line": {
              "color": "white",
              "width": 0.6
             }
            },
            "type": "histogram"
           }
          ],
          "histogram2d": [
           {
            "colorbar": {
             "outlinewidth": 1,
             "tickcolor": "rgb(36,36,36)",
             "ticks": "outside"
            },
            "colorscale": [
             [
              0,
              "#440154"
             ],
             [
              0.1111111111111111,
              "#482878"
             ],
             [
              0.2222222222222222,
              "#3e4989"
             ],
             [
              0.3333333333333333,
              "#31688e"
             ],
             [
              0.4444444444444444,
              "#26828e"
             ],
             [
              0.5555555555555556,
              "#1f9e89"
             ],
             [
              0.6666666666666666,
              "#35b779"
             ],
             [
              0.7777777777777778,
              "#6ece58"
             ],
             [
              0.8888888888888888,
              "#b5de2b"
             ],
             [
              1,
              "#fde725"
             ]
            ],
            "type": "histogram2d"
           }
          ],
          "histogram2dcontour": [
           {
            "colorbar": {
             "outlinewidth": 1,
             "tickcolor": "rgb(36,36,36)",
             "ticks": "outside"
            },
            "colorscale": [
             [
              0,
              "#440154"
             ],
             [
              0.1111111111111111,
              "#482878"
             ],
             [
              0.2222222222222222,
              "#3e4989"
             ],
             [
              0.3333333333333333,
              "#31688e"
             ],
             [
              0.4444444444444444,
              "#26828e"
             ],
             [
              0.5555555555555556,
              "#1f9e89"
             ],
             [
              0.6666666666666666,
              "#35b779"
             ],
             [
              0.7777777777777778,
              "#6ece58"
             ],
             [
              0.8888888888888888,
              "#b5de2b"
             ],
             [
              1,
              "#fde725"
             ]
            ],
            "type": "histogram2dcontour"
           }
          ],
          "mesh3d": [
           {
            "colorbar": {
             "outlinewidth": 1,
             "tickcolor": "rgb(36,36,36)",
             "ticks": "outside"
            },
            "type": "mesh3d"
           }
          ],
          "parcoords": [
           {
            "line": {
             "colorbar": {
              "outlinewidth": 1,
              "tickcolor": "rgb(36,36,36)",
              "ticks": "outside"
             }
            },
            "type": "parcoords"
           }
          ],
          "pie": [
           {
            "automargin": true,
            "type": "pie"
           }
          ],
          "scatter": [
           {
            "marker": {
             "colorbar": {
              "outlinewidth": 1,
              "tickcolor": "rgb(36,36,36)",
              "ticks": "outside"
             }
            },
            "type": "scatter"
           }
          ],
          "scatter3d": [
           {
            "line": {
             "colorbar": {
              "outlinewidth": 1,
              "tickcolor": "rgb(36,36,36)",
              "ticks": "outside"
             }
            },
            "marker": {
             "colorbar": {
              "outlinewidth": 1,
              "tickcolor": "rgb(36,36,36)",
              "ticks": "outside"
             }
            },
            "type": "scatter3d"
           }
          ],
          "scattercarpet": [
           {
            "marker": {
             "colorbar": {
              "outlinewidth": 1,
              "tickcolor": "rgb(36,36,36)",
              "ticks": "outside"
             }
            },
            "type": "scattercarpet"
           }
          ],
          "scattergeo": [
           {
            "marker": {
             "colorbar": {
              "outlinewidth": 1,
              "tickcolor": "rgb(36,36,36)",
              "ticks": "outside"
             }
            },
            "type": "scattergeo"
           }
          ],
          "scattergl": [
           {
            "marker": {
             "colorbar": {
              "outlinewidth": 1,
              "tickcolor": "rgb(36,36,36)",
              "ticks": "outside"
             }
            },
            "type": "scattergl"
           }
          ],
          "scattermapbox": [
           {
            "marker": {
             "colorbar": {
              "outlinewidth": 1,
              "tickcolor": "rgb(36,36,36)",
              "ticks": "outside"
             }
            },
            "type": "scattermapbox"
           }
          ],
          "scatterpolar": [
           {
            "marker": {
             "colorbar": {
              "outlinewidth": 1,
              "tickcolor": "rgb(36,36,36)",
              "ticks": "outside"
             }
            },
            "type": "scatterpolar"
           }
          ],
          "scatterpolargl": [
           {
            "marker": {
             "colorbar": {
              "outlinewidth": 1,
              "tickcolor": "rgb(36,36,36)",
              "ticks": "outside"
             }
            },
            "type": "scatterpolargl"
           }
          ],
          "scatterternary": [
           {
            "marker": {
             "colorbar": {
              "outlinewidth": 1,
              "tickcolor": "rgb(36,36,36)",
              "ticks": "outside"
             }
            },
            "type": "scatterternary"
           }
          ],
          "surface": [
           {
            "colorbar": {
             "outlinewidth": 1,
             "tickcolor": "rgb(36,36,36)",
             "ticks": "outside"
            },
            "colorscale": [
             [
              0,
              "#440154"
             ],
             [
              0.1111111111111111,
              "#482878"
             ],
             [
              0.2222222222222222,
              "#3e4989"
             ],
             [
              0.3333333333333333,
              "#31688e"
             ],
             [
              0.4444444444444444,
              "#26828e"
             ],
             [
              0.5555555555555556,
              "#1f9e89"
             ],
             [
              0.6666666666666666,
              "#35b779"
             ],
             [
              0.7777777777777778,
              "#6ece58"
             ],
             [
              0.8888888888888888,
              "#b5de2b"
             ],
             [
              1,
              "#fde725"
             ]
            ],
            "type": "surface"
           }
          ],
          "table": [
           {
            "cells": {
             "fill": {
              "color": "rgb(237,237,237)"
             },
             "line": {
              "color": "white"
             }
            },
            "header": {
             "fill": {
              "color": "rgb(217,217,217)"
             },
             "line": {
              "color": "white"
             }
            },
            "type": "table"
           }
          ]
         },
         "layout": {
          "annotationdefaults": {
           "arrowhead": 0,
           "arrowwidth": 1
          },
          "autotypenumbers": "strict",
          "coloraxis": {
           "colorbar": {
            "outlinewidth": 1,
            "tickcolor": "rgb(36,36,36)",
            "ticks": "outside"
           }
          },
          "colorscale": {
           "diverging": [
            [
             0,
             "rgb(103,0,31)"
            ],
            [
             0.1,
             "rgb(178,24,43)"
            ],
            [
             0.2,
             "rgb(214,96,77)"
            ],
            [
             0.3,
             "rgb(244,165,130)"
            ],
            [
             0.4,
             "rgb(253,219,199)"
            ],
            [
             0.5,
             "rgb(247,247,247)"
            ],
            [
             0.6,
             "rgb(209,229,240)"
            ],
            [
             0.7,
             "rgb(146,197,222)"
            ],
            [
             0.8,
             "rgb(67,147,195)"
            ],
            [
             0.9,
             "rgb(33,102,172)"
            ],
            [
             1,
             "rgb(5,48,97)"
            ]
           ],
           "sequential": [
            [
             0,
             "#440154"
            ],
            [
             0.1111111111111111,
             "#482878"
            ],
            [
             0.2222222222222222,
             "#3e4989"
            ],
            [
             0.3333333333333333,
             "#31688e"
            ],
            [
             0.4444444444444444,
             "#26828e"
            ],
            [
             0.5555555555555556,
             "#1f9e89"
            ],
            [
             0.6666666666666666,
             "#35b779"
            ],
            [
             0.7777777777777778,
             "#6ece58"
            ],
            [
             0.8888888888888888,
             "#b5de2b"
            ],
            [
             1,
             "#fde725"
            ]
           ],
           "sequentialminus": [
            [
             0,
             "#440154"
            ],
            [
             0.1111111111111111,
             "#482878"
            ],
            [
             0.2222222222222222,
             "#3e4989"
            ],
            [
             0.3333333333333333,
             "#31688e"
            ],
            [
             0.4444444444444444,
             "#26828e"
            ],
            [
             0.5555555555555556,
             "#1f9e89"
            ],
            [
             0.6666666666666666,
             "#35b779"
            ],
            [
             0.7777777777777778,
             "#6ece58"
            ],
            [
             0.8888888888888888,
             "#b5de2b"
            ],
            [
             1,
             "#fde725"
            ]
           ]
          },
          "colorway": [
           "#1F77B4",
           "#FF7F0E",
           "#2CA02C",
           "#D62728",
           "#9467BD",
           "#8C564B",
           "#E377C2",
           "#7F7F7F",
           "#BCBD22",
           "#17BECF"
          ],
          "font": {
           "color": "rgb(36,36,36)"
          },
          "geo": {
           "bgcolor": "white",
           "lakecolor": "white",
           "landcolor": "white",
           "showlakes": true,
           "showland": true,
           "subunitcolor": "white"
          },
          "hoverlabel": {
           "align": "left"
          },
          "hovermode": "closest",
          "mapbox": {
           "style": "light"
          },
          "paper_bgcolor": "white",
          "plot_bgcolor": "white",
          "polar": {
           "angularaxis": {
            "gridcolor": "rgb(232,232,232)",
            "linecolor": "rgb(36,36,36)",
            "showgrid": false,
            "showline": true,
            "ticks": "outside"
           },
           "bgcolor": "white",
           "radialaxis": {
            "gridcolor": "rgb(232,232,232)",
            "linecolor": "rgb(36,36,36)",
            "showgrid": false,
            "showline": true,
            "ticks": "outside"
           }
          },
          "scene": {
           "xaxis": {
            "backgroundcolor": "white",
            "gridcolor": "rgb(232,232,232)",
            "gridwidth": 2,
            "linecolor": "rgb(36,36,36)",
            "showbackground": true,
            "showgrid": false,
            "showline": true,
            "ticks": "outside",
            "zeroline": false,
            "zerolinecolor": "rgb(36,36,36)"
           },
           "yaxis": {
            "backgroundcolor": "white",
            "gridcolor": "rgb(232,232,232)",
            "gridwidth": 2,
            "linecolor": "rgb(36,36,36)",
            "showbackground": true,
            "showgrid": false,
            "showline": true,
            "ticks": "outside",
            "zeroline": false,
            "zerolinecolor": "rgb(36,36,36)"
           },
           "zaxis": {
            "backgroundcolor": "white",
            "gridcolor": "rgb(232,232,232)",
            "gridwidth": 2,
            "linecolor": "rgb(36,36,36)",
            "showbackground": true,
            "showgrid": false,
            "showline": true,
            "ticks": "outside",
            "zeroline": false,
            "zerolinecolor": "rgb(36,36,36)"
           }
          },
          "shapedefaults": {
           "fillcolor": "black",
           "line": {
            "width": 0
           },
           "opacity": 0.3
          },
          "ternary": {
           "aaxis": {
            "gridcolor": "rgb(232,232,232)",
            "linecolor": "rgb(36,36,36)",
            "showgrid": false,
            "showline": true,
            "ticks": "outside"
           },
           "baxis": {
            "gridcolor": "rgb(232,232,232)",
            "linecolor": "rgb(36,36,36)",
            "showgrid": false,
            "showline": true,
            "ticks": "outside"
           },
           "bgcolor": "white",
           "caxis": {
            "gridcolor": "rgb(232,232,232)",
            "linecolor": "rgb(36,36,36)",
            "showgrid": false,
            "showline": true,
            "ticks": "outside"
           }
          },
          "title": {
           "x": 0.05
          },
          "xaxis": {
           "automargin": true,
           "gridcolor": "rgb(232,232,232)",
           "linecolor": "rgb(36,36,36)",
           "showgrid": false,
           "showline": true,
           "ticks": "outside",
           "title": {
            "standoff": 15
           },
           "zeroline": false,
           "zerolinecolor": "rgb(36,36,36)"
          },
          "yaxis": {
           "automargin": true,
           "gridcolor": "rgb(232,232,232)",
           "linecolor": "rgb(36,36,36)",
           "showgrid": false,
           "showline": true,
           "ticks": "outside",
           "title": {
            "standoff": 15
           },
           "zeroline": false,
           "zerolinecolor": "rgb(36,36,36)"
          }
         }
        },
        "title": {
         "text": "Distribution of Profit as Percent by Department"
        },
        "xaxis": {
         "anchor": "y",
         "domain": [
          0,
          1
         ],
         "title": {
          "text": "ProfitPCT"
         }
        },
        "yaxis": {
         "anchor": "x",
         "domain": [
          0,
          1
         ],
         "title": {
          "text": "count"
         }
        }
       }
      }
     },
     "metadata": {}
    }
   ],
   "metadata": {}
  },
  {
   "cell_type": "code",
   "execution_count": 102,
   "source": [
    "# plot the data\r\n",
    "fig=px.histogram(avg_profit,x=avg_profit['ProfitPCT'],y='Attrition',color='Department',title='Distribution of Profit as Percent by Attrition and Department')\r\n",
    "fig.show()"
   ],
   "outputs": [
    {
     "output_type": "display_data",
     "data": {
      "application/vnd.plotly.v1+json": {
       "config": {
        "plotlyServerURL": "https://plot.ly"
       },
       "data": [
        {
         "alignmentgroup": "True",
         "bingroup": "y",
         "histfunc": "sum",
         "hovertemplate": "Department=Sales<br>sum of ProfitPCT=%{x}<br>Attrition=%{y}<extra></extra>",
         "legendgroup": "Sales",
         "marker": {
          "color": "#1F77B4",
          "pattern": {
           "shape": ""
          }
         },
         "name": "Sales",
         "offsetgroup": "Sales",
         "orientation": "h",
         "showlegend": true,
         "type": "histogram",
         "x": [
          0.117464116437024,
          0.057434256546473106,
          0.031173370363941043,
          0.12497220396251078,
          0.03375155355134718,
          0.01087888784145358,
          0.009816258284482134,
          0.06683243107083532,
          -0.01901410100712023,
          -0.05009166050936713,
          0.04760928818365514,
          0.12780297942165603,
          -0.012586063195276559,
          0.150501443564833,
          0.01708917369490146,
          -0.046015343848197963,
          0.1671899536562862,
          0.16291330519339292,
          0.068400245171285,
          0.06267772370464368,
          0.03463998154160199,
          0.025973453597449618,
          0.12674034986468458,
          0.16802612117652602,
          0.10905018076461073,
          0.04043218363492996,
          0.09177809542465683,
          0.18478431189466588,
          0.061649934461015556,
          0.11509497512967784,
          0.022080048581332928,
          0.0812998711866515,
          0.12687971111805788,
          0.21901491975448378,
          -0.022323930774736208,
          0.176196174655536,
          0.11329198891416069,
          0.07567316058170431,
          0.14106842872712744,
          0.15803566132532726,
          0.036094564623685856,
          0.11968518641266104,
          0.05740812631146561,
          -0.02005931040742001,
          0.07911364152435778,
          -0.011897967006745868,
          0.03696557245726901,
          0.16256490205995966,
          0.011436332854946798,
          -0.07243301144077499,
          0.16190293610643644,
          0.1470783827788512,
          0.1342397273118355,
          0.025564079915665536,
          0.009433014837705546,
          0.1417216846023148,
          0.06946287472825645,
          0.09642927725599086,
          -0.008379095359069931,
          -0.0022123598973012083,
          -0.011488593324961787,
          0.0026739940491002792,
          0.040075070423160865,
          -0.07246785175411832,
          0.01708917369490146,
          0.14858522633095006,
          0.06623143566566295,
          0.03310700775449564,
          0.12571256062105646,
          -0.016505598446400746,
          -0.02575570163905383,
          0.14217460867577805,
          0.11833512427060716,
          0.17093528734069377,
          0.13680049034257,
          0.009755287736131312,
          0.022837825396550267,
          0.011662794891678417,
          -0.025433428740628063,
          -0.001036499321963952,
          0.07424470773462795,
          0.046267936119937084,
          0.10017461094039841,
          0.16894067940178834,
          0.006654499848575288,
          -0.003518871647675938,
          0.10922438233132738,
          -0.003179178592578508,
          0.13725341441603323,
          0.05065781560119617,
          -0.005983823816716261,
          -0.02437950926199245,
          0.03133886185232184,
          0.19837203409856308,
          0.10695105188567534,
          0.09993943882533098,
          0.011610534421663429,
          0.12943176407045653,
          0.06076150647076075,
          0.07510700548987527,
          -0.02136582215779474,
          0.0020991288789353984,
          0.054864783437402795,
          0.0017681459021738003,
          -0.0023517211506745126,
          0.1977710386933907,
          0.13498008397038122,
          0.08645623756146376,
          -0.005678971074962157,
          0.014415179645801182,
          0.13028535174736802,
          -0.032985066657794,
          0.1466602990187313,
          0.05401990583882714,
          0.06622272558732711,
          0.043933635125934234,
          0.11306552687742907,
          0.0973264153245815,
          0.16348817036355778,
          0.08624719568140381,
          -0.043715883167538445,
          -0.04809705257046171,
          0.06954126543327893,
          -0.06463749133020578,
          0.02170551521289217,
          0.134265857546843,
          0.046494398156668705,
          0.13593819258732268,
          -0.06063956537405911,
          0.06271256401798701,
          0.12143591215816318,
          0.015364578184406816,
          0.09905101083507616,
          0.11962421586431023,
          0.053836994193774676,
          0.003841144546101704,
          -0.0003396930550974296,
          0.016017834059594182,
          0.12702778244976703,
          -0.09554084926573604,
          0.13789796021288478,
          0.16729447459631616,
          0.027262545191152683,
          0.010068850556221249,
          0.2114807019939895,
          0.10832724426273672,
          0.0634006602065177,
          0.006610949456896131,
          -0.05741683638980144,
          0.002900456085831899,
          0.1158875922582385,
          0.1828855148174546,
          0.11607921398162678,
          -0.007612608465516757,
          0.011706345283357575,
          -0.01806470246851459,
          0.09430401814204797,
          0.032776024777734045,
          0.09125549072450694,
          0.10474740206670996,
          0.17601326301048353,
          0.14203524742240473,
          0.14507506476160995,
          0.05979468777548345,
          0.11581791163155185,
          0.056781000671285733,
          0.053201158475258976,
          -0.03087722770052277,
          0.17394897444489146,
          0.0009842388519489627,
          0.14701741223050036,
          0.13648692752248004,
          -0.05898465049025112,
          0.14482247248987082,
          0.05013521090104628,
          0.03433512879984789,
          0.10810949230434094,
          0.05785234030659302,
          -0.01970219719565092,
          0.17129240055246284,
          0.1545603400693305,
          0.05927208307533355,
          0.18450558938791928,
          -0.015625880534481763,
          0.14248817149586798,
          -0.009415594681033883,
          -0.09331106921176317,
          0.15485648273274874,
          -0.029422644618438906,
          0.042217749693775425,
          0.08519327620276819,
          0.0738440441311797,
          0.15873246759219378,
          0.08857278659707082,
          0.1210526687113866,
          0.02061675542091323,
          0.08015885092465756,
          0.18049024327510094,
          0.09540148801236274,
          0.15895021955058958,
          0.11537369763642442,
          -0.024632101533731566,
          0.1684877553283251,
          0.17427124734331723,
          0.08573330105958973,
          0.013761923770613815,
          0.08194441698350302,
          0.15219990884032014,
          0.14271463353259958,
          0.09534922754234774,
          0.059698876913789306,
          0.06816507305621754,
          -0.041869346560342156,
          0.037566567862441384,
          0.13976191697675272,
          0.013744503613942152,
          -0.007961011598950017,
          0.023630442525110935,
          0.12397054495389015,
          -0.008805889197525675,
          -0.04633761674662373,
          0.03376897370801884,
          0.18180546510381151,
          0.026522188532607006,
          0.03839402530434538,
          -0.0917432551113135,
          -0.016374947271363276,
          0.14671255948874629,
          0.05226918009332501,
          -0.01378805400562131,
          0.16177228493139897,
          0.16631894582270304,
          -0.10666361930059291,
          0.022236829991377896,
          -0.007542927838830105,
          0.13946577431333446,
          0.14101616825711244,
          0.1945134693957897,
          0.12038199267952755,
          -0.01998091970239753,
          -0.04816673319714835,
          0.1296233857938448,
          0.006541268830209478,
          0.15267896314879087,
          0.10907631099961823,
          0.07925300277773108,
          0.10780463956258683,
          -0.027619658402921778,
          -0.016279136409669128,
          0.11556531935981273,
          0.16714640326460703,
          0.11786478004047224,
          -0.010809207214766928,
          0.08850310597038417,
          0.001001659008620626,
          0.03332475971289143,
          -0.09851969605659042,
          -0.0252766473305831,
          -0.03372542331633968,
          0.03608585454535003,
          0.10556614943027813,
          0.06139734218927645,
          0.07906138105434278,
          0.18389588390441108,
          0.10504354473012824,
          0.0031878886709143395,
          0.020660305812592386,
          0.049412274399172264,
          0.041277061233505614,
          0.13651305775748754,
          0.029422644618438906,
          0.09858937668327708,
          -0.08241476121363793,
          0.11608792405996263,
          0.06029116224062584,
          -0.1422442893024647,
          -0.07702322272375821,
          0.013073827582083124,
          -0.005670260996626326,
          0.08825922377698088,
          0.047766069593700104,
          0.07090874773200448,
          0.11399750525936306,
          -0.007987141833957512,
          0.13869057734144544,
          0.052408541346698305,
          0.0016897551971513166,
          0.10946826452473066,
          0.15179924523687188,
          -0.020712566282607377,
          0.03477934279497529,
          0.13344711018327485,
          -0.038481126087703696,
          0.07923558262105942,
          0.16265200284331796,
          0.16991620817540148,
          -0.022236829991377896,
          0.04179966593365551,
          0.08096017813155407,
          0.14301077619601787,
          0.0543944392072679,
          0.011593114264991764,
          0.1000352496870251,
          0.12886560897862748,
          0.06952384527660727,
          0.06834798470127,
          0.09391206461693555,
          0.09623765553260256,
          0.12315179759032199,
          -0.02096515855434649,
          0.051302361398047704,
          0.16818290258657098,
          0.13088634715254038,
          0.1139539548676839,
          0.09696059203447657,
          -0.02057320502923407,
          0.039317293607943525,
          0.11181998567540516,
          0.10208211809594551,
          0.028011611928034197,
          0.12009456009444512,
          0.044160097162665855,
          0.13184445576948184,
          0.17079592608732044,
          0.060352132788976665,
          -0.04551886938305557,
          0.045335957738003106,
          0.02295976649325191,
          0.12082620667465498,
          0.20707340235605878,
          0.12505059466753327,
          0.06318290824812191,
          0.036556198775484924,
          -0.03824595397263624,
          0.07446245969302374,
          0.03005848033695461,
          0.02117420043440645,
          0.10609746420876386,
          0.12744586620988693,
          -0.031173370363941043,
          0.0016374947271363275,
          0.05768684881821221,
          -0.12552093889766816,
          0.17225921924774015,
          0.141712974523979,
          0.1467735300370971,
          0.09776191924137309,
          0.1450924849182816,
          0.15280961432382834,
          0.09117710001948445,
          0.05080588693290531,
          -0.007238075097076,
          -0.013796764083957143,
          0.14905557056108495,
          0.044543340609442435,
          0.03927374321626437,
          0.15986477777585187,
          0.09373786305021892,
          0.07913106168102944,
          -0.016096224764616664,
          0.19883366825036217,
          -0.015486519281108458,
          0.05773039920989137,
          0.0255815000723372,
          0.09779675955471641,
          -0.012559932960269065,
          -0.04156449381858805,
          0.02198423771963878,
          0.04713894395352024,
          -0.05025715199774792,
          -0.1348668529520154,
          0.10972085679646977,
          0.10338862984632025,
          -0.03529323741678935,
          0.04834093476386499,
          0.03208792858920335,
          0.013308999697150575,
          0.09442595923874961,
          0.07239817112743167,
          0.16831355376160845,
          0.016444627898049926,
          0.06910576151648735,
          0.04016217120651918,
          0.0668846915408503,
          0.1495955954179065,
          0.13118248981595865,
          0.1394570642349986,
          0.1335167908099615,
          0.05475155241903699,
          -0.01184570653673088,
          -0.010112400947900405,
          0.03868145788942782,
          0.12639194673125131,
          0.11820447309556967,
          0.18663084850186218,
          0.14179136522900146,
          -0.04778348975037177,
          0.030293652452022056,
          0.058331394615063745,
          0.007281625488755158,
          0.1301111501806514,
          0.003370800315966802,
          0.12830816396513425,
          0.17853047564953883,
          0.09855453636993376,
          0.19552383848274618,
          0.11786478004047224,
          0.0730949773942982,
          0.042879715647298616,
          0.10818788300936341,
          0.08318995818552694,
          -0.015233927009369343,
          0.11756863737705397,
          0.1301982509640097,
          -0.053253418945273974,
          -0.019048941320463555,
          0.09070675578934954,
          -0.02715802425112271,
          0.12443217910568921,
          0.07503732486318862,
          0.07300787661093988,
          0.00865781786581654,
          0.1346403909152838,
          -0.04010991073650419,
          0.10240439099437129,
          -0.012359601158544939,
          0.027837410361317566,
          0.028969720544975666,
          0.13722728418102575,
          0.1185441661506671,
          0.07644835755359333,
          0.14202653734406892,
          0.2011940994793725,
          0.21919783139953625,
          0.04399460567428505,
          0.019737037508994245,
          0.04381169402923259,
          0.0286474476465499,
          0.005565740056596347,
          0.06556075963380392,
          0.06721567451761191,
          0.16098837788117415,
          0.049926169020986316,
          -0.027898380909668386,
          0.16036996231933012,
          0.068400245171285
         ],
         "xaxis": "x",
         "y": [
          "Yes",
          "No",
          "Yes",
          "No",
          "No",
          "Yes",
          "Yes",
          "No",
          "No",
          "No",
          "No",
          "No",
          "No",
          "No",
          "No",
          "No",
          "No",
          "No",
          "No",
          "No",
          "Yes",
          "No",
          "No",
          "No",
          "No",
          "No",
          "No",
          "Yes",
          "No",
          "No",
          "No",
          "No",
          "Yes",
          "Yes",
          "No",
          "Yes",
          "No",
          "No",
          "No",
          "No",
          "No",
          "No",
          "No",
          "No",
          "No",
          "No",
          "No",
          "Yes",
          "No",
          "No",
          "Yes",
          "Yes",
          "Yes",
          "No",
          "No",
          "Yes",
          "No",
          "No",
          "No",
          "No",
          "No",
          "No",
          "No",
          "No",
          "No",
          "No",
          "No",
          "No",
          "No",
          "No",
          "No",
          "No",
          "No",
          "No",
          "No",
          "No",
          "Yes",
          "No",
          "No",
          "No",
          "No",
          "No",
          "No",
          "No",
          "No",
          "No",
          "Yes",
          "No",
          "No",
          "No",
          "No",
          "No",
          "No",
          "No",
          "No",
          "No",
          "No",
          "No",
          "Yes",
          "No",
          "No",
          "No",
          "Yes",
          "Yes",
          "Yes",
          "Yes",
          "No",
          "No",
          "Yes",
          "No",
          "No",
          "No",
          "No",
          "No",
          "No",
          "No",
          "No",
          "No",
          "Yes",
          "Yes",
          "No",
          "No",
          "No",
          "No",
          "No",
          "No",
          "No",
          "No",
          "No",
          "No",
          "No",
          "No",
          "No",
          "No",
          "Yes",
          "No",
          "No",
          "No",
          "No",
          "No",
          "No",
          "Yes",
          "No",
          "No",
          "No",
          "Yes",
          "Yes",
          "No",
          "No",
          "No",
          "Yes",
          "No",
          "No",
          "No",
          "Yes",
          "No",
          "No",
          "No",
          "No",
          "No",
          "Yes",
          "No",
          "Yes",
          "No",
          "No",
          "No",
          "No",
          "No",
          "No",
          "No",
          "No",
          "No",
          "No",
          "No",
          "No",
          "Yes",
          "No",
          "No",
          "Yes",
          "No",
          "No",
          "No",
          "Yes",
          "Yes",
          "Yes",
          "No",
          "No",
          "No",
          "No",
          "No",
          "No",
          "No",
          "No",
          "No",
          "No",
          "No",
          "No",
          "Yes",
          "No",
          "No",
          "No",
          "No",
          "No",
          "Yes",
          "No",
          "No",
          "No",
          "No",
          "Yes",
          "No",
          "No",
          "Yes",
          "Yes",
          "Yes",
          "No",
          "No",
          "No",
          "No",
          "No",
          "No",
          "No",
          "Yes",
          "No",
          "No",
          "No",
          "No",
          "No",
          "Yes",
          "Yes",
          "No",
          "No",
          "No",
          "No",
          "No",
          "No",
          "No",
          "No",
          "No",
          "No",
          "No",
          "No",
          "Yes",
          "Yes",
          "No",
          "Yes",
          "No",
          "No",
          "No",
          "No",
          "No",
          "No",
          "No",
          "No",
          "Yes",
          "No",
          "Yes",
          "Yes",
          "No",
          "No",
          "Yes",
          "No",
          "No",
          "No",
          "No",
          "No",
          "No",
          "No",
          "No",
          "No",
          "No",
          "No",
          "No",
          "No",
          "No",
          "Yes",
          "Yes",
          "No",
          "No",
          "No",
          "No",
          "No",
          "Yes",
          "Yes",
          "No",
          "No",
          "Yes",
          "No",
          "No",
          "No",
          "No",
          "No",
          "No",
          "Yes",
          "Yes",
          "Yes",
          "No",
          "No",
          "No",
          "No",
          "No",
          "No",
          "No",
          "No",
          "Yes",
          "No",
          "No",
          "Yes",
          "No",
          "No",
          "No",
          "Yes",
          "No",
          "No",
          "No",
          "No",
          "No",
          "No",
          "Yes",
          "Yes",
          "Yes",
          "No",
          "No",
          "No",
          "No",
          "No",
          "No",
          "No",
          "No",
          "No",
          "No",
          "No",
          "No",
          "No",
          "Yes",
          "No",
          "No",
          "No",
          "No",
          "No",
          "No",
          "No",
          "No",
          "No",
          "No",
          "No",
          "Yes",
          "Yes",
          "Yes",
          "No",
          "No",
          "Yes",
          "No",
          "No",
          "No",
          "No",
          "No",
          "No",
          "No",
          "Yes",
          "No",
          "Yes",
          "No",
          "No",
          "No",
          "Yes",
          "No",
          "No",
          "Yes",
          "Yes",
          "No",
          "No",
          "No",
          "Yes",
          "No",
          "No",
          "No",
          "Yes",
          "Yes",
          "No",
          "No",
          "Yes",
          "No",
          "No",
          "Yes",
          "No",
          "No",
          "No",
          "No",
          "No",
          "No",
          "No",
          "No",
          "No",
          "No",
          "No",
          "Yes",
          "No",
          "No",
          "Yes",
          "No",
          "Yes",
          "No",
          "No",
          "No",
          "No",
          "No",
          "No",
          "No",
          "No",
          "No",
          "Yes",
          "No",
          "Yes",
          "No",
          "No",
          "No",
          "No",
          "No",
          "No",
          "No",
          "No",
          "No",
          "Yes",
          "Yes",
          "No",
          "No",
          "No",
          "No",
          "No",
          "No",
          "No",
          "No",
          "No",
          "Yes",
          "No",
          "No",
          "No",
          "No",
          "No",
          "Yes",
          "No",
          "No",
          "Yes",
          "No",
          "No",
          "No"
         ],
         "yaxis": "y"
        },
        {
         "alignmentgroup": "True",
         "bingroup": "y",
         "histfunc": "sum",
         "hovertemplate": "Department=Research & Development<br>sum of ProfitPCT=%{x}<br>Attrition=%{y}<extra></extra>",
         "legendgroup": "Research & Development",
         "marker": {
          "color": "#FF7F0E",
          "pattern": {
           "shape": ""
          }
         },
         "name": "Research & Development",
         "offsetgroup": "Research & Development",
         "orientation": "h",
         "showlegend": true,
         "type": "histogram",
         "x": [
          0.17225921924774015,
          0.0026652839707644476,
          0.17637908630058846,
          0.11465947121288625,
          0.07661384904197413,
          0.06353131138155517,
          0.09269265364991913,
          -0.0064367478901795,
          0.09877228832832954,
          0.12240273085344047,
          0.07393985499287384,
          0.10677685031895871,
          0.053105347613564835,
          0.09510534534894446,
          0.0018726668422037788,
          0.10238697083769964,
          0.03822853381596458,
          0.0031530483575710135,
          0.03676524065554489,
          0.0809950184448974,
          0.15720820388342327,
          0.12317792782532949,
          -0.07280754480921575,
          0.006637079691903626,
          -0.0710219787503703,
          0.0363558669737608,
          0.11023475141828383,
          0.1211658997297524,
          0.006332226950149521,
          0.16791289015816022,
          0.08407838617578174,
          0.07803359181071466,
          0.151328901006737,
          0.0719887974456476,
          0.05896723033357945,
          -0.028438405766489944,
          0.06275611440966616,
          0.0228465354748861,
          0.12118331988642407,
          0.06739858616266438,
          -0.013779343927285479,
          0.014702612230883622,
          0.10441641908994836,
          0.031469513027359314,
          -0.028778098821587373,
          0.04106801935344566,
          0.02656573892428616,
          -0.017759849726760486,
          -0.016496888368064913,
          0.043323929642426026,
          0.14072873567203,
          0.07893943995764115,
          0.03200082780584504,
          0.160169630517606,
          0.019623806490628434,
          0.1417478148373223,
          0.0098075482061463,
          0.16517792556070912,
          0.141608453583949,
          0.015869762727885046,
          0.10098464822563073,
          0.09469597166716039,
          0.20398132454683857,
          0.09048029375261792,
          0.11681086056183664,
          0.12575611101273562,
          0.14502280429159498,
          0.10171629480584059,
          0.005330567941528895,
          -0.06559559994714724,
          0.09103773876611114,
          0.20034051180246099,
          0.10645457742053295,
          0.1468257905071121,
          0.06683243107083532,
          0.09308460717503154,
          -0.07331272935269398,
          0.20911156068664336,
          0.18216257831558058,
          0.15949895448574697,
          0.1464425470603355,
          0.09130775119452192,
          0.0914122721345519,
          -0.05239983126836248,
          -0.002386561464017839,
          0.17156241298087363,
          -0.003945665486131683,
          -0.11388427424099724,
          0.18231935972562557,
          -0.059637906365438476,
          0.14612027416190973,
          -0.008866859745876497,
          0.09886809919002369,
          -0.018482786228634505,
          0.12629613586955718,
          0.05246951189504913,
          0.054873493515738635,
          -0.01755080784670053,
          0.18533304682982327,
          0.06280837487968115,
          0.07353048131108977,
          -0.037392366295724754,
          0.041137699980132315,
          0.1273326351915211,
          0.025250517095575603,
          0.07449730000636706,
          0.19130816056820368,
          0.06838282501461333,
          0.07427083796963545,
          0.08421774742915505,
          0.034369969113191214,
          0.03448320013155702,
          0.12161882380321565,
          0.1982413829235256,
          -0.025024055058843985,
          0.018796349048724438,
          0.08180505573012972,
          0.08976606732907974,
          0.11300455632907826,
          0.06915802198650234,
          0.08433097844752087,
          0.06981127786168971,
          0.07089132757533281,
          0.035110325771736894,
          0.02660928931596532,
          0.0296142663418272,
          -0.002308170758995355,
          0.18987970772112733,
          0.016697220169789043,
          -0.10917212186131238,
          -0.046886351681781124,
          0.03943052462630933,
          -0.05698133247300987,
          -0.12473703184744332,
          0.08276316434707118,
          0.08345126053560188,
          0.027340935896175173,
          0.031965987492501714,
          0.16908875073349747,
          0.1006972156405483,
          0.0973264153245815,
          0.006149315305097059,
          -0.018082122625186256,
          0.04686893152510946,
          0.14797552084744184,
          0.01878763897038861,
          0.12004229962443012,
          0.04077187669002739,
          0.0876582283718085,
          0.04834093476386499,
          0.0815785936933981,
          0.025886352814091303,
          0.10844918535943837,
          0.028272914278109143,
          0.05138075210307019,
          0.15415967646588222,
          0.035110325771736894,
          0.09255329239654582,
          -0.018543756776985325,
          0.000313562820089935,
          0.05469058187068617,
          0.10950310483807398,
          0.0007664868935531745,
          -0.12454541012405503,
          0.17170177423424693,
          0.1637668928703044,
          0.050875567559591967,
          0.11484238285793871,
          0.14637286643364886,
          0.18402653507944855,
          -0.028150973181407503,
          -0.0013239319070463924,
          0.10334507945464108,
          0.154429688894293,
          0.1287088275685825,
          -0.011462463089954293,
          0.1090937311562899,
          -0.03935213392128685,
          0.17710202280246248,
          0.1434637002694811,
          0.022707174221512794,
          0.047156364110191896,
          -0.11747282651535984,
          0.178626286511233,
          0.07118747023875108,
          0.20266610271812802,
          0.15295768565553747,
          0.09973039694527101,
          0.07687515139204908,
          0.12528576678260073,
          -0.052216919623310015,
          0.14842844492090507,
          -0.0009319783819339736,
          -0.013770633848949648,
          0.0047295725363565196,
          0.063592281929906,
          -0.016775610874811525,
          0.06187639649774718,
          0.17742429570088825,
          -0.028995850779983158,
          0.029892988848573807,
          0.09195229699137344,
          0.15661591855658671,
          0.11990293837105682,
          0.1459722028302006,
          0.11457237042952793,
          0.10283989491116287,
          0.01026047227960954,
          0.060352132788976665,
          0.18987970772112733,
          0.07913106168102944,
          0.20741309541115618,
          0.02991040900524547,
          0.09440853908207794,
          -0.00729033556709099,
          0.011575694108320102,
          0.010913728154796905,
          0.12756780730658857,
          0.09926005271513612,
          0.045780171733130516,
          0.1315047627143844,
          0.04400331575262088,
          0.10004395976536094,
          -0.10202114754759471,
          0.07159684392053517,
          0.03349896127960806,
          0.11154126316865855,
          0.16078804607945002,
          0.047922851003745076,
          0.1852894964381441,
          0.053645372470386386,
          0.04434300880771832,
          0.016279136409669128,
          -0.016766900796475692,
          0.008448775985756583,
          0.10466030128335164,
          -0.006297386636806195,
          0.048610947192275766,
          0.022994606806595236,
          0.0316872649857551,
          0.14659061839204462,
          0.03633844681708914,
          0.16174615469639148,
          0.08857278659707082,
          0.11486851309294621,
          0.03551969945352097,
          -0.0007926171285606692,
          0.013814184240628805,
          0.09604603380921427,
          0.08968767662405726,
          -0.032993776736129826,
          0.17665780880733506,
          0.12377892323050185,
          0.09394690493027887,
          -0.06742471639767186,
          0.0426271233755595,
          0.13907382078822203,
          0.11195934692877847,
          0.12250725179347044,
          0.009589796247750514,
          0.08122148048162901,
          0.057477806938152264,
          0.030311072608693722,
          0.19332889874211662,
          0.009946909459519607,
          0.2079966706596569,
          0.15603234330808602,
          0.14742678591228445,
          -0.0870223926532928,
          0.08699626241828531,
          -0.09491372362555617,
          -0.0013065117503747294,
          0.11305681679909325,
          -0.019989629780733358,
          0.1691235910468408,
          0.12172334474324562,
          -0.09567150044077352,
          0.07819037322075964,
          0.04672957027173615,
          0.101385311829079,
          0.06097925842915654,
          -0.0543944392072679,
          0.07295561614092488,
          0.16289588503672126,
          -0.13685275081258497,
          0.1873015245337212,
          -0.0011932807320089195,
          0.09061965500599123,
          0.0012716714370314033,
          0.12748941660156607,
          0.0835383613189602,
          0.1372185741026899,
          -0.06734632569264938,
          0.04021443167653417,
          0.020198671660793314,
          -0.1356420499239044,
          0.13060762464579379,
          0.17113561914241787,
          0.049194522440776475,
          0.032627953446024906,
          0.0958892523991693,
          0.028717128273236553,
          0.05803525195164548,
          0.11396266494601974,
          0.06242513143290457,
          0.04559726008807805,
          0.06207672829947131,
          0.12296017586693368,
          -0.003971795721139177,
          0.160117370047591,
          0.05569224087930679,
          -0.04092865810007235,
          0.18180546510381151,
          0.14247075133919632,
          -0.013439650872188048,
          0.14380339332457853,
          0.10756946744751938,
          0.08060306491978497,
          -0.1513550312417445,
          0.16466403093889506,
          0.06073537623575325,
          0.0982671037848513,
          0.16698962185456206,
          0.08991413866078887,
          0.0246146813770599,
          0.07770260883395307,
          0.014188717609069562,
          -0.12155785325486482,
          0.10401575548650013,
          0.12148817262817815,
          0.022602653281482817,
          -0.08845084550036918,
          0.08163085416341309,
          0.10249149177772961,
          0.17916631136805455,
          0.04328037925074687,
          0.13152218287105608,
          0.001498133473763023,
          0.11080961658844872,
          -0.020817087222637354,
          0.04430816849437499,
          0.11435461847113214,
          0.22637493594826144,
          -0.0016026544137930012,
          0.13604271352735264,
          0.04986519847263551,
          0.1414429620955682,
          0.0919087465996943,
          0.0006619659535231962,
          0.0786781376075662,
          0.14306303666603287,
          0.10241310107270711,
          -0.012220239905171636,
          0.07154458345052019,
          -0.011323101836580987,
          -0.03470095208995281,
          0.014423889724137011,
          0.07509829541153944,
          0.0656391503388264,
          -0.013970965650673772,
          0.15335834925898573,
          0.010608875413042802,
          0.01606138445127334,
          0.08115179985494236,
          0.17931438269976369,
          0.14447406935643758,
          0.07376565342615722,
          -0.0028917460074960677,
          0.13794151060456392,
          0.15167730414017025,
          -0.008135213165666648,
          0.021958107484631284,
          0.14045001316528338,
          0.011671504970014249,
          0.19450475931745387,
          0.008048112382308332,
          0.18477560181633007,
          0.08946121458732563,
          0.14968269620126484,
          0.14914267134444328,
          0.17511612494189288,
          0.027428036679533484,
          0.17892242917465126,
          0.049534215495873904,
          -0.019205722730508523,
          0.01606138445127334,
          0.2077963388579328,
          0.1626345826866463,
          -0.09370302273687559,
          0.03806304232758378,
          0.12458896051573418,
          -0.03283699532608486,
          0.1579398504636331,
          0.18359974124099282,
          0.05674616035794241,
          0.09402529563530135,
          -0.017515967533357206,
          0.10445125940329168,
          0.11290003538904828,
          0.0600037296555434,
          0.11634051633170174,
          0.033786393864690505,
          0.06421069749175003,
          -0.017454996985006382,
          0.05010908066603878,
          -0.10416382681820925,
          -0.034544170679907844,
          0.07532475744827107,
          0.1614151717196299,
          0.12947531446213567,
          -0.006410617655172005,
          0.15859310633882048,
          0.13320322798987155,
          -0.012089588730134163,
          0.14795810069077017,
          0.045309827502995614,
          0.1251725357642349,
          0.019388634375560983,
          0.05707714333470401,
          0.1112451205052403,
          0.127080042919782,
          0.05952467534707267,
          0.06074408631408908,
          0.06633595660569293,
          0.16109289882120412,
          0.10900663037293158,
          -0.015451678967765134,
          0.05165947460981679,
          0.1412774706071874,
          -0.11654084813342586,
          0.1325761023496917,
          0.03067689589879865,
          0.04310617768403024,
          0.09584570200749015,
          0.16591828221925478,
          0.05380215388043135,
          -0.015373288262742648,
          0.050962668342950275,
          0.13018954088567386,
          0.06495105415029571,
          0.016540438759744074,
          0.1349191134220304,
          0.04257486290554451,
          0.004703442301349025,
          -0.011296971601573492,
          0.13200994725786266,
          0.13129572083432445,
          0.028603897254870742,
          0.1621381082215039,
          0.023604312290103444,
          0.014301948627435371,
          -0.013953545494002111,
          0.08508004518440238,
          0.08740563610006939,
          0.10028784195876422,
          0.18679633999024298,
          0.05948112495539351,
          0.04652923847001203,
          0.1630178261334229,
          -0.0284819561581691,
          0.20684694031932715,
          0.014737452544226948,
          0.06968933676498806,
          0.07904396089767113,
          0.12010327017278094,
          0.0760825342634884,
          -0.09392948477360721,
          0.12780297942165603,
          -0.1366088686191817,
          0.08078597656483744,
          0.09063707516266288,
          0.0819357069051672,
          -0.08546328863117895,
          0.08224926972525713,
          0.11639277680171671,
          0.17193694634931436,
          0.055143505944149414,
          0.06207672829947131,
          0.10837079465441588,
          0.027907090988004223,
          -0.029727497360193006,
          0.05562256025262015,
          0.1365304779141592,
          0.2029709554598821,
          -0.018622147482007807,
          0.03858564702773367,
          0.07733678554384815,
          0.09795354096476137,
          0.15998671887255353,
          -0.049490665104194746,
          0.0037540437627433887,
          0.04898548056071651,
          0.15490874320276374,
          0.07057776475524288,
          0.08366030241566183,
          0.05754748756483892,
          0.0027088343624436053,
          0.04813189288380503,
          -0.050492324112815366,
          0.061928656967762175,
          0.026339276887554542,
          0.11587888217990266,
          0.001532973787106349,
          -0.05560514009594848,
          0.08484487306933493,
          0.20257900193476971,
          0.015834922414541718,
          0.08023724162968005,
          0.059324343545348546,
          0.004938614416416477,
          0.13798506099624308,
          0.1429672258043387,
          0.06855702658132996,
          0.031643714594075945,
          0.06259062292128537,
          -0.007499377447150945,
          0.1348929831870229,
          0.1374885865311007,
          0.1412774706071874,
          0.010870177763117748,
          0.0421306489104171,
          0.03700912284894817,
          0.1227685541435454,
          -0.012011198025111679,
          0.17659683825898426,
          0.12638323665291548,
          0.007961011598950017,
          0.14803649139579267,
          0.00592285326836544,
          -0.028447115844825774,
          0.039752797524735095,
          0.169837817470379,
          -0.006367067263492847,
          0.04247905204385037,
          0.2129962556244242,
          0.0033446700809593075,
          0.006227706010119544,
          0.012002487946775846,
          -0.018134383095201243,
          0.20256158177809802,
          0.01731563573163308,
          0.1346491009936196,
          0.14554540899174484,
          0.10278763444114787,
          0.12759393754159606,
          0.04604147408320546,
          0.1100344196165597,
          0.1688448685400942,
          0.10148983276910897,
          0.037322685669038104,
          0.03155661381071763,
          0.0996432961619127,
          0.0471302338751844,
          0.0024649521690403224,
          0.1226553231251796,
          0.024492740280358256,
          0.17803400118439644,
          0.07839941510081959,
          0.1461638245535889,
          0.08112566961993486,
          0.17779011899099317,
          0.21044420267202554,
          -0.011915387163417532,
          0.20216962825298562,
          0.04024056191154166,
          0.13607755384069598,
          0.03037204315704454,
          0.08531521729946982,
          0.06872251806971076,
          0.000296142663418272,
          0.2157050899868678,
          0.011932807320089195,
          0.01732434580996891,
          0.1584014846154322,
          -0.07286851535756657,
          0.08059435484144914,
          -0.07170136486056515,
          0.010121111026236237,
          0.035920363056969225,
          0.06809539242953089,
          0.027898380909668386,
          0.08757112758845019,
          0.03996183940479506,
          -0.023168808373311867,
          -0.052408541346698305,
          0.030746576525485295,
          0.05043135356446456,
          0.08788469040854012,
          0.10575777115366643,
          -0.007342596037105979,
          0.1565288177732284,
          0.03735752598238143,
          0.016009123981258352,
          0.04960389612256056,
          0.08933056341228816,
          0.09046287359594626,
          -0.009711737344452154,
          -0.05737328599812228,
          0.04846287586056663,
          0.12247241148012714,
          0.006018664130059587,
          -0.02106967949437647,
          -0.08302446669714612,
          -0.11062670494339626,
          0.16599667292427728,
          0.15875859782720128,
          0.1365566081491667,
          0.06182413602773219,
          0.10465159120501583,
          0.19757070689166656,
          0.08265864340704121,
          0.15756531709519236,
          0.040832847238378205,
          -0.014920364189279408,
          0.021897136936280464,
          0.028360015061467462,
          -0.026888011822711933,
          0.053105347613564835,
          0.09019286116753548,
          0.012359601158544939,
          0.07110036945539278,
          0.1214707524715065,
          0.023099127746625214,
          0.1457544508718048,
          -0.04377685371588927,
          0.0018378265288604527,
          0.20646369687255056,
          0.15645042706820592,
          0.15895892962892538,
          0.16552632869414236,
          -0.01173247551836507,
          0.0846445412676108,
          0.04827125413717833,
          0.12203690756333554,
          0.07680547076536241,
          0.10719493407907862,
          0.07596059316678676,
          -0.10621940530546549,
          0.043445870739127666,
          -0.026182495477509577,
          0.15498713390778623,
          -0.013579012125561354,
          0.04708668348350525,
          0.01755080784670053,
          0.03810659271926294,
          0.09413852665366716,
          0.0983977549598888,
          0.15411612607420308,
          0.04775735951536428,
          0.04209580859707378,
          0.12073910589129665,
          0.06542139838043061,
          0.10506096488679989,
          0.11443300917615463,
          -0.004564081047975721,
          0.1295885454805015,
          0.07391372475786635,
          0.019040231242127722,
          -0.06507299524699735,
          -0.03062463542878366,
          0.1386818672631096,
          0.2028315942065088,
          0.0012716714370314033,
          0.12553835905433983,
          0.1348058824036646,
          0.09217004894976924,
          0.014641641682532801,
          0.17419285663829476,
          0.16049190341603176,
          0.1339348745700814,
          -0.10169887464916894,
          0.023996265815215863,
          -0.020189961582457484,
          -0.06597884339392383,
          0.15057983426985547,
          0.18292035513079793,
          0.04860223711393993,
          0.1462770555719547,
          0.059097881508616924,
          0.19136042103821868,
          0.07340854021438813,
          0.0830418868538178,
          0.003605972431034253,
          0.02991040900524547,
          0.16657153809444214,
          0.11789091027547974,
          0.012934466328709818,
          0.07849522596251374,
          0.15119824983169952,
          0.046511818313340364,
          0.0994778046735319,
          0.04190418687368549,
          0.02757610801124262,
          0.12963209587218064,
          0.04964744651423972,
          0.15449936952097965,
          0.11135835152360611,
          0.05119784045801773,
          -0.018979260693776902,
          0.09129904111618609,
          -0.044229777789352505,
          0.12042554307120672,
          0.08283284497375784,
          0.10546162849024816,
          0.03792368107421048,
          0.02433595887031329,
          0.09552342910906438,
          0.15922894205733618,
          0.012960596563717314,
          -0.029405224461767243,
          0.13640853681745757,
          0.08560264988455227,
          0.0733736999010448,
          0.04534466781633894,
          0.05004811011768797,
          0.006741600631933604,
          0.10965117616978312,
          0.19632516568964267,
          0.17257278206783008,
          0.00062712564017987,
          0.08744047641341272,
          0.1673293149096595,
          -0.010922438233132737,
          -0.02113936012106312,
          0.17273827355621088,
          0.02136582215779474,
          0.07392243483620219,
          0.154534209834323,
          0.06741600631933603,
          0.04156449381858805,
          0.11751637690703899,
          0.08488842346101408,
          0.1735483108414432,
          0.16793902039316772,
          0.2137888727529849,
          0.038751138516114475,
          0.02437079918365662,
          0.18366942186767946,
          0.12336083947038196,
          0.16626668535268807,
          0.06553462939879642,
          0.07901783066266363,
          0.10007880007870426,
          -0.016714640326460705,
          0.1361385243890468,
          0.09365947234519643,
          0.1232388983736803,
          0.05878431868852699,
          0.19110782876647958,
          0.08944379443065398,
          0.008527166690779067,
          0.04375072348088177,
          0.0428187450989478,
          0.06514267587368401,
          0.08225797980359296,
          0.1347536219336496,
          -0.13500621420538872,
          0.027933221223011714,
          0.15397676482082975,
          0.06757278772938101,
          0.10692492165066785,
          0.16454208984219343,
          -0.013430940793852217,
          0.1064719975772046,
          0.1838174931993886,
          0.1357291507072627,
          0.19939111326385534,
          0.06299999660306944,
          0.13383035363005144,
          0.07056905467690705,
          0.18051637351010844,
          -0.01656656899475157,
          -0.003327249924287644,
          0.05611903471776254,
          0.052408541346698305,
          0.10454707026498584,
          -0.08361675202398268,
          0.11722023424362073,
          0.1652563162657316,
          0.03237536117428579,
          0.010216921887930382,
          0.12876979811693332,
          -0.0020294482522487463,
          0.020886767849324007,
          -0.11249066170726421,
          0.07588220246176428,
          0.12106137878972242,
          0.07784197008732638,
          -0.02015512126911416,
          0.09613313459257258,
          0.16955038488529656,
          0.010965988624811894,
          -0.12262048281183625,
          0.04470012201948741,
          0.1746196504767505,
          0.194705091119178,
          0.18627373529009308,
          0.06101409874249986,
          0.018047282311842928,
          0.14456117013979589,
          0.1991994915404671,
          -0.030894647857194434,
          0.20432972768027183,
          0.08148278283170396,
          0.1759435823837969,
          0.06903608088980069,
          0.08347739077060937,
          0.10111529940066823,
          0.15163375374849108,
          0.060369552945648323,
          0.07873910815591703,
          0.11510368520801365,
          0.19543673769938785,
          -0.06404520600336923,
          0.03407382644977294,
          0.0036146825093700844,
          0.12130526098312569,
          0.12739360573987196,
          -0.012847365545351505,
          -0.0024823723257119856,
          0.03601617391866337,
          -0.01508585567766021,
          0.00826586434070412,
          0.08332931943890023,
          0.012472832176910748,
          0.02192326717128796,
          0.18690957100860878,
          0.023578182055095948,
          0.14603317337855143,
          0.02311654790329688,
          0.11754250714204649,
          0.06879219869639741,
          0.033394440339578085,
          0.13026793159069636,
          0.16312234707345288,
          0.1145375301161846,
          0.053880544585453834,
          0.006680630083582783,
          0.027340935896175173,
          0.1587934381405446,
          0.08137826189167398,
          0.1103915328283288,
          0.11846577544564463,
          0.08595105301798553,
          -0.04450850029609911,
          0.1535412609040382,
          0.07621318543852589,
          0.025546659758993874,
          0.03037204315704454,
          -0.04834093476386499,
          0.19360762124886322,
          0.0013761923770613815,
          0.16270426331333296,
          0.0075080875254867774,
          0.006785151023612761,
          0.19632516568964267,
          0.07542927838830105,
          -0.06034342271064084,
          0.01668851009145321,
          0.022184569521362905,
          0.060892157645798216,
          0.0778506801656622,
          0.054873493515738635,
          0.07701451264542238,
          0.07950559504947019,
          0.050840727246248635,
          0.05665034949624827,
          0.1098427978931714,
          0.15196473672525268,
          0.027793859969638412,
          0.02809000263305668,
          0.028795518978259035,
          0.09939070389017358,
          0.12855204615853755,
          0.08410451641078924,
          0.027410616522861822,
          -0.052974696438527355,
          0.10725590462742945,
          0.16610119386430724,
          0.010791787058095264,
          0.04627664619827291,
          0.2057320502923407,
          0.12566030015104146,
          0.15087597693327373,
          0.08103856883657655,
          0.17942761371812949,
          0.15662462863492255,
          0.018883449832082757,
          0.10430318807158256,
          -0.12836042443514925,
          0.03772334927248635,
          0.10585358201536056,
          0.06684114114917115,
          0.013012857033732304,
          0.10498257418177742,
          0.039700537054720104,
          0.07936623379609689,
          0.03350767135794389,
          0.1807254153901684,
          -0.02910908179834897,
          0.06239900119789707,
          0.1392044719632595,
          0.11223806943552508,
          0.08293736591378782,
          -0.04723475481521438,
          -0.00019162172338829363,
          0.008100372852323321,
          0.05598838354272507,
          0.14928203259781658,
          0.007420986742128463,
          0.08601202356633635,
          0.006689340161918615,
          0.14294980564766704,
          0.003997925956146672,
          0.17051720358057385,
          0.10548775872525565,
          0.0815524634583906,
          0.1429062552559879,
          0.09127291088117859,
          0.13788925013454892,
          0.18080380609519087,
          0.08277187442540702,
          0.0960286136525426,
          0.17878306792127796,
          0.0028656157724885733,
          0.02892617015329651,
          0.038768558672786134,
          0.16053545380771092,
          0.078068432124058,
          0.0503355427027704,
          0.16226875939654137,
          0.04593695314317548,
          0.15305349651723163,
          0.12410990620726346,
          0.1184570653673088,
          0.1461115640835739,
          0.11394524478934806,
          0.01440646956746535,
          0.010730816509744443,
          -0.08562007004122393,
          0.01504230528598105,
          0.09568892059744517,
          -0.03596391344864838,
          0.03537162812181184,
          0.17359186123312237,
          0.18584694145163733,
          -0.013657402830583837,
          0.01155827395164844,
          -0.06907092120314402,
          0.0770754831937732,
          -0.0007316465802098484,
          0.16466403093889506,
          0.09187390628635096,
          0.05204271805659339,
          0.17118787961243287,
          0.04097220849175151,
          -0.05355827168702808,
          0.08465325134594663,
          0.09986975819864433,
          -0.00843135582908492,
          0.05072749622788283
         ],
         "xaxis": "x",
         "y": [
          "No",
          "Yes",
          "No",
          "No",
          "No",
          "No",
          "No",
          "No",
          "No",
          "No",
          "No",
          "No",
          "No",
          "Yes",
          "No",
          "No",
          "No",
          "No",
          "No",
          "No",
          "No",
          "Yes",
          "No",
          "Yes",
          "No",
          "No",
          "No",
          "No",
          "Yes",
          "No",
          "No",
          "No",
          "No",
          "Yes",
          "No",
          "Yes",
          "No",
          "No",
          "Yes",
          "Yes",
          "No",
          "No",
          "No",
          "No",
          "No",
          "No",
          "No",
          "No",
          "No",
          "No",
          "No",
          "No",
          "No",
          "Yes",
          "No",
          "No",
          "No",
          "No",
          "No",
          "No",
          "No",
          "No",
          "No",
          "No",
          "No",
          "No",
          "No",
          "No",
          "No",
          "No",
          "No",
          "No",
          "No",
          "Yes",
          "No",
          "No",
          "No",
          "No",
          "No",
          "No",
          "Yes",
          "No",
          "No",
          "No",
          "No",
          "No",
          "Yes",
          "No",
          "No",
          "Yes",
          "No",
          "No",
          "No",
          "No",
          "Yes",
          "Yes",
          "No",
          "No",
          "No",
          "No",
          "No",
          "No",
          "No",
          "No",
          "No",
          "No",
          "No",
          "No",
          "No",
          "No",
          "No",
          "No",
          "No",
          "No",
          "No",
          "No",
          "No",
          "No",
          "No",
          "No",
          "No",
          "No",
          "Yes",
          "No",
          "No",
          "No",
          "No",
          "No",
          "No",
          "No",
          "No",
          "No",
          "No",
          "No",
          "No",
          "Yes",
          "No",
          "No",
          "No",
          "No",
          "No",
          "No",
          "No",
          "No",
          "No",
          "No",
          "No",
          "Yes",
          "No",
          "No",
          "No",
          "No",
          "No",
          "No",
          "Yes",
          "Yes",
          "No",
          "No",
          "No",
          "No",
          "No",
          "Yes",
          "No",
          "No",
          "Yes",
          "Yes",
          "Yes",
          "No",
          "No",
          "No",
          "No",
          "No",
          "No",
          "No",
          "No",
          "No",
          "Yes",
          "No",
          "No",
          "No",
          "No",
          "No",
          "No",
          "No",
          "Yes",
          "No",
          "No",
          "Yes",
          "No",
          "No",
          "No",
          "No",
          "No",
          "Yes",
          "No",
          "No",
          "No",
          "No",
          "No",
          "No",
          "No",
          "No",
          "No",
          "No",
          "Yes",
          "No",
          "Yes",
          "No",
          "No",
          "No",
          "No",
          "Yes",
          "No",
          "No",
          "No",
          "No",
          "No",
          "No",
          "No",
          "No",
          "No",
          "No",
          "No",
          "No",
          "No",
          "No",
          "Yes",
          "No",
          "No",
          "Yes",
          "No",
          "No",
          "No",
          "No",
          "No",
          "No",
          "No",
          "No",
          "Yes",
          "No",
          "No",
          "No",
          "No",
          "No",
          "No",
          "No",
          "No",
          "No",
          "No",
          "No",
          "No",
          "No",
          "No",
          "No",
          "No",
          "No",
          "No",
          "No",
          "No",
          "No",
          "No",
          "No",
          "Yes",
          "No",
          "Yes",
          "No",
          "No",
          "No",
          "No",
          "No",
          "No",
          "No",
          "No",
          "No",
          "No",
          "No",
          "No",
          "No",
          "Yes",
          "No",
          "No",
          "No",
          "No",
          "No",
          "No",
          "No",
          "No",
          "No",
          "No",
          "No",
          "No",
          "Yes",
          "No",
          "No",
          "No",
          "No",
          "No",
          "No",
          "No",
          "No",
          "Yes",
          "Yes",
          "No",
          "Yes",
          "No",
          "Yes",
          "No",
          "No",
          "No",
          "No",
          "No",
          "No",
          "Yes",
          "No",
          "No",
          "No",
          "No",
          "No",
          "No",
          "No",
          "No",
          "Yes",
          "No",
          "No",
          "No",
          "No",
          "No",
          "No",
          "No",
          "No",
          "No",
          "No",
          "No",
          "No",
          "No",
          "No",
          "No",
          "No",
          "No",
          "No",
          "No",
          "No",
          "Yes",
          "Yes",
          "No",
          "No",
          "No",
          "No",
          "No",
          "No",
          "No",
          "No",
          "No",
          "No",
          "No",
          "No",
          "Yes",
          "No",
          "No",
          "No",
          "Yes",
          "No",
          "No",
          "No",
          "No",
          "No",
          "No",
          "No",
          "No",
          "No",
          "No",
          "Yes",
          "No",
          "Yes",
          "No",
          "No",
          "No",
          "No",
          "No",
          "No",
          "No",
          "No",
          "No",
          "No",
          "No",
          "Yes",
          "No",
          "No",
          "No",
          "Yes",
          "No",
          "No",
          "No",
          "No",
          "Yes",
          "No",
          "No",
          "Yes",
          "No",
          "No",
          "No",
          "No",
          "No",
          "No",
          "No",
          "No",
          "No",
          "No",
          "Yes",
          "No",
          "No",
          "No",
          "No",
          "No",
          "No",
          "No",
          "No",
          "No",
          "No",
          "No",
          "Yes",
          "No",
          "No",
          "No",
          "No",
          "No",
          "No",
          "No",
          "No",
          "No",
          "Yes",
          "No",
          "No",
          "Yes",
          "No",
          "Yes",
          "No",
          "Yes",
          "Yes",
          "No",
          "Yes",
          "No",
          "No",
          "No",
          "No",
          "No",
          "No",
          "No",
          "No",
          "No",
          "No",
          "No",
          "No",
          "Yes",
          "No",
          "No",
          "No",
          "No",
          "No",
          "No",
          "Yes",
          "No",
          "Yes",
          "Yes",
          "No",
          "No",
          "No",
          "No",
          "No",
          "No",
          "No",
          "Yes",
          "No",
          "No",
          "No",
          "No",
          "Yes",
          "No",
          "No",
          "No",
          "No",
          "No",
          "Yes",
          "Yes",
          "No",
          "No",
          "No",
          "No",
          "No",
          "No",
          "No",
          "No",
          "No",
          "No",
          "Yes",
          "No",
          "No",
          "Yes",
          "No",
          "No",
          "Yes",
          "Yes",
          "No",
          "No",
          "No",
          "No",
          "No",
          "No",
          "No",
          "No",
          "Yes",
          "No",
          "Yes",
          "Yes",
          "No",
          "No",
          "No",
          "No",
          "No",
          "No",
          "No",
          "No",
          "No",
          "Yes",
          "No",
          "No",
          "Yes",
          "Yes",
          "Yes",
          "No",
          "Yes",
          "No",
          "No",
          "No",
          "No",
          "No",
          "No",
          "Yes",
          "No",
          "No",
          "No",
          "No",
          "No",
          "No",
          "No",
          "No",
          "No",
          "No",
          "Yes",
          "No",
          "Yes",
          "No",
          "No",
          "No",
          "No",
          "No",
          "Yes",
          "No",
          "No",
          "No",
          "No",
          "No",
          "No",
          "No",
          "No",
          "No",
          "No",
          "No",
          "Yes",
          "No",
          "No",
          "Yes",
          "No",
          "Yes",
          "No",
          "No",
          "No",
          "Yes",
          "No",
          "No",
          "No",
          "No",
          "No",
          "No",
          "No",
          "No",
          "No",
          "No",
          "No",
          "No",
          "No",
          "Yes",
          "No",
          "No",
          "No",
          "No",
          "No",
          "No",
          "No",
          "No",
          "No",
          "No",
          "No",
          "No",
          "No",
          "No",
          "No",
          "No",
          "No",
          "Yes",
          "No",
          "No",
          "No",
          "No",
          "No",
          "No",
          "No",
          "Yes",
          "No",
          "No",
          "No",
          "Yes",
          "No",
          "No",
          "No",
          "No",
          "No",
          "Yes",
          "Yes",
          "No",
          "No",
          "No",
          "No",
          "No",
          "No",
          "Yes",
          "No",
          "No",
          "No",
          "No",
          "No",
          "No",
          "No",
          "Yes",
          "No",
          "No",
          "No",
          "No",
          "No",
          "No",
          "No",
          "No",
          "No",
          "No",
          "No",
          "Yes",
          "No",
          "No",
          "No",
          "No",
          "No",
          "Yes",
          "No",
          "No",
          "No",
          "No",
          "No",
          "No",
          "Yes",
          "Yes",
          "No",
          "No",
          "No",
          "No",
          "No",
          "Yes",
          "No",
          "No",
          "No",
          "No",
          "No",
          "No",
          "No",
          "No",
          "No",
          "Yes",
          "Yes",
          "No",
          "Yes",
          "No",
          "No",
          "No",
          "No",
          "No",
          "No",
          "No",
          "No",
          "No",
          "No",
          "No",
          "No",
          "Yes",
          "No",
          "No",
          "No",
          "Yes",
          "No",
          "No",
          "No",
          "No",
          "No",
          "No",
          "No",
          "Yes",
          "No",
          "No",
          "No",
          "No",
          "Yes",
          "Yes",
          "No",
          "No",
          "No",
          "No",
          "No",
          "No",
          "No",
          "No",
          "No",
          "No",
          "No",
          "No",
          "No",
          "No",
          "Yes",
          "Yes",
          "Yes",
          "No",
          "No",
          "No",
          "No",
          "No",
          "No",
          "No",
          "No",
          "No",
          "No",
          "No",
          "No",
          "No",
          "No",
          "No",
          "Yes",
          "No",
          "No",
          "No",
          "No",
          "No",
          "No",
          "No",
          "No",
          "No",
          "No",
          "No",
          "No",
          "No",
          "No",
          "No",
          "No",
          "No",
          "No",
          "No",
          "No",
          "No",
          "No",
          "No",
          "No",
          "No",
          "No",
          "No",
          "Yes",
          "No",
          "No",
          "No",
          "No",
          "No",
          "No",
          "No",
          "No",
          "No",
          "No",
          "No",
          "No",
          "No",
          "No",
          "No",
          "No",
          "No",
          "No",
          "Yes",
          "No",
          "No",
          "Yes",
          "No",
          "No",
          "No",
          "No",
          "No",
          "No",
          "No",
          "No",
          "No",
          "No",
          "No",
          "No",
          "No",
          "No",
          "No",
          "No",
          "No",
          "No",
          "No",
          "No",
          "No",
          "No",
          "No",
          "No",
          "No",
          "No",
          "No",
          "No",
          "No",
          "No",
          "No",
          "No",
          "Yes",
          "No",
          "No",
          "No",
          "No",
          "No",
          "No",
          "Yes",
          "No",
          "No",
          "No",
          "Yes",
          "No",
          "No",
          "No",
          "No",
          "No",
          "No",
          "Yes",
          "Yes",
          "No",
          "No",
          "No",
          "Yes",
          "No",
          "No",
          "No",
          "No",
          "No",
          "No",
          "No",
          "No",
          "No",
          "No",
          "No",
          "No",
          "No",
          "No",
          "No",
          "No",
          "No",
          "No",
          "Yes",
          "No",
          "No",
          "No",
          "Yes",
          "No",
          "No",
          "No",
          "No",
          "No",
          "No",
          "No",
          "No",
          "No",
          "Yes",
          "Yes",
          "No",
          "No",
          "No",
          "No",
          "No",
          "No",
          "No",
          "No",
          "No",
          "Yes",
          "No",
          "No",
          "No",
          "No",
          "No",
          "No",
          "No",
          "No",
          "No",
          "Yes",
          "No",
          "No",
          "No",
          "No",
          "No",
          "No",
          "No",
          "No",
          "No",
          "No",
          "No",
          "No",
          "No",
          "No",
          "No",
          "No",
          "No",
          "No",
          "No",
          "No",
          "No",
          "No",
          "No",
          "No",
          "No",
          "No",
          "No",
          "No",
          "No",
          "No",
          "No",
          "No",
          "Yes",
          "No",
          "Yes",
          "No",
          "No",
          "No",
          "No",
          "No",
          "No",
          "No",
          "No",
          "No",
          "No",
          "No",
          "No",
          "No"
         ],
         "yaxis": "y"
        },
        {
         "alignmentgroup": "True",
         "bingroup": "y",
         "histfunc": "sum",
         "hovertemplate": "Department=Human Resources<br>sum of ProfitPCT=%{x}<br>Attrition=%{y}<extra></extra>",
         "legendgroup": "Human Resources",
         "marker": {
          "color": "#2CA02C",
          "pattern": {
           "shape": ""
          }
         },
         "name": "Human Resources",
         "offsetgroup": "Human Resources",
         "orientation": "h",
         "showlegend": true,
         "type": "histogram",
         "x": [
          0.04706926332683358,
          0.18791994009556523,
          0.026809621117689444,
          -0.0301107408069696,
          0.05203400797825755,
          0.06650144809407373,
          0.20372873227509947,
          0.0993994139685094,
          0.18570758019826403,
          0.13825507342465385,
          0.01378805400562131,
          0.17478514196513129,
          -0.08885150910381742,
          0.18211902792390144,
          -0.03480547302998279,
          -0.08953960529234811,
          0.0032488592192651605,
          0.10781334964092266,
          0.2036764718050845,
          -0.013012857033732304,
          0.16574408065253818,
          0.05481252296738781,
          0.022524262576460334,
          0.17745042593589574,
          0.05348859106034142,
          -0.07103939890704195,
          0.02752384754122763,
          0.02425756816529081,
          0.04206096828373045,
          0.057364575919786456,
          0.1510588885783262,
          0.17014267021213308,
          -0.13670467948087586,
          0.031025299032231907,
          -0.0015939443354571698,
          0.015512649516115954,
          0.1959767625562094,
          0.0028743258508244045,
          0.11640148688005256,
          0.008222313949024963,
          0.07609995442016007,
          -0.12575611101273562,
          0.04145997287855808,
          0.008466196142428247,
          0.08736208570839023,
          0.12511156521588407,
          -0.027532557619563466,
          -0.00041808376011991344,
          0.0657785115921997,
          0.013012857033732304,
          0.07630899630022002,
          0.03951762540966765,
          0.04129448139017728,
          0.1614761422679807,
          0.007159684392053516,
          0.06783409007945594,
          0.11000828938155222,
          0.0029352963991752254,
          0.14538862758169988,
          0.019449604923911804,
          0.05378473372375969,
          0.15214764837030514,
          0.06798216141116507
         ],
         "xaxis": "x",
         "y": [
          "No",
          "Yes",
          "No",
          "No",
          "No",
          "No",
          "No",
          "No",
          "No",
          "Yes",
          "Yes",
          "Yes",
          "No",
          "No",
          "No",
          "No",
          "No",
          "No",
          "No",
          "No",
          "No",
          "No",
          "No",
          "No",
          "No",
          "Yes",
          "No",
          "No",
          "No",
          "No",
          "No",
          "No",
          "No",
          "No",
          "No",
          "No",
          "No",
          "Yes",
          "No",
          "No",
          "No",
          "No",
          "No",
          "No",
          "Yes",
          "No",
          "No",
          "No",
          "Yes",
          "No",
          "No",
          "No",
          "Yes",
          "Yes",
          "Yes",
          "No",
          "No",
          "No",
          "Yes",
          "No",
          "No",
          "No",
          "No"
         ],
         "yaxis": "y"
        }
       ],
       "layout": {
        "barmode": "relative",
        "legend": {
         "title": {
          "text": "Department"
         },
         "tracegroupgap": 0
        },
        "template": {
         "data": {
          "bar": [
           {
            "error_x": {
             "color": "rgb(36,36,36)"
            },
            "error_y": {
             "color": "rgb(36,36,36)"
            },
            "marker": {
             "line": {
              "color": "white",
              "width": 0.5
             },
             "pattern": {
              "fillmode": "overlay",
              "size": 10,
              "solidity": 0.2
             }
            },
            "type": "bar"
           }
          ],
          "barpolar": [
           {
            "marker": {
             "line": {
              "color": "white",
              "width": 0.5
             },
             "pattern": {
              "fillmode": "overlay",
              "size": 10,
              "solidity": 0.2
             }
            },
            "type": "barpolar"
           }
          ],
          "carpet": [
           {
            "aaxis": {
             "endlinecolor": "rgb(36,36,36)",
             "gridcolor": "white",
             "linecolor": "white",
             "minorgridcolor": "white",
             "startlinecolor": "rgb(36,36,36)"
            },
            "baxis": {
             "endlinecolor": "rgb(36,36,36)",
             "gridcolor": "white",
             "linecolor": "white",
             "minorgridcolor": "white",
             "startlinecolor": "rgb(36,36,36)"
            },
            "type": "carpet"
           }
          ],
          "choropleth": [
           {
            "colorbar": {
             "outlinewidth": 1,
             "tickcolor": "rgb(36,36,36)",
             "ticks": "outside"
            },
            "type": "choropleth"
           }
          ],
          "contour": [
           {
            "colorbar": {
             "outlinewidth": 1,
             "tickcolor": "rgb(36,36,36)",
             "ticks": "outside"
            },
            "colorscale": [
             [
              0,
              "#440154"
             ],
             [
              0.1111111111111111,
              "#482878"
             ],
             [
              0.2222222222222222,
              "#3e4989"
             ],
             [
              0.3333333333333333,
              "#31688e"
             ],
             [
              0.4444444444444444,
              "#26828e"
             ],
             [
              0.5555555555555556,
              "#1f9e89"
             ],
             [
              0.6666666666666666,
              "#35b779"
             ],
             [
              0.7777777777777778,
              "#6ece58"
             ],
             [
              0.8888888888888888,
              "#b5de2b"
             ],
             [
              1,
              "#fde725"
             ]
            ],
            "type": "contour"
           }
          ],
          "contourcarpet": [
           {
            "colorbar": {
             "outlinewidth": 1,
             "tickcolor": "rgb(36,36,36)",
             "ticks": "outside"
            },
            "type": "contourcarpet"
           }
          ],
          "heatmap": [
           {
            "colorbar": {
             "outlinewidth": 1,
             "tickcolor": "rgb(36,36,36)",
             "ticks": "outside"
            },
            "colorscale": [
             [
              0,
              "#440154"
             ],
             [
              0.1111111111111111,
              "#482878"
             ],
             [
              0.2222222222222222,
              "#3e4989"
             ],
             [
              0.3333333333333333,
              "#31688e"
             ],
             [
              0.4444444444444444,
              "#26828e"
             ],
             [
              0.5555555555555556,
              "#1f9e89"
             ],
             [
              0.6666666666666666,
              "#35b779"
             ],
             [
              0.7777777777777778,
              "#6ece58"
             ],
             [
              0.8888888888888888,
              "#b5de2b"
             ],
             [
              1,
              "#fde725"
             ]
            ],
            "type": "heatmap"
           }
          ],
          "heatmapgl": [
           {
            "colorbar": {
             "outlinewidth": 1,
             "tickcolor": "rgb(36,36,36)",
             "ticks": "outside"
            },
            "colorscale": [
             [
              0,
              "#440154"
             ],
             [
              0.1111111111111111,
              "#482878"
             ],
             [
              0.2222222222222222,
              "#3e4989"
             ],
             [
              0.3333333333333333,
              "#31688e"
             ],
             [
              0.4444444444444444,
              "#26828e"
             ],
             [
              0.5555555555555556,
              "#1f9e89"
             ],
             [
              0.6666666666666666,
              "#35b779"
             ],
             [
              0.7777777777777778,
              "#6ece58"
             ],
             [
              0.8888888888888888,
              "#b5de2b"
             ],
             [
              1,
              "#fde725"
             ]
            ],
            "type": "heatmapgl"
           }
          ],
          "histogram": [
           {
            "marker": {
             "line": {
              "color": "white",
              "width": 0.6
             }
            },
            "type": "histogram"
           }
          ],
          "histogram2d": [
           {
            "colorbar": {
             "outlinewidth": 1,
             "tickcolor": "rgb(36,36,36)",
             "ticks": "outside"
            },
            "colorscale": [
             [
              0,
              "#440154"
             ],
             [
              0.1111111111111111,
              "#482878"
             ],
             [
              0.2222222222222222,
              "#3e4989"
             ],
             [
              0.3333333333333333,
              "#31688e"
             ],
             [
              0.4444444444444444,
              "#26828e"
             ],
             [
              0.5555555555555556,
              "#1f9e89"
             ],
             [
              0.6666666666666666,
              "#35b779"
             ],
             [
              0.7777777777777778,
              "#6ece58"
             ],
             [
              0.8888888888888888,
              "#b5de2b"
             ],
             [
              1,
              "#fde725"
             ]
            ],
            "type": "histogram2d"
           }
          ],
          "histogram2dcontour": [
           {
            "colorbar": {
             "outlinewidth": 1,
             "tickcolor": "rgb(36,36,36)",
             "ticks": "outside"
            },
            "colorscale": [
             [
              0,
              "#440154"
             ],
             [
              0.1111111111111111,
              "#482878"
             ],
             [
              0.2222222222222222,
              "#3e4989"
             ],
             [
              0.3333333333333333,
              "#31688e"
             ],
             [
              0.4444444444444444,
              "#26828e"
             ],
             [
              0.5555555555555556,
              "#1f9e89"
             ],
             [
              0.6666666666666666,
              "#35b779"
             ],
             [
              0.7777777777777778,
              "#6ece58"
             ],
             [
              0.8888888888888888,
              "#b5de2b"
             ],
             [
              1,
              "#fde725"
             ]
            ],
            "type": "histogram2dcontour"
           }
          ],
          "mesh3d": [
           {
            "colorbar": {
             "outlinewidth": 1,
             "tickcolor": "rgb(36,36,36)",
             "ticks": "outside"
            },
            "type": "mesh3d"
           }
          ],
          "parcoords": [
           {
            "line": {
             "colorbar": {
              "outlinewidth": 1,
              "tickcolor": "rgb(36,36,36)",
              "ticks": "outside"
             }
            },
            "type": "parcoords"
           }
          ],
          "pie": [
           {
            "automargin": true,
            "type": "pie"
           }
          ],
          "scatter": [
           {
            "marker": {
             "colorbar": {
              "outlinewidth": 1,
              "tickcolor": "rgb(36,36,36)",
              "ticks": "outside"
             }
            },
            "type": "scatter"
           }
          ],
          "scatter3d": [
           {
            "line": {
             "colorbar": {
              "outlinewidth": 1,
              "tickcolor": "rgb(36,36,36)",
              "ticks": "outside"
             }
            },
            "marker": {
             "colorbar": {
              "outlinewidth": 1,
              "tickcolor": "rgb(36,36,36)",
              "ticks": "outside"
             }
            },
            "type": "scatter3d"
           }
          ],
          "scattercarpet": [
           {
            "marker": {
             "colorbar": {
              "outlinewidth": 1,
              "tickcolor": "rgb(36,36,36)",
              "ticks": "outside"
             }
            },
            "type": "scattercarpet"
           }
          ],
          "scattergeo": [
           {
            "marker": {
             "colorbar": {
              "outlinewidth": 1,
              "tickcolor": "rgb(36,36,36)",
              "ticks": "outside"
             }
            },
            "type": "scattergeo"
           }
          ],
          "scattergl": [
           {
            "marker": {
             "colorbar": {
              "outlinewidth": 1,
              "tickcolor": "rgb(36,36,36)",
              "ticks": "outside"
             }
            },
            "type": "scattergl"
           }
          ],
          "scattermapbox": [
           {
            "marker": {
             "colorbar": {
              "outlinewidth": 1,
              "tickcolor": "rgb(36,36,36)",
              "ticks": "outside"
             }
            },
            "type": "scattermapbox"
           }
          ],
          "scatterpolar": [
           {
            "marker": {
             "colorbar": {
              "outlinewidth": 1,
              "tickcolor": "rgb(36,36,36)",
              "ticks": "outside"
             }
            },
            "type": "scatterpolar"
           }
          ],
          "scatterpolargl": [
           {
            "marker": {
             "colorbar": {
              "outlinewidth": 1,
              "tickcolor": "rgb(36,36,36)",
              "ticks": "outside"
             }
            },
            "type": "scatterpolargl"
           }
          ],
          "scatterternary": [
           {
            "marker": {
             "colorbar": {
              "outlinewidth": 1,
              "tickcolor": "rgb(36,36,36)",
              "ticks": "outside"
             }
            },
            "type": "scatterternary"
           }
          ],
          "surface": [
           {
            "colorbar": {
             "outlinewidth": 1,
             "tickcolor": "rgb(36,36,36)",
             "ticks": "outside"
            },
            "colorscale": [
             [
              0,
              "#440154"
             ],
             [
              0.1111111111111111,
              "#482878"
             ],
             [
              0.2222222222222222,
              "#3e4989"
             ],
             [
              0.3333333333333333,
              "#31688e"
             ],
             [
              0.4444444444444444,
              "#26828e"
             ],
             [
              0.5555555555555556,
              "#1f9e89"
             ],
             [
              0.6666666666666666,
              "#35b779"
             ],
             [
              0.7777777777777778,
              "#6ece58"
             ],
             [
              0.8888888888888888,
              "#b5de2b"
             ],
             [
              1,
              "#fde725"
             ]
            ],
            "type": "surface"
           }
          ],
          "table": [
           {
            "cells": {
             "fill": {
              "color": "rgb(237,237,237)"
             },
             "line": {
              "color": "white"
             }
            },
            "header": {
             "fill": {
              "color": "rgb(217,217,217)"
             },
             "line": {
              "color": "white"
             }
            },
            "type": "table"
           }
          ]
         },
         "layout": {
          "annotationdefaults": {
           "arrowhead": 0,
           "arrowwidth": 1
          },
          "autotypenumbers": "strict",
          "coloraxis": {
           "colorbar": {
            "outlinewidth": 1,
            "tickcolor": "rgb(36,36,36)",
            "ticks": "outside"
           }
          },
          "colorscale": {
           "diverging": [
            [
             0,
             "rgb(103,0,31)"
            ],
            [
             0.1,
             "rgb(178,24,43)"
            ],
            [
             0.2,
             "rgb(214,96,77)"
            ],
            [
             0.3,
             "rgb(244,165,130)"
            ],
            [
             0.4,
             "rgb(253,219,199)"
            ],
            [
             0.5,
             "rgb(247,247,247)"
            ],
            [
             0.6,
             "rgb(209,229,240)"
            ],
            [
             0.7,
             "rgb(146,197,222)"
            ],
            [
             0.8,
             "rgb(67,147,195)"
            ],
            [
             0.9,
             "rgb(33,102,172)"
            ],
            [
             1,
             "rgb(5,48,97)"
            ]
           ],
           "sequential": [
            [
             0,
             "#440154"
            ],
            [
             0.1111111111111111,
             "#482878"
            ],
            [
             0.2222222222222222,
             "#3e4989"
            ],
            [
             0.3333333333333333,
             "#31688e"
            ],
            [
             0.4444444444444444,
             "#26828e"
            ],
            [
             0.5555555555555556,
             "#1f9e89"
            ],
            [
             0.6666666666666666,
             "#35b779"
            ],
            [
             0.7777777777777778,
             "#6ece58"
            ],
            [
             0.8888888888888888,
             "#b5de2b"
            ],
            [
             1,
             "#fde725"
            ]
           ],
           "sequentialminus": [
            [
             0,
             "#440154"
            ],
            [
             0.1111111111111111,
             "#482878"
            ],
            [
             0.2222222222222222,
             "#3e4989"
            ],
            [
             0.3333333333333333,
             "#31688e"
            ],
            [
             0.4444444444444444,
             "#26828e"
            ],
            [
             0.5555555555555556,
             "#1f9e89"
            ],
            [
             0.6666666666666666,
             "#35b779"
            ],
            [
             0.7777777777777778,
             "#6ece58"
            ],
            [
             0.8888888888888888,
             "#b5de2b"
            ],
            [
             1,
             "#fde725"
            ]
           ]
          },
          "colorway": [
           "#1F77B4",
           "#FF7F0E",
           "#2CA02C",
           "#D62728",
           "#9467BD",
           "#8C564B",
           "#E377C2",
           "#7F7F7F",
           "#BCBD22",
           "#17BECF"
          ],
          "font": {
           "color": "rgb(36,36,36)"
          },
          "geo": {
           "bgcolor": "white",
           "lakecolor": "white",
           "landcolor": "white",
           "showlakes": true,
           "showland": true,
           "subunitcolor": "white"
          },
          "hoverlabel": {
           "align": "left"
          },
          "hovermode": "closest",
          "mapbox": {
           "style": "light"
          },
          "paper_bgcolor": "white",
          "plot_bgcolor": "white",
          "polar": {
           "angularaxis": {
            "gridcolor": "rgb(232,232,232)",
            "linecolor": "rgb(36,36,36)",
            "showgrid": false,
            "showline": true,
            "ticks": "outside"
           },
           "bgcolor": "white",
           "radialaxis": {
            "gridcolor": "rgb(232,232,232)",
            "linecolor": "rgb(36,36,36)",
            "showgrid": false,
            "showline": true,
            "ticks": "outside"
           }
          },
          "scene": {
           "xaxis": {
            "backgroundcolor": "white",
            "gridcolor": "rgb(232,232,232)",
            "gridwidth": 2,
            "linecolor": "rgb(36,36,36)",
            "showbackground": true,
            "showgrid": false,
            "showline": true,
            "ticks": "outside",
            "zeroline": false,
            "zerolinecolor": "rgb(36,36,36)"
           },
           "yaxis": {
            "backgroundcolor": "white",
            "gridcolor": "rgb(232,232,232)",
            "gridwidth": 2,
            "linecolor": "rgb(36,36,36)",
            "showbackground": true,
            "showgrid": false,
            "showline": true,
            "ticks": "outside",
            "zeroline": false,
            "zerolinecolor": "rgb(36,36,36)"
           },
           "zaxis": {
            "backgroundcolor": "white",
            "gridcolor": "rgb(232,232,232)",
            "gridwidth": 2,
            "linecolor": "rgb(36,36,36)",
            "showbackground": true,
            "showgrid": false,
            "showline": true,
            "ticks": "outside",
            "zeroline": false,
            "zerolinecolor": "rgb(36,36,36)"
           }
          },
          "shapedefaults": {
           "fillcolor": "black",
           "line": {
            "width": 0
           },
           "opacity": 0.3
          },
          "ternary": {
           "aaxis": {
            "gridcolor": "rgb(232,232,232)",
            "linecolor": "rgb(36,36,36)",
            "showgrid": false,
            "showline": true,
            "ticks": "outside"
           },
           "baxis": {
            "gridcolor": "rgb(232,232,232)",
            "linecolor": "rgb(36,36,36)",
            "showgrid": false,
            "showline": true,
            "ticks": "outside"
           },
           "bgcolor": "white",
           "caxis": {
            "gridcolor": "rgb(232,232,232)",
            "linecolor": "rgb(36,36,36)",
            "showgrid": false,
            "showline": true,
            "ticks": "outside"
           }
          },
          "title": {
           "x": 0.05
          },
          "xaxis": {
           "automargin": true,
           "gridcolor": "rgb(232,232,232)",
           "linecolor": "rgb(36,36,36)",
           "showgrid": false,
           "showline": true,
           "ticks": "outside",
           "title": {
            "standoff": 15
           },
           "zeroline": false,
           "zerolinecolor": "rgb(36,36,36)"
          },
          "yaxis": {
           "automargin": true,
           "gridcolor": "rgb(232,232,232)",
           "linecolor": "rgb(36,36,36)",
           "showgrid": false,
           "showline": true,
           "ticks": "outside",
           "title": {
            "standoff": 15
           },
           "zeroline": false,
           "zerolinecolor": "rgb(36,36,36)"
          }
         }
        },
        "title": {
         "text": "Distribution of Profit as Percent by Gender and Department"
        },
        "xaxis": {
         "anchor": "y",
         "domain": [
          0,
          1
         ],
         "title": {
          "text": "sum of ProfitPCT"
         }
        },
        "yaxis": {
         "anchor": "x",
         "domain": [
          0,
          1
         ],
         "title": {
          "text": "Attrition"
         }
        }
       }
      }
     },
     "metadata": {}
    }
   ],
   "metadata": {}
  },
  {
   "cell_type": "code",
   "execution_count": 114,
   "source": [
    "# find avg profit per department\r\n",
    "mean_profit_slice = avg_profit.groupby(avg_profit['Department']).mean().round(2)\r\n",
    "fig = px.bar(mean_profit_slice,x=mean_profit_slice.index,y='MonthlyProfit',title=\"Average Monthly Profit by Department\")\r\n",
    "fig.show()"
   ],
   "outputs": [
    {
     "output_type": "display_data",
     "data": {
      "application/vnd.plotly.v1+json": {
       "config": {
        "plotlyServerURL": "https://plot.ly"
       },
       "data": [
        {
         "alignmentgroup": "True",
         "hovertemplate": "Department=%{x}<br>MonthlyProfit=%{y}<extra></extra>",
         "legendgroup": "",
         "marker": {
          "color": "#1F77B4",
          "pattern": {
           "shape": ""
          }
         },
         "name": "",
         "offsetgroup": "",
         "orientation": "v",
         "showlegend": false,
         "textposition": "auto",
         "type": "bar",
         "x": [
          "Human Resources",
          "Research & Development",
          "Sales"
         ],
         "xaxis": "x",
         "y": [
          6838.48,
          8003.61,
          7530.62
         ],
         "yaxis": "y"
        }
       ],
       "layout": {
        "barmode": "relative",
        "legend": {
         "tracegroupgap": 0
        },
        "template": {
         "data": {
          "bar": [
           {
            "error_x": {
             "color": "rgb(36,36,36)"
            },
            "error_y": {
             "color": "rgb(36,36,36)"
            },
            "marker": {
             "line": {
              "color": "white",
              "width": 0.5
             },
             "pattern": {
              "fillmode": "overlay",
              "size": 10,
              "solidity": 0.2
             }
            },
            "type": "bar"
           }
          ],
          "barpolar": [
           {
            "marker": {
             "line": {
              "color": "white",
              "width": 0.5
             },
             "pattern": {
              "fillmode": "overlay",
              "size": 10,
              "solidity": 0.2
             }
            },
            "type": "barpolar"
           }
          ],
          "carpet": [
           {
            "aaxis": {
             "endlinecolor": "rgb(36,36,36)",
             "gridcolor": "white",
             "linecolor": "white",
             "minorgridcolor": "white",
             "startlinecolor": "rgb(36,36,36)"
            },
            "baxis": {
             "endlinecolor": "rgb(36,36,36)",
             "gridcolor": "white",
             "linecolor": "white",
             "minorgridcolor": "white",
             "startlinecolor": "rgb(36,36,36)"
            },
            "type": "carpet"
           }
          ],
          "choropleth": [
           {
            "colorbar": {
             "outlinewidth": 1,
             "tickcolor": "rgb(36,36,36)",
             "ticks": "outside"
            },
            "type": "choropleth"
           }
          ],
          "contour": [
           {
            "colorbar": {
             "outlinewidth": 1,
             "tickcolor": "rgb(36,36,36)",
             "ticks": "outside"
            },
            "colorscale": [
             [
              0,
              "#440154"
             ],
             [
              0.1111111111111111,
              "#482878"
             ],
             [
              0.2222222222222222,
              "#3e4989"
             ],
             [
              0.3333333333333333,
              "#31688e"
             ],
             [
              0.4444444444444444,
              "#26828e"
             ],
             [
              0.5555555555555556,
              "#1f9e89"
             ],
             [
              0.6666666666666666,
              "#35b779"
             ],
             [
              0.7777777777777778,
              "#6ece58"
             ],
             [
              0.8888888888888888,
              "#b5de2b"
             ],
             [
              1,
              "#fde725"
             ]
            ],
            "type": "contour"
           }
          ],
          "contourcarpet": [
           {
            "colorbar": {
             "outlinewidth": 1,
             "tickcolor": "rgb(36,36,36)",
             "ticks": "outside"
            },
            "type": "contourcarpet"
           }
          ],
          "heatmap": [
           {
            "colorbar": {
             "outlinewidth": 1,
             "tickcolor": "rgb(36,36,36)",
             "ticks": "outside"
            },
            "colorscale": [
             [
              0,
              "#440154"
             ],
             [
              0.1111111111111111,
              "#482878"
             ],
             [
              0.2222222222222222,
              "#3e4989"
             ],
             [
              0.3333333333333333,
              "#31688e"
             ],
             [
              0.4444444444444444,
              "#26828e"
             ],
             [
              0.5555555555555556,
              "#1f9e89"
             ],
             [
              0.6666666666666666,
              "#35b779"
             ],
             [
              0.7777777777777778,
              "#6ece58"
             ],
             [
              0.8888888888888888,
              "#b5de2b"
             ],
             [
              1,
              "#fde725"
             ]
            ],
            "type": "heatmap"
           }
          ],
          "heatmapgl": [
           {
            "colorbar": {
             "outlinewidth": 1,
             "tickcolor": "rgb(36,36,36)",
             "ticks": "outside"
            },
            "colorscale": [
             [
              0,
              "#440154"
             ],
             [
              0.1111111111111111,
              "#482878"
             ],
             [
              0.2222222222222222,
              "#3e4989"
             ],
             [
              0.3333333333333333,
              "#31688e"
             ],
             [
              0.4444444444444444,
              "#26828e"
             ],
             [
              0.5555555555555556,
              "#1f9e89"
             ],
             [
              0.6666666666666666,
              "#35b779"
             ],
             [
              0.7777777777777778,
              "#6ece58"
             ],
             [
              0.8888888888888888,
              "#b5de2b"
             ],
             [
              1,
              "#fde725"
             ]
            ],
            "type": "heatmapgl"
           }
          ],
          "histogram": [
           {
            "marker": {
             "line": {
              "color": "white",
              "width": 0.6
             }
            },
            "type": "histogram"
           }
          ],
          "histogram2d": [
           {
            "colorbar": {
             "outlinewidth": 1,
             "tickcolor": "rgb(36,36,36)",
             "ticks": "outside"
            },
            "colorscale": [
             [
              0,
              "#440154"
             ],
             [
              0.1111111111111111,
              "#482878"
             ],
             [
              0.2222222222222222,
              "#3e4989"
             ],
             [
              0.3333333333333333,
              "#31688e"
             ],
             [
              0.4444444444444444,
              "#26828e"
             ],
             [
              0.5555555555555556,
              "#1f9e89"
             ],
             [
              0.6666666666666666,
              "#35b779"
             ],
             [
              0.7777777777777778,
              "#6ece58"
             ],
             [
              0.8888888888888888,
              "#b5de2b"
             ],
             [
              1,
              "#fde725"
             ]
            ],
            "type": "histogram2d"
           }
          ],
          "histogram2dcontour": [
           {
            "colorbar": {
             "outlinewidth": 1,
             "tickcolor": "rgb(36,36,36)",
             "ticks": "outside"
            },
            "colorscale": [
             [
              0,
              "#440154"
             ],
             [
              0.1111111111111111,
              "#482878"
             ],
             [
              0.2222222222222222,
              "#3e4989"
             ],
             [
              0.3333333333333333,
              "#31688e"
             ],
             [
              0.4444444444444444,
              "#26828e"
             ],
             [
              0.5555555555555556,
              "#1f9e89"
             ],
             [
              0.6666666666666666,
              "#35b779"
             ],
             [
              0.7777777777777778,
              "#6ece58"
             ],
             [
              0.8888888888888888,
              "#b5de2b"
             ],
             [
              1,
              "#fde725"
             ]
            ],
            "type": "histogram2dcontour"
           }
          ],
          "mesh3d": [
           {
            "colorbar": {
             "outlinewidth": 1,
             "tickcolor": "rgb(36,36,36)",
             "ticks": "outside"
            },
            "type": "mesh3d"
           }
          ],
          "parcoords": [
           {
            "line": {
             "colorbar": {
              "outlinewidth": 1,
              "tickcolor": "rgb(36,36,36)",
              "ticks": "outside"
             }
            },
            "type": "parcoords"
           }
          ],
          "pie": [
           {
            "automargin": true,
            "type": "pie"
           }
          ],
          "scatter": [
           {
            "marker": {
             "colorbar": {
              "outlinewidth": 1,
              "tickcolor": "rgb(36,36,36)",
              "ticks": "outside"
             }
            },
            "type": "scatter"
           }
          ],
          "scatter3d": [
           {
            "line": {
             "colorbar": {
              "outlinewidth": 1,
              "tickcolor": "rgb(36,36,36)",
              "ticks": "outside"
             }
            },
            "marker": {
             "colorbar": {
              "outlinewidth": 1,
              "tickcolor": "rgb(36,36,36)",
              "ticks": "outside"
             }
            },
            "type": "scatter3d"
           }
          ],
          "scattercarpet": [
           {
            "marker": {
             "colorbar": {
              "outlinewidth": 1,
              "tickcolor": "rgb(36,36,36)",
              "ticks": "outside"
             }
            },
            "type": "scattercarpet"
           }
          ],
          "scattergeo": [
           {
            "marker": {
             "colorbar": {
              "outlinewidth": 1,
              "tickcolor": "rgb(36,36,36)",
              "ticks": "outside"
             }
            },
            "type": "scattergeo"
           }
          ],
          "scattergl": [
           {
            "marker": {
             "colorbar": {
              "outlinewidth": 1,
              "tickcolor": "rgb(36,36,36)",
              "ticks": "outside"
             }
            },
            "type": "scattergl"
           }
          ],
          "scattermapbox": [
           {
            "marker": {
             "colorbar": {
              "outlinewidth": 1,
              "tickcolor": "rgb(36,36,36)",
              "ticks": "outside"
             }
            },
            "type": "scattermapbox"
           }
          ],
          "scatterpolar": [
           {
            "marker": {
             "colorbar": {
              "outlinewidth": 1,
              "tickcolor": "rgb(36,36,36)",
              "ticks": "outside"
             }
            },
            "type": "scatterpolar"
           }
          ],
          "scatterpolargl": [
           {
            "marker": {
             "colorbar": {
              "outlinewidth": 1,
              "tickcolor": "rgb(36,36,36)",
              "ticks": "outside"
             }
            },
            "type": "scatterpolargl"
           }
          ],
          "scatterternary": [
           {
            "marker": {
             "colorbar": {
              "outlinewidth": 1,
              "tickcolor": "rgb(36,36,36)",
              "ticks": "outside"
             }
            },
            "type": "scatterternary"
           }
          ],
          "surface": [
           {
            "colorbar": {
             "outlinewidth": 1,
             "tickcolor": "rgb(36,36,36)",
             "ticks": "outside"
            },
            "colorscale": [
             [
              0,
              "#440154"
             ],
             [
              0.1111111111111111,
              "#482878"
             ],
             [
              0.2222222222222222,
              "#3e4989"
             ],
             [
              0.3333333333333333,
              "#31688e"
             ],
             [
              0.4444444444444444,
              "#26828e"
             ],
             [
              0.5555555555555556,
              "#1f9e89"
             ],
             [
              0.6666666666666666,
              "#35b779"
             ],
             [
              0.7777777777777778,
              "#6ece58"
             ],
             [
              0.8888888888888888,
              "#b5de2b"
             ],
             [
              1,
              "#fde725"
             ]
            ],
            "type": "surface"
           }
          ],
          "table": [
           {
            "cells": {
             "fill": {
              "color": "rgb(237,237,237)"
             },
             "line": {
              "color": "white"
             }
            },
            "header": {
             "fill": {
              "color": "rgb(217,217,217)"
             },
             "line": {
              "color": "white"
             }
            },
            "type": "table"
           }
          ]
         },
         "layout": {
          "annotationdefaults": {
           "arrowhead": 0,
           "arrowwidth": 1
          },
          "autotypenumbers": "strict",
          "coloraxis": {
           "colorbar": {
            "outlinewidth": 1,
            "tickcolor": "rgb(36,36,36)",
            "ticks": "outside"
           }
          },
          "colorscale": {
           "diverging": [
            [
             0,
             "rgb(103,0,31)"
            ],
            [
             0.1,
             "rgb(178,24,43)"
            ],
            [
             0.2,
             "rgb(214,96,77)"
            ],
            [
             0.3,
             "rgb(244,165,130)"
            ],
            [
             0.4,
             "rgb(253,219,199)"
            ],
            [
             0.5,
             "rgb(247,247,247)"
            ],
            [
             0.6,
             "rgb(209,229,240)"
            ],
            [
             0.7,
             "rgb(146,197,222)"
            ],
            [
             0.8,
             "rgb(67,147,195)"
            ],
            [
             0.9,
             "rgb(33,102,172)"
            ],
            [
             1,
             "rgb(5,48,97)"
            ]
           ],
           "sequential": [
            [
             0,
             "#440154"
            ],
            [
             0.1111111111111111,
             "#482878"
            ],
            [
             0.2222222222222222,
             "#3e4989"
            ],
            [
             0.3333333333333333,
             "#31688e"
            ],
            [
             0.4444444444444444,
             "#26828e"
            ],
            [
             0.5555555555555556,
             "#1f9e89"
            ],
            [
             0.6666666666666666,
             "#35b779"
            ],
            [
             0.7777777777777778,
             "#6ece58"
            ],
            [
             0.8888888888888888,
             "#b5de2b"
            ],
            [
             1,
             "#fde725"
            ]
           ],
           "sequentialminus": [
            [
             0,
             "#440154"
            ],
            [
             0.1111111111111111,
             "#482878"
            ],
            [
             0.2222222222222222,
             "#3e4989"
            ],
            [
             0.3333333333333333,
             "#31688e"
            ],
            [
             0.4444444444444444,
             "#26828e"
            ],
            [
             0.5555555555555556,
             "#1f9e89"
            ],
            [
             0.6666666666666666,
             "#35b779"
            ],
            [
             0.7777777777777778,
             "#6ece58"
            ],
            [
             0.8888888888888888,
             "#b5de2b"
            ],
            [
             1,
             "#fde725"
            ]
           ]
          },
          "colorway": [
           "#1F77B4",
           "#FF7F0E",
           "#2CA02C",
           "#D62728",
           "#9467BD",
           "#8C564B",
           "#E377C2",
           "#7F7F7F",
           "#BCBD22",
           "#17BECF"
          ],
          "font": {
           "color": "rgb(36,36,36)"
          },
          "geo": {
           "bgcolor": "white",
           "lakecolor": "white",
           "landcolor": "white",
           "showlakes": true,
           "showland": true,
           "subunitcolor": "white"
          },
          "hoverlabel": {
           "align": "left"
          },
          "hovermode": "closest",
          "mapbox": {
           "style": "light"
          },
          "paper_bgcolor": "white",
          "plot_bgcolor": "white",
          "polar": {
           "angularaxis": {
            "gridcolor": "rgb(232,232,232)",
            "linecolor": "rgb(36,36,36)",
            "showgrid": false,
            "showline": true,
            "ticks": "outside"
           },
           "bgcolor": "white",
           "radialaxis": {
            "gridcolor": "rgb(232,232,232)",
            "linecolor": "rgb(36,36,36)",
            "showgrid": false,
            "showline": true,
            "ticks": "outside"
           }
          },
          "scene": {
           "xaxis": {
            "backgroundcolor": "white",
            "gridcolor": "rgb(232,232,232)",
            "gridwidth": 2,
            "linecolor": "rgb(36,36,36)",
            "showbackground": true,
            "showgrid": false,
            "showline": true,
            "ticks": "outside",
            "zeroline": false,
            "zerolinecolor": "rgb(36,36,36)"
           },
           "yaxis": {
            "backgroundcolor": "white",
            "gridcolor": "rgb(232,232,232)",
            "gridwidth": 2,
            "linecolor": "rgb(36,36,36)",
            "showbackground": true,
            "showgrid": false,
            "showline": true,
            "ticks": "outside",
            "zeroline": false,
            "zerolinecolor": "rgb(36,36,36)"
           },
           "zaxis": {
            "backgroundcolor": "white",
            "gridcolor": "rgb(232,232,232)",
            "gridwidth": 2,
            "linecolor": "rgb(36,36,36)",
            "showbackground": true,
            "showgrid": false,
            "showline": true,
            "ticks": "outside",
            "zeroline": false,
            "zerolinecolor": "rgb(36,36,36)"
           }
          },
          "shapedefaults": {
           "fillcolor": "black",
           "line": {
            "width": 0
           },
           "opacity": 0.3
          },
          "ternary": {
           "aaxis": {
            "gridcolor": "rgb(232,232,232)",
            "linecolor": "rgb(36,36,36)",
            "showgrid": false,
            "showline": true,
            "ticks": "outside"
           },
           "baxis": {
            "gridcolor": "rgb(232,232,232)",
            "linecolor": "rgb(36,36,36)",
            "showgrid": false,
            "showline": true,
            "ticks": "outside"
           },
           "bgcolor": "white",
           "caxis": {
            "gridcolor": "rgb(232,232,232)",
            "linecolor": "rgb(36,36,36)",
            "showgrid": false,
            "showline": true,
            "ticks": "outside"
           }
          },
          "title": {
           "x": 0.05
          },
          "xaxis": {
           "automargin": true,
           "gridcolor": "rgb(232,232,232)",
           "linecolor": "rgb(36,36,36)",
           "showgrid": false,
           "showline": true,
           "ticks": "outside",
           "title": {
            "standoff": 15
           },
           "zeroline": false,
           "zerolinecolor": "rgb(36,36,36)"
          },
          "yaxis": {
           "automargin": true,
           "gridcolor": "rgb(232,232,232)",
           "linecolor": "rgb(36,36,36)",
           "showgrid": false,
           "showline": true,
           "ticks": "outside",
           "title": {
            "standoff": 15
           },
           "zeroline": false,
           "zerolinecolor": "rgb(36,36,36)"
          }
         }
        },
        "title": {
         "text": "Average Monthly Profit by Department"
        },
        "xaxis": {
         "anchor": "y",
         "domain": [
          0,
          1
         ],
         "title": {
          "text": "Department"
         }
        },
        "yaxis": {
         "anchor": "x",
         "domain": [
          0,
          1
         ],
         "title": {
          "text": "MonthlyProfit"
         }
        }
       }
      }
     },
     "metadata": {}
    }
   ],
   "metadata": {}
  },
  {
   "cell_type": "code",
   "execution_count": null,
   "source": [],
   "outputs": [],
   "metadata": {}
  }
 ],
 "metadata": {
  "orig_nbformat": 4,
  "language_info": {
   "name": "python",
   "version": "3.8.8",
   "mimetype": "text/x-python",
   "codemirror_mode": {
    "name": "ipython",
    "version": 3
   },
   "pygments_lexer": "ipython3",
   "nbconvert_exporter": "python",
   "file_extension": ".py"
  },
  "kernelspec": {
   "name": "python3",
   "display_name": "Python 3.8.8 64-bit ('base': conda)"
  },
  "interpreter": {
   "hash": "ec04dea52bfbb200974a6bd65c5ace22c8c0866305cdf40cec36951a76c3c6c2"
  }
 },
 "nbformat": 4,
 "nbformat_minor": 2
}