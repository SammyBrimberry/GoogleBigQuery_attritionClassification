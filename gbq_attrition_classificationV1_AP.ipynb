{
  "nbformat": 4,
  "nbformat_minor": 0,
  "metadata": {
    "colab": {
      "name": "gbq_attrition_classificationV1_AP.ipynb",
      "provenance": [],
      "collapsed_sections": [
        "_1AT8tk2k2gY"
      ],
      "toc_visible": true,
      "authorship_tag": "ABX9TyN1j/Yq8fwR3zkaE+GgZSOL",
      "include_colab_link": true
    },
    "kernelspec": {
      "name": "python3",
      "display_name": "Python 3"
    },
    "language_info": {
      "name": "python"
    }
  },
  "cells": [
    {
      "cell_type": "markdown",
      "metadata": {
        "id": "view-in-github",
        "colab_type": "text"
      },
      "source": [
        "<a href=\"https://colab.research.google.com/github/SammyBrimberry/GoogleBigQuery_attritionClassification/blob/main/gbq_attrition_classificationV1_AP.ipynb\" target=\"_parent\"><img src=\"https://colab.research.google.com/assets/colab-badge.svg\" alt=\"Open In Colab\"/></a>"
      ]
    },
    {
      "cell_type": "code",
      "metadata": {
        "id": "yWtVV1Xc1C_Z"
      },
      "source": [
        "import pandas as pd\n",
        "import numpy as np\n",
        "import io\n",
        "import plotly.express as px\n",
        "import matplotlib.pyplot as plt\n",
        "import seaborn as sns\n",
        "from imblearn.over_sampling import SMOTE\n",
        "\n",
        "\n",
        "import warnings\n",
        "warnings.filterwarnings('ignore')\n",
        "\n",
        "import pandas as pd\n",
        "import numpy as np\n",
        "from collections import Counter\n",
        "\n",
        "from sklearn.model_selection import train_test_split\n",
        "from sklearn.linear_model import LogisticRegression\n",
        "from sklearn.metrics import balanced_accuracy_score\n",
        "from sklearn.metrics import accuracy_score\n",
        "from sklearn.preprocessing import StandardScaler\n",
        "from sklearn.svm import SVC\n",
        "\n",
        "from sklearn.metrics import confusion_matrix\n",
        "\n",
        "from imblearn.metrics import classification_report_imbalanced\n",
        "from imblearn.over_sampling import RandomOverSampler\n",
        "from imblearn.over_sampling import SMOTE\n",
        "from imblearn.under_sampling import ClusterCentroids\n"
      ],
      "execution_count": 3,
      "outputs": []
    },
    {
      "cell_type": "code",
      "metadata": {
        "id": "jFtCua701vUq"
      },
      "source": [
        "#access data locally \n",
        "# from google.colab import files\n",
        "# uploaded = files.upload()\n",
        "#df = pd.read_csv(io.BytesIO(uploaded['data.csv']))\n",
        "\n"
      ],
      "execution_count": 2,
      "outputs": []
    },
    {
      "cell_type": "code",
      "metadata": {
        "colab": {
          "base_uri": "https://localhost:8080/"
        },
        "id": "GV6w-Exzae5y",
        "outputId": "a317916c-4b22-4b90-a935-8df7329667fc"
      },
      "source": [
        "# account authenticatio\n",
        "from google.colab import auth\n",
        "auth.authenticate_user()\n",
        "print('Authenticated') # check"
      ],
      "execution_count": 4,
      "outputs": [
        {
          "output_type": "stream",
          "name": "stdout",
          "text": [
            "Authenticated\n"
          ]
        }
      ]
    },
    {
      "cell_type": "code",
      "metadata": {
        "id": "ej3INnG9a9Nj"
      },
      "source": [
        "# import biqguery, this is where our csv is living\n",
        "from google.cloud import bigquery\n",
        "\n",
        "# view settings\n",
        "%load_ext google.colab.data_table"
      ],
      "execution_count": 5,
      "outputs": []
    },
    {
      "cell_type": "code",
      "metadata": {
        "id": "7MOkaL8DapCg"
      },
      "source": [
        "# store project_id into object\n",
        "project_id = 'civil-hope-323521'"
      ],
      "execution_count": 6,
      "outputs": []
    },
    {
      "cell_type": "code",
      "metadata": {
        "id": "KwoQBeKs19Vd"
      },
      "source": [
        "# init gbq client for specific cloud project\n",
        "client = bigquery.Client(project=project_id)"
      ],
      "execution_count": 7,
      "outputs": []
    },
    {
      "cell_type": "code",
      "metadata": {
        "colab": {
          "base_uri": "https://localhost:8080/",
          "height": 241
        },
        "id": "fa2io5wdbB_D",
        "outputId": "1fff74c4-024c-43ea-b980-7325f6bb25e6"
      },
      "source": [
        "# query our entire data living in google cloud\n",
        "df = client.query('''\n",
        "select * \n",
        "from `civil-hope-323521.attrition_dataset_1.IBM_attrition_2021` # project_id.database.table\n",
        "''').to_dataframe()\n",
        "\n",
        "df.head() # print out first 5 rows"
      ],
      "execution_count": 8,
      "outputs": [
        {
          "output_type": "execute_result",
          "data": {
            "text/html": [
              "<div>\n",
              "<style scoped>\n",
              "    .dataframe tbody tr th:only-of-type {\n",
              "        vertical-align: middle;\n",
              "    }\n",
              "\n",
              "    .dataframe tbody tr th {\n",
              "        vertical-align: top;\n",
              "    }\n",
              "\n",
              "    .dataframe thead th {\n",
              "        text-align: right;\n",
              "    }\n",
              "</style>\n",
              "<table border=\"1\" class=\"dataframe\">\n",
              "  <thead>\n",
              "    <tr style=\"text-align: right;\">\n",
              "      <th></th>\n",
              "      <th>Age</th>\n",
              "      <th>Attrition</th>\n",
              "      <th>BusinessTravel</th>\n",
              "      <th>DailyRate</th>\n",
              "      <th>Department</th>\n",
              "      <th>DistanceFromHome</th>\n",
              "      <th>Education</th>\n",
              "      <th>EducationField</th>\n",
              "      <th>EmployeeCount</th>\n",
              "      <th>EmployeeNumber</th>\n",
              "      <th>EnvironmentSatisfaction</th>\n",
              "      <th>Gender</th>\n",
              "      <th>HourlyRate</th>\n",
              "      <th>JobInvolvement</th>\n",
              "      <th>JobLevel</th>\n",
              "      <th>JobRole</th>\n",
              "      <th>JobSatisfaction</th>\n",
              "      <th>MaritalStatus</th>\n",
              "      <th>MonthlyIncome</th>\n",
              "      <th>MonthlyRate</th>\n",
              "      <th>NumCompaniesWorked</th>\n",
              "      <th>Over18</th>\n",
              "      <th>OverTime</th>\n",
              "      <th>PercentSalaryHike</th>\n",
              "      <th>PerformanceRating</th>\n",
              "      <th>RelationshipSatisfaction</th>\n",
              "      <th>StandardHours</th>\n",
              "      <th>StockOptionLevel</th>\n",
              "      <th>TotalWorkingYears</th>\n",
              "      <th>TrainingTimesLastYear</th>\n",
              "      <th>WorkLifeBalance</th>\n",
              "      <th>YearsAtCompany</th>\n",
              "      <th>YearsInCurrentRole</th>\n",
              "      <th>YearsSinceLastPromotion</th>\n",
              "      <th>YearsWithCurrManager</th>\n",
              "    </tr>\n",
              "  </thead>\n",
              "  <tbody>\n",
              "    <tr>\n",
              "      <th>0</th>\n",
              "      <td>48</td>\n",
              "      <td>False</td>\n",
              "      <td>Travel_Rarely</td>\n",
              "      <td>530</td>\n",
              "      <td>Sales</td>\n",
              "      <td>29</td>\n",
              "      <td>1</td>\n",
              "      <td>Medical</td>\n",
              "      <td>1</td>\n",
              "      <td>473</td>\n",
              "      <td>1</td>\n",
              "      <td>Female</td>\n",
              "      <td>91</td>\n",
              "      <td>3</td>\n",
              "      <td>3</td>\n",
              "      <td>Manager</td>\n",
              "      <td>3</td>\n",
              "      <td>Married</td>\n",
              "      <td>12504</td>\n",
              "      <td>23978</td>\n",
              "      <td>3</td>\n",
              "      <td>True</td>\n",
              "      <td>False</td>\n",
              "      <td>21</td>\n",
              "      <td>4</td>\n",
              "      <td>2</td>\n",
              "      <td>80</td>\n",
              "      <td>1</td>\n",
              "      <td>15</td>\n",
              "      <td>3</td>\n",
              "      <td>1</td>\n",
              "      <td>0</td>\n",
              "      <td>0</td>\n",
              "      <td>0</td>\n",
              "      <td>0</td>\n",
              "    </tr>\n",
              "    <tr>\n",
              "      <th>1</th>\n",
              "      <td>45</td>\n",
              "      <td>False</td>\n",
              "      <td>Travel_Frequently</td>\n",
              "      <td>364</td>\n",
              "      <td>Research &amp; Development</td>\n",
              "      <td>25</td>\n",
              "      <td>3</td>\n",
              "      <td>Medical</td>\n",
              "      <td>1</td>\n",
              "      <td>1306</td>\n",
              "      <td>2</td>\n",
              "      <td>Female</td>\n",
              "      <td>83</td>\n",
              "      <td>3</td>\n",
              "      <td>5</td>\n",
              "      <td>Manager</td>\n",
              "      <td>2</td>\n",
              "      <td>Single</td>\n",
              "      <td>18061</td>\n",
              "      <td>13035</td>\n",
              "      <td>3</td>\n",
              "      <td>True</td>\n",
              "      <td>False</td>\n",
              "      <td>22</td>\n",
              "      <td>4</td>\n",
              "      <td>3</td>\n",
              "      <td>80</td>\n",
              "      <td>0</td>\n",
              "      <td>22</td>\n",
              "      <td>4</td>\n",
              "      <td>3</td>\n",
              "      <td>0</td>\n",
              "      <td>0</td>\n",
              "      <td>0</td>\n",
              "      <td>0</td>\n",
              "    </tr>\n",
              "    <tr>\n",
              "      <th>2</th>\n",
              "      <td>41</td>\n",
              "      <td>False</td>\n",
              "      <td>Travel_Rarely</td>\n",
              "      <td>896</td>\n",
              "      <td>Sales</td>\n",
              "      <td>6</td>\n",
              "      <td>3</td>\n",
              "      <td>Life Sciences</td>\n",
              "      <td>1</td>\n",
              "      <td>298</td>\n",
              "      <td>4</td>\n",
              "      <td>Female</td>\n",
              "      <td>75</td>\n",
              "      <td>3</td>\n",
              "      <td>3</td>\n",
              "      <td>Manager</td>\n",
              "      <td>4</td>\n",
              "      <td>Single</td>\n",
              "      <td>13591</td>\n",
              "      <td>14674</td>\n",
              "      <td>3</td>\n",
              "      <td>True</td>\n",
              "      <td>True</td>\n",
              "      <td>18</td>\n",
              "      <td>3</td>\n",
              "      <td>3</td>\n",
              "      <td>80</td>\n",
              "      <td>0</td>\n",
              "      <td>16</td>\n",
              "      <td>3</td>\n",
              "      <td>3</td>\n",
              "      <td>1</td>\n",
              "      <td>0</td>\n",
              "      <td>0</td>\n",
              "      <td>0</td>\n",
              "    </tr>\n",
              "    <tr>\n",
              "      <th>3</th>\n",
              "      <td>57</td>\n",
              "      <td>False</td>\n",
              "      <td>Travel_Rarely</td>\n",
              "      <td>210</td>\n",
              "      <td>Sales</td>\n",
              "      <td>29</td>\n",
              "      <td>3</td>\n",
              "      <td>Marketing</td>\n",
              "      <td>1</td>\n",
              "      <td>568</td>\n",
              "      <td>1</td>\n",
              "      <td>Male</td>\n",
              "      <td>56</td>\n",
              "      <td>2</td>\n",
              "      <td>4</td>\n",
              "      <td>Manager</td>\n",
              "      <td>4</td>\n",
              "      <td>Divorced</td>\n",
              "      <td>14118</td>\n",
              "      <td>22102</td>\n",
              "      <td>3</td>\n",
              "      <td>True</td>\n",
              "      <td>False</td>\n",
              "      <td>12</td>\n",
              "      <td>3</td>\n",
              "      <td>3</td>\n",
              "      <td>80</td>\n",
              "      <td>1</td>\n",
              "      <td>32</td>\n",
              "      <td>3</td>\n",
              "      <td>2</td>\n",
              "      <td>1</td>\n",
              "      <td>0</td>\n",
              "      <td>0</td>\n",
              "      <td>0</td>\n",
              "    </tr>\n",
              "    <tr>\n",
              "      <th>4</th>\n",
              "      <td>42</td>\n",
              "      <td>False</td>\n",
              "      <td>Travel_Rarely</td>\n",
              "      <td>265</td>\n",
              "      <td>Sales</td>\n",
              "      <td>5</td>\n",
              "      <td>2</td>\n",
              "      <td>Marketing</td>\n",
              "      <td>1</td>\n",
              "      <td>1029</td>\n",
              "      <td>4</td>\n",
              "      <td>Male</td>\n",
              "      <td>90</td>\n",
              "      <td>3</td>\n",
              "      <td>5</td>\n",
              "      <td>Manager</td>\n",
              "      <td>3</td>\n",
              "      <td>Married</td>\n",
              "      <td>18303</td>\n",
              "      <td>7770</td>\n",
              "      <td>6</td>\n",
              "      <td>True</td>\n",
              "      <td>False</td>\n",
              "      <td>13</td>\n",
              "      <td>3</td>\n",
              "      <td>2</td>\n",
              "      <td>80</td>\n",
              "      <td>0</td>\n",
              "      <td>21</td>\n",
              "      <td>3</td>\n",
              "      <td>4</td>\n",
              "      <td>1</td>\n",
              "      <td>0</td>\n",
              "      <td>0</td>\n",
              "      <td>0</td>\n",
              "    </tr>\n",
              "  </tbody>\n",
              "</table>\n",
              "</div>"
            ],
            "text/plain": [
              "   Age  Attrition  ... YearsSinceLastPromotion  YearsWithCurrManager\n",
              "0   48      False  ...                       0                     0\n",
              "1   45      False  ...                       0                     0\n",
              "2   41      False  ...                       0                     0\n",
              "3   57      False  ...                       0                     0\n",
              "4   42      False  ...                       0                     0\n",
              "\n",
              "[5 rows x 35 columns]"
            ]
          },
          "metadata": {},
          "execution_count": 8
        }
      ]
    },
    {
      "cell_type": "markdown",
      "metadata": {
        "id": "ECUPu4BZPgS2"
      },
      "source": [
        "The first step in understanding this data set is to understand the number of employees that have left the company. To do so, we can group the employees by attrition status and count the number of employees that fall into each category. Those numbers can be visualized in the bar graph below. \n",
        "\n",
        "Already, we can see that our data is imbalanced. A challenge for classification is to pay attention to balance and imbalance data, which will be explained shortly. "
      ]
    },
    {
      "cell_type": "code",
      "metadata": {
        "colab": {
          "base_uri": "https://localhost:8080/",
          "height": 662
        },
        "id": "vhIJ_JqJ2fy3",
        "outputId": "017ced6e-0e88-4f4a-ac37-1eb357b4c85d"
      },
      "source": [
        "# count number of attrition\n",
        "df1 = df.groupby(['Attrition']).size() #this creates a new dataframe that groups the employees by attrition status and then provides a count for the number in each group\n",
        "#.reset_index(name='counts')\n",
        "#plot the counts\n",
        "df1.plot(kind='bar',title = \"Count of employees by attrition status\", figsize=(10,10))\n"
      ],
      "execution_count": 61,
      "outputs": [
        {
          "output_type": "execute_result",
          "data": {
            "text/plain": [
              "<matplotlib.axes._subplots.AxesSubplot at 0x7f7befb05990>"
            ]
          },
          "metadata": {},
          "execution_count": 61
        },
        {
          "output_type": "display_data",
          "data": {
            "image/png": "[encoded data removed]",
            "text/plain": [
              "<Figure size 720x720 with 1 Axes>"
            ]
          },
          "metadata": {}
        }
      ]
    },
    {
      "cell_type": "markdown",
      "metadata": {
        "id": "RGT6hIFTQSRR"
      },
      "source": [
        "Not all the variables in the dataset will be useful to build a model that explains attrition. That being said, we want to start breaking down the data to understand if any particular set of features seem to be the key in explaining the variation in attrition. We can start by taking educated gueesses as to which features are most closely aligned with attrition.\n",
        "\n"
      ]
    },
    {
      "cell_type": "code",
      "metadata": {
        "id": "MvNU2LJ3jOr9"
      },
      "source": [
        "# for i in df:\n",
        "#     print(i)\n",
        "#     print(df[i].unique())\n",
        "#     print(\"#\"*40)\n",
        "\n"
      ],
      "execution_count": null,
      "outputs": []
    },
    {
      "cell_type": "markdown",
      "metadata": {
        "id": "fGVv1zObi-k1"
      },
      "source": [
        "We may start by looking at the average number of firms the employees of each of the two groups have been employed at over a period of time. To do so, we can group the data by attrition status and find the average number of past employmnets for each group. The graph below depicts the results. \n"
      ]
    },
    {
      "cell_type": "code",
      "metadata": {
        "colab": {
          "base_uri": "https://localhost:8080/",
          "height": 662
        },
        "id": "sHF8bfSW2oB3",
        "outputId": "4b4dc234-26c7-4d5f-aa79-a8e8dc89f2d1"
      },
      "source": [
        "# roles by attrition status\n",
        "df2 = df[[\"Attrition\", \"NumCompaniesWorked\"]].rename(columns={\"NumCompaniesWorked\": \"AvgNumCompaniesWorked\"}).groupby(['Attrition']).mean() #group by attrition and take the mean of the number of companies employees worked on\n",
        "#plot results\n",
        "df2.plot(kind='bar',title = \"Average companies worked by attrition status\", figsize=(10,10))\n",
        "\n",
        "\t"
      ],
      "execution_count": 62,
      "outputs": [
        {
          "output_type": "execute_result",
          "data": {
            "text/plain": [
              "<matplotlib.axes._subplots.AxesSubplot at 0x7f7bed21ea90>"
            ]
          },
          "metadata": {},
          "execution_count": 62
        },
        {
          "output_type": "display_data",
          "data": {
            "image/png": "[encoded data removed]",
            "text/plain": [
              "<Figure size 720x720 with 1 Axes>"
            ]
          },
          "metadata": {}
        }
      ]
    },
    {
      "cell_type": "markdown",
      "metadata": {
        "id": "hE5QSnCeSFnT"
      },
      "source": [
        "From this bar graph it may be difficult to discern if the variation in number of past employments is related to the variation in attrition. While the avaergae number of past employments is higher for those that left, it is unclear how significant this difference is. Plotting the distribution will better explain the difference in variation. "
      ]
    },
    {
      "cell_type": "code",
      "metadata": {
        "id": "GDvQcQILnZLM"
      },
      "source": [
        "# px.scatter(df[[\"Attrition\", \"NumCompaniesWorked\"]], x='NumCompaniesWorked', y=\"NumCompaniesWorked\", size=1, color='Attrition')\n",
        "# fg = seaborn.FacetGrid(data=df[[\"Attrition\", \"NumCompaniesWorked\"]], hue='Attrition', aspect=1.61)\n",
        "# fg.map(plt.scatter, 'NumCompaniesWorked', 'NumCompaniesWorked').add_legend()\n"
      ],
      "execution_count": null,
      "outputs": []
    },
    {
      "cell_type": "code",
      "metadata": {
        "colab": {
          "base_uri": "https://localhost:8080/",
          "height": 628
        },
        "id": "zqUUrfwDqUMq",
        "outputId": "de5fd735-7508-4fab-c851-8de0f38f2728"
      },
      "source": [
        "dfplot = df[[\"Attrition\", \"NumCompaniesWorked\"]]\n",
        "attrition_t = dfplot[dfplot[\"Attrition\"]== True] #dataframe of attrition=True\n",
        "attrition_f = dfplot[dfplot[\"Attrition\"]== False] #dataframe of attrition=False\n",
        "\n",
        "sns.set(color_codes=True)\n",
        "sns.set(rc={'figure.figsize':(10,10)})\n",
        "sns.distplot(attrition_t[\"NumCompaniesWorked\"], color=\"blue\", hist=False, label=\"Attrition True\") #Hitogram of attrition false\n",
        "sns.distplot(attrition_f[\"NumCompaniesWorked\"], color=\"orange\", hist=False, label=\"Attrition False\") #histogram of attirtion true \n",
        "# plt.figure(figsize = (10,10))\n",
        "plt.axvline(attrition_t[\"NumCompaniesWorked\"].median(), color=\"blue\", linestyle=\"dashed\", linewidth=1) #plot median of attrition true\n",
        "plt.axvline(attrition_f[\"NumCompaniesWorked\"].median(), color=\"orange\", linestyle=\"dashed\", linewidth=1) #plot median of attrition false \n",
        "\n",
        "plt.ylabel(\"frequency\") #plot label\n",
        "plt.legend() #add label"
      ],
      "execution_count": 21,
      "outputs": [
        {
          "output_type": "execute_result",
          "data": {
            "text/plain": [
              "<matplotlib.legend.Legend at 0x7f7bf91e3c10>"
            ]
          },
          "metadata": {},
          "execution_count": 21
        },
        {
          "output_type": "display_data",
          "data": {
            "image/png": "[encoded data removed]",
            "text/plain": [
              "<Figure size 720x720 with 1 Axes>"
            ]
          },
          "metadata": {}
        }
      ]
    },
    {
      "cell_type": "code",
      "metadata": {
        "colab": {
          "base_uri": "https://localhost:8080/",
          "height": 682
        },
        "id": "NsQZAyN90YIL",
        "outputId": "2d5092dd-81af-4d98-c0ff-a2a50d23daa3"
      },
      "source": [
        "#plot a boxplot to visualize the distribution in number of companies worked at for each group\n",
        "df.boxplot(\"NumCompaniesWorked\", \"Attrition\", figsize=(10,10))"
      ],
      "execution_count": 22,
      "outputs": [
        {
          "output_type": "execute_result",
          "data": {
            "text/plain": [
              "<matplotlib.axes._subplots.AxesSubplot at 0x7f7bf8eaa090>"
            ]
          },
          "metadata": {},
          "execution_count": 22
        },
        {
          "output_type": "display_data",
          "data": {
            "image/png": "[encoded data removed]",
            "text/plain": [
              "<Figure size 720x720 with 1 Axes>"
            ]
          },
          "metadata": {}
        }
      ]
    },
    {
      "cell_type": "markdown",
      "metadata": {
        "id": "6DIe7P6P0oUI"
      },
      "source": [
        "From the two graphs above, we can see that the distributions and medians are quite similar across both groups. This may suggest that number of companies worked may not really explain attrition. We can now do a similar visual analysis for other numerical features of interest. "
      ]
    },
    {
      "cell_type": "code",
      "metadata": {
        "colab": {
          "base_uri": "https://localhost:8080/",
          "height": 1000
        },
        "id": "FMdyWy_uA-2C",
        "outputId": "7f7aff72-4615-4df5-d1aa-354d01566775"
      },
      "source": [
        "#plot other box plots\n",
        "features = [\"Age\", \"DistanceFromHome\", \"JobSatisfaction\", \"MonthlyIncome\"]\n",
        "for feature in features: #loop through the chosen features to produce boxplots\n",
        "  df.boxplot(feature, \"Attrition\", figsize=(10,10))\n"
      ],
      "execution_count": 23,
      "outputs": [
        {
          "output_type": "display_data",
          "data": {
            "image/png": "[encoded data removed]",
            "text/plain": [
              "<Figure size 720x720 with 1 Axes>"
            ]
          },
          "metadata": {}
        },
        {
          "output_type": "display_data",
          "data": {
            "image/png": "[encoded data removed]",
            "text/plain": [
              "<Figure size 720x720 with 1 Axes>"
            ]
          },
          "metadata": {}
        },
        {
          "output_type": "display_data",
          "data": {
            "image/png": "[encoded data removed]",
            "text/plain": [
              "<Figure size 720x720 with 1 Axes>"
            ]
          },
          "metadata": {}
        },
        {
          "output_type": "display_data",
          "data": {
            "image/png": "[encoded data removed]",
            "text/plain": [
              "<Figure size 720x720 with 1 Axes>"
            ]
          },
          "metadata": {}
        }
      ]
    },
    {
      "cell_type": "markdown",
      "metadata": {
        "id": "cHcgtL0uBNge"
      },
      "source": [
        "A possible takeaway from these graphs are that younger people are more likely to leave their job. A greater DistanceFromHome, lower JobSatisfaction and lower MonthlyIncome may also influence attrition. "
      ]
    },
    {
      "cell_type": "markdown",
      "metadata": {
        "id": "tWqLd88cA6k1"
      },
      "source": [
        "A atacked Column chart will be more useful to visualize the relationship between two categorical variables (Some fo the categorical features and attrition). It visualizes the percentage that each category from one variable contributes to a total across categories of the second variable. --re word"
      ]
    },
    {
      "cell_type": "code",
      "metadata": {
        "colab": {
          "base_uri": "https://localhost:8080/",
          "height": 1000
        },
        "id": "h3jJl6cL8OcU",
        "outputId": "28ffb311-19f0-48b1-ecc3-927d0091fe75"
      },
      "source": [
        "categories = [\"OverTime\", 'BusinessTravel', 'Department', 'EducationField', 'Gender', 'JobRole', 'MaritalStatus'] #list of categorical features to examine\n",
        "for category in categories: #loop through each categorical feature \n",
        "  df_new = df.groupby([\"Attrition\", category])[category].count().unstack().plot(kind = \"bar\", stacked = True, figsize=(10,10)) #print stacked bar chart\n",
        "  print(df_new)"
      ],
      "execution_count": 25,
      "outputs": [
        {
          "output_type": "stream",
          "name": "stdout",
          "text": [
            "AxesSubplot(0.125,0.125;0.775x0.755)\n",
            "AxesSubplot(0.125,0.125;0.775x0.755)\n",
            "AxesSubplot(0.125,0.125;0.775x0.755)\n",
            "AxesSubplot(0.125,0.125;0.775x0.755)\n",
            "AxesSubplot(0.125,0.125;0.775x0.755)\n",
            "AxesSubplot(0.125,0.125;0.775x0.755)\n",
            "AxesSubplot(0.125,0.125;0.775x0.755)\n"
          ]
        },
        {
          "output_type": "display_data",
          "data": {
            "image/png": "[encoded data removed]",
            "text/plain": [
              "<Figure size 720x720 with 1 Axes>"
            ]
          },
          "metadata": {}
        },
        {
          "output_type": "display_data",
          "data": {
            "image/png": "[encoded data removed]",
            "text/plain": [
              "<Figure size 720x720 with 1 Axes>"
            ]
          },
          "metadata": {}
        },
        {
          "output_type": "display_data",
          "data": {
            "image/png": "[encoded data removed]",
            "text/plain": [
              "<Figure size 720x720 with 1 Axes>"
            ]
          },
          "metadata": {}
        },
        {
          "output_type": "display_data",
          "data": {
            "image/png": "[encoded data removed]",
            "text/plain": [
              "<Figure size 720x720 with 1 Axes>"
            ]
          },
          "metadata": {}
        },
        {
          "output_type": "display_data",
          "data": {
            "image/png": "[encoded data removed]",
            "text/plain": [
              "<Figure size 720x720 with 1 Axes>"
            ]
          },
          "metadata": {}
        },
        {
          "output_type": "display_data",
          "data": {
            "image/png": "[encoded data removed]",
            "text/plain": [
              "<Figure size 720x720 with 1 Axes>"
            ]
          },
          "metadata": {}
        },
        {
          "output_type": "display_data",
          "data": {
            "image/png": "[encoded data removed]",
            "text/plain": [
              "<Figure size 720x720 with 1 Axes>"
            ]
          },
          "metadata": {}
        }
      ]
    },
    {
      "cell_type": "markdown",
      "metadata": {
        "id": "N5hERK5i-TYZ"
      },
      "source": [
        "From the graphs above, we can start seeing that the rate of overtime is much higher in the attrition group then the non attrition group. The rate of singles is much higher in attrition as well. Employees who travel often seem to be affected more often from attrition. From these grpahs, it looks like gender is not related to Attrition. "
      ]
    },
    {
      "cell_type": "markdown",
      "metadata": {
        "id": "Q6vM51YD-z9a"
      },
      "source": [
        "It is also important to note and discard the few features with absolutely no variation between attrition groups. \"Over18\", \"EmployeeCount\", and \"StandardHours\" have only one value, thus they will definitely not expalin any of the variation in atrition. \n",
        "\n",
        "EmployeeNumber can also be dropped for now, as it represents a unique identifier for each employee.\n",
        "\n",
        "\n",
        "\n"
      ]
    },
    {
      "cell_type": "code",
      "metadata": {
        "colab": {
          "base_uri": "https://localhost:8080/",
          "height": 629
        },
        "id": "YTw-G7An_uVb",
        "outputId": "8a05cf9a-3f1f-4952-86a4-72758940a667"
      },
      "source": [
        "df_new = df.groupby([\"Attrition\", \"Over18\"])[\"Over18\"].count().unstack().plot(kind = \"bar\", stacked = True) #show there is only one value in over18\n"
      ],
      "execution_count": 26,
      "outputs": [
        {
          "output_type": "display_data",
          "data": {
            "image/png": "[encoded data removed]",
            "text/plain": [
              "<Figure size 720x720 with 1 Axes>"
            ]
          },
          "metadata": {}
        }
      ]
    },
    {
      "cell_type": "code",
      "metadata": {
        "id": "u1ejcBpi_5Xm"
      },
      "source": [
        "#drop the columns that won't be relvent to prediction\n",
        "df_drop = df\n",
        "df_drop.drop(columns = {\"Over18\", \"EmployeeCount\", \"EmployeeNumber\", \"StandardHours\"}, inplace = True)\n"
      ],
      "execution_count": 27,
      "outputs": []
    },
    {
      "cell_type": "code",
      "metadata": {
        "colab": {
          "base_uri": "https://localhost:8080/",
          "height": 241
        },
        "id": "ELvmyKLDARnv",
        "outputId": "d696cba1-5882-4a2a-89bb-27257512211e"
      },
      "source": [
        "df_drop.head()"
      ],
      "execution_count": 28,
      "outputs": [
        {
          "output_type": "execute_result",
          "data": {
            "text/html": [
              "<div>\n",
              "<style scoped>\n",
              "    .dataframe tbody tr th:only-of-type {\n",
              "        vertical-align: middle;\n",
              "    }\n",
              "\n",
              "    .dataframe tbody tr th {\n",
              "        vertical-align: top;\n",
              "    }\n",
              "\n",
              "    .dataframe thead th {\n",
              "        text-align: right;\n",
              "    }\n",
              "</style>\n",
              "<table border=\"1\" class=\"dataframe\">\n",
              "  <thead>\n",
              "    <tr style=\"text-align: right;\">\n",
              "      <th></th>\n",
              "      <th>Age</th>\n",
              "      <th>Attrition</th>\n",
              "      <th>BusinessTravel</th>\n",
              "      <th>DailyRate</th>\n",
              "      <th>Department</th>\n",
              "      <th>DistanceFromHome</th>\n",
              "      <th>Education</th>\n",
              "      <th>EducationField</th>\n",
              "      <th>EnvironmentSatisfaction</th>\n",
              "      <th>Gender</th>\n",
              "      <th>HourlyRate</th>\n",
              "      <th>JobInvolvement</th>\n",
              "      <th>JobLevel</th>\n",
              "      <th>JobRole</th>\n",
              "      <th>JobSatisfaction</th>\n",
              "      <th>MaritalStatus</th>\n",
              "      <th>MonthlyIncome</th>\n",
              "      <th>MonthlyRate</th>\n",
              "      <th>NumCompaniesWorked</th>\n",
              "      <th>OverTime</th>\n",
              "      <th>PercentSalaryHike</th>\n",
              "      <th>PerformanceRating</th>\n",
              "      <th>RelationshipSatisfaction</th>\n",
              "      <th>StockOptionLevel</th>\n",
              "      <th>TotalWorkingYears</th>\n",
              "      <th>TrainingTimesLastYear</th>\n",
              "      <th>WorkLifeBalance</th>\n",
              "      <th>YearsAtCompany</th>\n",
              "      <th>YearsInCurrentRole</th>\n",
              "      <th>YearsSinceLastPromotion</th>\n",
              "      <th>YearsWithCurrManager</th>\n",
              "    </tr>\n",
              "  </thead>\n",
              "  <tbody>\n",
              "    <tr>\n",
              "      <th>0</th>\n",
              "      <td>48</td>\n",
              "      <td>False</td>\n",
              "      <td>Travel_Rarely</td>\n",
              "      <td>530</td>\n",
              "      <td>Sales</td>\n",
              "      <td>29</td>\n",
              "      <td>1</td>\n",
              "      <td>Medical</td>\n",
              "      <td>1</td>\n",
              "      <td>Female</td>\n",
              "      <td>91</td>\n",
              "      <td>3</td>\n",
              "      <td>3</td>\n",
              "      <td>Manager</td>\n",
              "      <td>3</td>\n",
              "      <td>Married</td>\n",
              "      <td>12504</td>\n",
              "      <td>23978</td>\n",
              "      <td>3</td>\n",
              "      <td>False</td>\n",
              "      <td>21</td>\n",
              "      <td>4</td>\n",
              "      <td>2</td>\n",
              "      <td>1</td>\n",
              "      <td>15</td>\n",
              "      <td>3</td>\n",
              "      <td>1</td>\n",
              "      <td>0</td>\n",
              "      <td>0</td>\n",
              "      <td>0</td>\n",
              "      <td>0</td>\n",
              "    </tr>\n",
              "    <tr>\n",
              "      <th>1</th>\n",
              "      <td>45</td>\n",
              "      <td>False</td>\n",
              "      <td>Travel_Frequently</td>\n",
              "      <td>364</td>\n",
              "      <td>Research &amp; Development</td>\n",
              "      <td>25</td>\n",
              "      <td>3</td>\n",
              "      <td>Medical</td>\n",
              "      <td>2</td>\n",
              "      <td>Female</td>\n",
              "      <td>83</td>\n",
              "      <td>3</td>\n",
              "      <td>5</td>\n",
              "      <td>Manager</td>\n",
              "      <td>2</td>\n",
              "      <td>Single</td>\n",
              "      <td>18061</td>\n",
              "      <td>13035</td>\n",
              "      <td>3</td>\n",
              "      <td>False</td>\n",
              "      <td>22</td>\n",
              "      <td>4</td>\n",
              "      <td>3</td>\n",
              "      <td>0</td>\n",
              "      <td>22</td>\n",
              "      <td>4</td>\n",
              "      <td>3</td>\n",
              "      <td>0</td>\n",
              "      <td>0</td>\n",
              "      <td>0</td>\n",
              "      <td>0</td>\n",
              "    </tr>\n",
              "    <tr>\n",
              "      <th>2</th>\n",
              "      <td>41</td>\n",
              "      <td>False</td>\n",
              "      <td>Travel_Rarely</td>\n",
              "      <td>896</td>\n",
              "      <td>Sales</td>\n",
              "      <td>6</td>\n",
              "      <td>3</td>\n",
              "      <td>Life Sciences</td>\n",
              "      <td>4</td>\n",
              "      <td>Female</td>\n",
              "      <td>75</td>\n",
              "      <td>3</td>\n",
              "      <td>3</td>\n",
              "      <td>Manager</td>\n",
              "      <td>4</td>\n",
              "      <td>Single</td>\n",
              "      <td>13591</td>\n",
              "      <td>14674</td>\n",
              "      <td>3</td>\n",
              "      <td>True</td>\n",
              "      <td>18</td>\n",
              "      <td>3</td>\n",
              "      <td>3</td>\n",
              "      <td>0</td>\n",
              "      <td>16</td>\n",
              "      <td>3</td>\n",
              "      <td>3</td>\n",
              "      <td>1</td>\n",
              "      <td>0</td>\n",
              "      <td>0</td>\n",
              "      <td>0</td>\n",
              "    </tr>\n",
              "    <tr>\n",
              "      <th>3</th>\n",
              "      <td>57</td>\n",
              "      <td>False</td>\n",
              "      <td>Travel_Rarely</td>\n",
              "      <td>210</td>\n",
              "      <td>Sales</td>\n",
              "      <td>29</td>\n",
              "      <td>3</td>\n",
              "      <td>Marketing</td>\n",
              "      <td>1</td>\n",
              "      <td>Male</td>\n",
              "      <td>56</td>\n",
              "      <td>2</td>\n",
              "      <td>4</td>\n",
              "      <td>Manager</td>\n",
              "      <td>4</td>\n",
              "      <td>Divorced</td>\n",
              "      <td>14118</td>\n",
              "      <td>22102</td>\n",
              "      <td>3</td>\n",
              "      <td>False</td>\n",
              "      <td>12</td>\n",
              "      <td>3</td>\n",
              "      <td>3</td>\n",
              "      <td>1</td>\n",
              "      <td>32</td>\n",
              "      <td>3</td>\n",
              "      <td>2</td>\n",
              "      <td>1</td>\n",
              "      <td>0</td>\n",
              "      <td>0</td>\n",
              "      <td>0</td>\n",
              "    </tr>\n",
              "    <tr>\n",
              "      <th>4</th>\n",
              "      <td>42</td>\n",
              "      <td>False</td>\n",
              "      <td>Travel_Rarely</td>\n",
              "      <td>265</td>\n",
              "      <td>Sales</td>\n",
              "      <td>5</td>\n",
              "      <td>2</td>\n",
              "      <td>Marketing</td>\n",
              "      <td>4</td>\n",
              "      <td>Male</td>\n",
              "      <td>90</td>\n",
              "      <td>3</td>\n",
              "      <td>5</td>\n",
              "      <td>Manager</td>\n",
              "      <td>3</td>\n",
              "      <td>Married</td>\n",
              "      <td>18303</td>\n",
              "      <td>7770</td>\n",
              "      <td>6</td>\n",
              "      <td>False</td>\n",
              "      <td>13</td>\n",
              "      <td>3</td>\n",
              "      <td>2</td>\n",
              "      <td>0</td>\n",
              "      <td>21</td>\n",
              "      <td>3</td>\n",
              "      <td>4</td>\n",
              "      <td>1</td>\n",
              "      <td>0</td>\n",
              "      <td>0</td>\n",
              "      <td>0</td>\n",
              "    </tr>\n",
              "  </tbody>\n",
              "</table>\n",
              "</div>"
            ],
            "text/plain": [
              "   Age  Attrition  ... YearsSinceLastPromotion  YearsWithCurrManager\n",
              "0   48      False  ...                       0                     0\n",
              "1   45      False  ...                       0                     0\n",
              "2   41      False  ...                       0                     0\n",
              "3   57      False  ...                       0                     0\n",
              "4   42      False  ...                       0                     0\n",
              "\n",
              "[5 rows x 31 columns]"
            ]
          },
          "metadata": {},
          "execution_count": 28
        }
      ]
    },
    {
      "cell_type": "code",
      "metadata": {
        "id": "564lNqG3mozW"
      },
      "source": [
        "\n"
      ],
      "execution_count": 28,
      "outputs": []
    },
    {
      "cell_type": "markdown",
      "metadata": {
        "id": "UYWW1wfWk6LG"
      },
      "source": [
        "#Logistic Regression - Basic Classification "
      ]
    },
    {
      "cell_type": "code",
      "metadata": {
        "id": "NxjXszFTk9HX"
      },
      "source": [
        ""
      ],
      "execution_count": 28,
      "outputs": []
    },
    {
      "cell_type": "code",
      "metadata": {
        "colab": {
          "base_uri": "https://localhost:8080/",
          "height": 241
        },
        "id": "62FAZQrWlBCu",
        "outputId": "8fe96237-6a1d-4095-defc-0b62a5ab3073"
      },
      "source": [
        "df_drop.head()"
      ],
      "execution_count": 29,
      "outputs": [
        {
          "output_type": "execute_result",
          "data": {
            "text/html": [
              "<div>\n",
              "<style scoped>\n",
              "    .dataframe tbody tr th:only-of-type {\n",
              "        vertical-align: middle;\n",
              "    }\n",
              "\n",
              "    .dataframe tbody tr th {\n",
              "        vertical-align: top;\n",
              "    }\n",
              "\n",
              "    .dataframe thead th {\n",
              "        text-align: right;\n",
              "    }\n",
              "</style>\n",
              "<table border=\"1\" class=\"dataframe\">\n",
              "  <thead>\n",
              "    <tr style=\"text-align: right;\">\n",
              "      <th></th>\n",
              "      <th>Age</th>\n",
              "      <th>Attrition</th>\n",
              "      <th>BusinessTravel</th>\n",
              "      <th>DailyRate</th>\n",
              "      <th>Department</th>\n",
              "      <th>DistanceFromHome</th>\n",
              "      <th>Education</th>\n",
              "      <th>EducationField</th>\n",
              "      <th>EnvironmentSatisfaction</th>\n",
              "      <th>Gender</th>\n",
              "      <th>HourlyRate</th>\n",
              "      <th>JobInvolvement</th>\n",
              "      <th>JobLevel</th>\n",
              "      <th>JobRole</th>\n",
              "      <th>JobSatisfaction</th>\n",
              "      <th>MaritalStatus</th>\n",
              "      <th>MonthlyIncome</th>\n",
              "      <th>MonthlyRate</th>\n",
              "      <th>NumCompaniesWorked</th>\n",
              "      <th>OverTime</th>\n",
              "      <th>PercentSalaryHike</th>\n",
              "      <th>PerformanceRating</th>\n",
              "      <th>RelationshipSatisfaction</th>\n",
              "      <th>StockOptionLevel</th>\n",
              "      <th>TotalWorkingYears</th>\n",
              "      <th>TrainingTimesLastYear</th>\n",
              "      <th>WorkLifeBalance</th>\n",
              "      <th>YearsAtCompany</th>\n",
              "      <th>YearsInCurrentRole</th>\n",
              "      <th>YearsSinceLastPromotion</th>\n",
              "      <th>YearsWithCurrManager</th>\n",
              "    </tr>\n",
              "  </thead>\n",
              "  <tbody>\n",
              "    <tr>\n",
              "      <th>0</th>\n",
              "      <td>48</td>\n",
              "      <td>False</td>\n",
              "      <td>Travel_Rarely</td>\n",
              "      <td>530</td>\n",
              "      <td>Sales</td>\n",
              "      <td>29</td>\n",
              "      <td>1</td>\n",
              "      <td>Medical</td>\n",
              "      <td>1</td>\n",
              "      <td>Female</td>\n",
              "      <td>91</td>\n",
              "      <td>3</td>\n",
              "      <td>3</td>\n",
              "      <td>Manager</td>\n",
              "      <td>3</td>\n",
              "      <td>Married</td>\n",
              "      <td>12504</td>\n",
              "      <td>23978</td>\n",
              "      <td>3</td>\n",
              "      <td>False</td>\n",
              "      <td>21</td>\n",
              "      <td>4</td>\n",
              "      <td>2</td>\n",
              "      <td>1</td>\n",
              "      <td>15</td>\n",
              "      <td>3</td>\n",
              "      <td>1</td>\n",
              "      <td>0</td>\n",
              "      <td>0</td>\n",
              "      <td>0</td>\n",
              "      <td>0</td>\n",
              "    </tr>\n",
              "    <tr>\n",
              "      <th>1</th>\n",
              "      <td>45</td>\n",
              "      <td>False</td>\n",
              "      <td>Travel_Frequently</td>\n",
              "      <td>364</td>\n",
              "      <td>Research &amp; Development</td>\n",
              "      <td>25</td>\n",
              "      <td>3</td>\n",
              "      <td>Medical</td>\n",
              "      <td>2</td>\n",
              "      <td>Female</td>\n",
              "      <td>83</td>\n",
              "      <td>3</td>\n",
              "      <td>5</td>\n",
              "      <td>Manager</td>\n",
              "      <td>2</td>\n",
              "      <td>Single</td>\n",
              "      <td>18061</td>\n",
              "      <td>13035</td>\n",
              "      <td>3</td>\n",
              "      <td>False</td>\n",
              "      <td>22</td>\n",
              "      <td>4</td>\n",
              "      <td>3</td>\n",
              "      <td>0</td>\n",
              "      <td>22</td>\n",
              "      <td>4</td>\n",
              "      <td>3</td>\n",
              "      <td>0</td>\n",
              "      <td>0</td>\n",
              "      <td>0</td>\n",
              "      <td>0</td>\n",
              "    </tr>\n",
              "    <tr>\n",
              "      <th>2</th>\n",
              "      <td>41</td>\n",
              "      <td>False</td>\n",
              "      <td>Travel_Rarely</td>\n",
              "      <td>896</td>\n",
              "      <td>Sales</td>\n",
              "      <td>6</td>\n",
              "      <td>3</td>\n",
              "      <td>Life Sciences</td>\n",
              "      <td>4</td>\n",
              "      <td>Female</td>\n",
              "      <td>75</td>\n",
              "      <td>3</td>\n",
              "      <td>3</td>\n",
              "      <td>Manager</td>\n",
              "      <td>4</td>\n",
              "      <td>Single</td>\n",
              "      <td>13591</td>\n",
              "      <td>14674</td>\n",
              "      <td>3</td>\n",
              "      <td>True</td>\n",
              "      <td>18</td>\n",
              "      <td>3</td>\n",
              "      <td>3</td>\n",
              "      <td>0</td>\n",
              "      <td>16</td>\n",
              "      <td>3</td>\n",
              "      <td>3</td>\n",
              "      <td>1</td>\n",
              "      <td>0</td>\n",
              "      <td>0</td>\n",
              "      <td>0</td>\n",
              "    </tr>\n",
              "    <tr>\n",
              "      <th>3</th>\n",
              "      <td>57</td>\n",
              "      <td>False</td>\n",
              "      <td>Travel_Rarely</td>\n",
              "      <td>210</td>\n",
              "      <td>Sales</td>\n",
              "      <td>29</td>\n",
              "      <td>3</td>\n",
              "      <td>Marketing</td>\n",
              "      <td>1</td>\n",
              "      <td>Male</td>\n",
              "      <td>56</td>\n",
              "      <td>2</td>\n",
              "      <td>4</td>\n",
              "      <td>Manager</td>\n",
              "      <td>4</td>\n",
              "      <td>Divorced</td>\n",
              "      <td>14118</td>\n",
              "      <td>22102</td>\n",
              "      <td>3</td>\n",
              "      <td>False</td>\n",
              "      <td>12</td>\n",
              "      <td>3</td>\n",
              "      <td>3</td>\n",
              "      <td>1</td>\n",
              "      <td>32</td>\n",
              "      <td>3</td>\n",
              "      <td>2</td>\n",
              "      <td>1</td>\n",
              "      <td>0</td>\n",
              "      <td>0</td>\n",
              "      <td>0</td>\n",
              "    </tr>\n",
              "    <tr>\n",
              "      <th>4</th>\n",
              "      <td>42</td>\n",
              "      <td>False</td>\n",
              "      <td>Travel_Rarely</td>\n",
              "      <td>265</td>\n",
              "      <td>Sales</td>\n",
              "      <td>5</td>\n",
              "      <td>2</td>\n",
              "      <td>Marketing</td>\n",
              "      <td>4</td>\n",
              "      <td>Male</td>\n",
              "      <td>90</td>\n",
              "      <td>3</td>\n",
              "      <td>5</td>\n",
              "      <td>Manager</td>\n",
              "      <td>3</td>\n",
              "      <td>Married</td>\n",
              "      <td>18303</td>\n",
              "      <td>7770</td>\n",
              "      <td>6</td>\n",
              "      <td>False</td>\n",
              "      <td>13</td>\n",
              "      <td>3</td>\n",
              "      <td>2</td>\n",
              "      <td>0</td>\n",
              "      <td>21</td>\n",
              "      <td>3</td>\n",
              "      <td>4</td>\n",
              "      <td>1</td>\n",
              "      <td>0</td>\n",
              "      <td>0</td>\n",
              "      <td>0</td>\n",
              "    </tr>\n",
              "  </tbody>\n",
              "</table>\n",
              "</div>"
            ],
            "text/plain": [
              "   Age  Attrition  ... YearsSinceLastPromotion  YearsWithCurrManager\n",
              "0   48      False  ...                       0                     0\n",
              "1   45      False  ...                       0                     0\n",
              "2   41      False  ...                       0                     0\n",
              "3   57      False  ...                       0                     0\n",
              "4   42      False  ...                       0                     0\n",
              "\n",
              "[5 rows x 31 columns]"
            ]
          },
          "metadata": {},
          "execution_count": 29
        }
      ]
    },
    {
      "cell_type": "code",
      "metadata": {
        "colab": {
          "base_uri": "https://localhost:8080/"
        },
        "id": "KZ5yB-A5MN2m",
        "outputId": "f26a4414-bb0c-4576-ccda-32a61551b7f9"
      },
      "source": [
        "df_drop.columns"
      ],
      "execution_count": 30,
      "outputs": [
        {
          "output_type": "execute_result",
          "data": {
            "text/plain": [
              "Index(['Age', 'Attrition', 'BusinessTravel', 'DailyRate', 'Department',\n",
              "       'DistanceFromHome', 'Education', 'EducationField',\n",
              "       'EnvironmentSatisfaction', 'Gender', 'HourlyRate', 'JobInvolvement',\n",
              "       'JobLevel', 'JobRole', 'JobSatisfaction', 'MaritalStatus',\n",
              "       'MonthlyIncome', 'MonthlyRate', 'NumCompaniesWorked', 'OverTime',\n",
              "       'PercentSalaryHike', 'PerformanceRating', 'RelationshipSatisfaction',\n",
              "       'StockOptionLevel', 'TotalWorkingYears', 'TrainingTimesLastYear',\n",
              "       'WorkLifeBalance', 'YearsAtCompany', 'YearsInCurrentRole',\n",
              "       'YearsSinceLastPromotion', 'YearsWithCurrManager'],\n",
              "      dtype='object')"
            ]
          },
          "metadata": {},
          "execution_count": 30
        }
      ]
    },
    {
      "cell_type": "markdown",
      "metadata": {
        "id": "30Z-j4plFMk0"
      },
      "source": [
        "The first step in a classification problem is to seperate categorical and numerical features. Typically this can be done by assuming all data with with \"String\" as its type is categorical and all data with integers as its type is numerical. However, in this case, some of the numerical data is really on a likert scale. (Data on a likert scale can either been seen as categorical or numerican due to the ordered nature of the categories). However, some of the numerical data are true categorical features with no intervall or true zero (Education etc.). In these cases, we can decide how to hand each feature. All categorical data needs to be dummy encoded (when only two categories exist) or one hot encoded (when multiple categories exist). "
      ]
    },
    {
      "cell_type": "code",
      "metadata": {
        "id": "dSHw2dajlIcm"
      },
      "source": [
        "# define features\n",
        "df_copy = df_drop\n",
        "\n",
        "\n",
        "#X=df_copy.drop(columns=['Attrition\"])\n",
        "#X = pd.get_dummies(X)- this would work because it knos to only convert strings, but some of our categorical data is numeric\n",
        "\n",
        "#if we dont treak likert as categorical, we can do this\n",
        "numerical = df_copy.dtypes[df_copy.dtypes != \"object\"].index\n",
        "categorical = df_copy.dtypes[df_copy.dtypes== \"object\"].index\n",
        "# Cat = categorical.tolist()\n",
        "\n",
        "#pull out the feature we decided were numerical\n",
        "numerical = df_copy[[\"Age\", \"DailyRate\", \"DistanceFromHome\",\"HourlyRate\", \"MonthlyIncome\", 'MonthlyRate', 'NumCompaniesWorked',\n",
        "        'PercentSalaryHike',\n",
        "       'TotalWorkingYears', 'TrainingTimesLastYear', \n",
        "       'YearsAtCompany', 'YearsInCurrentRole', 'YearsSinceLastPromotion',\n",
        "       'YearsWithCurrManager']]\n",
        "\n",
        "#pull out the features we decided are categorical\n",
        "categorical = df_copy[['BusinessTravel', 'Department', 'Education', 'EducationField', 'EnvironmentSatisfaction', 'Gender', \n",
        "       'JobInvolvement', 'JobLevel', 'JobRole', 'JobSatisfaction',\n",
        "       'MaritalStatus', 'OverTime', 'PerformanceRating',\n",
        "       'RelationshipSatisfaction', 'StockOptionLevel','WorkLifeBalance']].astype(str)\n",
        "categorical = pd.get_dummies(categorical, drop_first=True) #dropping a category within each feature is important to prevent multicolliniarity\n",
        "X = categorical.merge(numerical, left_index=True, right_index=True)\n",
        "X_copy = X\n",
        "X_copy_2 = X\n"
      ],
      "execution_count": 31,
      "outputs": []
    },
    {
      "cell_type": "code",
      "metadata": {
        "colab": {
          "base_uri": "https://localhost:8080/",
          "height": 241
        },
        "id": "IBRDJv3_YMFR",
        "outputId": "deb03f57-720b-46b3-f28a-6c0d91d3f038"
      },
      "source": [
        "#another way to encode\n",
        "df_encoded = pd.get_dummies(data = df_copy, columns = [\"Attrition\", 'BusinessTravel', 'Department', 'Education', 'EducationField', 'EnvironmentSatisfaction', 'Gender', \n",
        "       'JobInvolvement', 'JobLevel', 'JobRole', 'JobSatisfaction',\n",
        "       'MaritalStatus', 'OverTime', 'PerformanceRating',\n",
        "       'RelationshipSatisfaction', 'StockOptionLevel','WorkLifeBalance'], drop_first=True)\n",
        "\n",
        "df_encoded.head()"
      ],
      "execution_count": 32,
      "outputs": [
        {
          "output_type": "execute_result",
          "data": {
            "text/html": [
              "<div>\n",
              "<style scoped>\n",
              "    .dataframe tbody tr th:only-of-type {\n",
              "        vertical-align: middle;\n",
              "    }\n",
              "\n",
              "    .dataframe tbody tr th {\n",
              "        vertical-align: top;\n",
              "    }\n",
              "\n",
              "    .dataframe thead th {\n",
              "        text-align: right;\n",
              "    }\n",
              "</style>\n",
              "<table border=\"1\" class=\"dataframe\">\n",
              "  <thead>\n",
              "    <tr style=\"text-align: right;\">\n",
              "      <th></th>\n",
              "      <th>Age</th>\n",
              "      <th>DailyRate</th>\n",
              "      <th>DistanceFromHome</th>\n",
              "      <th>HourlyRate</th>\n",
              "      <th>MonthlyIncome</th>\n",
              "      <th>MonthlyRate</th>\n",
              "      <th>NumCompaniesWorked</th>\n",
              "      <th>PercentSalaryHike</th>\n",
              "      <th>TotalWorkingYears</th>\n",
              "      <th>TrainingTimesLastYear</th>\n",
              "      <th>YearsAtCompany</th>\n",
              "      <th>YearsInCurrentRole</th>\n",
              "      <th>YearsSinceLastPromotion</th>\n",
              "      <th>YearsWithCurrManager</th>\n",
              "      <th>Attrition_True</th>\n",
              "      <th>BusinessTravel_Travel_Frequently</th>\n",
              "      <th>BusinessTravel_Travel_Rarely</th>\n",
              "      <th>Department_Research &amp; Development</th>\n",
              "      <th>Department_Sales</th>\n",
              "      <th>Education_2</th>\n",
              "      <th>Education_3</th>\n",
              "      <th>Education_4</th>\n",
              "      <th>Education_5</th>\n",
              "      <th>EducationField_Life Sciences</th>\n",
              "      <th>EducationField_Marketing</th>\n",
              "      <th>EducationField_Medical</th>\n",
              "      <th>EducationField_Other</th>\n",
              "      <th>EducationField_Technical Degree</th>\n",
              "      <th>EnvironmentSatisfaction_2</th>\n",
              "      <th>EnvironmentSatisfaction_3</th>\n",
              "      <th>EnvironmentSatisfaction_4</th>\n",
              "      <th>Gender_Male</th>\n",
              "      <th>JobInvolvement_2</th>\n",
              "      <th>JobInvolvement_3</th>\n",
              "      <th>JobInvolvement_4</th>\n",
              "      <th>JobLevel_2</th>\n",
              "      <th>JobLevel_3</th>\n",
              "      <th>JobLevel_4</th>\n",
              "      <th>JobLevel_5</th>\n",
              "      <th>JobRole_Human Resources</th>\n",
              "      <th>JobRole_Laboratory Technician</th>\n",
              "      <th>JobRole_Manager</th>\n",
              "      <th>JobRole_Manufacturing Director</th>\n",
              "      <th>JobRole_Research Director</th>\n",
              "      <th>JobRole_Research Scientist</th>\n",
              "      <th>JobRole_Sales Executive</th>\n",
              "      <th>JobRole_Sales Representative</th>\n",
              "      <th>JobSatisfaction_2</th>\n",
              "      <th>JobSatisfaction_3</th>\n",
              "      <th>JobSatisfaction_4</th>\n",
              "      <th>MaritalStatus_Married</th>\n",
              "      <th>MaritalStatus_Single</th>\n",
              "      <th>OverTime_True</th>\n",
              "      <th>PerformanceRating_4</th>\n",
              "      <th>RelationshipSatisfaction_2</th>\n",
              "      <th>RelationshipSatisfaction_3</th>\n",
              "      <th>RelationshipSatisfaction_4</th>\n",
              "      <th>StockOptionLevel_1</th>\n",
              "      <th>StockOptionLevel_2</th>\n",
              "      <th>StockOptionLevel_3</th>\n",
              "      <th>WorkLifeBalance_2</th>\n",
              "      <th>WorkLifeBalance_3</th>\n",
              "      <th>WorkLifeBalance_4</th>\n",
              "    </tr>\n",
              "  </thead>\n",
              "  <tbody>\n",
              "    <tr>\n",
              "      <th>0</th>\n",
              "      <td>48</td>\n",
              "      <td>530</td>\n",
              "      <td>29</td>\n",
              "      <td>91</td>\n",
              "      <td>12504</td>\n",
              "      <td>23978</td>\n",
              "      <td>3</td>\n",
              "      <td>21</td>\n",
              "      <td>15</td>\n",
              "      <td>3</td>\n",
              "      <td>0</td>\n",
              "      <td>0</td>\n",
              "      <td>0</td>\n",
              "      <td>0</td>\n",
              "      <td>0</td>\n",
              "      <td>0</td>\n",
              "      <td>1</td>\n",
              "      <td>0</td>\n",
              "      <td>1</td>\n",
              "      <td>0</td>\n",
              "      <td>0</td>\n",
              "      <td>0</td>\n",
              "      <td>0</td>\n",
              "      <td>0</td>\n",
              "      <td>0</td>\n",
              "      <td>1</td>\n",
              "      <td>0</td>\n",
              "      <td>0</td>\n",
              "      <td>0</td>\n",
              "      <td>0</td>\n",
              "      <td>0</td>\n",
              "      <td>0</td>\n",
              "      <td>0</td>\n",
              "      <td>1</td>\n",
              "      <td>0</td>\n",
              "      <td>0</td>\n",
              "      <td>1</td>\n",
              "      <td>0</td>\n",
              "      <td>0</td>\n",
              "      <td>0</td>\n",
              "      <td>0</td>\n",
              "      <td>1</td>\n",
              "      <td>0</td>\n",
              "      <td>0</td>\n",
              "      <td>0</td>\n",
              "      <td>0</td>\n",
              "      <td>0</td>\n",
              "      <td>0</td>\n",
              "      <td>1</td>\n",
              "      <td>0</td>\n",
              "      <td>1</td>\n",
              "      <td>0</td>\n",
              "      <td>0</td>\n",
              "      <td>1</td>\n",
              "      <td>1</td>\n",
              "      <td>0</td>\n",
              "      <td>0</td>\n",
              "      <td>1</td>\n",
              "      <td>0</td>\n",
              "      <td>0</td>\n",
              "      <td>0</td>\n",
              "      <td>0</td>\n",
              "      <td>0</td>\n",
              "    </tr>\n",
              "    <tr>\n",
              "      <th>1</th>\n",
              "      <td>45</td>\n",
              "      <td>364</td>\n",
              "      <td>25</td>\n",
              "      <td>83</td>\n",
              "      <td>18061</td>\n",
              "      <td>13035</td>\n",
              "      <td>3</td>\n",
              "      <td>22</td>\n",
              "      <td>22</td>\n",
              "      <td>4</td>\n",
              "      <td>0</td>\n",
              "      <td>0</td>\n",
              "      <td>0</td>\n",
              "      <td>0</td>\n",
              "      <td>0</td>\n",
              "      <td>1</td>\n",
              "      <td>0</td>\n",
              "      <td>1</td>\n",
              "      <td>0</td>\n",
              "      <td>0</td>\n",
              "      <td>1</td>\n",
              "      <td>0</td>\n",
              "      <td>0</td>\n",
              "      <td>0</td>\n",
              "      <td>0</td>\n",
              "      <td>1</td>\n",
              "      <td>0</td>\n",
              "      <td>0</td>\n",
              "      <td>1</td>\n",
              "      <td>0</td>\n",
              "      <td>0</td>\n",
              "      <td>0</td>\n",
              "      <td>0</td>\n",
              "      <td>1</td>\n",
              "      <td>0</td>\n",
              "      <td>0</td>\n",
              "      <td>0</td>\n",
              "      <td>0</td>\n",
              "      <td>1</td>\n",
              "      <td>0</td>\n",
              "      <td>0</td>\n",
              "      <td>1</td>\n",
              "      <td>0</td>\n",
              "      <td>0</td>\n",
              "      <td>0</td>\n",
              "      <td>0</td>\n",
              "      <td>0</td>\n",
              "      <td>1</td>\n",
              "      <td>0</td>\n",
              "      <td>0</td>\n",
              "      <td>0</td>\n",
              "      <td>1</td>\n",
              "      <td>0</td>\n",
              "      <td>1</td>\n",
              "      <td>0</td>\n",
              "      <td>1</td>\n",
              "      <td>0</td>\n",
              "      <td>0</td>\n",
              "      <td>0</td>\n",
              "      <td>0</td>\n",
              "      <td>0</td>\n",
              "      <td>1</td>\n",
              "      <td>0</td>\n",
              "    </tr>\n",
              "    <tr>\n",
              "      <th>2</th>\n",
              "      <td>41</td>\n",
              "      <td>896</td>\n",
              "      <td>6</td>\n",
              "      <td>75</td>\n",
              "      <td>13591</td>\n",
              "      <td>14674</td>\n",
              "      <td>3</td>\n",
              "      <td>18</td>\n",
              "      <td>16</td>\n",
              "      <td>3</td>\n",
              "      <td>1</td>\n",
              "      <td>0</td>\n",
              "      <td>0</td>\n",
              "      <td>0</td>\n",
              "      <td>0</td>\n",
              "      <td>0</td>\n",
              "      <td>1</td>\n",
              "      <td>0</td>\n",
              "      <td>1</td>\n",
              "      <td>0</td>\n",
              "      <td>1</td>\n",
              "      <td>0</td>\n",
              "      <td>0</td>\n",
              "      <td>1</td>\n",
              "      <td>0</td>\n",
              "      <td>0</td>\n",
              "      <td>0</td>\n",
              "      <td>0</td>\n",
              "      <td>0</td>\n",
              "      <td>0</td>\n",
              "      <td>1</td>\n",
              "      <td>0</td>\n",
              "      <td>0</td>\n",
              "      <td>1</td>\n",
              "      <td>0</td>\n",
              "      <td>0</td>\n",
              "      <td>1</td>\n",
              "      <td>0</td>\n",
              "      <td>0</td>\n",
              "      <td>0</td>\n",
              "      <td>0</td>\n",
              "      <td>1</td>\n",
              "      <td>0</td>\n",
              "      <td>0</td>\n",
              "      <td>0</td>\n",
              "      <td>0</td>\n",
              "      <td>0</td>\n",
              "      <td>0</td>\n",
              "      <td>0</td>\n",
              "      <td>1</td>\n",
              "      <td>0</td>\n",
              "      <td>1</td>\n",
              "      <td>1</td>\n",
              "      <td>0</td>\n",
              "      <td>0</td>\n",
              "      <td>1</td>\n",
              "      <td>0</td>\n",
              "      <td>0</td>\n",
              "      <td>0</td>\n",
              "      <td>0</td>\n",
              "      <td>0</td>\n",
              "      <td>1</td>\n",
              "      <td>0</td>\n",
              "    </tr>\n",
              "    <tr>\n",
              "      <th>3</th>\n",
              "      <td>57</td>\n",
              "      <td>210</td>\n",
              "      <td>29</td>\n",
              "      <td>56</td>\n",
              "      <td>14118</td>\n",
              "      <td>22102</td>\n",
              "      <td>3</td>\n",
              "      <td>12</td>\n",
              "      <td>32</td>\n",
              "      <td>3</td>\n",
              "      <td>1</td>\n",
              "      <td>0</td>\n",
              "      <td>0</td>\n",
              "      <td>0</td>\n",
              "      <td>0</td>\n",
              "      <td>0</td>\n",
              "      <td>1</td>\n",
              "      <td>0</td>\n",
              "      <td>1</td>\n",
              "      <td>0</td>\n",
              "      <td>1</td>\n",
              "      <td>0</td>\n",
              "      <td>0</td>\n",
              "      <td>0</td>\n",
              "      <td>1</td>\n",
              "      <td>0</td>\n",
              "      <td>0</td>\n",
              "      <td>0</td>\n",
              "      <td>0</td>\n",
              "      <td>0</td>\n",
              "      <td>0</td>\n",
              "      <td>1</td>\n",
              "      <td>1</td>\n",
              "      <td>0</td>\n",
              "      <td>0</td>\n",
              "      <td>0</td>\n",
              "      <td>0</td>\n",
              "      <td>1</td>\n",
              "      <td>0</td>\n",
              "      <td>0</td>\n",
              "      <td>0</td>\n",
              "      <td>1</td>\n",
              "      <td>0</td>\n",
              "      <td>0</td>\n",
              "      <td>0</td>\n",
              "      <td>0</td>\n",
              "      <td>0</td>\n",
              "      <td>0</td>\n",
              "      <td>0</td>\n",
              "      <td>1</td>\n",
              "      <td>0</td>\n",
              "      <td>0</td>\n",
              "      <td>0</td>\n",
              "      <td>0</td>\n",
              "      <td>0</td>\n",
              "      <td>1</td>\n",
              "      <td>0</td>\n",
              "      <td>1</td>\n",
              "      <td>0</td>\n",
              "      <td>0</td>\n",
              "      <td>1</td>\n",
              "      <td>0</td>\n",
              "      <td>0</td>\n",
              "    </tr>\n",
              "    <tr>\n",
              "      <th>4</th>\n",
              "      <td>42</td>\n",
              "      <td>265</td>\n",
              "      <td>5</td>\n",
              "      <td>90</td>\n",
              "      <td>18303</td>\n",
              "      <td>7770</td>\n",
              "      <td>6</td>\n",
              "      <td>13</td>\n",
              "      <td>21</td>\n",
              "      <td>3</td>\n",
              "      <td>1</td>\n",
              "      <td>0</td>\n",
              "      <td>0</td>\n",
              "      <td>0</td>\n",
              "      <td>0</td>\n",
              "      <td>0</td>\n",
              "      <td>1</td>\n",
              "      <td>0</td>\n",
              "      <td>1</td>\n",
              "      <td>1</td>\n",
              "      <td>0</td>\n",
              "      <td>0</td>\n",
              "      <td>0</td>\n",
              "      <td>0</td>\n",
              "      <td>1</td>\n",
              "      <td>0</td>\n",
              "      <td>0</td>\n",
              "      <td>0</td>\n",
              "      <td>0</td>\n",
              "      <td>0</td>\n",
              "      <td>1</td>\n",
              "      <td>1</td>\n",
              "      <td>0</td>\n",
              "      <td>1</td>\n",
              "      <td>0</td>\n",
              "      <td>0</td>\n",
              "      <td>0</td>\n",
              "      <td>0</td>\n",
              "      <td>1</td>\n",
              "      <td>0</td>\n",
              "      <td>0</td>\n",
              "      <td>1</td>\n",
              "      <td>0</td>\n",
              "      <td>0</td>\n",
              "      <td>0</td>\n",
              "      <td>0</td>\n",
              "      <td>0</td>\n",
              "      <td>0</td>\n",
              "      <td>1</td>\n",
              "      <td>0</td>\n",
              "      <td>1</td>\n",
              "      <td>0</td>\n",
              "      <td>0</td>\n",
              "      <td>0</td>\n",
              "      <td>1</td>\n",
              "      <td>0</td>\n",
              "      <td>0</td>\n",
              "      <td>0</td>\n",
              "      <td>0</td>\n",
              "      <td>0</td>\n",
              "      <td>0</td>\n",
              "      <td>0</td>\n",
              "      <td>1</td>\n",
              "    </tr>\n",
              "  </tbody>\n",
              "</table>\n",
              "</div>"
            ],
            "text/plain": [
              "   Age  DailyRate  ...  WorkLifeBalance_3  WorkLifeBalance_4\n",
              "0   48        530  ...                  0                  0\n",
              "1   45        364  ...                  1                  0\n",
              "2   41        896  ...                  1                  0\n",
              "3   57        210  ...                  0                  0\n",
              "4   42        265  ...                  0                  1\n",
              "\n",
              "[5 rows x 63 columns]"
            ]
          },
          "metadata": {},
          "execution_count": 32
        }
      ]
    },
    {
      "cell_type": "code",
      "metadata": {
        "id": "DPRCKwbAlSAq"
      },
      "source": [
        "# X.describe()"
      ],
      "execution_count": 33,
      "outputs": []
    },
    {
      "cell_type": "code",
      "metadata": {
        "colab": {
          "base_uri": "https://localhost:8080/"
        },
        "id": "6pfRhaMuI0om",
        "outputId": "eb631e3f-b18a-48c2-edae-3d10db253961"
      },
      "source": [
        "\n",
        "# set target\n",
        "target = ['Attrition'] # we want to predict this value\n",
        "y = df_copy.loc[:, target].copy()\n",
        "\n",
        "y['Attrition'].value_counts() # same as count above"
      ],
      "execution_count": 35,
      "outputs": [
        {
          "output_type": "execute_result",
          "data": {
            "text/plain": [
              "False    1233\n",
              "True      237\n",
              "Name: Attrition, dtype: int64"
            ]
          },
          "metadata": {},
          "execution_count": 35
        }
      ]
    },
    {
      "cell_type": "markdown",
      "metadata": {
        "id": "ugMRgzXhI9M5"
      },
      "source": [
        "The next step is to implement the train-test split procedure. This is a mechanism used to estimate the performance of machine learning algorithms. The training data is used to build the algorithm and the testing data is used to measure the performance of the algorithm. It is important to set aside testing data, otherwise the model will be build around all your data and surely overfit it. \n",
        "\n"
      ]
    },
    {
      "cell_type": "code",
      "metadata": {
        "id": "3Uc8d7IMS1kY"
      },
      "source": [
        "#set aside some data fro training the model and some for testing \n",
        "X_train, X_test, y_train, y_test = train_test_split(X,y,random_state=41)"
      ],
      "execution_count": 36,
      "outputs": []
    },
    {
      "cell_type": "markdown",
      "metadata": {
        "id": "7n01eUoDJh8U"
      },
      "source": [
        "We will now fit a simple logistic regression "
      ]
    },
    {
      "cell_type": "code",
      "metadata": {
        "id": "zbODGUErTshO"
      },
      "source": [
        "model = LogisticRegression(solver='lbfgs',random_state=42)#setting up the regression\n",
        "model.fit(X_train,y_train)#fitting the regression to the training data\n",
        "target_predictions = model.predict(X_test)#using the model to make predictions on the testing data\n"
      ],
      "execution_count": 37,
      "outputs": []
    },
    {
      "cell_type": "markdown",
      "metadata": {
        "id": "czRO0GJiUif7"
      },
      "source": [
        "#Accuracy - Basic Logistic Regression"
      ]
    },
    {
      "cell_type": "markdown",
      "metadata": {
        "id": "XxIyqbFAJzdN"
      },
      "source": [
        "We now want to judge the accuracy of our model by comparing the predicted results with the test data we put aside. A balanced accuracy score takes into account the fact that our data is imbalanced (comtains much few datapoints where attrition is true)"
      ]
    },
    {
      "cell_type": "code",
      "metadata": {
        "colab": {
          "base_uri": "https://localhost:8080/"
        },
        "id": "TWuK7aXXTyzX",
        "outputId": "cd88f2f1-0010-46c1-e7cf-6e50f035698e"
      },
      "source": [
        "balanced_accuracy_score(y_test, target_predictions) #function that "
      ],
      "execution_count": 38,
      "outputs": [
        {
          "output_type": "execute_result",
          "data": {
            "text/plain": [
              "0.5"
            ]
          },
          "metadata": {},
          "execution_count": 38
        }
      ]
    },
    {
      "cell_type": "code",
      "metadata": {
        "colab": {
          "base_uri": "https://localhost:8080/"
        },
        "id": "uMGKerFWUU4N",
        "outputId": "c734f312-be67-4394-b662-eb91c9a4e5ed"
      },
      "source": [
        "accuracy_score(y_test, target_predictions)"
      ],
      "execution_count": 39,
      "outputs": [
        {
          "output_type": "execute_result",
          "data": {
            "text/plain": [
              "0.8097826086956522"
            ]
          },
          "metadata": {},
          "execution_count": 39
        }
      ]
    },
    {
      "cell_type": "markdown",
      "metadata": {
        "id": "4SNj2uXGUoBF"
      },
      "source": [
        "We can see that the accuracy score is much higher (better) then the balanced score due to the large class imbalance. Accuracy is defined as the correct predictions/total number of data points. When there is a class imbalance, the model is likely overfitting. "
      ]
    },
    {
      "cell_type": "markdown",
      "metadata": {
        "id": "AAE88dYcKkx1"
      },
      "source": [
        "A confusion matrix is another way of visualizing the results of a classification problem. Because classification accuracy alone can be misleading if you have an unequal number of observations in each group, a confusion matrix can give you a better idea of what your classification model is getting right and what types of errors it is making. (TP, TN, FP, FN). Using this breakdown, we can also use other metrics to better define the accuracy. Percision and recall. \n",
        "\n"
      ]
    },
    {
      "cell_type": "code",
      "metadata": {
        "colab": {
          "base_uri": "https://localhost:8080/"
        },
        "id": "iIlokfg7T9Zr",
        "outputId": "9d8dfe51-714f-4876-8862-c7b05e6789bf"
      },
      "source": [
        "confusion_matrix(y_test, target_predictions)"
      ],
      "execution_count": 40,
      "outputs": [
        {
          "output_type": "execute_result",
          "data": {
            "text/plain": [
              "array([[298,   0],\n",
              "       [ 70,   0]])"
            ]
          },
          "metadata": {},
          "execution_count": 40
        }
      ]
    },
    {
      "cell_type": "markdown",
      "metadata": {
        "id": "26OsRAY0LJUV"
      },
      "source": [
        "Precision and recall"
      ]
    },
    {
      "cell_type": "code",
      "metadata": {
        "id": "a8uB38kdUUS1"
      },
      "source": [
        ""
      ],
      "execution_count": 40,
      "outputs": []
    },
    {
      "cell_type": "markdown",
      "metadata": {
        "id": "Fhuv-72zYCik"
      },
      "source": [
        "#Logistic Regression - Standardize data"
      ]
    },
    {
      "cell_type": "markdown",
      "metadata": {
        "id": "VMSOGMS1UpNM"
      },
      "source": [
        "One tool for optimizing accuracy when running a logistic regression is to standardize data. Standardizing the data is not always needed in logistic regression, but it prevents features with naturally higher magnitudes from seeming explain more of the target then they actually do. "
      ]
    },
    {
      "cell_type": "code",
      "metadata": {
        "colab": {
          "base_uri": "https://localhost:8080/"
        },
        "id": "Up5m_1OwUA7V",
        "outputId": "fd7781cf-8cbe-4643-c49d-1a3e8ae7fee7"
      },
      "source": [
        "\n",
        "\n",
        "X_copy = pd.DataFrame(StandardScaler().fit_transform(X_copy), columns = X_copy.columns)\n",
        "X_train, X_test, y_train, y_test = train_test_split(X_copy,y,random_state=41)\n",
        "model = LogisticRegression(solver='lbfgs',random_state=42)\n",
        "model.fit(X_train,y_train)\n",
        "target_predictions = model.predict(X_test)\n",
        "balanced_accuracy_score(y_test, target_predictions)\n",
        "\n"
      ],
      "execution_count": 41,
      "outputs": [
        {
          "output_type": "execute_result",
          "data": {
            "text/plain": [
              "0.7424736337488016"
            ]
          },
          "metadata": {},
          "execution_count": 41
        }
      ]
    },
    {
      "cell_type": "code",
      "metadata": {
        "colab": {
          "base_uri": "https://localhost:8080/"
        },
        "id": "Yc33934AXuXS",
        "outputId": "1ef3e493-c7c8-418a-f507-314387d7bba2"
      },
      "source": [
        "accuracy_score(y_test, target_predictions)\n"
      ],
      "execution_count": 42,
      "outputs": [
        {
          "output_type": "execute_result",
          "data": {
            "text/plain": [
              "0.875"
            ]
          },
          "metadata": {},
          "execution_count": 42
        }
      ]
    },
    {
      "cell_type": "markdown",
      "metadata": {
        "id": "fFvTM8hNWiYb"
      },
      "source": [
        "We can see that the balanced accuracy went up. Again, the imbalanced accuracy score is misleadingly higher for the same reasons as before. "
      ]
    },
    {
      "cell_type": "markdown",
      "metadata": {
        "id": "ytdeqZH-WzJ-"
      },
      "source": [
        "#SMOTE for imbalanced classification"
      ]
    },
    {
      "cell_type": "markdown",
      "metadata": {
        "id": "OJzT6HJ9XHTX"
      },
      "source": [
        "As we saw from the confusion matrix based on the simple and standardized logistic regression, the models have poor performance on the minority class. SMOTE is an approach to addressing imbalanced datasets by oversampling the minority class. Once we augment the dataset, we can rerun the logistic regression. \n",
        "\n"
      ]
    },
    {
      "cell_type": "code",
      "metadata": {
        "colab": {
          "base_uri": "https://localhost:8080/"
        },
        "id": "48Fif7Cwf8DK",
        "outputId": "5cfa2e92-4c37-459b-e06f-c2f9f9ab1904"
      },
      "source": [
        "df_encoded.shape"
      ],
      "execution_count": 43,
      "outputs": [
        {
          "output_type": "execute_result",
          "data": {
            "text/plain": [
              "(1470, 63)"
            ]
          },
          "metadata": {},
          "execution_count": 43
        }
      ]
    },
    {
      "cell_type": "code",
      "metadata": {
        "colab": {
          "base_uri": "https://localhost:8080/"
        },
        "id": "Hd5R6o1thOL1",
        "outputId": "145fd1e3-8892-4278-88f9-02bb1b35ea73"
      },
      "source": [
        "X_copy.shape"
      ],
      "execution_count": 44,
      "outputs": [
        {
          "output_type": "execute_result",
          "data": {
            "text/plain": [
              "(1470, 62)"
            ]
          },
          "metadata": {},
          "execution_count": 44
        }
      ]
    },
    {
      "cell_type": "code",
      "metadata": {
        "id": "Vj_r8VFXhIbU"
      },
      "source": [
        "sm = SMOTE(sampling_strategy= \"minority\", random_state=10)\n",
        "\n",
        "x_art, y_art = sm.fit_sample(df_encoded.drop(columns=\"Attrition_True\"), df_encoded[\"Attrition_True\"])\n",
        "\n",
        "artificaldf = pd.concat([pd.DataFrame(x_art), pd.DataFrame(y_art)], axis=1)\n",
        "cols = df_encoded.columns.tolist()\n",
        "cols.remove(\"Attrition_True\")\n",
        "cols.append(\"Attrition_True\")\n",
        "artificaldf.columns = cols\n",
        "\n",
        "# fig, ax = plt.subplots(figsize = (10,10))\n",
        "# ax = sns.heatmap(artificaldf.corr())\n",
        "# ax.set_title(\"Correlation after SMOTE\")\n",
        "# plt.show"
      ],
      "execution_count": 45,
      "outputs": []
    },
    {
      "cell_type": "code",
      "metadata": {
        "id": "mKNQCKXRwhKW"
      },
      "source": [
        "\n"
      ],
      "execution_count": 45,
      "outputs": []
    },
    {
      "cell_type": "code",
      "metadata": {
        "colab": {
          "base_uri": "https://localhost:8080/"
        },
        "id": "2OjnPeIBYJ8b",
        "outputId": "38223073-d0ea-4986-c343-e77d2d0e7ddb"
      },
      "source": [
        "#Show how SMOTE balances data\n",
        "print(artificaldf.shape)\n",
        "artificaldf[\"Attrition_True\"].value_counts()\n",
        "\n"
      ],
      "execution_count": 46,
      "outputs": [
        {
          "output_type": "stream",
          "name": "stdout",
          "text": [
            "(2466, 63)\n"
          ]
        },
        {
          "output_type": "execute_result",
          "data": {
            "text/plain": [
              "1    1233\n",
              "0    1233\n",
              "Name: Attrition_True, dtype: int64"
            ]
          },
          "metadata": {},
          "execution_count": 46
        }
      ]
    },
    {
      "cell_type": "code",
      "metadata": {
        "id": "cq6NWRPKwvah"
      },
      "source": [
        ""
      ],
      "execution_count": 46,
      "outputs": []
    },
    {
      "cell_type": "code",
      "metadata": {
        "id": "VqhIOGlmtRmW"
      },
      "source": [
        ""
      ],
      "execution_count": 46,
      "outputs": []
    },
    {
      "cell_type": "code",
      "metadata": {
        "id": "ZBqoai-pt9pE"
      },
      "source": [
        ""
      ],
      "execution_count": 46,
      "outputs": []
    },
    {
      "cell_type": "code",
      "metadata": {
        "id": "vbXModiCuEdh"
      },
      "source": [
        ""
      ],
      "execution_count": 46,
      "outputs": []
    },
    {
      "cell_type": "markdown",
      "metadata": {
        "id": "DlhusY5vjMZ4"
      },
      "source": [
        "#Logistic Regression - on standardized, SMOTE oversampled data"
      ]
    },
    {
      "cell_type": "markdown",
      "metadata": {
        "id": "U7tKOIoZ-qen"
      },
      "source": [
        "Standardize data again, this time also oversample the data with target values as well (SMOTE)"
      ]
    },
    {
      "cell_type": "code",
      "metadata": {
        "id": "WsTDgVQVfV7_"
      },
      "source": [
        "X = df_encoded.drop(columns={\"Attrition_True\"})\n",
        "y = df_encoded[\"Attrition_True\"]"
      ],
      "execution_count": 47,
      "outputs": []
    },
    {
      "cell_type": "code",
      "metadata": {
        "id": "ASVvJYOOmpW5"
      },
      "source": [
        "X = pd.DataFrame(StandardScaler().fit_transform(X), columns = X.columns)\n"
      ],
      "execution_count": 48,
      "outputs": []
    },
    {
      "cell_type": "code",
      "metadata": {
        "id": "CMEhEEV5f3wd"
      },
      "source": [
        "X_train, X_test, y_train, y_test = train_test_split(X,y,random_state=7, stratify = y, test_size = .15)"
      ],
      "execution_count": 49,
      "outputs": []
    },
    {
      "cell_type": "code",
      "metadata": {
        "id": "BU1-o-JUgTG2"
      },
      "source": [
        "\n",
        "xtrainover, y_trainover = sm.fit_sample(X_train, y_train)"
      ],
      "execution_count": 50,
      "outputs": []
    },
    {
      "cell_type": "code",
      "metadata": {
        "colab": {
          "base_uri": "https://localhost:8080/"
        },
        "id": "5cc1Ox5LgzXl",
        "outputId": "a09f9c80-ebe7-4665-d22c-f373a16cc74e"
      },
      "source": [
        "print(\"Size of trainval:{}\\nSize of test:{}\".format(xtrainover.shape, X_test.shape))\n"
      ],
      "execution_count": 51,
      "outputs": [
        {
          "output_type": "stream",
          "name": "stdout",
          "text": [
            "Size of trainval:(2096, 62)\n",
            "Size of test:(221, 62)\n"
          ]
        }
      ]
    },
    {
      "cell_type": "code",
      "metadata": {
        "colab": {
          "base_uri": "https://localhost:8080/"
        },
        "id": "N7eAqokekmyP",
        "outputId": "6bc93c0b-6f7b-4997-f6f8-ee2760e9f3d5"
      },
      "source": [
        "model.fit(xtrainover, y_trainover)"
      ],
      "execution_count": 52,
      "outputs": [
        {
          "output_type": "execute_result",
          "data": {
            "text/plain": [
              "LogisticRegression(C=1.0, class_weight=None, dual=False, fit_intercept=True,\n",
              "                   intercept_scaling=1, l1_ratio=None, max_iter=100,\n",
              "                   multi_class='auto', n_jobs=None, penalty='l2',\n",
              "                   random_state=42, solver='lbfgs', tol=0.0001, verbose=0,\n",
              "                   warm_start=False)"
            ]
          },
          "metadata": {},
          "execution_count": 52
        }
      ]
    },
    {
      "cell_type": "code",
      "metadata": {
        "id": "fYtT0dHQlduT"
      },
      "source": [
        "SMOTE_oversampling_predictions = model.predict(X_test)\n"
      ],
      "execution_count": 53,
      "outputs": []
    },
    {
      "cell_type": "code",
      "metadata": {
        "colab": {
          "base_uri": "https://localhost:8080/"
        },
        "id": "Pi9dJuBMljK0",
        "outputId": "80bb304f-6d35-42e8-a8cd-0b6a3351d0f5"
      },
      "source": [
        "balanced_accuracy_score(y_test, SMOTE_oversampling_predictions)"
      ],
      "execution_count": 54,
      "outputs": [
        {
          "output_type": "execute_result",
          "data": {
            "text/plain": [
              "0.7364114114114114"
            ]
          },
          "metadata": {},
          "execution_count": 54
        }
      ]
    },
    {
      "cell_type": "code",
      "metadata": {
        "colab": {
          "base_uri": "https://localhost:8080/"
        },
        "id": "2Vm-2FqFllpn",
        "outputId": "5f1de9fd-968c-457d-e9c2-c11d38cea7fc"
      },
      "source": [
        "accuracy_score(y_test, SMOTE_oversampling_predictions)"
      ],
      "execution_count": 55,
      "outputs": [
        {
          "output_type": "execute_result",
          "data": {
            "text/plain": [
              "0.7647058823529411"
            ]
          },
          "metadata": {},
          "execution_count": 55
        }
      ]
    },
    {
      "cell_type": "markdown",
      "metadata": {
        "id": "p_on7-0OmIbi"
      },
      "source": [
        "We can see now that accuracy rose for the balanced socre and it is now very close to the accuracy score."
      ]
    },
    {
      "cell_type": "code",
      "metadata": {
        "id": "wMq8EYe2pCrb"
      },
      "source": [
        ""
      ],
      "execution_count": 55,
      "outputs": []
    },
    {
      "cell_type": "markdown",
      "metadata": {
        "id": "yjvYD6k-pDJK"
      },
      "source": [
        "#Feature Selection - to increase accuracy\n"
      ]
    },
    {
      "cell_type": "code",
      "metadata": {
        "colab": {
          "base_uri": "https://localhost:8080/",
          "height": 623
        },
        "id": "BcaWJIKUpIoZ",
        "outputId": "4fba9ab6-4a77-4a09-bd0c-867b20ef8570"
      },
      "source": [
        "feature_importance_LR = pd.DataFrame(dict(Column = np.hstack(np.array([X.columns])), Importance = np.hstack(model.coef_))).sort_values(by = \"Importance\", ascending = False)\n",
        "# feature_importance_LR.to_csv('feature_importance.csv', index=False) \n",
        "# files.download('feature_importance.csv')\n",
        "\n",
        "feature_importance_LR\n",
        "\n",
        "# feature_importance_LR.to_csv(\"drive/My Drive/Python_Tutorial/feature_importance.csv\")\n",
        "# !cp feature_importance.csv \"drive/My Drive/Python_Tutorial\"\n",
        "\n"
      ],
      "execution_count": 56,
      "outputs": [
        {
          "output_type": "execute_result",
          "data": {
            "application/vnd.google.colaboratory.module+javascript": "\n      import \"https://ssl.gstatic.com/colaboratory/data_table/a6224c040fa35dcf/data_table.js\";\n\n      window.createDataTable({\n        data: [[{\n            'v': 10,\n            'f': \"10\",\n        },\n\"YearsAtCompany\",\n{\n            'v': 1.1347352424359087,\n            'f': \"1.1347352424359087\",\n        }],\n [{\n            'v': 51,\n            'f': \"51\",\n        },\n\"OverTime_True\",\n{\n            'v': 1.0665829369081434,\n            'f': \"1.0665829369081434\",\n        }],\n [{\n            'v': 14,\n            'f': \"14\",\n        },\n\"BusinessTravel_Travel_Frequently\",\n{\n            'v': 1.0325622496686164,\n            'f': \"1.0325622496686164\",\n        }],\n [{\n            'v': 44,\n            'f': \"44\",\n        },\n\"JobRole_Sales Executive\",\n{\n            'v': 0.9911665900186063,\n            'f': \"0.9911665900186063\",\n        }],\n [{\n            'v': 16,\n            'f': \"16\",\n        },\n\"Department_Research & Development\",\n{\n            'v': 0.9069765935624909,\n            'f': \"0.9069765935624909\",\n        }],\n [{\n            'v': 15,\n            'f': \"15\",\n        },\n\"BusinessTravel_Travel_Rarely\",\n{\n            'v': 0.6723492239132398,\n            'f': \"0.6723492239132398\",\n        }],\n [{\n            'v': 12,\n            'f': \"12\",\n        },\n\"YearsSinceLastPromotion\",\n{\n            'v': 0.6000943759887831,\n            'f': \"0.6000943759887831\",\n        }],\n [{\n            'v': 50,\n            'f': \"50\",\n        },\n\"MaritalStatus_Single\",\n{\n            'v': 0.5751824650233462,\n            'f': \"0.5751824650233462\",\n        }],\n [{\n            'v': 6,\n            'f': \"6\",\n        },\n\"NumCompaniesWorked\",\n{\n            'v': 0.5242966684679302,\n            'f': \"0.5242966684679302\",\n        }],\n [{\n            'v': 45,\n            'f': \"45\",\n        },\n\"JobRole_Sales Representative\",\n{\n            'v': 0.49301747410081564,\n            'f': \"0.49301747410081564\",\n        }],\n [{\n            'v': 2,\n            'f': \"2\",\n        },\n\"DistanceFromHome\",\n{\n            'v': 0.4119689496802056,\n            'f': \"0.4119689496802056\",\n        }],\n [{\n            'v': 38,\n            'f': \"38\",\n        },\n\"JobRole_Human Resources\",\n{\n            'v': 0.39470067274571863,\n            'f': \"0.39470067274571863\",\n        }],\n [{\n            'v': 17,\n            'f': \"17\",\n        },\n\"Department_Sales\",\n{\n            'v': 0.39101179213921916,\n            'f': \"0.39101179213921916\",\n        }],\n [{\n            'v': 37,\n            'f': \"37\",\n        },\n\"JobLevel_5\",\n{\n            'v': 0.36286441691808063,\n            'f': \"0.36286441691808063\",\n        }],\n [{\n            'v': 49,\n            'f': \"49\",\n        },\n\"MaritalStatus_Married\",\n{\n            'v': 0.3439594833037024,\n            'f': \"0.3439594833037024\",\n        }],\n [{\n            'v': 39,\n            'f': \"39\",\n        },\n\"JobRole_Laboratory Technician\",\n{\n            'v': 0.3224703543944803,\n            'f': \"0.3224703543944803\",\n        }],\n [{\n            'v': 41,\n            'f': \"41\",\n        },\n\"JobRole_Manufacturing Director\",\n{\n            'v': 0.19552626934896242,\n            'f': \"0.19552626934896242\",\n        }],\n [{\n            'v': 30,\n            'f': \"30\",\n        },\n\"Gender_Male\",\n{\n            'v': 0.1812121117751911,\n            'f': \"0.1812121117751911\",\n        }],\n [{\n            'v': 18,\n            'f': \"18\",\n        },\n\"Education_2\",\n{\n            'v': 0.17719884624433818,\n            'f': \"0.17719884624433818\",\n        }],\n [{\n            'v': 20,\n            'f': \"20\",\n        },\n\"Education_4\",\n{\n            'v': 0.15321443682579694,\n            'f': \"0.15321443682579694\",\n        }],\n [{\n            'v': 19,\n            'f': \"19\",\n        },\n\"Education_3\",\n{\n            'v': 0.14594575815302543,\n            'f': \"0.14594575815302543\",\n        }],\n [{\n            'v': 3,\n            'f': \"3\",\n        },\n\"HourlyRate\",\n{\n            'v': 0.13686003385871337,\n            'f': \"0.13686003385871337\",\n        }],\n [{\n            'v': 35,\n            'f': \"35\",\n        },\n\"JobLevel_3\",\n{\n            'v': 0.09847299374156451,\n            'f': \"0.09847299374156451\",\n        }],\n [{\n            'v': 5,\n            'f': \"5\",\n        },\n\"MonthlyRate\",\n{\n            'v': 0.06006310550437549,\n            'f': \"0.06006310550437549\",\n        }],\n [{\n            'v': 26,\n            'f': \"26\",\n        },\n\"EducationField_Technical Degree\",\n{\n            'v': 0.055597052020663125,\n            'f': \"0.055597052020663125\",\n        }],\n [{\n            'v': 21,\n            'f': \"21\",\n        },\n\"Education_5\",\n{\n            'v': 0.039006147289719066,\n            'f': \"0.039006147289719066\",\n        }],\n [{\n            'v': 52,\n            'f': \"52\",\n        },\n\"PerformanceRating_4\",\n{\n            'v': -0.12314880486795933,\n            'f': \"-0.12314880486795933\",\n        }],\n [{\n            'v': 23,\n            'f': \"23\",\n        },\n\"EducationField_Marketing\",\n{\n            'v': -0.14210230605880542,\n            'f': \"-0.14210230605880542\",\n        }],\n [{\n            'v': 58,\n            'f': \"58\",\n        },\n\"StockOptionLevel_3\",\n{\n            'v': -0.146249876555355,\n            'f': \"-0.146249876555355\",\n        }],\n [{\n            'v': 7,\n            'f': \"7\",\n        },\n\"PercentSalaryHike\",\n{\n            'v': -0.14727304072837624,\n            'f': \"-0.14727304072837624\",\n        }],\n [{\n            'v': 0,\n            'f': \"0\",\n        },\n\"Age\",\n{\n            'v': -0.16424623654227516,\n            'f': \"-0.16424623654227516\",\n        }],\n [{\n            'v': 1,\n            'f': \"1\",\n        },\n\"DailyRate\",\n{\n            'v': -0.2125720882794289,\n            'f': \"-0.2125720882794289\",\n        }],\n [{\n            'v': 43,\n            'f': \"43\",\n        },\n\"JobRole_Research Scientist\",\n{\n            'v': -0.22158055186520256,\n            'f': \"-0.22158055186520256\",\n        }],\n [{\n            'v': 25,\n            'f': \"25\",\n        },\n\"EducationField_Other\",\n{\n            'v': -0.2542242601636923,\n            'f': \"-0.2542242601636923\",\n        }],\n [{\n            'v': 24,\n            'f': \"24\",\n        },\n\"EducationField_Medical\",\n{\n            'v': -0.2935791162457642,\n            'f': \"-0.2935791162457642\",\n        }],\n [{\n            'v': 40,\n            'f': \"40\",\n        },\n\"JobRole_Manager\",\n{\n            'v': -0.29777357237484436,\n            'f': \"-0.29777357237484436\",\n        }],\n [{\n            'v': 57,\n            'f': \"57\",\n        },\n\"StockOptionLevel_2\",\n{\n            'v': -0.32026262913677356,\n            'f': \"-0.32026262913677356\",\n        }],\n [{\n            'v': 9,\n            'f': \"9\",\n        },\n\"TrainingTimesLastYear\",\n{\n            'v': -0.384170076970154,\n            'f': \"-0.384170076970154\",\n        }],\n [{\n            'v': 22,\n            'f': \"22\",\n        },\n\"EducationField_Life Sciences\",\n{\n            'v': -0.4040785473493391,\n            'f': \"-0.4040785473493391\",\n        }],\n [{\n            'v': 4,\n            'f': \"4\",\n        },\n\"MonthlyIncome\",\n{\n            'v': -0.4193620892193972,\n            'f': \"-0.4193620892193972\",\n        }],\n [{\n            'v': 61,\n            'f': \"61\",\n        },\n\"WorkLifeBalance_4\",\n{\n            'v': -0.4578632275047044,\n            'f': \"-0.4578632275047044\",\n        }],\n [{\n            'v': 46,\n            'f': \"46\",\n        },\n\"JobSatisfaction_2\",\n{\n            'v': -0.45977263307063154,\n            'f': \"-0.45977263307063154\",\n        }],\n [{\n            'v': 47,\n            'f': \"47\",\n        },\n\"JobSatisfaction_3\",\n{\n            'v': -0.4735176340182344,\n            'f': \"-0.4735176340182344\",\n        }],\n [{\n            'v': 42,\n            'f': \"42\",\n        },\n\"JobRole_Research Director\",\n{\n            'v': -0.520412594686863,\n            'f': \"-0.520412594686863\",\n        }],\n [{\n            'v': 59,\n            'f': \"59\",\n        },\n\"WorkLifeBalance_2\",\n{\n            'v': -0.5341757762903939,\n            'f': \"-0.5341757762903939\",\n        }],\n [{\n            'v': 55,\n            'f': \"55\",\n        },\n\"RelationshipSatisfaction_4\",\n{\n            'v': -0.5489120936784241,\n            'f': \"-0.5489120936784241\",\n        }],\n [{\n            'v': 53,\n            'f': \"53\",\n        },\n\"RelationshipSatisfaction_2\",\n{\n            'v': -0.5722310690476495,\n            'f': \"-0.5722310690476495\",\n        }],\n [{\n            'v': 56,\n            'f': \"56\",\n        },\n\"StockOptionLevel_1\",\n{\n            'v': -0.5811951071482161,\n            'f': \"-0.5811951071482161\",\n        }],\n [{\n            'v': 8,\n            'f': \"8\",\n        },\n\"TotalWorkingYears\",\n{\n            'v': -0.5861745137889374,\n            'f': \"-0.5861745137889374\",\n        }],\n [{\n            'v': 27,\n            'f': \"27\",\n        },\n\"EnvironmentSatisfaction_2\",\n{\n            'v': -0.5866857785916347,\n            'f': \"-0.5866857785916347\",\n        }],\n [{\n            'v': 31,\n            'f': \"31\",\n        },\n\"JobInvolvement_2\",\n{\n            'v': -0.6038489395286565,\n            'f': \"-0.6038489395286565\",\n        }],\n [{\n            'v': 36,\n            'f': \"36\",\n        },\n\"JobLevel_4\",\n{\n            'v': -0.6135491248412274,\n            'f': \"-0.6135491248412274\",\n        }],\n [{\n            'v': 54,\n            'f': \"54\",\n        },\n\"RelationshipSatisfaction_3\",\n{\n            'v': -0.6426706828093741,\n            'f': \"-0.6426706828093741\",\n        }],\n [{\n            'v': 11,\n            'f': \"11\",\n        },\n\"YearsInCurrentRole\",\n{\n            'v': -0.6679318794454521,\n            'f': \"-0.6679318794454521\",\n        }],\n [{\n            'v': 13,\n            'f': \"13\",\n        },\n\"YearsWithCurrManager\",\n{\n            'v': -0.6750035202949086,\n            'f': \"-0.6750035202949086\",\n        }],\n [{\n            'v': 33,\n            'f': \"33\",\n        },\n\"JobInvolvement_4\",\n{\n            'v': -0.6847046819495886,\n            'f': \"-0.6847046819495886\",\n        }],\n [{\n            'v': 28,\n            'f': \"28\",\n        },\n\"EnvironmentSatisfaction_3\",\n{\n            'v': -0.7154515130847398,\n            'f': \"-0.7154515130847398\",\n        }],\n [{\n            'v': 32,\n            'f': \"32\",\n        },\n\"JobInvolvement_3\",\n{\n            'v': -0.7497480043394275,\n            'f': \"-0.7497480043394275\",\n        }],\n [{\n            'v': 34,\n            'f': \"34\",\n        },\n\"JobLevel_2\",\n{\n            'v': -0.785457951950719,\n            'f': \"-0.785457951950719\",\n        }],\n [{\n            'v': 48,\n            'f': \"48\",\n        },\n\"JobSatisfaction_4\",\n{\n            'v': -0.8380438872629367,\n            'f': \"-0.8380438872629367\",\n        }],\n [{\n            'v': 29,\n            'f': \"29\",\n        },\n\"EnvironmentSatisfaction_4\",\n{\n            'v': -0.8558988413276463,\n            'f': \"-0.8558988413276463\",\n        }],\n [{\n            'v': 60,\n            'f': \"60\",\n        },\n\"WorkLifeBalance_3\",\n{\n            'v': -0.8676675091160367,\n            'f': \"-0.8676675091160367\",\n        }]],\n        columns: [[\"number\", \"index\"], [\"string\", \"Column\"], [\"number\", \"Importance\"]],\n        columnOptions: [{\"width\": \"1px\", \"className\": \"index_column\"}],\n        rowsPerPage: 25,\n        helpUrl: \"https://colab.research.google.com/notebooks/data_table.ipynb\",\n        suppressOutputScrolling: true,\n        minimumWidth: undefined,\n      });\n    ",
            "text/html": [
              "<div>\n",
              "<style scoped>\n",
              "    .dataframe tbody tr th:only-of-type {\n",
              "        vertical-align: middle;\n",
              "    }\n",
              "\n",
              "    .dataframe tbody tr th {\n",
              "        vertical-align: top;\n",
              "    }\n",
              "\n",
              "    .dataframe thead th {\n",
              "        text-align: right;\n",
              "    }\n",
              "</style>\n",
              "<table border=\"1\" class=\"dataframe\">\n",
              "  <thead>\n",
              "    <tr style=\"text-align: right;\">\n",
              "      <th></th>\n",
              "      <th>Column</th>\n",
              "      <th>Importance</th>\n",
              "    </tr>\n",
              "  </thead>\n",
              "  <tbody>\n",
              "    <tr>\n",
              "      <th>10</th>\n",
              "      <td>YearsAtCompany</td>\n",
              "      <td>1.134735</td>\n",
              "    </tr>\n",
              "    <tr>\n",
              "      <th>51</th>\n",
              "      <td>OverTime_True</td>\n",
              "      <td>1.066583</td>\n",
              "    </tr>\n",
              "    <tr>\n",
              "      <th>14</th>\n",
              "      <td>BusinessTravel_Travel_Frequently</td>\n",
              "      <td>1.032562</td>\n",
              "    </tr>\n",
              "    <tr>\n",
              "      <th>44</th>\n",
              "      <td>JobRole_Sales Executive</td>\n",
              "      <td>0.991167</td>\n",
              "    </tr>\n",
              "    <tr>\n",
              "      <th>16</th>\n",
              "      <td>Department_Research &amp; Development</td>\n",
              "      <td>0.906977</td>\n",
              "    </tr>\n",
              "    <tr>\n",
              "      <th>...</th>\n",
              "      <td>...</td>\n",
              "      <td>...</td>\n",
              "    </tr>\n",
              "    <tr>\n",
              "      <th>32</th>\n",
              "      <td>JobInvolvement_3</td>\n",
              "      <td>-0.749748</td>\n",
              "    </tr>\n",
              "    <tr>\n",
              "      <th>34</th>\n",
              "      <td>JobLevel_2</td>\n",
              "      <td>-0.785458</td>\n",
              "    </tr>\n",
              "    <tr>\n",
              "      <th>48</th>\n",
              "      <td>JobSatisfaction_4</td>\n",
              "      <td>-0.838044</td>\n",
              "    </tr>\n",
              "    <tr>\n",
              "      <th>29</th>\n",
              "      <td>EnvironmentSatisfaction_4</td>\n",
              "      <td>-0.855899</td>\n",
              "    </tr>\n",
              "    <tr>\n",
              "      <th>60</th>\n",
              "      <td>WorkLifeBalance_3</td>\n",
              "      <td>-0.867668</td>\n",
              "    </tr>\n",
              "  </tbody>\n",
              "</table>\n",
              "<p>62 rows × 2 columns</p>\n",
              "</div>"
            ],
            "text/plain": [
              "                               Column  Importance\n",
              "10                     YearsAtCompany    1.134735\n",
              "51                      OverTime_True    1.066583\n",
              "14   BusinessTravel_Travel_Frequently    1.032562\n",
              "44            JobRole_Sales Executive    0.991167\n",
              "16  Department_Research & Development    0.906977\n",
              "..                                ...         ...\n",
              "32                   JobInvolvement_3   -0.749748\n",
              "34                         JobLevel_2   -0.785458\n",
              "48                  JobSatisfaction_4   -0.838044\n",
              "29          EnvironmentSatisfaction_4   -0.855899\n",
              "60                  WorkLifeBalance_3   -0.867668\n",
              "\n",
              "[62 rows x 2 columns]"
            ]
          },
          "metadata": {},
          "execution_count": 56
        }
      ]
    },
    {
      "cell_type": "code",
      "metadata": {
        "colab": {
          "base_uri": "https://localhost:8080/",
          "height": 810
        },
        "id": "oKjTY-5gBHuh",
        "outputId": "939d3aab-568e-46f7-88aa-2cd5084ee0c6"
      },
      "source": [
        "fig = plt.figure(figsize = (10,10))\n",
        "plt.bar(x = pd.concat([feature_importance_LR.iloc[:5,0],feature_importance_LR.iloc[-5:,0]]), height = pd.concat([feature_importance_LR.iloc[:5,1],feature_importance_LR.iloc[-5:,1]]))\n",
        "plt.xticks(rotation = 75)"
      ],
      "execution_count": 57,
      "outputs": [
        {
          "output_type": "execute_result",
          "data": {
            "text/plain": [
              "([0, 1, 2, 3, 4, 5, 6, 7, 8, 9], <a list of 10 Text major ticklabel objects>)"
            ]
          },
          "metadata": {},
          "execution_count": 57
        },
        {
          "output_type": "display_data",
          "data": {
            "image/png": "[encoded data removed]",
            "text/plain": [
              "<Figure size 720x720 with 1 Axes>"
            ]
          },
          "metadata": {}
        }
      ]
    },
    {
      "cell_type": "code",
      "metadata": {
        "id": "_ekFHzwG0uor"
      },
      "source": [
        ""
      ],
      "execution_count": 57,
      "outputs": []
    },
    {
      "cell_type": "code",
      "metadata": {
        "id": "Y9SkItIGBeuT",
        "colab": {
          "base_uri": "https://localhost:8080/"
        },
        "outputId": "0f82db79-4e58-4bcd-e5af-0785cca55e3c"
      },
      "source": [
        "#dont do feature importance \n",
        "\n",
        "xtrainover_df = pd.DataFrame(xtrainover)\n",
        "xtrainover_df.columns = X_train.columns\n",
        "\n",
        "small_xtrain = xtrainover_df[[\"OverTime_True\", \"JobRole_Sales Executive\", \"BusinessTravel_Travel_Frequently\", \"BusinessTravel_Travel_Rarely\", \"JobRole_Sales Representative\", \"JobRole_Laboratory Technician\", \"DistanceFromHome\"]]\n",
        "small_xtest = X_test[[\"OverTime_True\", \"JobRole_Sales Executive\", \"BusinessTravel_Travel_Frequently\", \"BusinessTravel_Travel_Rarely\", \"JobRole_Sales Representative\", \"JobRole_Laboratory Technician\", \"DistanceFromHome\"]]\n",
        "model.fit(small_xtrain, y_trainover)\n",
        "pred = model.predict(small_xtest)\n",
        "balanced_accuracy_score(y_test, pred)\n",
        "\n"
      ],
      "execution_count": 58,
      "outputs": [
        {
          "output_type": "execute_result",
          "data": {
            "text/plain": [
              "0.6626876876876877"
            ]
          },
          "metadata": {},
          "execution_count": 58
        }
      ]
    },
    {
      "cell_type": "code",
      "metadata": {
        "id": "VXoHVeUdCJ0_"
      },
      "source": [
        ""
      ],
      "execution_count": 58,
      "outputs": []
    },
    {
      "cell_type": "markdown",
      "metadata": {
        "id": "_1AT8tk2k2gY"
      },
      "source": [
        "# Feature Engineering - for better accruacy (SVD/PCA) "
      ]
    },
    {
      "cell_type": "code",
      "metadata": {
        "id": "2KVBBLYZllFJ"
      },
      "source": [
        "from sklearn.decomposition import PCA\n",
        "pca = PCA(n_components=5, svd_solver='full')\n",
        "new_x = pca.fit(xtrainover_df)\n"
      ],
      "execution_count": 59,
      "outputs": []
    },
    {
      "cell_type": "code",
      "metadata": {
        "id": "ufwLz3o6k3bi",
        "colab": {
          "base_uri": "https://localhost:8080/"
        },
        "outputId": "b24b8723-07f6-4efd-fd3a-aa62d7d53b1b"
      },
      "source": [
        "new_x"
      ],
      "execution_count": 60,
      "outputs": [
        {
          "output_type": "execute_result",
          "data": {
            "text/plain": [
              "PCA(copy=True, iterated_power='auto', n_components=5, random_state=None,\n",
              "    svd_solver='full', tol=0.0, whiten=False)"
            ]
          },
          "metadata": {},
          "execution_count": 60
        }
      ]
    },
    {
      "cell_type": "code",
      "metadata": {
        "id": "fgpgwFel38Oh"
      },
      "source": [
        ""
      ],
      "execution_count": 60,
      "outputs": []
    }
  ]
}